{
 "cells": [
  {
   "cell_type": "markdown",
   "metadata": {
    "colab_type": "text",
    "id": "view-in-github"
   },
   "source": [
    "<a href=\"https://colab.research.google.com/github/ashioyajotham/Daily-ML/blob/main/One_for_the_World_Product_Engineer_Trial_Task.ipynb\" target=\"_parent\"><img src=\"https://colab.research.google.com/assets/colab-badge.svg\" alt=\"Open In Colab\"/></a>"
   ]
  },
  {
   "cell_type": "markdown",
   "metadata": {
    "id": "uuvY_QZ84RtG"
   },
   "source": [
    "# One for the World Product Engineer Trial Task\n",
    "\n",
    "In this trial task you will undertake a typical data processing assignment. We have a simple database, containing three tables - donations, impact, and portfolio\n",
    "\n",
    "Donations has the following columns:\n",
    "\n",
    "`donor_id`, `donation_amount`, `donation_currency`, `portfolio`\n",
    "\n",
    "Donors make donations to 'portfolios' which are comprised of one or more charities. For example, most donors donate to 'One for the World Top Picks', which splits their donation equally to GiveWell's top-rated charities (Against Malaria Foundation, New Incentives, Malaria Consortium, Helen Keller International).\n",
    "\n",
    "If a donor wants to donate to just one charity, they technically donate to a 'portfolio' which has a 100% allocation to that charity.\n",
    "\n",
    "This is stored in the 'portfolio' table, which has the columns:\n",
    "\n",
    "`portfolio_name`, `charity_name`, `allocation_proportion`\n",
    "\n",
    "Every quarter, we send impact reports to our donors, where we convert what they have donated into tangible outcomes, such as the number of people protected against malaria or vaccine immunizations incentivized.\n",
    "\n",
    "The cost per 'intervention' is stored in the 'impact' table, which has the columns:\n",
    "\n",
    "`charity_name`, `intervention`, `usd_per_intervention`\n",
    "\n",
    "Your task is to produce a result where each donor_id has their individual impacts listed, ready to load into our newsletter tool.\n",
    "\n",
    "For example, if the donations table had the following rows:\n",
    "\n",
    "donor_id | donation_amount | donation_currency | portfolio\n",
    "--- | --- | --- | ---\n",
    "1 | 10 | USD | Malaria Portfolio\n",
    "2 | 20 | USD | New Incentives\n",
    "\n",
    "And the portfolio table had the following rows (note how the Malaria Portfolio is split 75%/25% across two charities, and the New Incentives 'portfolio' is allocated 100% to New Incentives):\n",
    "\n",
    "portfolio_name | charity_name | allocation_proportion\n",
    "--- | --- | ---\n",
    "Malaria Portfolio | Against Malaria Foundation | 0.75\n",
    "Malaria Portfolio | Malaria Consortium | 0.25\n",
    "New Incentives | New Incentives | 1\n",
    "\n",
    "And the impact table had the following rows:\n",
    "\n",
    "charity_name | intervention | usd_per_intervention\n",
    "--- | --- | ---\n",
    "Against Malaria Foundation | people protected against malaria\t| 0.5\n",
    "Malaria Consortium | children given anti-malarial treatments\t | 0.3\n",
    "New Incentives | vaccine immunizations incentivized\t | 1.4\n",
    "\n",
    "Then the table you would produce would look like:\n",
    "\n",
    "donor_id | impact_1 | impact_2 | impact_3 | impact_4\n",
    "--- | --- | --- | --- | ---\n",
    "1 | 15 people protected against malaria | 8 children given anti-malarial treatments\n",
    "2 | 14 vaccine immunizations incentivized\n",
    "\n",
    "The impacts have been calculated by taking the amount donated to each charity, and the interventions that funds. In this example, the donor with id 1 has donated 10 USD to the Malaria Portfolio, which is split \\$7.50 to the Against Malaria Foundation and \\$2.50 to the Malaria Consortium. The Against Malaria Foundation's interventions cost \\$0.50, so \\$7.50 protects 15 people against malaria. The Malaria Consortium's interventions cost \\$0.30, so $2.50 buys 14 anti-malarial treatments.\n",
    "\n",
    "## Important things to note\n",
    "- The output should:\n",
    "  - Have one row per donor\n",
    "  - Fill in impacts from `impact_1`, then `impact_2` etc. In other words if a donor has donated to only one charity, that impact should be in the `impact_1` column. `impact_1` should not be empty if `impact_2`/`impact_3`/`impact_4` are filled\n",
    "  - Round down the number of interventions to the nearest whole number. In the above example, donor 2 donated \\$20 to New Incentives which naively produces 14.28 interventions, but this is rounded down to 14 in the final output\n",
    "- Only use pure SQL. In other words not SQLX or anything else that compiles to SQL, nor python/pandas. Your output should be a single SQL 'query' (it may use CTEs and subqueries, but should fundamentally be a single string) that produces a report in the format outlined above\n",
    "- You may have to do some data cleaning and normalizing, use any sensible exchange rate to do currency conversions\n",
    "- Do not use AI-assistance (ie. large language models such as ChatGPT), though you may use the internet\n",
    "\n",
    "## How to complete the task\n",
    "- You can either make a copy of this notebook, and use Google Colab (File -> Save a copy in Drive)\n",
    "- Or download the .ipynb file (File -> Download -> Download .ipynb) and use local notebook software (eg. [Jupyter](https://jupyter.org/) or [VS Code](https://code.visualstudio.com/docs/datascience/jupyter-notebooks), or hosted notebook software (eg. [Deepnote](https://deepnote.com/))"
   ]
  },
  {
   "cell_type": "markdown",
   "metadata": {
    "id": "zBLP5yVzCims"
   },
   "source": [
    "The following cell downloads the database to your file system. You don't need to understand how it works, so long as it runs without errors.\n",
    "\n",
    "If you are having issues, you can download the file directly from the link stored in the `db_url` variable."
   ]
  },
  {
   "cell_type": "code",
   "execution_count": 1,
   "metadata": {
    "colab": {
     "base_uri": "https://localhost:8080/"
    },
    "id": "QdaS9GRK2X2V",
    "outputId": "404363dc-e993-46fb-bd06-f7761854c865"
   },
   "outputs": [
    {
     "name": "stdout",
     "output_type": "stream",
     "text": [
      "Downloading database from https://storage.googleapis.com/oftw-public/oftw_database.db to oftw_database_downloaded.db...\n",
      "Successfully downloaded.\n",
      "Connecting to local database: sqlite:///oftw_database_downloaded.db\n",
      "Successfully created SQLAlchemy engine.\n",
      "Tables found in the database: ['donations', 'impact', 'portfolio']\n"
     ]
    }
   ],
   "source": [
    "import sqlalchemy\n",
    "import requests\n",
    "import os\n",
    "\n",
    "# --- Configuration ---\n",
    "db_url = \"https://storage.googleapis.com/oftw-public/oftw_database.db\"\n",
    "local_db_filename = \"oftw_database_downloaded.db\" # Use a distinct local name\n",
    "\n",
    "print(f\"Downloading database from {db_url} to {local_db_filename}...\")\n",
    "try:\n",
    "    response = requests.get(db_url)\n",
    "    response.raise_for_status() # Check for download errors (like 404 Not Found)\n",
    "\n",
    "    with open(local_db_filename, 'wb') as f:\n",
    "        f.write(response.content) # Since it's small, read all content at once\n",
    "    print(f\"Successfully downloaded.\")\n",
    "\n",
    "except requests.exceptions.RequestException as e:\n",
    "    print(f\"Error downloading database file: {e}\")\n",
    "    raise # Stop execution if download fails\n",
    "\n",
    "# Ensure the file exists locally after download attempt\n",
    "if os.path.exists(local_db_filename):\n",
    "    # CORRECT connection string: points to the LOCAL file\n",
    "    connection_string = f\"sqlite:///{local_db_filename}\"\n",
    "    print(f\"Connecting to local database: {connection_string}\")\n",
    "\n",
    "    try:\n",
    "        # Create the SQLAlchemy engine for the LOCAL file\n",
    "        engine = sqlalchemy.create_engine(connection_string)\n",
    "\n",
    "        # --- Now you can use the engine ---\n",
    "        print(\"Successfully created SQLAlchemy engine.\")\n",
    "\n",
    "        # Example: List tables\n",
    "        with engine.connect() as connection:\n",
    "            inspector = sqlalchemy.inspect(engine)\n",
    "            table_names = inspector.get_table_names()\n",
    "            print(f\"Tables found in the database: {table_names}\")\n",
    "\n",
    "    except Exception as e:\n",
    "        print(f\"Error creating SQLAlchemy engine or interacting with DB: {e}\")\n",
    "\n",
    "else:\n",
    "    print(f\"Local database file '{local_db_filename}' not found after download attempt.\")"
   ]
  },
  {
   "cell_type": "markdown",
   "metadata": {
    "id": "tVF84qPhEHqc"
   },
   "source": [
    "The following code cells show how to write queries using sqlalchemy to display the rows in the 3 tables"
   ]
  },
  {
   "cell_type": "code",
   "execution_count": 2,
   "metadata": {
    "colab": {
     "base_uri": "https://localhost:8080/"
    },
    "id": "DIdf0cW937nX",
    "outputId": "3892c1ad-968f-44f3-c401-2f612d63ea8e"
   },
   "outputs": [
    {
     "data": {
      "text/plain": [
       "[('Helen Keller International', \"children given a year's Vitamin A supplementation\", 2.0),\n",
       " ('Malaria Consortium', 'children given anti-malarial treatments', 7.0),\n",
       " ('Against Malaria Foundation', 'people protected against malaria', 2.78),\n",
       " ('New Incentives', 'vaccine immunizations incentivized', 0.6)]"
      ]
     },
     "execution_count": 2,
     "metadata": {},
     "output_type": "execute_result"
    }
   ],
   "source": [
    "connection = engine.connect()\n",
    "select_impact_query = sqlalchemy.text(f\"SELECT * FROM impact\")\n",
    "result_all = connection.execute(select_impact_query)\n",
    "result_all.fetchall()"
   ]
  },
  {
   "cell_type": "code",
   "execution_count": 3,
   "metadata": {
    "colab": {
     "base_uri": "https://localhost:8080/"
    },
    "id": "tU75FUCZEWUK",
    "outputId": "98330990-b2cf-4bb6-8cfc-a27d3f9af12d"
   },
   "outputs": [
    {
     "data": {
      "text/plain": [
       "[('4e1363e1-0eda-4f90-a1f5-ca4d1d9fc146', 100.0, 'USD', 'OFTW Top Picks'),\n",
       " ('4e1363e1-0eda-4f90-a1f5-ca4d1d9fc146', 200.0, 'USD', 'OFTW Top Picks'),\n",
       " ('4e1363e1-0eda-4f90-a1f5-ca4d1d9fc146', 300.0, 'USD', 'OFTW Top picks'),\n",
       " ('4e1363e1-0eda-4f90-a1f5-ca4d1d9fc146', 400.0, 'USD', 'OFTW top picks'),\n",
       " ('bced85e7-ee9c-45de-8ef8-3dca450ad98d', 50.0, 'CAD', 'Against Malaria Foundation'),\n",
       " ('bced85e7-ee9c-45de-8ef8-3dca450ad98d', 50.0, 'CAD', 'Against Malaria Foundation'),\n",
       " ('bced85e7-ee9c-45de-8ef8-3dca450ad98d', 50.0, 'cad', 'Against Malaria foundation'),\n",
       " ('cadde239-a711-4598-bc50-12eebb4afaac', 100.5, 'gbp', 'OFTW Top Picks'),\n",
       " ('cadde239-a711-4598-bc50-12eebb4afaac', 200.0, 'GBP', 'OFTW Top Picks'),\n",
       " ('cadde239-a711-4598-bc50-12eebb4afaac', 100.5, 'GBP', 'OFTW top picks'),\n",
       " ('cadde239-a711-4598-bc50-12eebb4afaac', 50.75, 'GBP', 'OFTW Top Picks'),\n",
       " ('4cedb12e-6c28-46b6-a77a-2814fc9a79f0', 5000.0, 'AuD', 'New Incentives'),\n",
       " ('4cedb12e-6c28-46b6-a77a-2814fc9a79f0', 10000.0, 'AUD', 'New Incentives'),\n",
       " ('4cedb12e-6c28-46b6-a77a-2814fc9a79f0', 10000.0, 'AUD', 'New Incentives'),\n",
       " ('7224656a-5552-4605-80ef-160b316e3a20', 4000.0, 'USD', 'OFTW Top Picks'),\n",
       " ('7224656a-5552-4605-80ef-160b316e3a20', 100.0, 'USD', 'OFTW Top Picks'),\n",
       " ('7224656a-5552-4605-80ef-160b316e3a20', 20.0, 'USD', 'OFTW Top Picks'),\n",
       " ('7224656a-5552-4605-80ef-160b316e3a20', 100.0, 'USD', 'OFTW Top Picks')]"
      ]
     },
     "execution_count": 3,
     "metadata": {},
     "output_type": "execute_result"
    }
   ],
   "source": [
    "select_donations_query = sqlalchemy.text(f\"SELECT * FROM donations\")\n",
    "result_all = connection.execute(select_donations_query)\n",
    "result_all.fetchall()"
   ]
  },
  {
   "cell_type": "code",
   "execution_count": 4,
   "metadata": {
    "colab": {
     "base_uri": "https://localhost:8080/"
    },
    "id": "zCYdSMCCEc6m",
    "outputId": "fc913b47-8c4d-4285-c011-9aaa63a5723b"
   },
   "outputs": [
    {
     "data": {
      "text/plain": [
       "[('OFTW Top Picks', 'Helen Keller International', 0.25),\n",
       " ('OFTW Top Picks', 'Malaria Consortium', 0.25),\n",
       " ('OFTW Top Picks', 'Against Malaria Foundation', 0.25),\n",
       " ('OFTW Top Picks', 'New Incentives', 0.25),\n",
       " ('Against Malaria Foundation', 'Against Malaria Foundation', 1.0),\n",
       " ('New Incentives', 'New Incentives', 1.0)]"
      ]
     },
     "execution_count": 4,
     "metadata": {},
     "output_type": "execute_result"
    }
   ],
   "source": [
    "select_portfolio_query = sqlalchemy.text(f\"SELECT * FROM portfolio\")\n",
    "result_all = connection.execute(select_portfolio_query)\n",
    "result_all.fetchall()"
   ]
  },
  {
   "cell_type": "markdown",
   "metadata": {
    "id": "gluPJ42DEm03"
   },
   "source": [
    "Fill in your answer in the cell below"
   ]
  },
  {
   "cell_type": "code",
   "execution_count": 5,
   "metadata": {},
   "outputs": [],
   "source": [
    "# Put your query as the 'query' variable\n",
    "query = \"\"\"\n",
    "WITH \n",
    "-- First, we normalize portfolio names (case insensitive matching)\n",
    "normalized_donations AS (\n",
    "    SELECT \n",
    "        donor_id,\n",
    "        donation_amount,\n",
    "        CASE \n",
    "            WHEN UPPER(donation_currency) = 'USD' THEN donation_amount\n",
    "            WHEN UPPER(donation_currency) = 'GBP' THEN donation_amount * 1.25 -- GBP to USD conversion\n",
    "            WHEN UPPER(donation_currency) = 'CAD' THEN donation_amount * 0.75 -- CAD to USD conversion\n",
    "            WHEN UPPER(donation_currency) = 'AUD' THEN donation_amount * 0.65 -- AUD to USD conversion\n",
    "            ELSE donation_amount -- Default case\n",
    "        END AS donation_amount_usd,\n",
    "        CASE \n",
    "            WHEN UPPER(portfolio) = 'OFTW TOP PICKS' THEN 'OFTW Top Picks'\n",
    "            WHEN UPPER(portfolio) = 'AGAINST MALARIA FOUNDATION' THEN 'Against Malaria Foundation'\n",
    "            WHEN UPPER(portfolio) = 'NEW INCENTIVES' THEN 'New Incentives'\n",
    "            ELSE portfolio\n",
    "        END AS normalized_portfolio\n",
    "    FROM donations\n",
    "),\n",
    "\n",
    "-- Then we calculate the donation amount to each charity based on portfolio allocation\n",
    "donations_per_charity AS (\n",
    "    SELECT \n",
    "        d.donor_id,\n",
    "        p.charity_name,\n",
    "        SUM(d.donation_amount_usd * p.allocation_proportion) AS amount_to_charity\n",
    "    FROM normalized_donations d\n",
    "    JOIN portfolio p ON d.normalized_portfolio = p.portfolio_name\n",
    "    GROUP BY d.donor_id, p.charity_name\n",
    "),\n",
    "\n",
    "-- We will then calculate impacts for each donor and charity\n",
    "impacts AS (\n",
    "    SELECT \n",
    "        d.donor_id,\n",
    "        d.charity_name,\n",
    "        i.intervention,\n",
    "        FLOOR(d.amount_to_charity / i.usd_per_intervention) AS intervention_count,\n",
    "        ROW_NUMBER() OVER (PARTITION BY d.donor_id ORDER BY d.amount_to_charity DESC) AS impact_number\n",
    "    FROM donations_per_charity d\n",
    "    JOIN impact i ON d.charity_name = i.charity_name\n",
    "    WHERE d.amount_to_charity > 0\n",
    "),\n",
    "\n",
    "-- Next, we prepare impact strings\n",
    "impact_strings AS (\n",
    "    SELECT \n",
    "        donor_id,\n",
    "        impact_number,\n",
    "        intervention_count || ' ' || intervention AS impact_string\n",
    "    FROM impacts\n",
    "    WHERE intervention_count > 0\n",
    ")\n",
    "\n",
    "-- Final result with pivoted impacts\n",
    "SELECT \n",
    "    donor_id,\n",
    "    MAX(CASE WHEN impact_number = 1 THEN impact_string ELSE NULL END) AS impact_1,\n",
    "    MAX(CASE WHEN impact_number = 2 THEN impact_string ELSE NULL END) AS impact_2,\n",
    "    MAX(CASE WHEN impact_number = 3 THEN impact_string ELSE NULL END) AS impact_3,\n",
    "    MAX(CASE WHEN impact_number = 4 THEN impact_string ELSE NULL END) AS impact_4\n",
    "FROM impact_strings\n",
    "GROUP BY donor_id\n",
    "ORDER BY donor_id\n",
    "\"\"\"\n",
    "\n",
    "# Execute query and fetch results\n",
    "result = connection.execute(sqlalchemy.text(query))\n",
    "all_results = result.fetchall()"
   ]
  },
  {
   "cell_type": "code",
   "execution_count": 6,
   "metadata": {},
   "outputs": [
    {
     "name": "stdout",
     "output_type": "stream",
     "text": [
      "DONOR IMPACT REPORT:\n"
     ]
    },
    {
     "data": {
      "text/html": [
       "<div>\n",
       "<style scoped>\n",
       "    .dataframe tbody tr th:only-of-type {\n",
       "        vertical-align: middle;\n",
       "    }\n",
       "\n",
       "    .dataframe tbody tr th {\n",
       "        vertical-align: top;\n",
       "    }\n",
       "\n",
       "    .dataframe thead th {\n",
       "        text-align: right;\n",
       "    }\n",
       "</style>\n",
       "<table border=\"1\" class=\"dataframe\">\n",
       "  <thead>\n",
       "    <tr style=\"text-align: right;\">\n",
       "      <th></th>\n",
       "      <th>donor_id</th>\n",
       "      <th>impact_1</th>\n",
       "      <th>impact_2</th>\n",
       "      <th>impact_3</th>\n",
       "      <th>impact_4</th>\n",
       "    </tr>\n",
       "  </thead>\n",
       "  <tbody>\n",
       "    <tr>\n",
       "      <th>0</th>\n",
       "      <td>4cedb12e-6c28-46b6-a77a-2814fc9a79f0</td>\n",
       "      <td>27083 vaccine immunizations incentivized</td>\n",
       "      <td>None</td>\n",
       "      <td>None</td>\n",
       "      <td>None</td>\n",
       "    </tr>\n",
       "    <tr>\n",
       "      <th>1</th>\n",
       "      <td>4e1363e1-0eda-4f90-a1f5-ca4d1d9fc146</td>\n",
       "      <td>125 children given a year's Vitamin A suppleme...</td>\n",
       "      <td>35 children given anti-malarial treatments</td>\n",
       "      <td>89 people protected against malaria</td>\n",
       "      <td>416 vaccine immunizations incentivized</td>\n",
       "    </tr>\n",
       "    <tr>\n",
       "      <th>2</th>\n",
       "      <td>7224656a-5552-4605-80ef-160b316e3a20</td>\n",
       "      <td>527 children given a year's Vitamin A suppleme...</td>\n",
       "      <td>150 children given anti-malarial treatments</td>\n",
       "      <td>379 people protected against malaria</td>\n",
       "      <td>1758 vaccine immunizations incentivized</td>\n",
       "    </tr>\n",
       "    <tr>\n",
       "      <th>3</th>\n",
       "      <td>bced85e7-ee9c-45de-8ef8-3dca450ad98d</td>\n",
       "      <td>40 people protected against malaria</td>\n",
       "      <td>None</td>\n",
       "      <td>None</td>\n",
       "      <td>None</td>\n",
       "    </tr>\n",
       "    <tr>\n",
       "      <th>4</th>\n",
       "      <td>cadde239-a711-4598-bc50-12eebb4afaac</td>\n",
       "      <td>70 children given a year's Vitamin A supplemen...</td>\n",
       "      <td>20 children given anti-malarial treatments</td>\n",
       "      <td>50 people protected against malaria</td>\n",
       "      <td>235 vaccine immunizations incentivized</td>\n",
       "    </tr>\n",
       "  </tbody>\n",
       "</table>\n",
       "</div>"
      ],
      "text/plain": [
       "                               donor_id  \\\n",
       "0  4cedb12e-6c28-46b6-a77a-2814fc9a79f0   \n",
       "1  4e1363e1-0eda-4f90-a1f5-ca4d1d9fc146   \n",
       "2  7224656a-5552-4605-80ef-160b316e3a20   \n",
       "3  bced85e7-ee9c-45de-8ef8-3dca450ad98d   \n",
       "4  cadde239-a711-4598-bc50-12eebb4afaac   \n",
       "\n",
       "                                            impact_1  \\\n",
       "0           27083 vaccine immunizations incentivized   \n",
       "1  125 children given a year's Vitamin A suppleme...   \n",
       "2  527 children given a year's Vitamin A suppleme...   \n",
       "3                40 people protected against malaria   \n",
       "4  70 children given a year's Vitamin A supplemen...   \n",
       "\n",
       "                                      impact_2  \\\n",
       "0                                         None   \n",
       "1   35 children given anti-malarial treatments   \n",
       "2  150 children given anti-malarial treatments   \n",
       "3                                         None   \n",
       "4   20 children given anti-malarial treatments   \n",
       "\n",
       "                               impact_3  \\\n",
       "0                                  None   \n",
       "1   89 people protected against malaria   \n",
       "2  379 people protected against malaria   \n",
       "3                                  None   \n",
       "4   50 people protected against malaria   \n",
       "\n",
       "                                  impact_4  \n",
       "0                                     None  \n",
       "1   416 vaccine immunizations incentivized  \n",
       "2  1758 vaccine immunizations incentivized  \n",
       "3                                     None  \n",
       "4   235 vaccine immunizations incentivized  "
      ]
     },
     "metadata": {},
     "output_type": "display_data"
    }
   ],
   "source": [
    "# Let's checkout the results to see if they match our expectations\n",
    "import pandas as pd\n",
    "df = pd.DataFrame(all_results, columns=['donor_id', 'impact_1', 'impact_2', 'impact_3', 'impact_4'])\n",
    "    \n",
    "print(\"DONOR IMPACT REPORT:\")\n",
    "display(df)"
   ]
  }
 ],
 "metadata": {
  "colab": {
   "include_colab_link": true,
   "provenance": []
  },
  "kernelspec": {
   "display_name": "venv",
   "language": "python",
   "name": "python3"
  },
  "language_info": {
   "codemirror_mode": {
    "name": "ipython",
    "version": 3
   },
   "file_extension": ".py",
   "mimetype": "text/x-python",
   "name": "python",
   "nbconvert_exporter": "python",
   "pygments_lexer": "ipython3",
   "version": "3.11.9"
  }
 },
 "nbformat": 4,
 "nbformat_minor": 0
}
