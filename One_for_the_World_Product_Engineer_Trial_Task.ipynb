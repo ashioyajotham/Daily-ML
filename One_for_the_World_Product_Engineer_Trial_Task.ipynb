{
  "nbformat": 4,
  "nbformat_minor": 0,
  "metadata": {
    "colab": {
      "provenance": [],
      "include_colab_link": true
    },
    "kernelspec": {
      "name": "python3",
      "display_name": "Python 3"
    },
    "language_info": {
      "name": "python"
    }
  },
  "cells": [
    {
      "cell_type": "markdown",
      "metadata": {
        "id": "view-in-github",
        "colab_type": "text"
      },
      "source": [
        "<a href=\"https://colab.research.google.com/github/ashioyajotham/Daily-ML/blob/main/One_for_the_World_Product_Engineer_Trial_Task.ipynb\" target=\"_parent\"><img src=\"https://colab.research.google.com/assets/colab-badge.svg\" alt=\"Open In Colab\"/></a>"
      ]
    },
    {
      "cell_type": "markdown",
      "source": [
        "# One for the World Product Engineer Trial Task\n",
        "\n",
        "In this trial task you will undertake a typical data processing assignment. We have a simple database, containing three tables - donations, impact, and portfolio\n",
        "\n",
        "Donations has the following columns:\n",
        "\n",
        "`donor_id`, `donation_amount`, `donation_currency`, `portfolio`\n",
        "\n",
        "Donors make donations to 'portfolios' which are comprised of one or more charities. For example, most donors donate to 'One for the World Top Picks', which splits their donation equally to GiveWell's top-rated charities (Against Malaria Foundation, New Incentives, Malaria Consortium, Helen Keller International).\n",
        "\n",
        "If a donor wants to donate to just one charity, they technically donate to a 'portfolio' which has a 100% allocation to that charity.\n",
        "\n",
        "This is stored in the 'portfolio' table, which has the columns:\n",
        "\n",
        "`portfolio_name`, `charity_name`, `allocation_proportion`\n",
        "\n",
        "Every quarter, we send impact reports to our donors, where we convert what they have donated into tangible outcomes, such as the number of people protected against malaria or vaccine immunizations incentivized.\n",
        "\n",
        "The cost per 'intervention' is stored in the 'impact' table, which has the columns:\n",
        "\n",
        "`charity_name`, `intervention`, `usd_per_intervention`\n",
        "\n",
        "Your task is to produce a result where each donor_id has their individual impacts listed, ready to load into our newsletter tool.\n",
        "\n",
        "For example, if the donations table had the following rows:\n",
        "\n",
        "donor_id | donation_amount | donation_currency | portfolio\n",
        "--- | --- | --- | ---\n",
        "1 | 10 | USD | Malaria Portfolio\n",
        "2 | 20 | USD | New Incentives\n",
        "\n",
        "And the portfolio table had the following rows (note how the Malaria Portfolio is split 75%/25% across two charities, and the New Incentives 'portfolio' is allocated 100% to New Incentives):\n",
        "\n",
        "portfolio_name | charity_name | allocation_proportion\n",
        "--- | --- | ---\n",
        "Malaria Portfolio | Against Malaria Foundation | 0.75\n",
        "Malaria Portfolio | Malaria Consortium | 0.25\n",
        "New Incentives | New Incentives | 1\n",
        "\n",
        "And the impact table had the following rows:\n",
        "\n",
        "charity_name | intervention | usd_per_intervention\n",
        "--- | --- | ---\n",
        "Against Malaria Foundation | people protected against malaria\t| 0.5\n",
        "Malaria Consortium | children given anti-malarial treatments\t | 0.3\n",
        "New Incentives | vaccine immunizations incentivized\t | 1.4\n",
        "\n",
        "Then the table you would produce would look like:\n",
        "\n",
        "donor_id | impact_1 | impact_2 | impact_3 | impact_4\n",
        "--- | --- | --- | --- | ---\n",
        "1 | 15 people protected against malaria | 8 children given anti-malarial treatments\n",
        "2 | 14 vaccine immunizations incentivized\n",
        "\n",
        "The impacts have been calculated by taking the amount donated to each charity, and the interventions that funds. In this example, the donor with id 1 has donated 10 USD to the Malaria Portfolio, which is split \\$7.50 to the Against Malaria Foundation and \\$2.50 to the Malaria Consortium. The Against Malaria Foundation's interventions cost \\$0.50, so \\$7.50 protects 15 people against malaria. The Malaria Consortium's interventions cost \\$0.30, so $2.50 buys 14 anti-malarial treatments.\n",
        "\n",
        "## Important things to note\n",
        "- The output should:\n",
        "  - Have one row per donor\n",
        "  - Fill in impacts from `impact_1`, then `impact_2` etc. In other words if a donor has donated to only one charity, that impact should be in the `impact_1` column. `impact_1` should not be empty if `impact_2`/`impact_3`/`impact_4` are filled\n",
        "  - Round down the number of interventions to the nearest whole number. In the above example, donor 2 donated \\$20 to New Incentives which naively produces 14.28 interventions, but this is rounded down to 14 in the final output\n",
        "- Only use pure SQL. In other words not SQLX or anything else that compiles to SQL, nor python/pandas. Your output should be a single SQL 'query' (it may use CTEs and subqueries, but should fundamentally be a single string) that produces a report in the format outlined above\n",
        "- You may have to do some data cleaning and normalizing, use any sensible exchange rate to do currency conversions\n",
        "- Do not use AI-assistance (ie. large language models such as ChatGPT), though you may use the internet\n",
        "\n",
        "## How to complete the task\n",
        "- You can either make a copy of this notebook, and use Google Colab (File -> Save a copy in Drive)\n",
        "- Or download the .ipynb file (File -> Download -> Download .ipynb) and use local notebook software (eg. [Jupyter](https://jupyter.org/) or [VS Code](https://code.visualstudio.com/docs/datascience/jupyter-notebooks), or hosted notebook software (eg. [Deepnote](https://deepnote.com/))"
      ],
      "metadata": {
        "id": "uuvY_QZ84RtG"
      }
    },
    {
      "cell_type": "markdown",
      "source": [
        "The following cell downloads the database to your file system. You don't need to understand how it works, so long as it runs without errors.\n",
        "\n",
        "If you are having issues, you can download the file directly from the link stored in the `db_url` variable."
      ],
      "metadata": {
        "id": "zBLP5yVzCims"
      }
    },
    {
      "cell_type": "code",
      "execution_count": null,
      "metadata": {
        "colab": {
          "base_uri": "https://localhost:8080/"
        },
        "id": "QdaS9GRK2X2V",
        "outputId": "404363dc-e993-46fb-bd06-f7761854c865"
      },
      "outputs": [
        {
          "output_type": "stream",
          "name": "stdout",
          "text": [
            "Downloading database from https://storage.googleapis.com/oftw-public/oftw_database.db to oftw_database_downloaded.db...\n",
            "Successfully downloaded.\n",
            "Connecting to local database: sqlite:///oftw_database_downloaded.db\n",
            "Successfully created SQLAlchemy engine.\n",
            "Tables found in the database: ['donations', 'impact', 'portfolio']\n"
          ]
        }
      ],
      "source": [
        "import sqlalchemy\n",
        "import requests\n",
        "import os\n",
        "\n",
        "# --- Configuration ---\n",
        "db_url = \"https://storage.googleapis.com/oftw-public/oftw_database.db\"\n",
        "local_db_filename = \"oftw_database_downloaded.db\" # Use a distinct local name\n",
        "\n",
        "print(f\"Downloading database from {db_url} to {local_db_filename}...\")\n",
        "try:\n",
        "    response = requests.get(db_url)\n",
        "    response.raise_for_status() # Check for download errors (like 404 Not Found)\n",
        "\n",
        "    with open(local_db_filename, 'wb') as f:\n",
        "        f.write(response.content) # Since it's small, read all content at once\n",
        "    print(f\"Successfully downloaded.\")\n",
        "\n",
        "except requests.exceptions.RequestException as e:\n",
        "    print(f\"Error downloading database file: {e}\")\n",
        "    raise # Stop execution if download fails\n",
        "\n",
        "# Ensure the file exists locally after download attempt\n",
        "if os.path.exists(local_db_filename):\n",
        "    # CORRECT connection string: points to the LOCAL file\n",
        "    connection_string = f\"sqlite:///{local_db_filename}\"\n",
        "    print(f\"Connecting to local database: {connection_string}\")\n",
        "\n",
        "    try:\n",
        "        # Create the SQLAlchemy engine for the LOCAL file\n",
        "        engine = sqlalchemy.create_engine(connection_string)\n",
        "\n",
        "        # --- Now you can use the engine ---\n",
        "        print(\"Successfully created SQLAlchemy engine.\")\n",
        "\n",
        "        # Example: List tables\n",
        "        with engine.connect() as connection:\n",
        "            inspector = sqlalchemy.inspect(engine)\n",
        "            table_names = inspector.get_table_names()\n",
        "            print(f\"Tables found in the database: {table_names}\")\n",
        "\n",
        "    except Exception as e:\n",
        "        print(f\"Error creating SQLAlchemy engine or interacting with DB: {e}\")\n",
        "\n",
        "else:\n",
        "    print(f\"Local database file '{local_db_filename}' not found after download attempt.\")"
      ]
    },
    {
      "cell_type": "markdown",
      "source": [
        "The following code cells show how to write queries using sqlalchemy to display the rows in the 3 tables"
      ],
      "metadata": {
        "id": "tVF84qPhEHqc"
      }
    },
    {
      "cell_type": "code",
      "source": [
        "connection = engine.connect()\n",
        "select_impact_query = sqlalchemy.text(f\"SELECT * FROM impact\")\n",
        "result_all = connection.execute(select_impact_query)\n",
        "result_all.fetchall()"
      ],
      "metadata": {
        "colab": {
          "base_uri": "https://localhost:8080/"
        },
        "id": "DIdf0cW937nX",
        "outputId": "3892c1ad-968f-44f3-c401-2f612d63ea8e"
      },
      "execution_count": null,
      "outputs": [
        {
          "output_type": "execute_result",
          "data": {
            "text/plain": [
              "[('Helen Keller International', \"children given a year's Vitamin A supplementation\", 2.0),\n",
              " ('Malaria Consortium', 'children given anti-malarial treatments', 7.0),\n",
              " ('Against Malaria Foundation', 'people protected against malaria', 2.78),\n",
              " ('New Incentives', 'vaccine immunizations incentivized', 0.6)]"
            ]
          },
          "metadata": {},
          "execution_count": 7
        }
      ]
    },
    {
      "cell_type": "code",
      "source": [
        "select_donations_query = sqlalchemy.text(f\"SELECT * FROM donations\")\n",
        "result_all = connection.execute(select_donations_query)\n",
        "result_all.fetchall()"
      ],
      "metadata": {
        "colab": {
          "base_uri": "https://localhost:8080/"
        },
        "id": "tU75FUCZEWUK",
        "outputId": "98330990-b2cf-4bb6-8cfc-a27d3f9af12d"
      },
      "execution_count": null,
      "outputs": [
        {
          "output_type": "execute_result",
          "data": {
            "text/plain": [
              "[('4e1363e1-0eda-4f90-a1f5-ca4d1d9fc146', 100.0, 'USD', 'OFTW Top Picks'),\n",
              " ('4e1363e1-0eda-4f90-a1f5-ca4d1d9fc146', 200.0, 'USD', 'OFTW Top Picks'),\n",
              " ('4e1363e1-0eda-4f90-a1f5-ca4d1d9fc146', 300.0, 'USD', 'OFTW Top picks'),\n",
              " ('4e1363e1-0eda-4f90-a1f5-ca4d1d9fc146', 400.0, 'USD', 'OFTW top picks'),\n",
              " ('bced85e7-ee9c-45de-8ef8-3dca450ad98d', 50.0, 'CAD', 'Against Malaria Foundation'),\n",
              " ('bced85e7-ee9c-45de-8ef8-3dca450ad98d', 50.0, 'CAD', 'Against Malaria Foundation'),\n",
              " ('bced85e7-ee9c-45de-8ef8-3dca450ad98d', 50.0, 'cad', 'Against Malaria foundation'),\n",
              " ('cadde239-a711-4598-bc50-12eebb4afaac', 100.5, 'gbp', 'OFTW Top Picks'),\n",
              " ('cadde239-a711-4598-bc50-12eebb4afaac', 200.0, 'GBP', 'OFTW Top Picks'),\n",
              " ('cadde239-a711-4598-bc50-12eebb4afaac', 100.5, 'GBP', 'OFTW top picks'),\n",
              " ('cadde239-a711-4598-bc50-12eebb4afaac', 50.75, 'GBP', 'OFTW Top Picks'),\n",
              " ('4cedb12e-6c28-46b6-a77a-2814fc9a79f0', 5000.0, 'AuD', 'New Incentives'),\n",
              " ('4cedb12e-6c28-46b6-a77a-2814fc9a79f0', 10000.0, 'AUD', 'New Incentives'),\n",
              " ('4cedb12e-6c28-46b6-a77a-2814fc9a79f0', 10000.0, 'AUD', 'New Incentives'),\n",
              " ('7224656a-5552-4605-80ef-160b316e3a20', 4000.0, 'USD', 'OFTW Top Picks'),\n",
              " ('7224656a-5552-4605-80ef-160b316e3a20', 100.0, 'USD', 'OFTW Top Picks'),\n",
              " ('7224656a-5552-4605-80ef-160b316e3a20', 20.0, 'USD', 'OFTW Top Picks'),\n",
              " ('7224656a-5552-4605-80ef-160b316e3a20', 100.0, 'USD', 'OFTW Top Picks')]"
            ]
          },
          "metadata": {},
          "execution_count": 8
        }
      ]
    },
    {
      "cell_type": "code",
      "source": [
        "select_portfolio_query = sqlalchemy.text(f\"SELECT * FROM portfolio\")\n",
        "result_all = connection.execute(select_portfolio_query)\n",
        "result_all.fetchall()"
      ],
      "metadata": {
        "colab": {
          "base_uri": "https://localhost:8080/"
        },
        "id": "zCYdSMCCEc6m",
        "outputId": "fc913b47-8c4d-4285-c011-9aaa63a5723b"
      },
      "execution_count": null,
      "outputs": [
        {
          "output_type": "execute_result",
          "data": {
            "text/plain": [
              "[('OFTW Top Picks', 'Helen Keller International', 0.25),\n",
              " ('OFTW Top Picks', 'Malaria Consortium', 0.25),\n",
              " ('OFTW Top Picks', 'Against Malaria Foundation', 0.25),\n",
              " ('OFTW Top Picks', 'New Incentives', 0.25),\n",
              " ('Against Malaria Foundation', 'Against Malaria Foundation', 1.0),\n",
              " ('New Incentives', 'New Incentives', 1.0)]"
            ]
          },
          "metadata": {},
          "execution_count": 9
        }
      ]
    },
    {
      "cell_type": "markdown",
      "source": [
        "Fill in your answer in the cell below"
      ],
      "metadata": {
        "id": "gluPJ42DEm03"
      }
    },
    {
      "cell_type": "code",
      "source": [
        "# Put your query as the 'query' variable\n",
        "query = \"\"\"\n",
        "\n",
        "\"\"\"\n",
        "result = connection.execute(sqlalchemy.text(query))\n",
        "result.fetchall()"
      ],
      "metadata": {
        "id": "y0W0uDbrEtLK"
      },
      "execution_count": null,
      "outputs": []
    }
  ]
}