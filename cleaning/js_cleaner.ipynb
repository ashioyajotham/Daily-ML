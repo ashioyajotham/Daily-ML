{
 "cells": [
  {
   "cell_type": "code",
   "execution_count": 1,
   "metadata": {},
   "outputs": [],
   "source": [
    "import pandas as pd\n",
    "import numpy as np\n",
    "import matplotlib.pyplot as plt\n",
    "import seaborn as sns\n",
    "import warnings\n",
    "warnings.filterwarnings('ignore')"
   ]
  },
  {
   "cell_type": "code",
   "execution_count": 2,
   "metadata": {},
   "outputs": [
    {
     "data": {
      "text/html": [
       "<div>\n",
       "<style scoped>\n",
       "    .dataframe tbody tr th:only-of-type {\n",
       "        vertical-align: middle;\n",
       "    }\n",
       "\n",
       "    .dataframe tbody tr th {\n",
       "        vertical-align: top;\n",
       "    }\n",
       "\n",
       "    .dataframe thead th {\n",
       "        text-align: right;\n",
       "    }\n",
       "</style>\n",
       "<table border=\"1\" class=\"dataframe\">\n",
       "  <thead>\n",
       "    <tr style=\"text-align: right;\">\n",
       "      <th></th>\n",
       "      <th>Module</th>\n",
       "      <th>Subtopic</th>\n",
       "      <th>Subtopic Link</th>\n",
       "      <th>Content</th>\n",
       "    </tr>\n",
       "  </thead>\n",
       "  <tbody>\n",
       "    <tr>\n",
       "      <th>0</th>\n",
       "      <td>Section 1. Array properties</td>\n",
       "      <td>length property</td>\n",
       "      <td>https://www.javascripttutorial.net/javascript-...</td>\n",
       "      <td>Summary: in this tutorial, you’ll learn about ...</td>\n",
       "    </tr>\n",
       "    <tr>\n",
       "      <th>1</th>\n",
       "      <td>Section 2. Adding/removing elements</td>\n",
       "      <td>push()</td>\n",
       "      <td>https://www.javascripttutorial.net/javascript-...</td>\n",
       "      <td>Summary: in this tutorial, you’ll learn how to...</td>\n",
       "    </tr>\n",
       "    <tr>\n",
       "      <th>2</th>\n",
       "      <td>Section 2. Adding/removing elements</td>\n",
       "      <td>unshift()</td>\n",
       "      <td>https://www.javascripttutorial.net/javascript-...</td>\n",
       "      <td>Summary: in this tutorial, you’ll learn how to...</td>\n",
       "    </tr>\n",
       "    <tr>\n",
       "      <th>3</th>\n",
       "      <td>Section 2. Adding/removing elements</td>\n",
       "      <td>pop()</td>\n",
       "      <td>https://www.javascripttutorial.net/javascript-...</td>\n",
       "      <td>Summary: in this tutorial, you’ll learn how to...</td>\n",
       "    </tr>\n",
       "    <tr>\n",
       "      <th>4</th>\n",
       "      <td>Section 2. Adding/removing elements</td>\n",
       "      <td>shift()</td>\n",
       "      <td>https://www.javascripttutorial.net/javascript-...</td>\n",
       "      <td>Summary: in this tutorial, you’ll learn how to...</td>\n",
       "    </tr>\n",
       "  </tbody>\n",
       "</table>\n",
       "</div>"
      ],
      "text/plain": [
       "                                Module         Subtopic  \\\n",
       "0          Section 1. Array properties  length property   \n",
       "1  Section 2. Adding/removing elements           push()   \n",
       "2  Section 2. Adding/removing elements        unshift()   \n",
       "3  Section 2. Adding/removing elements            pop()   \n",
       "4  Section 2. Adding/removing elements          shift()   \n",
       "\n",
       "                                       Subtopic Link  \\\n",
       "0  https://www.javascripttutorial.net/javascript-...   \n",
       "1  https://www.javascripttutorial.net/javascript-...   \n",
       "2  https://www.javascripttutorial.net/javascript-...   \n",
       "3  https://www.javascripttutorial.net/javascript-...   \n",
       "4  https://www.javascripttutorial.net/javascript-...   \n",
       "\n",
       "                                             Content  \n",
       "0  Summary: in this tutorial, you’ll learn about ...  \n",
       "1  Summary: in this tutorial, you’ll learn how to...  \n",
       "2  Summary: in this tutorial, you’ll learn how to...  \n",
       "3  Summary: in this tutorial, you’ll learn how to...  \n",
       "4  Summary: in this tutorial, you’ll learn how to...  "
      ]
     },
     "execution_count": 2,
     "metadata": {},
     "output_type": "execute_result"
    }
   ],
   "source": [
    "df = pd.read_csv('javascript_tutorial_data.csv')\n",
    "df.head()"
   ]
  },
  {
   "cell_type": "markdown",
   "metadata": {},
   "source": [
    "## Data Wrangling"
   ]
  },
  {
   "cell_type": "code",
   "execution_count": 3,
   "metadata": {},
   "outputs": [
    {
     "data": {
      "text/plain": [
       "Module           0\n",
       "Subtopic         0\n",
       "Subtopic Link    0\n",
       "Content          0\n",
       "dtype: int64"
      ]
     },
     "execution_count": 3,
     "metadata": {},
     "output_type": "execute_result"
    }
   ],
   "source": [
    "# Check for missing values\n",
    "df.isnull().sum()"
   ]
  },
  {
   "cell_type": "code",
   "execution_count": 4,
   "metadata": {},
   "outputs": [],
   "source": [
    "# Drop the feature with links as it is not useful\n",
    "df.drop('Subtopic Link', axis=1, inplace=True)"
   ]
  },
  {
   "cell_type": "code",
   "execution_count": 5,
   "metadata": {},
   "outputs": [
    {
     "name": "stdout",
     "output_type": "stream",
     "text": [
      "Sample results:\n",
      "\n",
      "Section: 0    1\n",
      "1    2\n",
      "2    2\n",
      "3    2\n",
      "4    2\n",
      "Name: Section, dtype: object\n",
      "\n",
      "Cleaned Module: 0            Array properties\n",
      "1    Adding/removing elements\n",
      "2    Adding/removing elements\n",
      "3    Adding/removing elements\n",
      "4    Adding/removing elements\n",
      "Name: Module, dtype: object\n",
      "\n",
      "Cleaned Content: 0    in this tutorial, you’ll learn about the JavaS...\n",
      "1    in this tutorial, you’ll learn how to use the ...\n",
      "2    in this tutorial, you’ll learn how to use the ...\n",
      "3    in this tutorial, you’ll learn how to use the ...\n",
      "4    in this tutorial, you’ll learn how to use the ...\n",
      "Name: Content, dtype: object\n"
     ]
    }
   ],
   "source": [
    "# Extract section numbers from Module and create new column\n",
    "df['Section'] = df['Module'].str.extract(r'Section (\\d+)')\n",
    "\n",
    "# Clean Module column by removing 'Section X.' prefix\n",
    "df['Module'] = df['Module'].str.replace(r'Section \\d+\\.\\s*', '', regex=True)\n",
    "\n",
    "# Clean Content by removing 'Summary:' prefix\n",
    "df['Content'] = df['Content'].str.replace(r'^Summary:\\s*', '', regex=True)\n",
    "\n",
    "# Verify changes\n",
    "print(\"Sample results:\")\n",
    "print(\"\\nSection:\", df['Section'].head())\n",
    "print(\"\\nCleaned Module:\", df['Module'].head())\n",
    "print(\"\\nCleaned Content:\", df['Content'].head())"
   ]
  },
  {
   "cell_type": "code",
   "execution_count": 6,
   "metadata": {},
   "outputs": [
    {
     "data": {
      "text/html": [
       "<div>\n",
       "<style scoped>\n",
       "    .dataframe tbody tr th:only-of-type {\n",
       "        vertical-align: middle;\n",
       "    }\n",
       "\n",
       "    .dataframe tbody tr th {\n",
       "        vertical-align: top;\n",
       "    }\n",
       "\n",
       "    .dataframe thead th {\n",
       "        text-align: right;\n",
       "    }\n",
       "</style>\n",
       "<table border=\"1\" class=\"dataframe\">\n",
       "  <thead>\n",
       "    <tr style=\"text-align: right;\">\n",
       "      <th></th>\n",
       "      <th>Module</th>\n",
       "      <th>Subtopic</th>\n",
       "      <th>Content</th>\n",
       "      <th>Section</th>\n",
       "    </tr>\n",
       "  </thead>\n",
       "  <tbody>\n",
       "    <tr>\n",
       "      <th>0</th>\n",
       "      <td>Array properties</td>\n",
       "      <td>length property</td>\n",
       "      <td>in this tutorial, you’ll learn about the JavaS...</td>\n",
       "      <td>1</td>\n",
       "    </tr>\n",
       "    <tr>\n",
       "      <th>1</th>\n",
       "      <td>Adding/removing elements</td>\n",
       "      <td>push()</td>\n",
       "      <td>in this tutorial, you’ll learn how to use the ...</td>\n",
       "      <td>2</td>\n",
       "    </tr>\n",
       "    <tr>\n",
       "      <th>2</th>\n",
       "      <td>Adding/removing elements</td>\n",
       "      <td>unshift()</td>\n",
       "      <td>in this tutorial, you’ll learn how to use the ...</td>\n",
       "      <td>2</td>\n",
       "    </tr>\n",
       "    <tr>\n",
       "      <th>3</th>\n",
       "      <td>Adding/removing elements</td>\n",
       "      <td>pop()</td>\n",
       "      <td>in this tutorial, you’ll learn how to use the ...</td>\n",
       "      <td>2</td>\n",
       "    </tr>\n",
       "    <tr>\n",
       "      <th>4</th>\n",
       "      <td>Adding/removing elements</td>\n",
       "      <td>shift()</td>\n",
       "      <td>in this tutorial, you’ll learn how to use the ...</td>\n",
       "      <td>2</td>\n",
       "    </tr>\n",
       "  </tbody>\n",
       "</table>\n",
       "</div>"
      ],
      "text/plain": [
       "                     Module         Subtopic  \\\n",
       "0          Array properties  length property   \n",
       "1  Adding/removing elements           push()   \n",
       "2  Adding/removing elements        unshift()   \n",
       "3  Adding/removing elements            pop()   \n",
       "4  Adding/removing elements          shift()   \n",
       "\n",
       "                                             Content Section  \n",
       "0  in this tutorial, you’ll learn about the JavaS...       1  \n",
       "1  in this tutorial, you’ll learn how to use the ...       2  \n",
       "2  in this tutorial, you’ll learn how to use the ...       2  \n",
       "3  in this tutorial, you’ll learn how to use the ...       2  \n",
       "4  in this tutorial, you’ll learn how to use the ...       2  "
      ]
     },
     "execution_count": 6,
     "metadata": {},
     "output_type": "execute_result"
    }
   ],
   "source": [
    "df.head()"
   ]
  },
  {
   "cell_type": "code",
   "execution_count": 7,
   "metadata": {},
   "outputs": [],
   "source": [
    "# Save cleaned data to new file\n",
    "df.to_csv('cleaned_javascript_tutorial_data.csv', index=False)"
   ]
  }
 ],
 "metadata": {
  "kernelspec": {
   "display_name": "venv",
   "language": "python",
   "name": "python3"
  },
  "language_info": {
   "codemirror_mode": {
    "name": "ipython",
    "version": 3
   },
   "file_extension": ".py",
   "mimetype": "text/x-python",
   "name": "python",
   "nbconvert_exporter": "python",
   "pygments_lexer": "ipython3",
   "version": "3.11.9"
  }
 },
 "nbformat": 4,
 "nbformat_minor": 2
}
