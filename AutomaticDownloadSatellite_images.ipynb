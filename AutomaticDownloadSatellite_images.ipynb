{
  "nbformat": 4,
  "nbformat_minor": 0,
  "metadata": {
    "colab": {
      "provenance": [],
      "machine_shape": "hm",
      "gpuType": "T4",
      "include_colab_link": true
    },
    "kernelspec": {
      "name": "python3",
      "display_name": "Python 3"
    },
    "language_info": {
      "name": "python"
    },
    "widgets": {
      "application/vnd.jupyter.widget-state+json": {
        "231b78a3117145289c7c8fded42e7ea4": {
          "model_module": "jupyter-leaflet",
          "model_name": "LeafletMapModel",
          "model_module_version": "^0.18",
          "state": {
            "_dom_classes": [],
            "_model_module": "jupyter-leaflet",
            "_model_module_version": "^0.18",
            "_model_name": "LeafletMapModel",
            "_view_count": null,
            "_view_module": "jupyter-leaflet",
            "_view_module_version": "^0.18",
            "_view_name": "LeafletMapView",
            "bottom": 13799,
            "bounce_at_zoom_limits": true,
            "box_zoom": true,
            "center": [
              30.192618218499273,
              22.027587890625
            ],
            "close_popup_on_click": true,
            "controls": [
              "IPY_MODEL_a5d33d0652c24bf8a16d354d5dd3e13f",
              "IPY_MODEL_7408c05d0b85492ea81c7439cd43b02d",
              "IPY_MODEL_d68e61e69c3c4a13bf859318a574ea99",
              "IPY_MODEL_1667213c39384f2bb3666c6460744ce1",
              "IPY_MODEL_e2012ca19e0a4e58bacc2428a32b7690",
              "IPY_MODEL_4be7e46ea8fd43e8aa5e27ee91726ade",
              "IPY_MODEL_82a1a2a1002c423da33171248b4e9d0f",
              "IPY_MODEL_52e1746a6b0d43d1856a2ccda6d0dc82"
            ],
            "crs": {
              "name": "EPSG3857",
              "custom": false
            },
            "default_style": "IPY_MODEL_c1ad8e0fa39344e3a35a74342a7462f4",
            "double_click_zoom": true,
            "dragging": true,
            "dragging_style": "IPY_MODEL_a41a79a5add34bf2b2f310cf6231d8b1",
            "east": 28.564453125000004,
            "fullscreen": false,
            "inertia": true,
            "inertia_deceleration": 3000,
            "inertia_max_speed": 1500,
            "interpolation": "bilinear",
            "keyboard": true,
            "keyboard_pan_offset": 80,
            "keyboard_zoom_offset": 1,
            "layers": [
              "IPY_MODEL_49724845e7da458a8e0f9f7bc852ce08",
              "IPY_MODEL_50b51d554d8d4a8f89442b82faac4d76"
            ],
            "layout": "IPY_MODEL_ce1b2fa8fa00476999c3712181fc6ddc",
            "left": 17794,
            "max_zoom": 24,
            "min_zoom": null,
            "modisdate": "2024-02-22",
            "north": 32.99945000822839,
            "options": [
              "bounce_at_zoom_limits",
              "box_zoom",
              "center",
              "close_popup_on_click",
              "double_click_zoom",
              "dragging",
              "fullscreen",
              "inertia",
              "inertia_deceleration",
              "inertia_max_speed",
              "interpolation",
              "keyboard",
              "keyboard_pan_offset",
              "keyboard_zoom_offset",
              "max_zoom",
              "min_zoom",
              "prefer_canvas",
              "scroll_wheel_zoom",
              "tap",
              "tap_tolerance",
              "touch_zoom",
              "world_copy_jump",
              "zoom",
              "zoom_animation_threshold",
              "zoom_delta",
              "zoom_snap"
            ],
            "panes": {},
            "prefer_canvas": false,
            "right": 18984,
            "scroll_wheel_zoom": true,
            "south": 27.303451991034542,
            "style": "IPY_MODEL_c1ad8e0fa39344e3a35a74342a7462f4",
            "tap": true,
            "tap_tolerance": 15,
            "top": 13199,
            "touch_zoom": true,
            "west": 15.490722656250002,
            "window_url": "https://9hopp19vino-496ff2e9c6d22116-0-colab.googleusercontent.com/outputframe.html?vrz=colab_20240221-060143_RC00_608902782",
            "world_copy_jump": false,
            "zoom": 7,
            "zoom_animation_threshold": 4,
            "zoom_delta": 1,
            "zoom_snap": 1
          }
        },
        "a5d33d0652c24bf8a16d354d5dd3e13f": {
          "model_module": "jupyter-leaflet",
          "model_name": "LeafletWidgetControlModel",
          "model_module_version": "^0.18",
          "state": {
            "_model_module": "jupyter-leaflet",
            "_model_module_version": "^0.18",
            "_model_name": "LeafletWidgetControlModel",
            "_view_count": null,
            "_view_module": "jupyter-leaflet",
            "_view_module_version": "^0.18",
            "_view_name": "LeafletWidgetControlView",
            "max_height": null,
            "max_width": null,
            "min_height": null,
            "min_width": null,
            "options": [
              "position",
              "transparent_bg"
            ],
            "position": "topleft",
            "transparent_bg": false,
            "widget": "IPY_MODEL_3b86c29954854731a55d8067d0b09c89"
          }
        },
        "7408c05d0b85492ea81c7439cd43b02d": {
          "model_module": "jupyter-leaflet",
          "model_name": "LeafletZoomControlModel",
          "model_module_version": "^0.18",
          "state": {
            "_model_module": "jupyter-leaflet",
            "_model_module_version": "^0.18",
            "_model_name": "LeafletZoomControlModel",
            "_view_count": null,
            "_view_module": "jupyter-leaflet",
            "_view_module_version": "^0.18",
            "_view_name": "LeafletZoomControlView",
            "options": [
              "position",
              "zoom_in_text",
              "zoom_in_title",
              "zoom_out_text",
              "zoom_out_title"
            ],
            "position": "topleft",
            "zoom_in_text": "+",
            "zoom_in_title": "Zoom in",
            "zoom_out_text": "-",
            "zoom_out_title": "Zoom out"
          }
        },
        "d68e61e69c3c4a13bf859318a574ea99": {
          "model_module": "jupyter-leaflet",
          "model_name": "LeafletFullScreenControlModel",
          "model_module_version": "^0.18",
          "state": {
            "_model_module": "jupyter-leaflet",
            "_model_module_version": "^0.18",
            "_model_name": "LeafletFullScreenControlModel",
            "_view_count": null,
            "_view_module": "jupyter-leaflet",
            "_view_module_version": "^0.18",
            "_view_name": "LeafletFullScreenControlView",
            "options": [
              "position"
            ],
            "position": "topleft"
          }
        },
        "1667213c39384f2bb3666c6460744ce1": {
          "model_module": "jupyter-leaflet",
          "model_name": "LeafletDrawControlModel",
          "model_module_version": "^0.18",
          "state": {
            "_model_module": "jupyter-leaflet",
            "_model_module_version": "^0.18",
            "_model_name": "LeafletDrawControlModel",
            "_view_count": null,
            "_view_module": "jupyter-leaflet",
            "_view_module_version": "^0.18",
            "_view_name": "LeafletDrawControlView",
            "circle": {},
            "circlemarker": {},
            "data": [],
            "edit": true,
            "marker": {
              "shapeOptions": {
                "color": "#3388ff"
              }
            },
            "options": [
              "position"
            ],
            "polygon": {
              "shapeOptions": {}
            },
            "polyline": {
              "shapeOptions": {}
            },
            "position": "topleft",
            "rectangle": {
              "shapeOptions": {
                "color": "#3388ff"
              }
            },
            "remove": true
          }
        },
        "e2012ca19e0a4e58bacc2428a32b7690": {
          "model_module": "jupyter-leaflet",
          "model_name": "LeafletScaleControlModel",
          "model_module_version": "^0.18",
          "state": {
            "_model_module": "jupyter-leaflet",
            "_model_module_version": "^0.18",
            "_model_name": "LeafletScaleControlModel",
            "_view_count": null,
            "_view_module": "jupyter-leaflet",
            "_view_module_version": "^0.18",
            "_view_name": "LeafletScaleControlView",
            "imperial": true,
            "max_width": 100,
            "metric": true,
            "options": [
              "imperial",
              "max_width",
              "metric",
              "position",
              "update_when_idle"
            ],
            "position": "bottomleft",
            "update_when_idle": false
          }
        },
        "4be7e46ea8fd43e8aa5e27ee91726ade": {
          "model_module": "jupyter-leaflet",
          "model_name": "LeafletMeasureControlModel",
          "model_module_version": "^0.18",
          "state": {
            "_custom_units": {},
            "_model_module": "jupyter-leaflet",
            "_model_module_version": "^0.18",
            "_model_name": "LeafletMeasureControlModel",
            "_view_count": null,
            "_view_module": "jupyter-leaflet",
            "_view_module_version": "^0.18",
            "_view_name": "LeafletMeasureControlView",
            "active_color": "orange",
            "capture_z_index": 10000,
            "completed_color": "#C8F2BE",
            "options": [
              "active_color",
              "capture_z_index",
              "completed_color",
              "popup_options",
              "position",
              "primary_area_unit",
              "primary_length_unit",
              "secondary_area_unit",
              "secondary_length_unit"
            ],
            "popup_options": {
              "className": "leaflet-measure-resultpopup",
              "autoPanPadding": [
                10,
                10
              ]
            },
            "position": "bottomleft",
            "primary_area_unit": "acres",
            "primary_length_unit": "kilometers",
            "secondary_area_unit": null,
            "secondary_length_unit": null
          }
        },
        "82a1a2a1002c423da33171248b4e9d0f": {
          "model_module": "jupyter-leaflet",
          "model_name": "LeafletWidgetControlModel",
          "model_module_version": "^0.18",
          "state": {
            "_model_module": "jupyter-leaflet",
            "_model_module_version": "^0.18",
            "_model_name": "LeafletWidgetControlModel",
            "_view_count": null,
            "_view_module": "jupyter-leaflet",
            "_view_module_version": "^0.18",
            "_view_name": "LeafletWidgetControlView",
            "max_height": null,
            "max_width": null,
            "min_height": null,
            "min_width": null,
            "options": [
              "position",
              "transparent_bg"
            ],
            "position": "topright",
            "transparent_bg": false,
            "widget": "IPY_MODEL_add165dc833843e89b6e26859e0c58a0"
          }
        },
        "52e1746a6b0d43d1856a2ccda6d0dc82": {
          "model_module": "jupyter-leaflet",
          "model_name": "LeafletAttributionControlModel",
          "model_module_version": "^0.18",
          "state": {
            "_model_module": "jupyter-leaflet",
            "_model_module_version": "^0.18",
            "_model_name": "LeafletAttributionControlModel",
            "_view_count": null,
            "_view_module": "jupyter-leaflet",
            "_view_module_version": "^0.18",
            "_view_name": "LeafletAttributionControlView",
            "options": [
              "position",
              "prefix"
            ],
            "position": "bottomright",
            "prefix": "ipyleaflet"
          }
        },
        "c1ad8e0fa39344e3a35a74342a7462f4": {
          "model_module": "jupyter-leaflet",
          "model_name": "LeafletMapStyleModel",
          "model_module_version": "^0.18",
          "state": {
            "_model_module": "jupyter-leaflet",
            "_model_module_version": "^0.18",
            "_model_name": "LeafletMapStyleModel",
            "_view_count": null,
            "_view_module": "@jupyter-widgets/base",
            "_view_module_version": "1.2.0",
            "_view_name": "StyleView",
            "cursor": "grab"
          }
        },
        "a41a79a5add34bf2b2f310cf6231d8b1": {
          "model_module": "jupyter-leaflet",
          "model_name": "LeafletMapStyleModel",
          "model_module_version": "^0.18",
          "state": {
            "_model_module": "jupyter-leaflet",
            "_model_module_version": "^0.18",
            "_model_name": "LeafletMapStyleModel",
            "_view_count": null,
            "_view_module": "@jupyter-widgets/base",
            "_view_module_version": "1.2.0",
            "_view_name": "StyleView",
            "cursor": "move"
          }
        },
        "49724845e7da458a8e0f9f7bc852ce08": {
          "model_module": "jupyter-leaflet",
          "model_name": "LeafletTileLayerModel",
          "model_module_version": "^0.18",
          "state": {
            "_model_module": "jupyter-leaflet",
            "_model_module_version": "^0.18",
            "_model_name": "LeafletTileLayerModel",
            "_view_count": null,
            "_view_module": "jupyter-leaflet",
            "_view_module_version": "^0.18",
            "_view_name": "LeafletTileLayerView",
            "attribution": "&copy; <a href=\"https://www.openstreetmap.org/copyright\">OpenStreetMap</a> contributors",
            "base": true,
            "bottom": true,
            "bounds": null,
            "detect_retina": false,
            "loading": false,
            "max_native_zoom": null,
            "max_zoom": 19,
            "min_native_zoom": null,
            "min_zoom": 1,
            "name": "OpenStreetMap.Mapnik",
            "no_wrap": false,
            "opacity": 1,
            "options": [
              "attribution",
              "bounds",
              "detect_retina",
              "max_native_zoom",
              "max_zoom",
              "min_native_zoom",
              "min_zoom",
              "no_wrap",
              "tile_size",
              "tms",
              "zoom_offset"
            ],
            "pane": "",
            "popup": null,
            "popup_max_height": null,
            "popup_max_width": 300,
            "popup_min_width": 50,
            "show_loading": false,
            "subitems": [],
            "tile_size": 256,
            "tms": false,
            "url": "https://tile.openstreetmap.org/{z}/{x}/{y}.png",
            "visible": true,
            "zoom_offset": 0
          }
        },
        "50b51d554d8d4a8f89442b82faac4d76": {
          "model_module": "jupyter-leaflet",
          "model_name": "LeafletTileLayerModel",
          "model_module_version": "^0.18",
          "state": {
            "_model_module": "jupyter-leaflet",
            "_model_module_version": "^0.18",
            "_model_name": "LeafletTileLayerModel",
            "_view_count": null,
            "_view_module": "jupyter-leaflet",
            "_view_module_version": "^0.18",
            "_view_name": "LeafletTileLayerView",
            "attribution": "Google Earth Engine",
            "base": false,
            "bottom": true,
            "bounds": null,
            "detect_retina": false,
            "loading": false,
            "max_native_zoom": null,
            "max_zoom": 24,
            "min_native_zoom": null,
            "min_zoom": 0,
            "name": "Polygons from GeoPandas",
            "no_wrap": false,
            "opacity": 1,
            "options": [
              "attribution",
              "bounds",
              "detect_retina",
              "max_native_zoom",
              "max_zoom",
              "min_native_zoom",
              "min_zoom",
              "no_wrap",
              "tile_size",
              "tms",
              "zoom_offset"
            ],
            "pane": "",
            "popup": null,
            "popup_max_height": null,
            "popup_max_width": 300,
            "popup_min_width": 50,
            "show_loading": false,
            "subitems": [],
            "tile_size": 256,
            "tms": false,
            "url": "https://earthengine.googleapis.com/v1/projects/data-audio-237110/maps/7aac7fab81fb3f56c58119fb378f7f27-cc673c7e68edfbe405ec9896d67153fc/tiles/{z}/{x}/{y}",
            "visible": true,
            "zoom_offset": 0
          }
        },
        "ce1b2fa8fa00476999c3712181fc6ddc": {
          "model_module": "@jupyter-widgets/base",
          "model_name": "LayoutModel",
          "model_module_version": "1.2.0",
          "state": {
            "_model_module": "@jupyter-widgets/base",
            "_model_module_version": "1.2.0",
            "_model_name": "LayoutModel",
            "_view_count": null,
            "_view_module": "@jupyter-widgets/base",
            "_view_module_version": "1.2.0",
            "_view_name": "LayoutView",
            "align_content": null,
            "align_items": null,
            "align_self": null,
            "border": null,
            "bottom": null,
            "display": null,
            "flex": null,
            "flex_flow": null,
            "grid_area": null,
            "grid_auto_columns": null,
            "grid_auto_flow": null,
            "grid_auto_rows": null,
            "grid_column": null,
            "grid_gap": null,
            "grid_row": null,
            "grid_template_areas": null,
            "grid_template_columns": null,
            "grid_template_rows": null,
            "height": "600px",
            "justify_content": null,
            "justify_items": null,
            "left": null,
            "margin": null,
            "max_height": null,
            "max_width": null,
            "min_height": null,
            "min_width": null,
            "object_fit": null,
            "object_position": null,
            "order": null,
            "overflow": null,
            "overflow_x": null,
            "overflow_y": null,
            "padding": null,
            "right": null,
            "top": null,
            "visibility": null,
            "width": null
          }
        },
        "f98a8c35d24b4c5f98f2b2484c216877": {
          "model_module": "jupyter-leaflet",
          "model_name": "LeafletMapStyleModel",
          "model_module_version": "^0.18",
          "state": {
            "_model_module": "jupyter-leaflet",
            "_model_module_version": "^0.18",
            "_model_name": "LeafletMapStyleModel",
            "_view_count": null,
            "_view_module": "@jupyter-widgets/base",
            "_view_module_version": "1.2.0",
            "_view_name": "StyleView",
            "cursor": "grab"
          }
        },
        "3b86c29954854731a55d8067d0b09c89": {
          "model_module": "@jupyter-widgets/controls",
          "model_name": "HBoxModel",
          "model_module_version": "1.5.0",
          "state": {
            "_dom_classes": [
              "geemap-colab"
            ],
            "_model_module": "@jupyter-widgets/controls",
            "_model_module_version": "1.5.0",
            "_model_name": "HBoxModel",
            "_view_count": null,
            "_view_module": "@jupyter-widgets/controls",
            "_view_module_version": "1.5.0",
            "_view_name": "HBoxView",
            "box_style": "",
            "children": [
              "IPY_MODEL_d4aae8ecd6fc4ceba49303badf787b09"
            ],
            "layout": "IPY_MODEL_e47e1764bcac422f98a2438ce1772c36"
          }
        },
        "add165dc833843e89b6e26859e0c58a0": {
          "model_module": "@jupyter-widgets/controls",
          "model_name": "VBoxModel",
          "model_module_version": "1.5.0",
          "state": {
            "_dom_classes": [
              "geemap-colab"
            ],
            "_model_module": "@jupyter-widgets/controls",
            "_model_module_version": "1.5.0",
            "_model_name": "VBoxModel",
            "_view_count": null,
            "_view_module": "@jupyter-widgets/controls",
            "_view_module_version": "1.5.0",
            "_view_name": "VBoxView",
            "box_style": "",
            "children": [
              "IPY_MODEL_509114d97531422a82ceca2421b89104"
            ],
            "layout": "IPY_MODEL_5416cd160fc14f20b97ab73251ca09ae"
          }
        },
        "d4aae8ecd6fc4ceba49303badf787b09": {
          "model_module": "@jupyter-widgets/controls",
          "model_name": "ToggleButtonModel",
          "model_module_version": "1.5.0",
          "state": {
            "_dom_classes": [],
            "_model_module": "@jupyter-widgets/controls",
            "_model_module_version": "1.5.0",
            "_model_name": "ToggleButtonModel",
            "_view_count": null,
            "_view_module": "@jupyter-widgets/controls",
            "_view_module_version": "1.5.0",
            "_view_name": "ToggleButtonView",
            "button_style": "",
            "description": "",
            "description_tooltip": null,
            "disabled": false,
            "icon": "globe",
            "layout": "IPY_MODEL_cad85975a8dd4cf3a07b50272cf3b8a6",
            "style": "IPY_MODEL_4e8fb0e7497044949f976bbfa623bbc1",
            "tooltip": "Search location/data",
            "value": false
          }
        },
        "e47e1764bcac422f98a2438ce1772c36": {
          "model_module": "@jupyter-widgets/base",
          "model_name": "LayoutModel",
          "model_module_version": "1.2.0",
          "state": {
            "_model_module": "@jupyter-widgets/base",
            "_model_module_version": "1.2.0",
            "_model_name": "LayoutModel",
            "_view_count": null,
            "_view_module": "@jupyter-widgets/base",
            "_view_module_version": "1.2.0",
            "_view_name": "LayoutView",
            "align_content": null,
            "align_items": null,
            "align_self": null,
            "border": null,
            "bottom": null,
            "display": null,
            "flex": null,
            "flex_flow": null,
            "grid_area": null,
            "grid_auto_columns": null,
            "grid_auto_flow": null,
            "grid_auto_rows": null,
            "grid_column": null,
            "grid_gap": null,
            "grid_row": null,
            "grid_template_areas": null,
            "grid_template_columns": null,
            "grid_template_rows": null,
            "height": null,
            "justify_content": null,
            "justify_items": null,
            "left": null,
            "margin": null,
            "max_height": null,
            "max_width": null,
            "min_height": null,
            "min_width": null,
            "object_fit": null,
            "object_position": null,
            "order": null,
            "overflow": null,
            "overflow_x": null,
            "overflow_y": null,
            "padding": null,
            "right": null,
            "top": null,
            "visibility": null,
            "width": null
          }
        },
        "509114d97531422a82ceca2421b89104": {
          "model_module": "@jupyter-widgets/controls",
          "model_name": "ToggleButtonModel",
          "model_module_version": "1.5.0",
          "state": {
            "_dom_classes": [],
            "_model_module": "@jupyter-widgets/controls",
            "_model_module_version": "1.5.0",
            "_model_name": "ToggleButtonModel",
            "_view_count": null,
            "_view_module": "@jupyter-widgets/controls",
            "_view_module_version": "1.5.0",
            "_view_name": "ToggleButtonView",
            "button_style": "",
            "description": "",
            "description_tooltip": null,
            "disabled": false,
            "icon": "wrench",
            "layout": "IPY_MODEL_7909b2ecc43f4717a1112cda669c8e2a",
            "style": "IPY_MODEL_c421c83aa30f49cfb6b28f22bc95a910",
            "tooltip": "Toolbar",
            "value": false
          }
        },
        "5416cd160fc14f20b97ab73251ca09ae": {
          "model_module": "@jupyter-widgets/base",
          "model_name": "LayoutModel",
          "model_module_version": "1.2.0",
          "state": {
            "_model_module": "@jupyter-widgets/base",
            "_model_module_version": "1.2.0",
            "_model_name": "LayoutModel",
            "_view_count": null,
            "_view_module": "@jupyter-widgets/base",
            "_view_module_version": "1.2.0",
            "_view_name": "LayoutView",
            "align_content": null,
            "align_items": null,
            "align_self": null,
            "border": null,
            "bottom": null,
            "display": null,
            "flex": null,
            "flex_flow": null,
            "grid_area": null,
            "grid_auto_columns": null,
            "grid_auto_flow": null,
            "grid_auto_rows": null,
            "grid_column": null,
            "grid_gap": null,
            "grid_row": null,
            "grid_template_areas": null,
            "grid_template_columns": null,
            "grid_template_rows": null,
            "height": null,
            "justify_content": null,
            "justify_items": null,
            "left": null,
            "margin": null,
            "max_height": null,
            "max_width": null,
            "min_height": null,
            "min_width": null,
            "object_fit": null,
            "object_position": null,
            "order": null,
            "overflow": null,
            "overflow_x": null,
            "overflow_y": null,
            "padding": null,
            "right": null,
            "top": null,
            "visibility": null,
            "width": null
          }
        },
        "cad85975a8dd4cf3a07b50272cf3b8a6": {
          "model_module": "@jupyter-widgets/base",
          "model_name": "LayoutModel",
          "model_module_version": "1.2.0",
          "state": {
            "_model_module": "@jupyter-widgets/base",
            "_model_module_version": "1.2.0",
            "_model_name": "LayoutModel",
            "_view_count": null,
            "_view_module": "@jupyter-widgets/base",
            "_view_module_version": "1.2.0",
            "_view_name": "LayoutView",
            "align_content": null,
            "align_items": null,
            "align_self": null,
            "border": null,
            "bottom": null,
            "display": null,
            "flex": null,
            "flex_flow": null,
            "grid_area": null,
            "grid_auto_columns": null,
            "grid_auto_flow": null,
            "grid_auto_rows": null,
            "grid_column": null,
            "grid_gap": null,
            "grid_row": null,
            "grid_template_areas": null,
            "grid_template_columns": null,
            "grid_template_rows": null,
            "height": "28px",
            "justify_content": null,
            "justify_items": null,
            "left": null,
            "margin": null,
            "max_height": null,
            "max_width": null,
            "min_height": null,
            "min_width": null,
            "object_fit": null,
            "object_position": null,
            "order": null,
            "overflow": null,
            "overflow_x": null,
            "overflow_y": null,
            "padding": "0px 0px 0px 4px",
            "right": null,
            "top": null,
            "visibility": null,
            "width": "28px"
          }
        },
        "4e8fb0e7497044949f976bbfa623bbc1": {
          "model_module": "@jupyter-widgets/controls",
          "model_name": "DescriptionStyleModel",
          "model_module_version": "1.5.0",
          "state": {
            "_model_module": "@jupyter-widgets/controls",
            "_model_module_version": "1.5.0",
            "_model_name": "DescriptionStyleModel",
            "_view_count": null,
            "_view_module": "@jupyter-widgets/base",
            "_view_module_version": "1.2.0",
            "_view_name": "StyleView",
            "description_width": ""
          }
        },
        "7909b2ecc43f4717a1112cda669c8e2a": {
          "model_module": "@jupyter-widgets/base",
          "model_name": "LayoutModel",
          "model_module_version": "1.2.0",
          "state": {
            "_model_module": "@jupyter-widgets/base",
            "_model_module_version": "1.2.0",
            "_model_name": "LayoutModel",
            "_view_count": null,
            "_view_module": "@jupyter-widgets/base",
            "_view_module_version": "1.2.0",
            "_view_name": "LayoutView",
            "align_content": null,
            "align_items": null,
            "align_self": null,
            "border": null,
            "bottom": null,
            "display": null,
            "flex": null,
            "flex_flow": null,
            "grid_area": null,
            "grid_auto_columns": null,
            "grid_auto_flow": null,
            "grid_auto_rows": null,
            "grid_column": null,
            "grid_gap": null,
            "grid_row": null,
            "grid_template_areas": null,
            "grid_template_columns": null,
            "grid_template_rows": null,
            "height": "28px",
            "justify_content": null,
            "justify_items": null,
            "left": null,
            "margin": null,
            "max_height": null,
            "max_width": null,
            "min_height": null,
            "min_width": null,
            "object_fit": null,
            "object_position": null,
            "order": null,
            "overflow": null,
            "overflow_x": null,
            "overflow_y": null,
            "padding": "0px 0px 0px 4px",
            "right": null,
            "top": null,
            "visibility": null,
            "width": "28px"
          }
        },
        "c421c83aa30f49cfb6b28f22bc95a910": {
          "model_module": "@jupyter-widgets/controls",
          "model_name": "DescriptionStyleModel",
          "model_module_version": "1.5.0",
          "state": {
            "_model_module": "@jupyter-widgets/controls",
            "_model_module_version": "1.5.0",
            "_model_name": "DescriptionStyleModel",
            "_view_count": null,
            "_view_module": "@jupyter-widgets/base",
            "_view_module_version": "1.2.0",
            "_view_name": "StyleView",
            "description_width": ""
          }
        },
        "dab79c5d69774f76821fa24a0598a9da": {
          "model_module": "jupyter-leaflet",
          "model_name": "LeafletMapModel",
          "model_module_version": "^0.18",
          "state": {
            "_dom_classes": [],
            "_model_module": "jupyter-leaflet",
            "_model_module_version": "^0.18",
            "_model_name": "LeafletMapModel",
            "_view_count": null,
            "_view_module": "jupyter-leaflet",
            "_view_module_version": "^0.18",
            "_view_name": "LeafletMapView",
            "bottom": 182602,
            "bounce_at_zoom_limits": true,
            "box_zoom": true,
            "center": [
              -57.34875059490362,
              -70.60287596251727
            ],
            "close_popup_on_click": true,
            "controls": [
              "IPY_MODEL_cbec969b98b740a99906439cbfbc1a64",
              "IPY_MODEL_239de5cff50b434eac0d6a0d181be455",
              "IPY_MODEL_7d41a7fd17334f4c985a5c3ac5a4b793",
              "IPY_MODEL_ece220e797fb44758edf8118a8662205",
              "IPY_MODEL_565b6273998641d8b45fb29863a0d688",
              "IPY_MODEL_5b310beece6b437d927a83bb952d9f78",
              "IPY_MODEL_c0bde6f41b93496da0b02e1556d74376",
              "IPY_MODEL_1013eda40cfc49b8974e68b6ab30a31a"
            ],
            "crs": {
              "name": "EPSG3857",
              "custom": false
            },
            "default_style": "IPY_MODEL_c28fff48688641b5b89d20ff04748131",
            "double_click_zoom": true,
            "dragging": true,
            "dragging_style": "IPY_MODEL_b70a658c95164a95b69f98f1daa1d4fd",
            "east": -69.78515625000001,
            "fullscreen": false,
            "inertia": true,
            "inertia_deceleration": 3000,
            "inertia_max_speed": 1500,
            "interpolation": "bilinear",
            "keyboard": true,
            "keyboard_pan_offset": 80,
            "keyboard_zoom_offset": 1,
            "layers": [
              "IPY_MODEL_af258f4eabb94d8087749a7f8af92cb8",
              "IPY_MODEL_21f33b3b34df4707a08c5df296cdfeda"
            ],
            "layout": "IPY_MODEL_9253fff8f5424893a100b585deb4b2fd",
            "left": 79066,
            "max_zoom": 24,
            "min_zoom": null,
            "modisdate": "2024-02-22",
            "north": -57.12580494872256,
            "options": [
              "bounce_at_zoom_limits",
              "box_zoom",
              "center",
              "close_popup_on_click",
              "double_click_zoom",
              "dragging",
              "fullscreen",
              "inertia",
              "inertia_deceleration",
              "inertia_max_speed",
              "interpolation",
              "keyboard",
              "keyboard_pan_offset",
              "keyboard_zoom_offset",
              "max_zoom",
              "min_zoom",
              "prefer_canvas",
              "scroll_wheel_zoom",
              "tap",
              "tap_tolerance",
              "touch_zoom",
              "world_copy_jump",
              "zoom",
              "zoom_animation_threshold",
              "zoom_delta",
              "zoom_snap"
            ],
            "panes": {},
            "prefer_canvas": false,
            "right": 80256,
            "scroll_wheel_zoom": true,
            "south": -57.5703606627848,
            "style": "IPY_MODEL_b02c7fb63211418d99a2e8a4284db236",
            "tap": true,
            "tap_tolerance": 15,
            "top": 182002,
            "touch_zoom": true,
            "west": -71.41937255859376,
            "window_url": "https://9hopp19vino-496ff2e9c6d22116-0-colab.googleusercontent.com/outputframe.html?vrz=colab_20240221-060143_RC00_608902782",
            "world_copy_jump": false,
            "zoom": 10,
            "zoom_animation_threshold": 4,
            "zoom_delta": 1,
            "zoom_snap": 1
          }
        },
        "cbec969b98b740a99906439cbfbc1a64": {
          "model_module": "jupyter-leaflet",
          "model_name": "LeafletWidgetControlModel",
          "model_module_version": "^0.18",
          "state": {
            "_model_module": "jupyter-leaflet",
            "_model_module_version": "^0.18",
            "_model_name": "LeafletWidgetControlModel",
            "_view_count": null,
            "_view_module": "jupyter-leaflet",
            "_view_module_version": "^0.18",
            "_view_name": "LeafletWidgetControlView",
            "max_height": null,
            "max_width": null,
            "min_height": null,
            "min_width": null,
            "options": [
              "position",
              "transparent_bg"
            ],
            "position": "topleft",
            "transparent_bg": false,
            "widget": "IPY_MODEL_19a039c7669a4422a139eae52a2c58e5"
          }
        },
        "239de5cff50b434eac0d6a0d181be455": {
          "model_module": "jupyter-leaflet",
          "model_name": "LeafletZoomControlModel",
          "model_module_version": "^0.18",
          "state": {
            "_model_module": "jupyter-leaflet",
            "_model_module_version": "^0.18",
            "_model_name": "LeafletZoomControlModel",
            "_view_count": null,
            "_view_module": "jupyter-leaflet",
            "_view_module_version": "^0.18",
            "_view_name": "LeafletZoomControlView",
            "options": [
              "position",
              "zoom_in_text",
              "zoom_in_title",
              "zoom_out_text",
              "zoom_out_title"
            ],
            "position": "topleft",
            "zoom_in_text": "+",
            "zoom_in_title": "Zoom in",
            "zoom_out_text": "-",
            "zoom_out_title": "Zoom out"
          }
        },
        "7d41a7fd17334f4c985a5c3ac5a4b793": {
          "model_module": "jupyter-leaflet",
          "model_name": "LeafletFullScreenControlModel",
          "model_module_version": "^0.18",
          "state": {
            "_model_module": "jupyter-leaflet",
            "_model_module_version": "^0.18",
            "_model_name": "LeafletFullScreenControlModel",
            "_view_count": null,
            "_view_module": "jupyter-leaflet",
            "_view_module_version": "^0.18",
            "_view_name": "LeafletFullScreenControlView",
            "options": [
              "position"
            ],
            "position": "topleft"
          }
        },
        "ece220e797fb44758edf8118a8662205": {
          "model_module": "jupyter-leaflet",
          "model_name": "LeafletDrawControlModel",
          "model_module_version": "^0.18",
          "state": {
            "_model_module": "jupyter-leaflet",
            "_model_module_version": "^0.18",
            "_model_name": "LeafletDrawControlModel",
            "_view_count": null,
            "_view_module": "jupyter-leaflet",
            "_view_module_version": "^0.18",
            "_view_name": "LeafletDrawControlView",
            "circle": {},
            "circlemarker": {},
            "data": [],
            "edit": true,
            "marker": {
              "shapeOptions": {
                "color": "#3388ff"
              }
            },
            "options": [
              "position"
            ],
            "polygon": {
              "shapeOptions": {}
            },
            "polyline": {
              "shapeOptions": {}
            },
            "position": "topleft",
            "rectangle": {
              "shapeOptions": {
                "color": "#3388ff"
              }
            },
            "remove": true
          }
        },
        "565b6273998641d8b45fb29863a0d688": {
          "model_module": "jupyter-leaflet",
          "model_name": "LeafletScaleControlModel",
          "model_module_version": "^0.18",
          "state": {
            "_model_module": "jupyter-leaflet",
            "_model_module_version": "^0.18",
            "_model_name": "LeafletScaleControlModel",
            "_view_count": null,
            "_view_module": "jupyter-leaflet",
            "_view_module_version": "^0.18",
            "_view_name": "LeafletScaleControlView",
            "imperial": true,
            "max_width": 100,
            "metric": true,
            "options": [
              "imperial",
              "max_width",
              "metric",
              "position",
              "update_when_idle"
            ],
            "position": "bottomleft",
            "update_when_idle": false
          }
        },
        "5b310beece6b437d927a83bb952d9f78": {
          "model_module": "jupyter-leaflet",
          "model_name": "LeafletMeasureControlModel",
          "model_module_version": "^0.18",
          "state": {
            "_custom_units": {},
            "_model_module": "jupyter-leaflet",
            "_model_module_version": "^0.18",
            "_model_name": "LeafletMeasureControlModel",
            "_view_count": null,
            "_view_module": "jupyter-leaflet",
            "_view_module_version": "^0.18",
            "_view_name": "LeafletMeasureControlView",
            "active_color": "orange",
            "capture_z_index": 10000,
            "completed_color": "#C8F2BE",
            "options": [
              "active_color",
              "capture_z_index",
              "completed_color",
              "popup_options",
              "position",
              "primary_area_unit",
              "primary_length_unit",
              "secondary_area_unit",
              "secondary_length_unit"
            ],
            "popup_options": {
              "className": "leaflet-measure-resultpopup",
              "autoPanPadding": [
                10,
                10
              ]
            },
            "position": "bottomleft",
            "primary_area_unit": "acres",
            "primary_length_unit": "kilometers",
            "secondary_area_unit": null,
            "secondary_length_unit": null
          }
        },
        "c0bde6f41b93496da0b02e1556d74376": {
          "model_module": "jupyter-leaflet",
          "model_name": "LeafletWidgetControlModel",
          "model_module_version": "^0.18",
          "state": {
            "_model_module": "jupyter-leaflet",
            "_model_module_version": "^0.18",
            "_model_name": "LeafletWidgetControlModel",
            "_view_count": null,
            "_view_module": "jupyter-leaflet",
            "_view_module_version": "^0.18",
            "_view_name": "LeafletWidgetControlView",
            "max_height": null,
            "max_width": null,
            "min_height": null,
            "min_width": null,
            "options": [
              "position",
              "transparent_bg"
            ],
            "position": "topright",
            "transparent_bg": false,
            "widget": "IPY_MODEL_0a987cc298e944179f710b12c21e54d6"
          }
        },
        "1013eda40cfc49b8974e68b6ab30a31a": {
          "model_module": "jupyter-leaflet",
          "model_name": "LeafletAttributionControlModel",
          "model_module_version": "^0.18",
          "state": {
            "_model_module": "jupyter-leaflet",
            "_model_module_version": "^0.18",
            "_model_name": "LeafletAttributionControlModel",
            "_view_count": null,
            "_view_module": "jupyter-leaflet",
            "_view_module_version": "^0.18",
            "_view_name": "LeafletAttributionControlView",
            "options": [
              "position",
              "prefix"
            ],
            "position": "bottomright",
            "prefix": "ipyleaflet"
          }
        },
        "c28fff48688641b5b89d20ff04748131": {
          "model_module": "jupyter-leaflet",
          "model_name": "LeafletMapStyleModel",
          "model_module_version": "^0.18",
          "state": {
            "_model_module": "jupyter-leaflet",
            "_model_module_version": "^0.18",
            "_model_name": "LeafletMapStyleModel",
            "_view_count": null,
            "_view_module": "@jupyter-widgets/base",
            "_view_module_version": "1.2.0",
            "_view_name": "StyleView",
            "cursor": "grab"
          }
        },
        "b70a658c95164a95b69f98f1daa1d4fd": {
          "model_module": "jupyter-leaflet",
          "model_name": "LeafletMapStyleModel",
          "model_module_version": "^0.18",
          "state": {
            "_model_module": "jupyter-leaflet",
            "_model_module_version": "^0.18",
            "_model_name": "LeafletMapStyleModel",
            "_view_count": null,
            "_view_module": "@jupyter-widgets/base",
            "_view_module_version": "1.2.0",
            "_view_name": "StyleView",
            "cursor": "move"
          }
        },
        "af258f4eabb94d8087749a7f8af92cb8": {
          "model_module": "jupyter-leaflet",
          "model_name": "LeafletTileLayerModel",
          "model_module_version": "^0.18",
          "state": {
            "_model_module": "jupyter-leaflet",
            "_model_module_version": "^0.18",
            "_model_name": "LeafletTileLayerModel",
            "_view_count": null,
            "_view_module": "jupyter-leaflet",
            "_view_module_version": "^0.18",
            "_view_name": "LeafletTileLayerView",
            "attribution": "&copy; <a href=\"https://www.openstreetmap.org/copyright\">OpenStreetMap</a> contributors",
            "base": true,
            "bottom": true,
            "bounds": null,
            "detect_retina": false,
            "loading": false,
            "max_native_zoom": null,
            "max_zoom": 19,
            "min_native_zoom": null,
            "min_zoom": 1,
            "name": "OpenStreetMap.Mapnik",
            "no_wrap": false,
            "opacity": 1,
            "options": [
              "attribution",
              "bounds",
              "detect_retina",
              "max_native_zoom",
              "max_zoom",
              "min_native_zoom",
              "min_zoom",
              "no_wrap",
              "tile_size",
              "tms",
              "zoom_offset"
            ],
            "pane": "",
            "popup": null,
            "popup_max_height": null,
            "popup_max_width": 300,
            "popup_min_width": 50,
            "show_loading": false,
            "subitems": [],
            "tile_size": 256,
            "tms": false,
            "url": "https://tile.openstreetmap.org/{z}/{x}/{y}.png",
            "visible": true,
            "zoom_offset": 0
          }
        },
        "21f33b3b34df4707a08c5df296cdfeda": {
          "model_module": "jupyter-leaflet",
          "model_name": "LeafletTileLayerModel",
          "model_module_version": "^0.18",
          "state": {
            "_model_module": "jupyter-leaflet",
            "_model_module_version": "^0.18",
            "_model_name": "LeafletTileLayerModel",
            "_view_count": null,
            "_view_module": "jupyter-leaflet",
            "_view_module_version": "^0.18",
            "_view_name": "LeafletTileLayerView",
            "attribution": "Google Earth Engine",
            "base": false,
            "bottom": true,
            "bounds": null,
            "detect_retina": false,
            "loading": false,
            "max_native_zoom": null,
            "max_zoom": 24,
            "min_native_zoom": null,
            "min_zoom": 0,
            "name": "Polygons from GeoPandas",
            "no_wrap": false,
            "opacity": 1,
            "options": [
              "attribution",
              "bounds",
              "detect_retina",
              "max_native_zoom",
              "max_zoom",
              "min_native_zoom",
              "min_zoom",
              "no_wrap",
              "tile_size",
              "tms",
              "zoom_offset"
            ],
            "pane": "",
            "popup": null,
            "popup_max_height": null,
            "popup_max_width": 300,
            "popup_min_width": 50,
            "show_loading": false,
            "subitems": [],
            "tile_size": 256,
            "tms": false,
            "url": "https://earthengine.googleapis.com/v1/projects/data-audio-237110/maps/f34ee4710a633c27744308fdda565202-b732a24632f745c5bb049ac4d1d8c073/tiles/{z}/{x}/{y}",
            "visible": true,
            "zoom_offset": 0
          }
        },
        "9253fff8f5424893a100b585deb4b2fd": {
          "model_module": "@jupyter-widgets/base",
          "model_name": "LayoutModel",
          "model_module_version": "1.2.0",
          "state": {
            "_model_module": "@jupyter-widgets/base",
            "_model_module_version": "1.2.0",
            "_model_name": "LayoutModel",
            "_view_count": null,
            "_view_module": "@jupyter-widgets/base",
            "_view_module_version": "1.2.0",
            "_view_name": "LayoutView",
            "align_content": null,
            "align_items": null,
            "align_self": null,
            "border": null,
            "bottom": null,
            "display": null,
            "flex": null,
            "flex_flow": null,
            "grid_area": null,
            "grid_auto_columns": null,
            "grid_auto_flow": null,
            "grid_auto_rows": null,
            "grid_column": null,
            "grid_gap": null,
            "grid_row": null,
            "grid_template_areas": null,
            "grid_template_columns": null,
            "grid_template_rows": null,
            "height": "600px",
            "justify_content": null,
            "justify_items": null,
            "left": null,
            "margin": null,
            "max_height": null,
            "max_width": null,
            "min_height": null,
            "min_width": null,
            "object_fit": null,
            "object_position": null,
            "order": null,
            "overflow": null,
            "overflow_x": null,
            "overflow_y": null,
            "padding": null,
            "right": null,
            "top": null,
            "visibility": null,
            "width": null
          }
        },
        "b02c7fb63211418d99a2e8a4284db236": {
          "model_module": "jupyter-leaflet",
          "model_name": "LeafletMapStyleModel",
          "model_module_version": "^0.18",
          "state": {
            "_model_module": "jupyter-leaflet",
            "_model_module_version": "^0.18",
            "_model_name": "LeafletMapStyleModel",
            "_view_count": null,
            "_view_module": "@jupyter-widgets/base",
            "_view_module_version": "1.2.0",
            "_view_name": "StyleView",
            "cursor": "grab"
          }
        },
        "19a039c7669a4422a139eae52a2c58e5": {
          "model_module": "@jupyter-widgets/controls",
          "model_name": "HBoxModel",
          "model_module_version": "1.5.0",
          "state": {
            "_dom_classes": [
              "geemap-colab"
            ],
            "_model_module": "@jupyter-widgets/controls",
            "_model_module_version": "1.5.0",
            "_model_name": "HBoxModel",
            "_view_count": null,
            "_view_module": "@jupyter-widgets/controls",
            "_view_module_version": "1.5.0",
            "_view_name": "HBoxView",
            "box_style": "",
            "children": [
              "IPY_MODEL_fa0506aeec99451b86cc9e6f20393dd3"
            ],
            "layout": "IPY_MODEL_063e80c5ad91448fb7fd33fea9078bcd"
          }
        },
        "0a987cc298e944179f710b12c21e54d6": {
          "model_module": "@jupyter-widgets/controls",
          "model_name": "VBoxModel",
          "model_module_version": "1.5.0",
          "state": {
            "_dom_classes": [
              "geemap-colab"
            ],
            "_model_module": "@jupyter-widgets/controls",
            "_model_module_version": "1.5.0",
            "_model_name": "VBoxModel",
            "_view_count": null,
            "_view_module": "@jupyter-widgets/controls",
            "_view_module_version": "1.5.0",
            "_view_name": "VBoxView",
            "box_style": "",
            "children": [
              "IPY_MODEL_de74dbb4f54d4574938e8d8c89962fef"
            ],
            "layout": "IPY_MODEL_1f0a652a18104adfbc46b9d350cd729c"
          }
        },
        "fa0506aeec99451b86cc9e6f20393dd3": {
          "model_module": "@jupyter-widgets/controls",
          "model_name": "ToggleButtonModel",
          "model_module_version": "1.5.0",
          "state": {
            "_dom_classes": [],
            "_model_module": "@jupyter-widgets/controls",
            "_model_module_version": "1.5.0",
            "_model_name": "ToggleButtonModel",
            "_view_count": null,
            "_view_module": "@jupyter-widgets/controls",
            "_view_module_version": "1.5.0",
            "_view_name": "ToggleButtonView",
            "button_style": "",
            "description": "",
            "description_tooltip": null,
            "disabled": false,
            "icon": "globe",
            "layout": "IPY_MODEL_3ae6899b9cc04f8dba6b3821c076ceea",
            "style": "IPY_MODEL_aa0cae8669784637a39b48588007c8a9",
            "tooltip": "Search location/data",
            "value": false
          }
        },
        "063e80c5ad91448fb7fd33fea9078bcd": {
          "model_module": "@jupyter-widgets/base",
          "model_name": "LayoutModel",
          "model_module_version": "1.2.0",
          "state": {
            "_model_module": "@jupyter-widgets/base",
            "_model_module_version": "1.2.0",
            "_model_name": "LayoutModel",
            "_view_count": null,
            "_view_module": "@jupyter-widgets/base",
            "_view_module_version": "1.2.0",
            "_view_name": "LayoutView",
            "align_content": null,
            "align_items": null,
            "align_self": null,
            "border": null,
            "bottom": null,
            "display": null,
            "flex": null,
            "flex_flow": null,
            "grid_area": null,
            "grid_auto_columns": null,
            "grid_auto_flow": null,
            "grid_auto_rows": null,
            "grid_column": null,
            "grid_gap": null,
            "grid_row": null,
            "grid_template_areas": null,
            "grid_template_columns": null,
            "grid_template_rows": null,
            "height": null,
            "justify_content": null,
            "justify_items": null,
            "left": null,
            "margin": null,
            "max_height": null,
            "max_width": null,
            "min_height": null,
            "min_width": null,
            "object_fit": null,
            "object_position": null,
            "order": null,
            "overflow": null,
            "overflow_x": null,
            "overflow_y": null,
            "padding": null,
            "right": null,
            "top": null,
            "visibility": null,
            "width": null
          }
        },
        "de74dbb4f54d4574938e8d8c89962fef": {
          "model_module": "@jupyter-widgets/controls",
          "model_name": "ToggleButtonModel",
          "model_module_version": "1.5.0",
          "state": {
            "_dom_classes": [],
            "_model_module": "@jupyter-widgets/controls",
            "_model_module_version": "1.5.0",
            "_model_name": "ToggleButtonModel",
            "_view_count": null,
            "_view_module": "@jupyter-widgets/controls",
            "_view_module_version": "1.5.0",
            "_view_name": "ToggleButtonView",
            "button_style": "",
            "description": "",
            "description_tooltip": null,
            "disabled": false,
            "icon": "wrench",
            "layout": "IPY_MODEL_12d4a5dbfcfe4308bc1216852927c699",
            "style": "IPY_MODEL_7a133a05cdb145d5bbd970a2582ac9ab",
            "tooltip": "Toolbar",
            "value": false
          }
        },
        "1f0a652a18104adfbc46b9d350cd729c": {
          "model_module": "@jupyter-widgets/base",
          "model_name": "LayoutModel",
          "model_module_version": "1.2.0",
          "state": {
            "_model_module": "@jupyter-widgets/base",
            "_model_module_version": "1.2.0",
            "_model_name": "LayoutModel",
            "_view_count": null,
            "_view_module": "@jupyter-widgets/base",
            "_view_module_version": "1.2.0",
            "_view_name": "LayoutView",
            "align_content": null,
            "align_items": null,
            "align_self": null,
            "border": null,
            "bottom": null,
            "display": null,
            "flex": null,
            "flex_flow": null,
            "grid_area": null,
            "grid_auto_columns": null,
            "grid_auto_flow": null,
            "grid_auto_rows": null,
            "grid_column": null,
            "grid_gap": null,
            "grid_row": null,
            "grid_template_areas": null,
            "grid_template_columns": null,
            "grid_template_rows": null,
            "height": null,
            "justify_content": null,
            "justify_items": null,
            "left": null,
            "margin": null,
            "max_height": null,
            "max_width": null,
            "min_height": null,
            "min_width": null,
            "object_fit": null,
            "object_position": null,
            "order": null,
            "overflow": null,
            "overflow_x": null,
            "overflow_y": null,
            "padding": null,
            "right": null,
            "top": null,
            "visibility": null,
            "width": null
          }
        },
        "3ae6899b9cc04f8dba6b3821c076ceea": {
          "model_module": "@jupyter-widgets/base",
          "model_name": "LayoutModel",
          "model_module_version": "1.2.0",
          "state": {
            "_model_module": "@jupyter-widgets/base",
            "_model_module_version": "1.2.0",
            "_model_name": "LayoutModel",
            "_view_count": null,
            "_view_module": "@jupyter-widgets/base",
            "_view_module_version": "1.2.0",
            "_view_name": "LayoutView",
            "align_content": null,
            "align_items": null,
            "align_self": null,
            "border": null,
            "bottom": null,
            "display": null,
            "flex": null,
            "flex_flow": null,
            "grid_area": null,
            "grid_auto_columns": null,
            "grid_auto_flow": null,
            "grid_auto_rows": null,
            "grid_column": null,
            "grid_gap": null,
            "grid_row": null,
            "grid_template_areas": null,
            "grid_template_columns": null,
            "grid_template_rows": null,
            "height": "28px",
            "justify_content": null,
            "justify_items": null,
            "left": null,
            "margin": null,
            "max_height": null,
            "max_width": null,
            "min_height": null,
            "min_width": null,
            "object_fit": null,
            "object_position": null,
            "order": null,
            "overflow": null,
            "overflow_x": null,
            "overflow_y": null,
            "padding": "0px 0px 0px 4px",
            "right": null,
            "top": null,
            "visibility": null,
            "width": "28px"
          }
        },
        "aa0cae8669784637a39b48588007c8a9": {
          "model_module": "@jupyter-widgets/controls",
          "model_name": "DescriptionStyleModel",
          "model_module_version": "1.5.0",
          "state": {
            "_model_module": "@jupyter-widgets/controls",
            "_model_module_version": "1.5.0",
            "_model_name": "DescriptionStyleModel",
            "_view_count": null,
            "_view_module": "@jupyter-widgets/base",
            "_view_module_version": "1.2.0",
            "_view_name": "StyleView",
            "description_width": ""
          }
        },
        "12d4a5dbfcfe4308bc1216852927c699": {
          "model_module": "@jupyter-widgets/base",
          "model_name": "LayoutModel",
          "model_module_version": "1.2.0",
          "state": {
            "_model_module": "@jupyter-widgets/base",
            "_model_module_version": "1.2.0",
            "_model_name": "LayoutModel",
            "_view_count": null,
            "_view_module": "@jupyter-widgets/base",
            "_view_module_version": "1.2.0",
            "_view_name": "LayoutView",
            "align_content": null,
            "align_items": null,
            "align_self": null,
            "border": null,
            "bottom": null,
            "display": null,
            "flex": null,
            "flex_flow": null,
            "grid_area": null,
            "grid_auto_columns": null,
            "grid_auto_flow": null,
            "grid_auto_rows": null,
            "grid_column": null,
            "grid_gap": null,
            "grid_row": null,
            "grid_template_areas": null,
            "grid_template_columns": null,
            "grid_template_rows": null,
            "height": "28px",
            "justify_content": null,
            "justify_items": null,
            "left": null,
            "margin": null,
            "max_height": null,
            "max_width": null,
            "min_height": null,
            "min_width": null,
            "object_fit": null,
            "object_position": null,
            "order": null,
            "overflow": null,
            "overflow_x": null,
            "overflow_y": null,
            "padding": "0px 0px 0px 4px",
            "right": null,
            "top": null,
            "visibility": null,
            "width": "28px"
          }
        },
        "7a133a05cdb145d5bbd970a2582ac9ab": {
          "model_module": "@jupyter-widgets/controls",
          "model_name": "DescriptionStyleModel",
          "model_module_version": "1.5.0",
          "state": {
            "_model_module": "@jupyter-widgets/controls",
            "_model_module_version": "1.5.0",
            "_model_name": "DescriptionStyleModel",
            "_view_count": null,
            "_view_module": "@jupyter-widgets/base",
            "_view_module_version": "1.2.0",
            "_view_name": "StyleView",
            "description_width": ""
          }
        }
      }
    },
    "accelerator": "GPU"
  },
  "cells": [
    {
      "cell_type": "markdown",
      "metadata": {
        "id": "view-in-github",
        "colab_type": "text"
      },
      "source": [
        "<a href=\"https://colab.research.google.com/github/ashioyajotham/Daily-ML/blob/main/AutomaticDownloadSatellite_images.ipynb\" target=\"_parent\"><img src=\"https://colab.research.google.com/assets/colab-badge.svg\" alt=\"Open In Colab\"/></a>"
      ]
    },
    {
      "cell_type": "markdown",
      "source": [
        "## Objective\n",
        "Satellite Imagery Download : to download batches for the Greek Sea and the Croatia areas."
      ],
      "metadata": {
        "id": "DrbELblAcNZM"
      }
    },
    {
      "cell_type": "markdown",
      "source": [
        "Install necessary libraries"
      ],
      "metadata": {
        "id": "Db1vHwb_2FTq"
      }
    },
    {
      "cell_type": "code",
      "source": [
        "### install necessary libraries\n",
        "\n",
        "#! pip install -U scikit-learn\n",
        "! pip install rasterio\n",
        "#! pip install holoviews\n",
        "! pip install hvplot\n",
        "! pip install contextily\n",
        "#! pip install matplotlib shapely rich holoviews rioxarray\n",
        "#! pip install earthengine-api\n",
        "#! pip install geemap\n",
        "#! pip install scikit-learn-intelex\n",
        "#! pip install tifffile\n",
        "#! pip install scikit-image\n",
        "#! pip install opencv-python\n",
        "#! pip install pykml\n",
        "#! pip install shapely\n",
        "#! pip install retry\n",
        "#! pip install pyproj\n",
        "#! pip install scikit-image"
      ],
      "metadata": {
        "id": "I62naCLzLxW3",
        "colab": {
          "base_uri": "https://localhost:8080/"
        },
        "outputId": "8868b8b6-d3ae-41a5-9097-ee5e371b5109"
      },
      "execution_count": 1,
      "outputs": [
        {
          "output_type": "stream",
          "name": "stdout",
          "text": [
            "Collecting rasterio\n",
            "  Downloading rasterio-1.3.9-cp310-cp310-manylinux2014_x86_64.whl (20.6 MB)\n",
            "\u001b[2K     \u001b[90m━━━━━━━━━━━━━━━━━━━━━━━━━━━━━━━━━━━━━━━━\u001b[0m \u001b[32m20.6/20.6 MB\u001b[0m \u001b[31m71.5 MB/s\u001b[0m eta \u001b[36m0:00:00\u001b[0m\n",
            "\u001b[?25hCollecting affine (from rasterio)\n",
            "  Downloading affine-2.4.0-py3-none-any.whl (15 kB)\n",
            "Requirement already satisfied: attrs in /usr/local/lib/python3.10/dist-packages (from rasterio) (23.2.0)\n",
            "Requirement already satisfied: certifi in /usr/local/lib/python3.10/dist-packages (from rasterio) (2024.2.2)\n",
            "Requirement already satisfied: click>=4.0 in /usr/local/lib/python3.10/dist-packages (from rasterio) (8.1.7)\n",
            "Requirement already satisfied: cligj>=0.5 in /usr/local/lib/python3.10/dist-packages (from rasterio) (0.7.2)\n",
            "Requirement already satisfied: numpy in /usr/local/lib/python3.10/dist-packages (from rasterio) (1.25.2)\n",
            "Collecting snuggs>=1.4.1 (from rasterio)\n",
            "  Downloading snuggs-1.4.7-py3-none-any.whl (5.4 kB)\n",
            "Requirement already satisfied: click-plugins in /usr/local/lib/python3.10/dist-packages (from rasterio) (1.1.1)\n",
            "Requirement already satisfied: setuptools in /usr/local/lib/python3.10/dist-packages (from rasterio) (67.7.2)\n",
            "Requirement already satisfied: pyparsing>=2.1.6 in /usr/local/lib/python3.10/dist-packages (from snuggs>=1.4.1->rasterio) (3.1.1)\n",
            "Installing collected packages: snuggs, affine, rasterio\n",
            "Successfully installed affine-2.4.0 rasterio-1.3.9 snuggs-1.4.7\n",
            "Collecting hvplot\n",
            "  Downloading hvplot-0.9.2-py2.py3-none-any.whl (1.8 MB)\n",
            "\u001b[2K     \u001b[90m━━━━━━━━━━━━━━━━━━━━━━━━━━━━━━━━━━━━━━━━\u001b[0m \u001b[32m1.8/1.8 MB\u001b[0m \u001b[31m26.7 MB/s\u001b[0m eta \u001b[36m0:00:00\u001b[0m\n",
            "\u001b[?25hRequirement already satisfied: bokeh>=1.0.0 in /usr/local/lib/python3.10/dist-packages (from hvplot) (3.3.4)\n",
            "Requirement already satisfied: colorcet>=2 in /usr/local/lib/python3.10/dist-packages (from hvplot) (3.0.1)\n",
            "Requirement already satisfied: holoviews>=1.11.0 in /usr/local/lib/python3.10/dist-packages (from hvplot) (1.17.1)\n",
            "Requirement already satisfied: pandas in /usr/local/lib/python3.10/dist-packages (from hvplot) (1.5.3)\n",
            "Requirement already satisfied: numpy>=1.15 in /usr/local/lib/python3.10/dist-packages (from hvplot) (1.25.2)\n",
            "Requirement already satisfied: packaging in /usr/local/lib/python3.10/dist-packages (from hvplot) (23.2)\n",
            "Requirement already satisfied: panel>=0.11.0 in /usr/local/lib/python3.10/dist-packages (from hvplot) (1.3.8)\n",
            "Requirement already satisfied: param<3.0,>=1.12.0 in /usr/local/lib/python3.10/dist-packages (from hvplot) (2.0.2)\n",
            "Requirement already satisfied: Jinja2>=2.9 in /usr/local/lib/python3.10/dist-packages (from bokeh>=1.0.0->hvplot) (3.1.3)\n",
            "Requirement already satisfied: contourpy>=1 in /usr/local/lib/python3.10/dist-packages (from bokeh>=1.0.0->hvplot) (1.2.0)\n",
            "Requirement already satisfied: pillow>=7.1.0 in /usr/local/lib/python3.10/dist-packages (from bokeh>=1.0.0->hvplot) (9.4.0)\n",
            "Requirement already satisfied: PyYAML>=3.10 in /usr/local/lib/python3.10/dist-packages (from bokeh>=1.0.0->hvplot) (6.0.1)\n",
            "Requirement already satisfied: tornado>=5.1 in /usr/local/lib/python3.10/dist-packages (from bokeh>=1.0.0->hvplot) (6.3.2)\n",
            "Requirement already satisfied: xyzservices>=2021.09.1 in /usr/local/lib/python3.10/dist-packages (from bokeh>=1.0.0->hvplot) (2023.10.1)\n",
            "Requirement already satisfied: pyct>=0.4.4 in /usr/local/lib/python3.10/dist-packages (from colorcet>=2->hvplot) (0.5.0)\n",
            "Requirement already satisfied: pyviz-comms>=0.7.4 in /usr/local/lib/python3.10/dist-packages (from holoviews>=1.11.0->hvplot) (3.0.1)\n",
            "Requirement already satisfied: python-dateutil>=2.8.1 in /usr/local/lib/python3.10/dist-packages (from pandas->hvplot) (2.8.2)\n",
            "Requirement already satisfied: pytz>=2020.1 in /usr/local/lib/python3.10/dist-packages (from pandas->hvplot) (2023.4)\n",
            "Requirement already satisfied: markdown in /usr/local/lib/python3.10/dist-packages (from panel>=0.11.0->hvplot) (3.5.2)\n",
            "Requirement already satisfied: markdown-it-py in /usr/local/lib/python3.10/dist-packages (from panel>=0.11.0->hvplot) (3.0.0)\n",
            "Requirement already satisfied: linkify-it-py in /usr/local/lib/python3.10/dist-packages (from panel>=0.11.0->hvplot) (2.0.3)\n",
            "Requirement already satisfied: mdit-py-plugins in /usr/local/lib/python3.10/dist-packages (from panel>=0.11.0->hvplot) (0.4.0)\n",
            "Requirement already satisfied: requests in /usr/local/lib/python3.10/dist-packages (from panel>=0.11.0->hvplot) (2.31.0)\n",
            "Requirement already satisfied: tqdm>=4.48.0 in /usr/local/lib/python3.10/dist-packages (from panel>=0.11.0->hvplot) (4.66.2)\n",
            "Requirement already satisfied: bleach in /usr/local/lib/python3.10/dist-packages (from panel>=0.11.0->hvplot) (6.1.0)\n",
            "Requirement already satisfied: typing-extensions in /usr/local/lib/python3.10/dist-packages (from panel>=0.11.0->hvplot) (4.9.0)\n",
            "Requirement already satisfied: MarkupSafe>=2.0 in /usr/local/lib/python3.10/dist-packages (from Jinja2>=2.9->bokeh>=1.0.0->hvplot) (2.1.5)\n",
            "Requirement already satisfied: six>=1.5 in /usr/local/lib/python3.10/dist-packages (from python-dateutil>=2.8.1->pandas->hvplot) (1.16.0)\n",
            "Requirement already satisfied: webencodings in /usr/local/lib/python3.10/dist-packages (from bleach->panel>=0.11.0->hvplot) (0.5.1)\n",
            "Requirement already satisfied: uc-micro-py in /usr/local/lib/python3.10/dist-packages (from linkify-it-py->panel>=0.11.0->hvplot) (1.0.3)\n",
            "Requirement already satisfied: mdurl~=0.1 in /usr/local/lib/python3.10/dist-packages (from markdown-it-py->panel>=0.11.0->hvplot) (0.1.2)\n",
            "Requirement already satisfied: charset-normalizer<4,>=2 in /usr/local/lib/python3.10/dist-packages (from requests->panel>=0.11.0->hvplot) (3.3.2)\n",
            "Requirement already satisfied: idna<4,>=2.5 in /usr/local/lib/python3.10/dist-packages (from requests->panel>=0.11.0->hvplot) (3.6)\n",
            "Requirement already satisfied: urllib3<3,>=1.21.1 in /usr/local/lib/python3.10/dist-packages (from requests->panel>=0.11.0->hvplot) (2.0.7)\n",
            "Requirement already satisfied: certifi>=2017.4.17 in /usr/local/lib/python3.10/dist-packages (from requests->panel>=0.11.0->hvplot) (2024.2.2)\n",
            "Installing collected packages: hvplot\n",
            "Successfully installed hvplot-0.9.2\n",
            "Collecting contextily\n",
            "  Downloading contextily-1.5.0-py3-none-any.whl (17 kB)\n",
            "Requirement already satisfied: geopy in /usr/local/lib/python3.10/dist-packages (from contextily) (2.3.0)\n",
            "Requirement already satisfied: matplotlib in /usr/local/lib/python3.10/dist-packages (from contextily) (3.7.1)\n",
            "Collecting mercantile (from contextily)\n",
            "  Downloading mercantile-1.2.1-py3-none-any.whl (14 kB)\n",
            "Requirement already satisfied: pillow in /usr/local/lib/python3.10/dist-packages (from contextily) (9.4.0)\n",
            "Requirement already satisfied: rasterio in /usr/local/lib/python3.10/dist-packages (from contextily) (1.3.9)\n",
            "Requirement already satisfied: requests in /usr/local/lib/python3.10/dist-packages (from contextily) (2.31.0)\n",
            "Requirement already satisfied: joblib in /usr/local/lib/python3.10/dist-packages (from contextily) (1.3.2)\n",
            "Requirement already satisfied: xyzservices in /usr/local/lib/python3.10/dist-packages (from contextily) (2023.10.1)\n",
            "Requirement already satisfied: geographiclib<3,>=1.52 in /usr/local/lib/python3.10/dist-packages (from geopy->contextily) (2.0)\n",
            "Requirement already satisfied: contourpy>=1.0.1 in /usr/local/lib/python3.10/dist-packages (from matplotlib->contextily) (1.2.0)\n",
            "Requirement already satisfied: cycler>=0.10 in /usr/local/lib/python3.10/dist-packages (from matplotlib->contextily) (0.12.1)\n",
            "Requirement already satisfied: fonttools>=4.22.0 in /usr/local/lib/python3.10/dist-packages (from matplotlib->contextily) (4.49.0)\n",
            "Requirement already satisfied: kiwisolver>=1.0.1 in /usr/local/lib/python3.10/dist-packages (from matplotlib->contextily) (1.4.5)\n",
            "Requirement already satisfied: numpy>=1.20 in /usr/local/lib/python3.10/dist-packages (from matplotlib->contextily) (1.25.2)\n",
            "Requirement already satisfied: packaging>=20.0 in /usr/local/lib/python3.10/dist-packages (from matplotlib->contextily) (23.2)\n",
            "Requirement already satisfied: pyparsing>=2.3.1 in /usr/local/lib/python3.10/dist-packages (from matplotlib->contextily) (3.1.1)\n",
            "Requirement already satisfied: python-dateutil>=2.7 in /usr/local/lib/python3.10/dist-packages (from matplotlib->contextily) (2.8.2)\n",
            "Requirement already satisfied: click>=3.0 in /usr/local/lib/python3.10/dist-packages (from mercantile->contextily) (8.1.7)\n",
            "Requirement already satisfied: affine in /usr/local/lib/python3.10/dist-packages (from rasterio->contextily) (2.4.0)\n",
            "Requirement already satisfied: attrs in /usr/local/lib/python3.10/dist-packages (from rasterio->contextily) (23.2.0)\n",
            "Requirement already satisfied: certifi in /usr/local/lib/python3.10/dist-packages (from rasterio->contextily) (2024.2.2)\n",
            "Requirement already satisfied: cligj>=0.5 in /usr/local/lib/python3.10/dist-packages (from rasterio->contextily) (0.7.2)\n",
            "Requirement already satisfied: snuggs>=1.4.1 in /usr/local/lib/python3.10/dist-packages (from rasterio->contextily) (1.4.7)\n",
            "Requirement already satisfied: click-plugins in /usr/local/lib/python3.10/dist-packages (from rasterio->contextily) (1.1.1)\n",
            "Requirement already satisfied: setuptools in /usr/local/lib/python3.10/dist-packages (from rasterio->contextily) (67.7.2)\n",
            "Requirement already satisfied: charset-normalizer<4,>=2 in /usr/local/lib/python3.10/dist-packages (from requests->contextily) (3.3.2)\n",
            "Requirement already satisfied: idna<4,>=2.5 in /usr/local/lib/python3.10/dist-packages (from requests->contextily) (3.6)\n",
            "Requirement already satisfied: urllib3<3,>=1.21.1 in /usr/local/lib/python3.10/dist-packages (from requests->contextily) (2.0.7)\n",
            "Requirement already satisfied: six>=1.5 in /usr/local/lib/python3.10/dist-packages (from python-dateutil>=2.7->matplotlib->contextily) (1.16.0)\n",
            "Installing collected packages: mercantile, contextily\n",
            "Successfully installed contextily-1.5.0 mercantile-1.2.1\n"
          ]
        }
      ]
    },
    {
      "cell_type": "markdown",
      "source": [
        "Import necessary libraries"
      ],
      "metadata": {
        "id": "yG4u6nes2IEr"
      }
    },
    {
      "cell_type": "code",
      "source": [
        "### import necessary libraries\n",
        "\n",
        "import ee\n",
        "import geemap\n",
        "import sklearn\n",
        "import geopandas as gpd\n",
        "import numpy as np\n",
        "import matplotlib.pyplot as plt\n",
        "import pandas as pd\n",
        "import fiona\n",
        "from google.colab import drive\n",
        "import os\n",
        "import requests\n",
        "import shutil\n",
        "#from retry import retry\n",
        "import logging\n",
        "import pyproj"
      ],
      "metadata": {
        "id": "kYrjClOlLxkg"
      },
      "execution_count": 2,
      "outputs": []
    },
    {
      "cell_type": "markdown",
      "source": [
        "Start google earth engine"
      ],
      "metadata": {
        "id": "hBhAiVOu2LEi"
      }
    },
    {
      "cell_type": "code",
      "source": [
        "your_authentication_gee_project = \"data-audio-237110\" # add your project name here\n",
        "\n",
        "ee.Authenticate()\n",
        "ee.Initialize(project=your_authentication_gee_project)"
      ],
      "metadata": {
        "id": "zqkWaG4GL3Jg",
        "colab": {
          "base_uri": "https://localhost:8080/",
          "height": 17
        },
        "outputId": "b169069d-aed6-4308-96a7-53afb62ded0e"
      },
      "execution_count": 3,
      "outputs": [
        {
          "output_type": "display_data",
          "data": {
            "text/plain": [
              "<IPython.core.display.HTML object>"
            ],
            "text/html": [
              "\n",
              "            <style>\n",
              "                .geemap-dark {\n",
              "                    --jp-widgets-color: white;\n",
              "                    --jp-widgets-label-color: white;\n",
              "                    --jp-ui-font-color1: white;\n",
              "                    --jp-layout-color2: #454545;\n",
              "                    background-color: #383838;\n",
              "                }\n",
              "                    \n",
              "                .geemap-dark .jupyter-button {\n",
              "                    --jp-layout-color3: #383838;\n",
              "                }\n",
              "                \n",
              "                .geemap-colab {\n",
              "                    background-color: var(--colab-primary-surface-color, white);\n",
              "                }\n",
              "                    \n",
              "                .geemap-colab .jupyter-button {\n",
              "                    --jp-layout-color3: var(--colab-primary-surface-color, white);\n",
              "                }\n",
              "            </style>\n",
              "            "
            ]
          },
          "metadata": {}
        }
      ]
    },
    {
      "cell_type": "markdown",
      "source": [
        "Connect to google drive and create necessary files"
      ],
      "metadata": {
        "id": "-QL4EdPE2QZg"
      }
    },
    {
      "cell_type": "code",
      "source": [
        "drive.mount('/content/drive')"
      ],
      "metadata": {
        "id": "U3SFAFsM0KcA",
        "colab": {
          "base_uri": "https://localhost:8080/",
          "height": 34
        },
        "outputId": "3935f6a7-df02-4235-e623-ac9672332611"
      },
      "execution_count": 4,
      "outputs": [
        {
          "output_type": "display_data",
          "data": {
            "text/plain": [
              "<IPython.core.display.HTML object>"
            ],
            "text/html": [
              "\n",
              "            <style>\n",
              "                .geemap-dark {\n",
              "                    --jp-widgets-color: white;\n",
              "                    --jp-widgets-label-color: white;\n",
              "                    --jp-ui-font-color1: white;\n",
              "                    --jp-layout-color2: #454545;\n",
              "                    background-color: #383838;\n",
              "                }\n",
              "                    \n",
              "                .geemap-dark .jupyter-button {\n",
              "                    --jp-layout-color3: #383838;\n",
              "                }\n",
              "                \n",
              "                .geemap-colab {\n",
              "                    background-color: var(--colab-primary-surface-color, white);\n",
              "                }\n",
              "                    \n",
              "                .geemap-colab .jupyter-button {\n",
              "                    --jp-layout-color3: var(--colab-primary-surface-color, white);\n",
              "                }\n",
              "            </style>\n",
              "            "
            ]
          },
          "metadata": {}
        },
        {
          "output_type": "stream",
          "name": "stdout",
          "text": [
            "Mounted at /content/drive\n"
          ]
        }
      ]
    },
    {
      "cell_type": "code",
      "source": [
        "from google.colab import auth\n",
        "auth.authenticate_user()"
      ],
      "metadata": {
        "colab": {
          "base_uri": "https://localhost:8080/",
          "height": 17
        },
        "id": "fOs6QvWVZRkN",
        "outputId": "c0d80528-2952-452a-a8b7-cd5eb145597e"
      },
      "execution_count": 5,
      "outputs": [
        {
          "output_type": "display_data",
          "data": {
            "text/plain": [
              "<IPython.core.display.HTML object>"
            ],
            "text/html": [
              "\n",
              "            <style>\n",
              "                .geemap-dark {\n",
              "                    --jp-widgets-color: white;\n",
              "                    --jp-widgets-label-color: white;\n",
              "                    --jp-ui-font-color1: white;\n",
              "                    --jp-layout-color2: #454545;\n",
              "                    background-color: #383838;\n",
              "                }\n",
              "                    \n",
              "                .geemap-dark .jupyter-button {\n",
              "                    --jp-layout-color3: #383838;\n",
              "                }\n",
              "                \n",
              "                .geemap-colab {\n",
              "                    background-color: var(--colab-primary-surface-color, white);\n",
              "                }\n",
              "                    \n",
              "                .geemap-colab .jupyter-button {\n",
              "                    --jp-layout-color3: var(--colab-primary-surface-color, white);\n",
              "                }\n",
              "            </style>\n",
              "            "
            ]
          },
          "metadata": {}
        }
      ]
    },
    {
      "cell_type": "code",
      "source": [
        "#! mkdir -p \"/content/drive/My Drive/Winter_images_2\"\n",
        "#! mkdir -p \"/content/drive/My Drive/Water_masks\"\n",
        "#! mkdir -p \"/content/drive/My Drive/roi_ee_2\"\n",
        "#! mkdir -p \"/content/drive/My Drive/winter_images_2_labels\""
      ],
      "metadata": {
        "id": "c3310QQA0tLW",
        "colab": {
          "base_uri": "https://localhost:8080/",
          "height": 17
        },
        "outputId": "7e466e1c-aad1-4103-d0fa-11421c3fe3ae"
      },
      "execution_count": 6,
      "outputs": [
        {
          "output_type": "display_data",
          "data": {
            "text/plain": [
              "<IPython.core.display.HTML object>"
            ],
            "text/html": [
              "\n",
              "            <style>\n",
              "                .geemap-dark {\n",
              "                    --jp-widgets-color: white;\n",
              "                    --jp-widgets-label-color: white;\n",
              "                    --jp-ui-font-color1: white;\n",
              "                    --jp-layout-color2: #454545;\n",
              "                    background-color: #383838;\n",
              "                }\n",
              "                    \n",
              "                .geemap-dark .jupyter-button {\n",
              "                    --jp-layout-color3: #383838;\n",
              "                }\n",
              "                \n",
              "                .geemap-colab {\n",
              "                    background-color: var(--colab-primary-surface-color, white);\n",
              "                }\n",
              "                    \n",
              "                .geemap-colab .jupyter-button {\n",
              "                    --jp-layout-color3: var(--colab-primary-surface-color, white);\n",
              "                }\n",
              "            </style>\n",
              "            "
            ]
          },
          "metadata": {}
        }
      ]
    },
    {
      "cell_type": "markdown",
      "source": [
        "Read in csv's with roi's for seagrass areas"
      ],
      "metadata": {
        "id": "ZJfrzm4l2VwG"
      }
    },
    {
      "cell_type": "code",
      "source": [
        "### For Croatia:\n",
        "\n",
        "new = pd.read_csv('/content/drive/MyDrive/Seagrass_Files/roi_Croatia_data_reg_roi.csv')\n",
        "\n",
        "from shapely.wkt import loads\n",
        "# Convert the 'geometry' column from text to Shapely geometries\n",
        "new['geometry'] = new['geometry'].apply(loads)\n",
        "\n",
        "# Convert the DataFrame to a GeoDataFrame\n",
        "gdf = gpd.GeoDataFrame(new, geometry='geometry')\n",
        "\n",
        "#gdf = gdf.set_crs('EPSG:3857')\n",
        "\n",
        "gdf = gdf.set_crs('EPSG:4326')\n",
        "print(len(gdf))"
      ],
      "metadata": {
        "id": "a-CsyuJHrLNx",
        "colab": {
          "base_uri": "https://localhost:8080/",
          "height": 34
        },
        "outputId": "5e972042-ec64-4c0e-ee1b-e07e36cd7e3f"
      },
      "execution_count": 7,
      "outputs": [
        {
          "output_type": "display_data",
          "data": {
            "text/plain": [
              "<IPython.core.display.HTML object>"
            ],
            "text/html": [
              "\n",
              "            <style>\n",
              "                .geemap-dark {\n",
              "                    --jp-widgets-color: white;\n",
              "                    --jp-widgets-label-color: white;\n",
              "                    --jp-ui-font-color1: white;\n",
              "                    --jp-layout-color2: #454545;\n",
              "                    background-color: #383838;\n",
              "                }\n",
              "                    \n",
              "                .geemap-dark .jupyter-button {\n",
              "                    --jp-layout-color3: #383838;\n",
              "                }\n",
              "                \n",
              "                .geemap-colab {\n",
              "                    background-color: var(--colab-primary-surface-color, white);\n",
              "                }\n",
              "                    \n",
              "                .geemap-colab .jupyter-button {\n",
              "                    --jp-layout-color3: var(--colab-primary-surface-color, white);\n",
              "                }\n",
              "            </style>\n",
              "            "
            ]
          },
          "metadata": {}
        },
        {
          "output_type": "stream",
          "name": "stdout",
          "text": [
            "1330\n"
          ]
        }
      ]
    },
    {
      "cell_type": "code",
      "source": [
        "gdf.crs"
      ],
      "metadata": {
        "colab": {
          "base_uri": "https://localhost:8080/",
          "height": 208
        },
        "id": "oneI0QO6vRAx",
        "outputId": "c545047a-9108-4cb6-d2e2-df965c0fd631"
      },
      "execution_count": 8,
      "outputs": [
        {
          "output_type": "display_data",
          "data": {
            "text/plain": [
              "<IPython.core.display.HTML object>"
            ],
            "text/html": [
              "\n",
              "            <style>\n",
              "                .geemap-dark {\n",
              "                    --jp-widgets-color: white;\n",
              "                    --jp-widgets-label-color: white;\n",
              "                    --jp-ui-font-color1: white;\n",
              "                    --jp-layout-color2: #454545;\n",
              "                    background-color: #383838;\n",
              "                }\n",
              "                    \n",
              "                .geemap-dark .jupyter-button {\n",
              "                    --jp-layout-color3: #383838;\n",
              "                }\n",
              "                \n",
              "                .geemap-colab {\n",
              "                    background-color: var(--colab-primary-surface-color, white);\n",
              "                }\n",
              "                    \n",
              "                .geemap-colab .jupyter-button {\n",
              "                    --jp-layout-color3: var(--colab-primary-surface-color, white);\n",
              "                }\n",
              "            </style>\n",
              "            "
            ]
          },
          "metadata": {}
        },
        {
          "output_type": "execute_result",
          "data": {
            "text/plain": [
              "<Geographic 2D CRS: EPSG:4326>\n",
              "Name: WGS 84\n",
              "Axis Info [ellipsoidal]:\n",
              "- Lat[north]: Geodetic latitude (degree)\n",
              "- Lon[east]: Geodetic longitude (degree)\n",
              "Area of Use:\n",
              "- name: World.\n",
              "- bounds: (-180.0, -90.0, 180.0, 90.0)\n",
              "Datum: World Geodetic System 1984 ensemble\n",
              "- Ellipsoid: WGS 84\n",
              "- Prime Meridian: Greenwich"
            ]
          },
          "metadata": {},
          "execution_count": 8
        }
      ]
    },
    {
      "cell_type": "code",
      "source": [
        "### subsample Croatia if required\n",
        "\n",
        "gdf3 = gdf.head(3)"
      ],
      "metadata": {
        "colab": {
          "base_uri": "https://localhost:8080/",
          "height": 17
        },
        "id": "Jd07ettpZ1hS",
        "outputId": "0ab41ed2-d15e-4858-b4a6-066efcfa0d5b"
      },
      "execution_count": 9,
      "outputs": [
        {
          "output_type": "display_data",
          "data": {
            "text/plain": [
              "<IPython.core.display.HTML object>"
            ],
            "text/html": [
              "\n",
              "            <style>\n",
              "                .geemap-dark {\n",
              "                    --jp-widgets-color: white;\n",
              "                    --jp-widgets-label-color: white;\n",
              "                    --jp-ui-font-color1: white;\n",
              "                    --jp-layout-color2: #454545;\n",
              "                    background-color: #383838;\n",
              "                }\n",
              "                    \n",
              "                .geemap-dark .jupyter-button {\n",
              "                    --jp-layout-color3: #383838;\n",
              "                }\n",
              "                \n",
              "                .geemap-colab {\n",
              "                    background-color: var(--colab-primary-surface-color, white);\n",
              "                }\n",
              "                    \n",
              "                .geemap-colab .jupyter-button {\n",
              "                    --jp-layout-color3: var(--colab-primary-surface-color, white);\n",
              "                }\n",
              "            </style>\n",
              "            "
            ]
          },
          "metadata": {}
        }
      ]
    },
    {
      "cell_type": "code",
      "source": [
        "### check size of reprojected polygons:\n",
        "\n",
        "gdf3['area'] = gdf3.geometry.area\n",
        "gdf3.area"
      ],
      "metadata": {
        "colab": {
          "base_uri": "https://localhost:8080/",
          "height": 315
        },
        "id": "xfIXvnLlmkzd",
        "outputId": "716f1f93-0aee-4883-e1f4-25e27018177f"
      },
      "execution_count": 10,
      "outputs": [
        {
          "output_type": "display_data",
          "data": {
            "text/plain": [
              "<IPython.core.display.HTML object>"
            ],
            "text/html": [
              "\n",
              "            <style>\n",
              "                .geemap-dark {\n",
              "                    --jp-widgets-color: white;\n",
              "                    --jp-widgets-label-color: white;\n",
              "                    --jp-ui-font-color1: white;\n",
              "                    --jp-layout-color2: #454545;\n",
              "                    background-color: #383838;\n",
              "                }\n",
              "                    \n",
              "                .geemap-dark .jupyter-button {\n",
              "                    --jp-layout-color3: #383838;\n",
              "                }\n",
              "                \n",
              "                .geemap-colab {\n",
              "                    background-color: var(--colab-primary-surface-color, white);\n",
              "                }\n",
              "                    \n",
              "                .geemap-colab .jupyter-button {\n",
              "                    --jp-layout-color3: var(--colab-primary-surface-color, white);\n",
              "                }\n",
              "            </style>\n",
              "            "
            ]
          },
          "metadata": {}
        },
        {
          "output_type": "stream",
          "name": "stderr",
          "text": [
            "<ipython-input-10-14e93f55f32b>:3: UserWarning: Geometry is in a geographic CRS. Results from 'area' are likely incorrect. Use 'GeoSeries.to_crs()' to re-project geometries to a projected CRS before this operation.\n",
            "\n",
            "  gdf3['area'] = gdf3.geometry.area\n",
            "/usr/local/lib/python3.10/dist-packages/geopandas/geodataframe.py:1538: SettingWithCopyWarning: \n",
            "A value is trying to be set on a copy of a slice from a DataFrame.\n",
            "Try using .loc[row_indexer,col_indexer] = value instead\n",
            "\n",
            "See the caveats in the documentation: https://pandas.pydata.org/pandas-docs/stable/user_guide/indexing.html#returning-a-view-versus-a-copy\n",
            "  super().__setitem__(key, value)\n",
            "<ipython-input-10-14e93f55f32b>:4: UserWarning: Geometry is in a geographic CRS. Results from 'area' are likely incorrect. Use 'GeoSeries.to_crs()' to re-project geometries to a projected CRS before this operation.\n",
            "\n",
            "  gdf3.area\n"
          ]
        },
        {
          "output_type": "execute_result",
          "data": {
            "text/plain": [
              "0    6553600.0\n",
              "1    6553600.0\n",
              "2    6553600.0\n",
              "dtype: float64"
            ]
          },
          "metadata": {},
          "execution_count": 10
        }
      ]
    },
    {
      "cell_type": "code",
      "source": [
        "### check size of reprojected polygons:\n",
        "\n",
        "area_degrees = 0.000532\n",
        "# Approximate conversion factor at the equator\n",
        "conversion_factor = 111320\n",
        "area_square_meters = area_degrees * (conversion_factor ** 2)\n",
        "\n",
        "print(\"Area in square meters:\", area_square_meters)"
      ],
      "metadata": {
        "colab": {
          "base_uri": "https://localhost:8080/",
          "height": 34
        },
        "id": "73xfyWx5nLxb",
        "outputId": "691251d2-ec6c-4554-e57c-11e370eca95d"
      },
      "execution_count": 11,
      "outputs": [
        {
          "output_type": "display_data",
          "data": {
            "text/plain": [
              "<IPython.core.display.HTML object>"
            ],
            "text/html": [
              "\n",
              "            <style>\n",
              "                .geemap-dark {\n",
              "                    --jp-widgets-color: white;\n",
              "                    --jp-widgets-label-color: white;\n",
              "                    --jp-ui-font-color1: white;\n",
              "                    --jp-layout-color2: #454545;\n",
              "                    background-color: #383838;\n",
              "                }\n",
              "                    \n",
              "                .geemap-dark .jupyter-button {\n",
              "                    --jp-layout-color3: #383838;\n",
              "                }\n",
              "                \n",
              "                .geemap-colab {\n",
              "                    background-color: var(--colab-primary-surface-color, white);\n",
              "                }\n",
              "                    \n",
              "                .geemap-colab .jupyter-button {\n",
              "                    --jp-layout-color3: var(--colab-primary-surface-color, white);\n",
              "                }\n",
              "            </style>\n",
              "            "
            ]
          },
          "metadata": {}
        },
        {
          "output_type": "stream",
          "name": "stdout",
          "text": [
            "Area in square meters: 6592619.756800001\n"
          ]
        }
      ]
    },
    {
      "cell_type": "code",
      "source": [
        "### subsampling variance two\n",
        "\n",
        "gdf5 = gdf.iloc[[5,7,8]]\n",
        "gdf5 = gdf5.reset_index()"
      ],
      "metadata": {
        "colab": {
          "base_uri": "https://localhost:8080/",
          "height": 17
        },
        "id": "x54k_zTCRZ9W",
        "outputId": "1f67e150-7f5e-42b3-bc04-442cd229e46b"
      },
      "execution_count": 12,
      "outputs": [
        {
          "output_type": "display_data",
          "data": {
            "text/plain": [
              "<IPython.core.display.HTML object>"
            ],
            "text/html": [
              "\n",
              "            <style>\n",
              "                .geemap-dark {\n",
              "                    --jp-widgets-color: white;\n",
              "                    --jp-widgets-label-color: white;\n",
              "                    --jp-ui-font-color1: white;\n",
              "                    --jp-layout-color2: #454545;\n",
              "                    background-color: #383838;\n",
              "                }\n",
              "                    \n",
              "                .geemap-dark .jupyter-button {\n",
              "                    --jp-layout-color3: #383838;\n",
              "                }\n",
              "                \n",
              "                .geemap-colab {\n",
              "                    background-color: var(--colab-primary-surface-color, white);\n",
              "                }\n",
              "                    \n",
              "                .geemap-colab .jupyter-button {\n",
              "                    --jp-layout-color3: var(--colab-primary-surface-color, white);\n",
              "                }\n",
              "            </style>\n",
              "            "
            ]
          },
          "metadata": {}
        }
      ]
    },
    {
      "cell_type": "code",
      "source": [
        "### check locations on a map\n",
        "from shapely.geometry import mapping\n",
        "# Create a geemap Map instance\n",
        "M = geemap.Map()\n",
        "\n",
        "fc1= geemap.geopandas_to_ee(gdf3)\n",
        "\n",
        "# Add the bounding box geometry to the map\n",
        "#M.addLayer(AOI4, {'color': 'blue'}, 'Bounding Box Geometry')\n",
        "M.centerObject(fc1, zoom=10)\n",
        "M.add_ee_layer(fc1, {'color': 'red'}, 'Polygons from GeoPandas')\n",
        "\n",
        "# Display the map\n",
        "M"
      ],
      "metadata": {
        "colab": {
          "base_uri": "https://localhost:8080/",
          "height": 621,
          "referenced_widgets": [
            "231b78a3117145289c7c8fded42e7ea4",
            "a5d33d0652c24bf8a16d354d5dd3e13f",
            "7408c05d0b85492ea81c7439cd43b02d",
            "d68e61e69c3c4a13bf859318a574ea99",
            "1667213c39384f2bb3666c6460744ce1",
            "e2012ca19e0a4e58bacc2428a32b7690",
            "4be7e46ea8fd43e8aa5e27ee91726ade",
            "82a1a2a1002c423da33171248b4e9d0f",
            "52e1746a6b0d43d1856a2ccda6d0dc82",
            "c1ad8e0fa39344e3a35a74342a7462f4",
            "a41a79a5add34bf2b2f310cf6231d8b1",
            "49724845e7da458a8e0f9f7bc852ce08",
            "50b51d554d8d4a8f89442b82faac4d76",
            "ce1b2fa8fa00476999c3712181fc6ddc",
            "f98a8c35d24b4c5f98f2b2484c216877",
            "3b86c29954854731a55d8067d0b09c89",
            "add165dc833843e89b6e26859e0c58a0",
            "d4aae8ecd6fc4ceba49303badf787b09",
            "e47e1764bcac422f98a2438ce1772c36",
            "509114d97531422a82ceca2421b89104",
            "5416cd160fc14f20b97ab73251ca09ae",
            "cad85975a8dd4cf3a07b50272cf3b8a6",
            "4e8fb0e7497044949f976bbfa623bbc1",
            "7909b2ecc43f4717a1112cda669c8e2a",
            "c421c83aa30f49cfb6b28f22bc95a910"
          ]
        },
        "id": "LQRJjwQDz-4U",
        "outputId": "1419cc97-99d1-48c6-fc69-9cee032caafc"
      },
      "execution_count": 13,
      "outputs": [
        {
          "output_type": "display_data",
          "data": {
            "text/plain": [
              "<IPython.core.display.HTML object>"
            ],
            "text/html": [
              "\n",
              "            <style>\n",
              "                .geemap-dark {\n",
              "                    --jp-widgets-color: white;\n",
              "                    --jp-widgets-label-color: white;\n",
              "                    --jp-ui-font-color1: white;\n",
              "                    --jp-layout-color2: #454545;\n",
              "                    background-color: #383838;\n",
              "                }\n",
              "                    \n",
              "                .geemap-dark .jupyter-button {\n",
              "                    --jp-layout-color3: #383838;\n",
              "                }\n",
              "                \n",
              "                .geemap-colab {\n",
              "                    background-color: var(--colab-primary-surface-color, white);\n",
              "                }\n",
              "                    \n",
              "                .geemap-colab .jupyter-button {\n",
              "                    --jp-layout-color3: var(--colab-primary-surface-color, white);\n",
              "                }\n",
              "            </style>\n",
              "            "
            ]
          },
          "metadata": {}
        },
        {
          "output_type": "display_data",
          "data": {
            "text/plain": [
              "Map(center=[31.136204034028022, 19.999999999975145], controls=(WidgetControl(options=['position', 'transparent…"
            ],
            "application/vnd.jupyter.widget-view+json": {
              "version_major": 2,
              "version_minor": 0,
              "model_id": "231b78a3117145289c7c8fded42e7ea4"
            }
          },
          "metadata": {
            "application/vnd.jupyter.widget-view+json": {
              "colab": {
                "custom_widget_manager": {
                  "url": "https://ssl.gstatic.com/colaboratory-static/widgets/colab-cdn-widget-manager/2b70e893a8ba7c0f/manager.min.js"
                }
              }
            }
          }
        }
      ]
    },
    {
      "cell_type": "code",
      "source": [
        "### For Greece:\n",
        "\n",
        "new2 = pd.read_csv('/content/drive/MyDrive/Seagrass_Files/roi_Greece_data_reg_roi.csv')\n",
        "\n",
        "from shapely.wkt import loads\n",
        "# Convert the 'geometry' column from text to Shapely geometries\n",
        "new2['geometry'] = new2['geometry'].apply(loads)\n",
        "\n",
        "# Convert the DataFrame to a GeoDataFrame\n",
        "gdf2 = gpd.GeoDataFrame(new2, geometry='geometry')\n",
        "\n",
        "#gdf2 = gdf2.set_crs('EPSG:3765')\n",
        "\n",
        "gdf2 = gdf2.set_crs('EPSG:4326')\n",
        "len(gdf2)"
      ],
      "metadata": {
        "id": "I7VQHfYAL6Cj",
        "colab": {
          "base_uri": "https://localhost:8080/",
          "height": 34
        },
        "outputId": "3908c901-492f-49ed-bbdd-795fec37380b"
      },
      "execution_count": 14,
      "outputs": [
        {
          "output_type": "display_data",
          "data": {
            "text/plain": [
              "<IPython.core.display.HTML object>"
            ],
            "text/html": [
              "\n",
              "            <style>\n",
              "                .geemap-dark {\n",
              "                    --jp-widgets-color: white;\n",
              "                    --jp-widgets-label-color: white;\n",
              "                    --jp-ui-font-color1: white;\n",
              "                    --jp-layout-color2: #454545;\n",
              "                    background-color: #383838;\n",
              "                }\n",
              "                    \n",
              "                .geemap-dark .jupyter-button {\n",
              "                    --jp-layout-color3: #383838;\n",
              "                }\n",
              "                \n",
              "                .geemap-colab {\n",
              "                    background-color: var(--colab-primary-surface-color, white);\n",
              "                }\n",
              "                    \n",
              "                .geemap-colab .jupyter-button {\n",
              "                    --jp-layout-color3: var(--colab-primary-surface-color, white);\n",
              "                }\n",
              "            </style>\n",
              "            "
            ]
          },
          "metadata": {}
        },
        {
          "output_type": "execute_result",
          "data": {
            "text/plain": [
              "5409"
            ]
          },
          "metadata": {},
          "execution_count": 14
        }
      ]
    },
    {
      "cell_type": "code",
      "source": [
        "### subsample Croatia if required\n",
        "\n",
        "gdf4 = gdf2.head(3)\n",
        "gdf4.geometry"
      ],
      "metadata": {
        "colab": {
          "base_uri": "https://localhost:8080/",
          "height": 86
        },
        "id": "qab3Tup1xZnZ",
        "outputId": "9183120a-e1ca-4c6f-d3ef-b12716f3b49e"
      },
      "execution_count": 15,
      "outputs": [
        {
          "output_type": "display_data",
          "data": {
            "text/plain": [
              "<IPython.core.display.HTML object>"
            ],
            "text/html": [
              "\n",
              "            <style>\n",
              "                .geemap-dark {\n",
              "                    --jp-widgets-color: white;\n",
              "                    --jp-widgets-label-color: white;\n",
              "                    --jp-ui-font-color1: white;\n",
              "                    --jp-layout-color2: #454545;\n",
              "                    background-color: #383838;\n",
              "                }\n",
              "                    \n",
              "                .geemap-dark .jupyter-button {\n",
              "                    --jp-layout-color3: #383838;\n",
              "                }\n",
              "                \n",
              "                .geemap-colab {\n",
              "                    background-color: var(--colab-primary-surface-color, white);\n",
              "                }\n",
              "                    \n",
              "                .geemap-colab .jupyter-button {\n",
              "                    --jp-layout-color3: var(--colab-primary-surface-color, white);\n",
              "                }\n",
              "            </style>\n",
              "            "
            ]
          },
          "metadata": {}
        },
        {
          "output_type": "execute_result",
          "data": {
            "text/plain": [
              "0    POLYGON ((2158509.39712 4840787.62475, 2158509...\n",
              "1    POLYGON ((2158509.39712 4843347.62475, 2158509...\n",
              "2    POLYGON ((2158509.39712 4845907.62475, 2158509...\n",
              "Name: geometry, dtype: geometry"
            ]
          },
          "metadata": {},
          "execution_count": 15
        }
      ]
    },
    {
      "cell_type": "code",
      "source": [
        "### check area of reprojected polygons\n",
        "\n",
        "gdf4['area'] = gdf4.geometry.area\n",
        "gdf4.area"
      ],
      "metadata": {
        "colab": {
          "base_uri": "https://localhost:8080/",
          "height": 86
        },
        "id": "dmRI4JU0vezU",
        "outputId": "db6b0fe7-be95-4a86-d9a8-cbd026d4a806"
      },
      "execution_count": 16,
      "outputs": [
        {
          "output_type": "display_data",
          "data": {
            "text/plain": [
              "<IPython.core.display.HTML object>"
            ],
            "text/html": [
              "\n",
              "            <style>\n",
              "                .geemap-dark {\n",
              "                    --jp-widgets-color: white;\n",
              "                    --jp-widgets-label-color: white;\n",
              "                    --jp-ui-font-color1: white;\n",
              "                    --jp-layout-color2: #454545;\n",
              "                    background-color: #383838;\n",
              "                }\n",
              "                    \n",
              "                .geemap-dark .jupyter-button {\n",
              "                    --jp-layout-color3: #383838;\n",
              "                }\n",
              "                \n",
              "                .geemap-colab {\n",
              "                    background-color: var(--colab-primary-surface-color, white);\n",
              "                }\n",
              "                    \n",
              "                .geemap-colab .jupyter-button {\n",
              "                    --jp-layout-color3: var(--colab-primary-surface-color, white);\n",
              "                }\n",
              "            </style>\n",
              "            "
            ]
          },
          "metadata": {}
        },
        {
          "output_type": "execute_result",
          "data": {
            "text/plain": [
              "0    6553600.0\n",
              "1    6553600.0\n",
              "2    6553600.0\n",
              "dtype: float64"
            ]
          },
          "metadata": {},
          "execution_count": 16
        }
      ]
    },
    {
      "cell_type": "code",
      "source": [
        "### check locations on a map\n",
        "from shapely.geometry import mapping\n",
        "# Create a geemap Map instance\n",
        "M2 = geemap.Map()\n",
        "\n",
        "fc2= geemap.geopandas_to_ee(gdf4)\n",
        "\n",
        "# Add the bounding box geometry to the map\n",
        "#M.addLayer(AOI4, {'color': 'blue'}, 'Bounding Box Geometry')\n",
        "M2.centerObject(fc2, zoom=10)\n",
        "M2.add_ee_layer(fc2, {'color': 'red'}, 'Polygons from GeoPandas')\n",
        "\n",
        "# Display the map\n",
        "M2"
      ],
      "metadata": {
        "colab": {
          "base_uri": "https://localhost:8080/",
          "height": 621,
          "referenced_widgets": [
            "dab79c5d69774f76821fa24a0598a9da",
            "cbec969b98b740a99906439cbfbc1a64",
            "239de5cff50b434eac0d6a0d181be455",
            "7d41a7fd17334f4c985a5c3ac5a4b793",
            "ece220e797fb44758edf8118a8662205",
            "565b6273998641d8b45fb29863a0d688",
            "5b310beece6b437d927a83bb952d9f78",
            "c0bde6f41b93496da0b02e1556d74376",
            "1013eda40cfc49b8974e68b6ab30a31a",
            "c28fff48688641b5b89d20ff04748131",
            "b70a658c95164a95b69f98f1daa1d4fd",
            "af258f4eabb94d8087749a7f8af92cb8",
            "21f33b3b34df4707a08c5df296cdfeda",
            "9253fff8f5424893a100b585deb4b2fd",
            "b02c7fb63211418d99a2e8a4284db236",
            "19a039c7669a4422a139eae52a2c58e5",
            "0a987cc298e944179f710b12c21e54d6",
            "fa0506aeec99451b86cc9e6f20393dd3",
            "063e80c5ad91448fb7fd33fea9078bcd",
            "de74dbb4f54d4574938e8d8c89962fef",
            "1f0a652a18104adfbc46b9d350cd729c",
            "3ae6899b9cc04f8dba6b3821c076ceea",
            "aa0cae8669784637a39b48588007c8a9",
            "12d4a5dbfcfe4308bc1216852927c699",
            "7a133a05cdb145d5bbd970a2582ac9ab"
          ]
        },
        "id": "seb_ZHN_Knc0",
        "outputId": "80702c92-6c08-4577-cf47-23ae385a2aa1"
      },
      "execution_count": 17,
      "outputs": [
        {
          "output_type": "display_data",
          "data": {
            "text/plain": [
              "<IPython.core.display.HTML object>"
            ],
            "text/html": [
              "\n",
              "            <style>\n",
              "                .geemap-dark {\n",
              "                    --jp-widgets-color: white;\n",
              "                    --jp-widgets-label-color: white;\n",
              "                    --jp-ui-font-color1: white;\n",
              "                    --jp-layout-color2: #454545;\n",
              "                    background-color: #383838;\n",
              "                }\n",
              "                    \n",
              "                .geemap-dark .jupyter-button {\n",
              "                    --jp-layout-color3: #383838;\n",
              "                }\n",
              "                \n",
              "                .geemap-colab {\n",
              "                    background-color: var(--colab-primary-surface-color, white);\n",
              "                }\n",
              "                    \n",
              "                .geemap-colab .jupyter-button {\n",
              "                    --jp-layout-color3: var(--colab-primary-surface-color, white);\n",
              "                }\n",
              "            </style>\n",
              "            "
            ]
          },
          "metadata": {}
        },
        {
          "output_type": "display_data",
          "data": {
            "text/plain": [
              "Map(center=[-57.34875059490362, -70.60287596251727], controls=(WidgetControl(options=['position', 'transparent…"
            ],
            "application/vnd.jupyter.widget-view+json": {
              "version_major": 2,
              "version_minor": 0,
              "model_id": "dab79c5d69774f76821fa24a0598a9da"
            }
          },
          "metadata": {
            "application/vnd.jupyter.widget-view+json": {
              "colab": {
                "custom_widget_manager": {
                  "url": "https://ssl.gstatic.com/colaboratory-static/widgets/colab-cdn-widget-manager/2b70e893a8ba7c0f/manager.min.js"
                }
              }
            }
          }
        }
      ]
    },
    {
      "cell_type": "markdown",
      "source": [
        "Define helper functions (check them and adjust output file paths)"
      ],
      "metadata": {
        "id": "c8PibGEj2cXc"
      }
    },
    {
      "cell_type": "code",
      "source": [
        "from shapely.geometry import mapping\n",
        "def extract_ee_geometry(geopd, idx):\n",
        "  line_geometry = geopd.iloc[idx].geometry\n",
        "\n",
        "  # Convert the geometry to GeoJSON format\n",
        "  AOI6_2 = mapping(line_geometry)\n",
        "  AOI6 = ee.Geometry(AOI6_2)\n",
        "  return AOI6"
      ],
      "metadata": {
        "id": "RFo5yIVuMIsE",
        "colab": {
          "base_uri": "https://localhost:8080/",
          "height": 17
        },
        "outputId": "72383b6b-8625-4c9c-dc29-a1db3a49f5d7"
      },
      "execution_count": 18,
      "outputs": [
        {
          "output_type": "display_data",
          "data": {
            "text/plain": [
              "<IPython.core.display.HTML object>"
            ],
            "text/html": [
              "\n",
              "            <style>\n",
              "                .geemap-dark {\n",
              "                    --jp-widgets-color: white;\n",
              "                    --jp-widgets-label-color: white;\n",
              "                    --jp-ui-font-color1: white;\n",
              "                    --jp-layout-color2: #454545;\n",
              "                    background-color: #383838;\n",
              "                }\n",
              "                    \n",
              "                .geemap-dark .jupyter-button {\n",
              "                    --jp-layout-color3: #383838;\n",
              "                }\n",
              "                \n",
              "                .geemap-colab {\n",
              "                    background-color: var(--colab-primary-surface-color, white);\n",
              "                }\n",
              "                    \n",
              "                .geemap-colab .jupyter-button {\n",
              "                    --jp-layout-color3: var(--colab-primary-surface-color, white);\n",
              "                }\n",
              "            </style>\n",
              "            "
            ]
          },
          "metadata": {}
        }
      ]
    },
    {
      "cell_type": "code",
      "source": [
        "def call_images_ee(eegeo):\n",
        "  s2SrCollection = ee.ImageCollection('COPERNICUS/S2_SR_HARMONIZED')\n",
        "  csPlus = ee.ImageCollection('GOOGLE/CLOUD_SCORE_PLUS/V1/S2_HARMONIZED')\n",
        "  ROI = eegeo\n",
        "  QA_BAND = 'cs'\n",
        "  CLEAR_THRESHOLD = 0.8\n",
        "  composite = s2SrCollection.filterBounds(ROI).filterDate('2022-12-15', '2023-02-15').linkCollection(csPlus, [QA_BAND]).map(lambda img: img.updateMask(img.select(QA_BAND).gte(CLEAR_THRESHOLD)))\n",
        " # if not composite.size() > 4:\n",
        " #     raise ValueError(\"Too few images retrieved\")\n",
        "    # Your function logic here\n",
        "  return composite"
      ],
      "metadata": {
        "id": "3quLMBVCMgyl",
        "colab": {
          "base_uri": "https://localhost:8080/",
          "height": 17
        },
        "outputId": "6e47f7a2-f595-4d43-cd91-36e1cf7700c8"
      },
      "execution_count": 19,
      "outputs": [
        {
          "output_type": "display_data",
          "data": {
            "text/plain": [
              "<IPython.core.display.HTML object>"
            ],
            "text/html": [
              "\n",
              "            <style>\n",
              "                .geemap-dark {\n",
              "                    --jp-widgets-color: white;\n",
              "                    --jp-widgets-label-color: white;\n",
              "                    --jp-ui-font-color1: white;\n",
              "                    --jp-layout-color2: #454545;\n",
              "                    background-color: #383838;\n",
              "                }\n",
              "                    \n",
              "                .geemap-dark .jupyter-button {\n",
              "                    --jp-layout-color3: #383838;\n",
              "                }\n",
              "                \n",
              "                .geemap-colab {\n",
              "                    background-color: var(--colab-primary-surface-color, white);\n",
              "                }\n",
              "                    \n",
              "                .geemap-colab .jupyter-button {\n",
              "                    --jp-layout-color3: var(--colab-primary-surface-color, white);\n",
              "                }\n",
              "            </style>\n",
              "            "
            ]
          },
          "metadata": {}
        }
      ]
    },
    {
      "cell_type": "code",
      "source": [
        "def listify(eecoll):\n",
        "  collection_size = eecoll.size().getInfo()\n",
        "\n",
        "# Initialize an empty list to store the images\n",
        "  image_list = []\n",
        "\n",
        "# Iterate over each index in the image collection\n",
        "  for i in range(collection_size):\n",
        "    # Get the image at the current index\n",
        "    image = ee.Image(eecoll.toList(collection_size).get(i))\n",
        "\n",
        "    # Append the image to the list\n",
        "    image_list.append(image)\n",
        "  if not len(image_list) > 4:\n",
        "      raise ValueError(\"Too few images retrieved\")\n",
        "  return image_list"
      ],
      "metadata": {
        "colab": {
          "base_uri": "https://localhost:8080/",
          "height": 17
        },
        "id": "fU0VXUGJNx0_",
        "outputId": "f4683584-21ae-4ebc-debe-4611019c52d9"
      },
      "execution_count": 20,
      "outputs": [
        {
          "output_type": "display_data",
          "data": {
            "text/plain": [
              "<IPython.core.display.HTML object>"
            ],
            "text/html": [
              "\n",
              "            <style>\n",
              "                .geemap-dark {\n",
              "                    --jp-widgets-color: white;\n",
              "                    --jp-widgets-label-color: white;\n",
              "                    --jp-ui-font-color1: white;\n",
              "                    --jp-layout-color2: #454545;\n",
              "                    background-color: #383838;\n",
              "                }\n",
              "                    \n",
              "                .geemap-dark .jupyter-button {\n",
              "                    --jp-layout-color3: #383838;\n",
              "                }\n",
              "                \n",
              "                .geemap-colab {\n",
              "                    background-color: var(--colab-primary-surface-color, white);\n",
              "                }\n",
              "                    \n",
              "                .geemap-colab .jupyter-button {\n",
              "                    --jp-layout-color3: var(--colab-primary-surface-color, white);\n",
              "                }\n",
              "            </style>\n",
              "            "
            ]
          },
          "metadata": {}
        }
      ]
    },
    {
      "cell_type": "code",
      "source": [
        "\n",
        "def filter_images_with_valid_bands(image_list, eegeo):\n",
        "    valid_images = []\n",
        "    for image in image_list:\n",
        "        # Compute the mean value for band B2\n",
        "        band_b2_mean = image.reduceRegion(\n",
        "            reducer=ee.Reducer.mean(),\n",
        "            geometry=eegeo,  # Assuming AOI6 is properly defined\n",
        "            scale=30,\n",
        "            bestEffort=True  # Set bestEffort to True to handle masked pixels\n",
        "        ).get('B2')\n",
        "\n",
        "  #      print(\"Mean value for band B2 in image\", image.id().getInfo(), \":\", band_b2_mean.getInfo())  # Print band B2 mean for debugging\n",
        "\n",
        "        # Check if the mean value of band B2 is not None\n",
        "        if band_b2_mean.getInfo() is None:\n",
        "#            print(\"Image\", image.id().getInfo(), \"has a missing mean value for band B2. Filtering out.\")\n",
        "            pass\n",
        "        else:\n",
        "            valid_images.append(image)\n",
        "\n",
        "    return valid_images"
      ],
      "metadata": {
        "id": "8vrUlB6-ONFZ",
        "colab": {
          "base_uri": "https://localhost:8080/",
          "height": 17
        },
        "outputId": "99e67325-06fd-4a40-c755-9df50c499de3"
      },
      "execution_count": 21,
      "outputs": [
        {
          "output_type": "display_data",
          "data": {
            "text/plain": [
              "<IPython.core.display.HTML object>"
            ],
            "text/html": [
              "\n",
              "            <style>\n",
              "                .geemap-dark {\n",
              "                    --jp-widgets-color: white;\n",
              "                    --jp-widgets-label-color: white;\n",
              "                    --jp-ui-font-color1: white;\n",
              "                    --jp-layout-color2: #454545;\n",
              "                    background-color: #383838;\n",
              "                }\n",
              "                    \n",
              "                .geemap-dark .jupyter-button {\n",
              "                    --jp-layout-color3: #383838;\n",
              "                }\n",
              "                \n",
              "                .geemap-colab {\n",
              "                    background-color: var(--colab-primary-surface-color, white);\n",
              "                }\n",
              "                    \n",
              "                .geemap-colab .jupyter-button {\n",
              "                    --jp-layout-color3: var(--colab-primary-surface-color, white);\n",
              "                }\n",
              "            </style>\n",
              "            "
            ]
          },
          "metadata": {}
        }
      ]
    },
    {
      "cell_type": "code",
      "source": [
        "import math\n",
        "\n",
        "# Function to filter images with valid bands and no NaN values\n",
        "# Function to filter images based on the percentage of NaN values\n",
        "# Function to filter images based on the percentage of NaN values\n",
        "# Function to filter images based on the percentage of NaN values\n",
        "# Function to filter images based on the percentage of NaN values\n",
        "def filter_images_with_nans(image_list, eegeo):\n",
        "    threshold=0.01\n",
        "    bands_to_check = ['B2', 'B3', 'B4']\n",
        "    valid_images = []\n",
        "    for image in image_list:\n",
        " #       print(\"Processing image:\", image.id().getInfo())  # Print image ID for debugging\n",
        "\n",
        "        # Sample pixels for the specified bands in the AOI6 region\n",
        "        band_pixels = image.select(bands_to_check).sample(region=eegeo, scale=30, numPixels=1000)\n",
        "\n",
        "        # Function to count NaN values in each band\n",
        "        def count_nans(band_name):\n",
        "            band_pixels_filtered = band_pixels.filter(ee.Filter.notNull([band_name]))\n",
        "            nan_count = band_pixels.size().subtract(band_pixels_filtered.size())\n",
        "            return nan_count.divide(band_pixels.size())\n",
        "\n",
        "        # Compute the number of NaN values for each band\n",
        "        nan_percentages = ee.List(bands_to_check).map(count_nans)\n",
        "#        print(\"NaN percentages:\", nan_percentages.getInfo())  # Print NaN percentages for debugging\n",
        "\n",
        "        # Check if any band exceeds the threshold for NaN values\n",
        "        exceeds_threshold = any([p > threshold for p in nan_percentages.getInfo()])\n",
        "\n",
        "        # If no band exceeds the threshold, keep the image\n",
        "        if not exceeds_threshold:\n",
        "            valid_images.append(image)\n",
        "        else:\n",
        " #           print(\"Image\", image.id().getInfo(), \"has NaN values exceeding the threshold. Filtering out.\")\n",
        "            pass\n",
        "\n",
        "    return valid_images"
      ],
      "metadata": {
        "id": "J1Ac-Q-6OWyD",
        "colab": {
          "base_uri": "https://localhost:8080/",
          "height": 17
        },
        "outputId": "2b76a7c7-df62-4865-fc7d-dcf56f2ac84c"
      },
      "execution_count": 22,
      "outputs": [
        {
          "output_type": "display_data",
          "data": {
            "text/plain": [
              "<IPython.core.display.HTML object>"
            ],
            "text/html": [
              "\n",
              "            <style>\n",
              "                .geemap-dark {\n",
              "                    --jp-widgets-color: white;\n",
              "                    --jp-widgets-label-color: white;\n",
              "                    --jp-ui-font-color1: white;\n",
              "                    --jp-layout-color2: #454545;\n",
              "                    background-color: #383838;\n",
              "                }\n",
              "                    \n",
              "                .geemap-dark .jupyter-button {\n",
              "                    --jp-layout-color3: #383838;\n",
              "                }\n",
              "                \n",
              "                .geemap-colab {\n",
              "                    background-color: var(--colab-primary-surface-color, white);\n",
              "                }\n",
              "                    \n",
              "                .geemap-colab .jupyter-button {\n",
              "                    --jp-layout-color3: var(--colab-primary-surface-color, white);\n",
              "                }\n",
              "            </style>\n",
              "            "
            ]
          },
          "metadata": {}
        }
      ]
    },
    {
      "cell_type": "code",
      "source": [
        "import random\n",
        "def sel_satim(im_li):\n",
        "  if not len(im_li) > 1:\n",
        "    raise ValueError(\"Too few images selected\")\n",
        "# Choosing 2 random items from the original list\n",
        "  random_items = random.sample(im_li, 2)\n",
        "  return random_items"
      ],
      "metadata": {
        "id": "OgFhmoyZN6bp",
        "colab": {
          "base_uri": "https://localhost:8080/",
          "height": 17
        },
        "outputId": "b98a9027-dd3f-4094-f0a4-63559c8545e8"
      },
      "execution_count": 23,
      "outputs": [
        {
          "output_type": "display_data",
          "data": {
            "text/plain": [
              "<IPython.core.display.HTML object>"
            ],
            "text/html": [
              "\n",
              "            <style>\n",
              "                .geemap-dark {\n",
              "                    --jp-widgets-color: white;\n",
              "                    --jp-widgets-label-color: white;\n",
              "                    --jp-ui-font-color1: white;\n",
              "                    --jp-layout-color2: #454545;\n",
              "                    background-color: #383838;\n",
              "                }\n",
              "                    \n",
              "                .geemap-dark .jupyter-button {\n",
              "                    --jp-layout-color3: #383838;\n",
              "                }\n",
              "                \n",
              "                .geemap-colab {\n",
              "                    background-color: var(--colab-primary-surface-color, white);\n",
              "                }\n",
              "                    \n",
              "                .geemap-colab .jupyter-button {\n",
              "                    --jp-layout-color3: var(--colab-primary-surface-color, white);\n",
              "                }\n",
              "            </style>\n",
              "            "
            ]
          },
          "metadata": {}
        }
      ]
    },
    {
      "cell_type": "code",
      "source": [
        "### ATTENTION: set file paths within function according to your needs -> there are two file paths in here\n",
        "\n",
        "def saving_im(ra_li, idx, eegeo, country):\n",
        "  tofile1 = ra_li[0].select(['B1', 'B2', 'B3', 'B4', 'B5', 'B6', 'B7', 'B8', 'B8A', 'B9', 'B11', 'B12'])\n",
        "\n",
        "  filename1 = \"/content/drive/My Drive/Winter_images_2/\" + country + \"_\" + str(idx) + '_1_GeoTIFF.tif'\n",
        "  image_1 = tofile1.clip(eegeo).unmask()\n",
        "  geemap.ee_export_image(image_1, filename=filename1, scale=10, crs='EPSG:4326', region=eegeo, file_per_band=False)\n",
        "\n",
        "  tofile2 = ra_li[1].select(['B1', 'B2', 'B3', 'B4', 'B5', 'B6', 'B7', 'B8', 'B8A', 'B9', 'B11', 'B12'])\n",
        "\n",
        "  filename2 = \"/content/drive/My Drive/Winter_images_2/\" + country + \"_\" + str(idx) + '_2_GeoTIFF.tif'\n",
        "  image_2 = tofile2.clip(eegeo).unmask()\n",
        "  geemap.ee_export_image(image_2, filename=filename2, scale=10, crs='EPSG:4326', region=eegeo, file_per_band=False)"
      ],
      "metadata": {
        "id": "TcWhCR82PkaP",
        "colab": {
          "base_uri": "https://localhost:8080/",
          "height": 17
        },
        "outputId": "ac363025-1ff2-40ed-c376-62fac5e4e634"
      },
      "execution_count": 24,
      "outputs": [
        {
          "output_type": "display_data",
          "data": {
            "text/plain": [
              "<IPython.core.display.HTML object>"
            ],
            "text/html": [
              "\n",
              "            <style>\n",
              "                .geemap-dark {\n",
              "                    --jp-widgets-color: white;\n",
              "                    --jp-widgets-label-color: white;\n",
              "                    --jp-ui-font-color1: white;\n",
              "                    --jp-layout-color2: #454545;\n",
              "                    background-color: #383838;\n",
              "                }\n",
              "                    \n",
              "                .geemap-dark .jupyter-button {\n",
              "                    --jp-layout-color3: #383838;\n",
              "                }\n",
              "                \n",
              "                .geemap-colab {\n",
              "                    background-color: var(--colab-primary-surface-color, white);\n",
              "                }\n",
              "                    \n",
              "                .geemap-colab .jupyter-button {\n",
              "                    --jp-layout-color3: var(--colab-primary-surface-color, white);\n",
              "                }\n",
              "            </style>\n",
              "            "
            ]
          },
          "metadata": {}
        }
      ]
    },
    {
      "cell_type": "code",
      "source": [
        "def export_im(ra_li, idx, eegeo, country):\n",
        "  tofile1 = ra_li[0].select(['B1', 'B2', 'B3', 'B4', 'B5', 'B6', 'B7', 'B8', 'B8A', 'B9', 'B11', 'B12'])\n",
        "\n",
        "  filename1 = \"/content/drive/My Drive/Winter_images_1/\" + country + \"_\" + str(idx) + '_1_GeoTIFF.tif'\n",
        "  image_1 = tofile1.clip(eegeo).unmask()\n",
        "  image_1 = image_1.reproject(crs='EPSG:4326', scale=10)\n",
        "  task1 = ee.batch.Export.image.toDrive(\n",
        "    image=image_1,\n",
        "    fileNamePrefix=filename1,\n",
        "    folder='Winter_images_1',\n",
        "    region=eegeo,\n",
        "    fileFormat='GeoTIFF',\n",
        "    scale=10,\n",
        "    crs='EPSG:4326'\n",
        "  )\n",
        "  task1.start()\n",
        "\n",
        "\n",
        "  tofile2 = ra_li[1].select(['B1', 'B2', 'B3', 'B4', 'B5', 'B6', 'B7', 'B8', 'B8A', 'B9', 'B11', 'B12'])\n",
        "\n",
        "  filename2 = \"/content/drive/My Drive/Winter_images_1/\" + country + \"_\" + str(idx) + '_2_GeoTIFF.tif'\n",
        "  image_2 = tofile2.clip(eegeo).unmask()\n",
        "  image_2 = image_2.reproject(crs='EPSG:4326', scale=10)\n",
        "  task2 = ee.batch.Export.image.toDrive(\n",
        "    image=image_2,\n",
        "    fileNamePrefix=filename2,\n",
        "    folder='Winter_images_1',\n",
        "    region=eegeo,\n",
        "    fileFormat='GeoTIFF',\n",
        "    scale=10,\n",
        "    crs='EPSG:4326'\n",
        "  )\n",
        "  task2.start()\n"
      ],
      "metadata": {
        "colab": {
          "base_uri": "https://localhost:8080/",
          "height": 17
        },
        "id": "Ygne4TKNuuzw",
        "outputId": "df912ac9-1a6a-4794-823e-4e4397d686fc"
      },
      "execution_count": 25,
      "outputs": [
        {
          "output_type": "display_data",
          "data": {
            "text/plain": [
              "<IPython.core.display.HTML object>"
            ],
            "text/html": [
              "\n",
              "            <style>\n",
              "                .geemap-dark {\n",
              "                    --jp-widgets-color: white;\n",
              "                    --jp-widgets-label-color: white;\n",
              "                    --jp-ui-font-color1: white;\n",
              "                    --jp-layout-color2: #454545;\n",
              "                    background-color: #383838;\n",
              "                }\n",
              "                    \n",
              "                .geemap-dark .jupyter-button {\n",
              "                    --jp-layout-color3: #383838;\n",
              "                }\n",
              "                \n",
              "                .geemap-colab {\n",
              "                    background-color: var(--colab-primary-surface-color, white);\n",
              "                }\n",
              "                    \n",
              "                .geemap-colab .jupyter-button {\n",
              "                    --jp-layout-color3: var(--colab-primary-surface-color, white);\n",
              "                }\n",
              "            </style>\n",
              "            "
            ]
          },
          "metadata": {}
        }
      ]
    },
    {
      "cell_type": "code",
      "source": [
        "### ATTENTION: set file paths within function according to your needs -> there are two file paths in here\n",
        "\n",
        "def export_im_through_requests(ra_li, idx, geom, country):\n",
        "  tofile1 = ra_li[0].select(['B1', 'B2', 'B3', 'B4', 'B5', 'B6', 'B7', 'B8', 'B8A', 'B9', 'B11', 'B12'])\n",
        "  image_1 = tofile1.clip(geom).unmask()\n",
        "  image_1 = image_1.reproject(crs='EPSG:4326', scale=10)\n",
        "  prefix = country + \"_\" + str(idx) + '_1_GeoTIFF'\n",
        "#  params = {\n",
        "#    'count': 100,  # How many image chips to export\n",
        "#    'buffer': 127,  # The buffer distance (m) around each point\n",
        "#    'scale': 10,  # The scale to do stratified sampling\n",
        "#    'seed': 1,  # A randomization seed to use for subsampling.\n",
        "#    'dimensions': '256x256',  # The dimension of each image chip\n",
        "#    'format': \"png\",  # The output image format, can be png, jpg, ZIPPED_GEO_TIFF, GEO_TIFF, NPY\n",
        "#    'prefix': 'tile_',  # The filename prefix\n",
        "#    'processes': 25,  # How many processes to used for parallel processing\n",
        "#    'out_dir': '.',  # The output directory. Default to the current working directly\n",
        "#}\n",
        "  url = image_1.getDownloadURL({\n",
        "                'region': geom,\n",
        "  #              'dimensions': \"256x256\",\n",
        "                'format': \"GEO_TIFF\",\n",
        "                'scale': 10,\n",
        "            })\n",
        "  ext = \"tif\"\n",
        "  r = requests.get(url, stream=True)\n",
        "  if r.status_code != 200:\n",
        "    r.raise_for_status()\n",
        "\n",
        "  out_dir = \"/content/drive/My Drive/Winter_images_1/\"\n",
        "\n",
        "  filename = f\"{out_dir}/{prefix}.{ext}\"\n",
        "  with open(filename, 'wb') as out_file:\n",
        "    shutil.copyfileobj(r.raw, out_file)\n",
        "  print(\"Done1: \", prefix)\n",
        "\n",
        "  tofile2 = ra_li[1].select(['B1', 'B2', 'B3', 'B4', 'B5', 'B6', 'B7', 'B8', 'B8A', 'B9', 'B11', 'B12'])\n",
        "  image_2 = tofile2.clip(geom).unmask()\n",
        "  image_2= image_2.reproject(crs='EPSG:4326', scale=10)\n",
        "  prefix2 = country + \"_\" + str(idx) + '_2_GeoTIFF'\n",
        "#  params = {\n",
        "#    'count': 100,  # How many image chips to export\n",
        "#    'buffer': 127,  # The buffer distance (m) around each point\n",
        "#    'scale': 10,  # The scale to do stratified sampling\n",
        "#    'seed': 1,  # A randomization seed to use for subsampling.\n",
        "#    'dimensions': '256x256',  # The dimension of each image chip\n",
        "#    'format': \"png\",  # The output image format, can be png, jpg, ZIPPED_GEO_TIFF, GEO_TIFF, NPY\n",
        "#    'prefix': 'tile_',  # The filename prefix\n",
        "#    'processes': 25,  # How many processes to used for parallel processing\n",
        "#    'out_dir': '.',  # The output directory. Default to the current working directly\n",
        "#}\n",
        "  url2 = image_2.getDownloadURL({\n",
        "                'region': geom,\n",
        "  #              'dimensions': \"256x256\",\n",
        "                'format': \"GEO_TIFF\",\n",
        "                'scale': 10,\n",
        "            })\n",
        "  ext2 = \"tif\"\n",
        "  r2 = requests.get(url2, stream=True)\n",
        "  if r2.status_code != 200:\n",
        "    r2.raise_for_status()\n",
        "\n",
        "  out_dir2 = \"/content/drive/My Drive/Winter_images_1/\"\n",
        "\n",
        "  filename2 = f\"{out_dir2}/{prefix2}.{ext2}\"\n",
        "  with open(filename2, 'wb') as out_file2:\n",
        "    shutil.copyfileobj(r2.raw, out_file2)\n",
        "  print(\"Done2: \", prefix2)"
      ],
      "metadata": {
        "id": "AGIITVle-pMb",
        "colab": {
          "base_uri": "https://localhost:8080/",
          "height": 17
        },
        "outputId": "9606ba2d-44f8-44dd-8f7b-ff540443d46b"
      },
      "execution_count": 26,
      "outputs": [
        {
          "output_type": "display_data",
          "data": {
            "text/plain": [
              "<IPython.core.display.HTML object>"
            ],
            "text/html": [
              "\n",
              "            <style>\n",
              "                .geemap-dark {\n",
              "                    --jp-widgets-color: white;\n",
              "                    --jp-widgets-label-color: white;\n",
              "                    --jp-ui-font-color1: white;\n",
              "                    --jp-layout-color2: #454545;\n",
              "                    background-color: #383838;\n",
              "                }\n",
              "                    \n",
              "                .geemap-dark .jupyter-button {\n",
              "                    --jp-layout-color3: #383838;\n",
              "                }\n",
              "                \n",
              "                .geemap-colab {\n",
              "                    background-color: var(--colab-primary-surface-color, white);\n",
              "                }\n",
              "                    \n",
              "                .geemap-colab .jupyter-button {\n",
              "                    --jp-layout-color3: var(--colab-primary-surface-color, white);\n",
              "                }\n",
              "            </style>\n",
              "            "
            ]
          },
          "metadata": {}
        }
      ]
    },
    {
      "cell_type": "code",
      "source": [
        "### ATTENTION: set file paths within function according to your needs\n",
        "\n",
        "def save_ROI_as_geojson(eegeo, country, idx):\n",
        "# Convert the Earth Engine geometry to a feature\n",
        "  feature_ROI = ee.Feature(eegeo, {})\n",
        "\n",
        "# Create a feature collection\n",
        "  fc_ROI = ee.FeatureCollection([feature_ROI])\n",
        "\n",
        "# Specify the path to save the shapefile\n",
        "  output_shp1 = \"/content/drive/My Drive/roi_ee_2/\" + country + \"_\" + str(idx) + \"_1_gj.geojson\"\n",
        "\n",
        "# Export the feature collection as a shapefile\n",
        "  geemap.ee_export_vector(fc_ROI, filename=output_shp1)\n",
        "\n",
        "# Specify the path to save the shapefile\n",
        "  output_shp2 = \"/content/drive/My Drive/roi_ee_2/\" + country + \"_\" + str(idx) + \"_2_gj.geojson\"\n",
        "\n",
        "# Export the feature collection as a shapefile\n",
        "  geemap.ee_export_vector(fc_ROI, filename=output_shp2)"
      ],
      "metadata": {
        "id": "KzHFqiSAp-Jt",
        "colab": {
          "base_uri": "https://localhost:8080/",
          "height": 17
        },
        "outputId": "0289be7b-8fd2-4536-ca7e-2be5a33a7e3f"
      },
      "execution_count": 27,
      "outputs": [
        {
          "output_type": "display_data",
          "data": {
            "text/plain": [
              "<IPython.core.display.HTML object>"
            ],
            "text/html": [
              "\n",
              "            <style>\n",
              "                .geemap-dark {\n",
              "                    --jp-widgets-color: white;\n",
              "                    --jp-widgets-label-color: white;\n",
              "                    --jp-ui-font-color1: white;\n",
              "                    --jp-layout-color2: #454545;\n",
              "                    background-color: #383838;\n",
              "                }\n",
              "                    \n",
              "                .geemap-dark .jupyter-button {\n",
              "                    --jp-layout-color3: #383838;\n",
              "                }\n",
              "                \n",
              "                .geemap-colab {\n",
              "                    background-color: var(--colab-primary-surface-color, white);\n",
              "                }\n",
              "                    \n",
              "                .geemap-colab .jupyter-button {\n",
              "                    --jp-layout-color3: var(--colab-primary-surface-color, white);\n",
              "                }\n",
              "            </style>\n",
              "            "
            ]
          },
          "metadata": {}
        }
      ]
    },
    {
      "cell_type": "code",
      "source": [
        "def store_watermask(image, eegeo, country, idx):\n",
        "  # Load an image\n",
        "  roi = eegeo\n",
        "\n",
        "# Load an image\n",
        "  image2 = image\n",
        "\n",
        "# Create your mask based on band ratios\n",
        "  ndwi = image.normalizedDifference(['B3', 'B8']).rename('NDWI')  # NDWI (Normalized Difference Water Index) calculation\n",
        "  water_threshold = 0  # Threshold value to distinguish water; adjust as needed -> some say needs to be 0 or 0.3\n",
        "  water_mask = ndwi.gte(water_threshold)\n",
        "\n",
        "# For example, converting a numpy array mask to an EE Image\n",
        "  mask_ee = ee.Image(water_mask)\n",
        "\n",
        "# Convert the mask to vector (polygon) features\n",
        "  features = mask_ee.reduceToVectors(scale=30, geometry=eegeo)\n",
        "\n",
        "# Convert the vector features to a FeatureCollection\n",
        "  feature_collection = ee.FeatureCollection(features)\n",
        "  # Specify the path to save the shapefile\n",
        "  output_shp1 =  \"/content/drive/My Drive/Water_masks/\" + country + \"_\" + str(idx) + \"_1_watermask_geojson.geojson\"\n",
        "\n",
        "# Export the feature collection as a shapefile\n",
        "  geemap.ee_export_vector(feature_collection, filename=output_shp1)\n",
        "\n",
        "  output_shp2 =  \"/content/drive/My Drive/Water_masks/\" + country + \"_\" + str(idx) + \"_2_watermask_geojson.geojson\"\n",
        "\n",
        "# Export the feature collection as a shapefile\n",
        "  geemap.ee_export_vector(feature_collection, filename=output_shp2)"
      ],
      "metadata": {
        "id": "ef5_0NVQqV-G",
        "colab": {
          "base_uri": "https://localhost:8080/",
          "height": 17
        },
        "outputId": "dd1ecc47-02a6-4c00-d577-6616be38c548"
      },
      "execution_count": 28,
      "outputs": [
        {
          "output_type": "display_data",
          "data": {
            "text/plain": [
              "<IPython.core.display.HTML object>"
            ],
            "text/html": [
              "\n",
              "            <style>\n",
              "                .geemap-dark {\n",
              "                    --jp-widgets-color: white;\n",
              "                    --jp-widgets-label-color: white;\n",
              "                    --jp-ui-font-color1: white;\n",
              "                    --jp-layout-color2: #454545;\n",
              "                    background-color: #383838;\n",
              "                }\n",
              "                    \n",
              "                .geemap-dark .jupyter-button {\n",
              "                    --jp-layout-color3: #383838;\n",
              "                }\n",
              "                \n",
              "                .geemap-colab {\n",
              "                    background-color: var(--colab-primary-surface-color, white);\n",
              "                }\n",
              "                    \n",
              "                .geemap-colab .jupyter-button {\n",
              "                    --jp-layout-color3: var(--colab-primary-surface-color, white);\n",
              "                }\n",
              "            </style>\n",
              "            "
            ]
          },
          "metadata": {}
        }
      ]
    },
    {
      "cell_type": "markdown",
      "source": [
        "Do the actual downloads (have you checked output file paths in helper functions? Have you chosen an appropriate gdf? Have you changed the country name string variable below?)"
      ],
      "metadata": {
        "id": "BTjySerL2g-Y"
      }
    },
    {
      "cell_type": "code",
      "source": [
        "### first create the actual output folders needed:\n",
        "\n",
        "#! mkdir -p \"/content/drive/My Drive/Winter_images_2\"\n",
        "#! mkdir -p \"/content/drive/My Drive/Water_masks\"\n",
        "#! mkdir -p \"/content/drive/My Drive/roi_ee_2\"\n",
        "#! mkdir -p \"/content/drive/My Drive/winter_images_2_labels\"\n",
        "\n",
        "### loop through the gdf of your choice to download satellite images\n",
        "\n",
        "for idx, row in gdf4.iterrows(): # change name of gdf file if required\n",
        "  geom = extract_ee_geometry(gdf4, idx) # change name of gdf file if required\n",
        "  comp = call_images_ee(geom)\n",
        "  try:\n",
        "    comp2 = listify(comp)\n",
        "  except: continue\n",
        "  valid_comp1 = filter_images_with_valid_bands(comp2, geom)\n",
        "  if not len(valid_comp1) > 2: continue\n",
        "  valid_comp2 = filter_images_with_nans(valid_comp1, geom)\n",
        "  try:\n",
        "    final_comp = sel_satim(valid_comp2)\n",
        "  except: continue\n",
        "  saving_im(final_comp, idx, geom, \"CroatiaN\") # attention -> change country according to need\n",
        "  # use function below if saving_im is not working -> set out files path directories within functions correctly\n",
        "#  export_im_through_requests(final_comp, idx, geom, \"CroatiaN\") # attention -> change country according to need\n",
        "  # set out files path directories within functions correctly\n",
        "  save_ROI_as_geojson(geom, \"CroatiaN\", idx) # attention -> change country according to need"
      ],
      "metadata": {
        "id": "y0-6Stjv2jxa",
        "colab": {
          "base_uri": "https://localhost:8080/",
          "height": 426
        },
        "outputId": "dbdb5e9b-052a-401e-f1da-0a35ab8b8d2c"
      },
      "execution_count": 29,
      "outputs": [
        {
          "output_type": "display_data",
          "data": {
            "text/plain": [
              "<IPython.core.display.HTML object>"
            ],
            "text/html": [
              "\n",
              "            <style>\n",
              "                .geemap-dark {\n",
              "                    --jp-widgets-color: white;\n",
              "                    --jp-widgets-label-color: white;\n",
              "                    --jp-ui-font-color1: white;\n",
              "                    --jp-layout-color2: #454545;\n",
              "                    background-color: #383838;\n",
              "                }\n",
              "                    \n",
              "                .geemap-dark .jupyter-button {\n",
              "                    --jp-layout-color3: #383838;\n",
              "                }\n",
              "                \n",
              "                .geemap-colab {\n",
              "                    background-color: var(--colab-primary-surface-color, white);\n",
              "                }\n",
              "                    \n",
              "                .geemap-colab .jupyter-button {\n",
              "                    --jp-layout-color3: var(--colab-primary-surface-color, white);\n",
              "                }\n",
              "            </style>\n",
              "            "
            ]
          },
          "metadata": {}
        },
        {
          "output_type": "error",
          "ename": "EEException",
          "evalue": "User memory limit exceeded.",
          "traceback": [
            "\u001b[0;31m---------------------------------------------------------------------------\u001b[0m",
            "\u001b[0;31mHttpError\u001b[0m                                 Traceback (most recent call last)",
            "\u001b[0;32m/usr/local/lib/python3.10/dist-packages/ee/data.py\u001b[0m in \u001b[0;36m_execute_cloud_call\u001b[0;34m(call, num_retries)\u001b[0m\n\u001b[1;32m    401\u001b[0m   \u001b[0;32mtry\u001b[0m\u001b[0;34m:\u001b[0m\u001b[0;34m\u001b[0m\u001b[0;34m\u001b[0m\u001b[0m\n\u001b[0;32m--> 402\u001b[0;31m     \u001b[0;32mreturn\u001b[0m \u001b[0mcall\u001b[0m\u001b[0;34m.\u001b[0m\u001b[0mexecute\u001b[0m\u001b[0;34m(\u001b[0m\u001b[0mnum_retries\u001b[0m\u001b[0;34m=\u001b[0m\u001b[0mnum_retries\u001b[0m\u001b[0;34m)\u001b[0m\u001b[0;34m\u001b[0m\u001b[0;34m\u001b[0m\u001b[0m\n\u001b[0m\u001b[1;32m    403\u001b[0m   \u001b[0;32mexcept\u001b[0m \u001b[0mgoogleapiclient\u001b[0m\u001b[0;34m.\u001b[0m\u001b[0merrors\u001b[0m\u001b[0;34m.\u001b[0m\u001b[0mHttpError\u001b[0m \u001b[0;32mas\u001b[0m \u001b[0me\u001b[0m\u001b[0;34m:\u001b[0m\u001b[0;34m\u001b[0m\u001b[0;34m\u001b[0m\u001b[0m\n",
            "\u001b[0;32m/usr/local/lib/python3.10/dist-packages/googleapiclient/_helpers.py\u001b[0m in \u001b[0;36mpositional_wrapper\u001b[0;34m(*args, **kwargs)\u001b[0m\n\u001b[1;32m    129\u001b[0m                     \u001b[0mlogger\u001b[0m\u001b[0;34m.\u001b[0m\u001b[0mwarning\u001b[0m\u001b[0;34m(\u001b[0m\u001b[0mmessage\u001b[0m\u001b[0;34m)\u001b[0m\u001b[0;34m\u001b[0m\u001b[0;34m\u001b[0m\u001b[0m\n\u001b[0;32m--> 130\u001b[0;31m             \u001b[0;32mreturn\u001b[0m \u001b[0mwrapped\u001b[0m\u001b[0;34m(\u001b[0m\u001b[0;34m*\u001b[0m\u001b[0margs\u001b[0m\u001b[0;34m,\u001b[0m \u001b[0;34m**\u001b[0m\u001b[0mkwargs\u001b[0m\u001b[0;34m)\u001b[0m\u001b[0;34m\u001b[0m\u001b[0;34m\u001b[0m\u001b[0m\n\u001b[0m\u001b[1;32m    131\u001b[0m \u001b[0;34m\u001b[0m\u001b[0m\n",
            "\u001b[0;32m/usr/local/lib/python3.10/dist-packages/googleapiclient/http.py\u001b[0m in \u001b[0;36mexecute\u001b[0;34m(self, http, num_retries)\u001b[0m\n\u001b[1;32m    937\u001b[0m         \u001b[0;32mif\u001b[0m \u001b[0mresp\u001b[0m\u001b[0;34m.\u001b[0m\u001b[0mstatus\u001b[0m \u001b[0;34m>=\u001b[0m \u001b[0;36m300\u001b[0m\u001b[0;34m:\u001b[0m\u001b[0;34m\u001b[0m\u001b[0;34m\u001b[0m\u001b[0m\n\u001b[0;32m--> 938\u001b[0;31m             \u001b[0;32mraise\u001b[0m \u001b[0mHttpError\u001b[0m\u001b[0;34m(\u001b[0m\u001b[0mresp\u001b[0m\u001b[0;34m,\u001b[0m \u001b[0mcontent\u001b[0m\u001b[0;34m,\u001b[0m \u001b[0muri\u001b[0m\u001b[0;34m=\u001b[0m\u001b[0mself\u001b[0m\u001b[0;34m.\u001b[0m\u001b[0muri\u001b[0m\u001b[0;34m)\u001b[0m\u001b[0;34m\u001b[0m\u001b[0;34m\u001b[0m\u001b[0m\n\u001b[0m\u001b[1;32m    939\u001b[0m         \u001b[0;32mreturn\u001b[0m \u001b[0mself\u001b[0m\u001b[0;34m.\u001b[0m\u001b[0mpostproc\u001b[0m\u001b[0;34m(\u001b[0m\u001b[0mresp\u001b[0m\u001b[0;34m,\u001b[0m \u001b[0mcontent\u001b[0m\u001b[0;34m)\u001b[0m\u001b[0;34m\u001b[0m\u001b[0;34m\u001b[0m\u001b[0m\n",
            "\u001b[0;31mHttpError\u001b[0m: <HttpError 400 when requesting https://earthengine.googleapis.com/v1/projects/data-audio-237110/value:compute?prettyPrint=false&alt=json returned \"User memory limit exceeded.\". Details: \"User memory limit exceeded.\">",
            "\nDuring handling of the above exception, another exception occurred:\n",
            "\u001b[0;31mEEException\u001b[0m                               Traceback (most recent call last)",
            "\u001b[0;32m<ipython-input-29-53449d4bffb0>\u001b[0m in \u001b[0;36m<cell line: 10>\u001b[0;34m()\u001b[0m\n\u001b[1;32m     14\u001b[0m     \u001b[0mcomp2\u001b[0m \u001b[0;34m=\u001b[0m \u001b[0mlistify\u001b[0m\u001b[0;34m(\u001b[0m\u001b[0mcomp\u001b[0m\u001b[0;34m)\u001b[0m\u001b[0;34m\u001b[0m\u001b[0;34m\u001b[0m\u001b[0m\n\u001b[1;32m     15\u001b[0m   \u001b[0;32mexcept\u001b[0m\u001b[0;34m:\u001b[0m \u001b[0;32mcontinue\u001b[0m\u001b[0;34m\u001b[0m\u001b[0;34m\u001b[0m\u001b[0m\n\u001b[0;32m---> 16\u001b[0;31m   \u001b[0mvalid_comp1\u001b[0m \u001b[0;34m=\u001b[0m \u001b[0mfilter_images_with_valid_bands\u001b[0m\u001b[0;34m(\u001b[0m\u001b[0mcomp2\u001b[0m\u001b[0;34m,\u001b[0m \u001b[0mgeom\u001b[0m\u001b[0;34m)\u001b[0m\u001b[0;34m\u001b[0m\u001b[0;34m\u001b[0m\u001b[0m\n\u001b[0m\u001b[1;32m     17\u001b[0m   \u001b[0;32mif\u001b[0m \u001b[0;32mnot\u001b[0m \u001b[0mlen\u001b[0m\u001b[0;34m(\u001b[0m\u001b[0mvalid_comp1\u001b[0m\u001b[0;34m)\u001b[0m \u001b[0;34m>\u001b[0m \u001b[0;36m2\u001b[0m\u001b[0;34m:\u001b[0m \u001b[0;32mcontinue\u001b[0m\u001b[0;34m\u001b[0m\u001b[0;34m\u001b[0m\u001b[0m\n\u001b[1;32m     18\u001b[0m   \u001b[0mvalid_comp2\u001b[0m \u001b[0;34m=\u001b[0m \u001b[0mfilter_images_with_nans\u001b[0m\u001b[0;34m(\u001b[0m\u001b[0mvalid_comp1\u001b[0m\u001b[0;34m,\u001b[0m \u001b[0mgeom\u001b[0m\u001b[0;34m)\u001b[0m\u001b[0;34m\u001b[0m\u001b[0;34m\u001b[0m\u001b[0m\n",
            "\u001b[0;32m<ipython-input-21-89686c333da3>\u001b[0m in \u001b[0;36mfilter_images_with_valid_bands\u001b[0;34m(image_list, eegeo)\u001b[0m\n\u001b[1;32m     13\u001b[0m \u001b[0;34m\u001b[0m\u001b[0m\n\u001b[1;32m     14\u001b[0m         \u001b[0;31m# Check if the mean value of band B2 is not None\u001b[0m\u001b[0;34m\u001b[0m\u001b[0;34m\u001b[0m\u001b[0m\n\u001b[0;32m---> 15\u001b[0;31m         \u001b[0;32mif\u001b[0m \u001b[0mband_b2_mean\u001b[0m\u001b[0;34m.\u001b[0m\u001b[0mgetInfo\u001b[0m\u001b[0;34m(\u001b[0m\u001b[0;34m)\u001b[0m \u001b[0;32mis\u001b[0m \u001b[0;32mNone\u001b[0m\u001b[0;34m:\u001b[0m\u001b[0;34m\u001b[0m\u001b[0;34m\u001b[0m\u001b[0m\n\u001b[0m\u001b[1;32m     16\u001b[0m \u001b[0;31m#            print(\"Image\", image.id().getInfo(), \"has a missing mean value for band B2. Filtering out.\")\u001b[0m\u001b[0;34m\u001b[0m\u001b[0;34m\u001b[0m\u001b[0m\n\u001b[1;32m     17\u001b[0m             \u001b[0;32mpass\u001b[0m\u001b[0;34m\u001b[0m\u001b[0;34m\u001b[0m\u001b[0m\n",
            "\u001b[0;32m/usr/local/lib/python3.10/dist-packages/ee/computedobject.py\u001b[0m in \u001b[0;36mgetInfo\u001b[0;34m(self)\u001b[0m\n\u001b[1;32m    105\u001b[0m       \u001b[0mThe\u001b[0m \u001b[0mobject\u001b[0m \u001b[0mcan\u001b[0m \u001b[0mevaluate\u001b[0m \u001b[0mto\u001b[0m \u001b[0manything\u001b[0m\u001b[0;34m.\u001b[0m\u001b[0;34m\u001b[0m\u001b[0;34m\u001b[0m\u001b[0m\n\u001b[1;32m    106\u001b[0m     \"\"\"\n\u001b[0;32m--> 107\u001b[0;31m     \u001b[0;32mreturn\u001b[0m \u001b[0mdata\u001b[0m\u001b[0;34m.\u001b[0m\u001b[0mcomputeValue\u001b[0m\u001b[0;34m(\u001b[0m\u001b[0mself\u001b[0m\u001b[0;34m)\u001b[0m\u001b[0;34m\u001b[0m\u001b[0;34m\u001b[0m\u001b[0m\n\u001b[0m\u001b[1;32m    108\u001b[0m \u001b[0;34m\u001b[0m\u001b[0m\n\u001b[1;32m    109\u001b[0m   \u001b[0;32mdef\u001b[0m \u001b[0mencode\u001b[0m\u001b[0;34m(\u001b[0m\u001b[0mself\u001b[0m\u001b[0;34m,\u001b[0m \u001b[0mencoder\u001b[0m\u001b[0;34m:\u001b[0m \u001b[0mOptional\u001b[0m\u001b[0;34m[\u001b[0m\u001b[0mCallable\u001b[0m\u001b[0;34m[\u001b[0m\u001b[0;34m...\u001b[0m\u001b[0;34m,\u001b[0m \u001b[0mAny\u001b[0m\u001b[0;34m]\u001b[0m\u001b[0;34m]\u001b[0m\u001b[0;34m)\u001b[0m \u001b[0;34m->\u001b[0m \u001b[0mDict\u001b[0m\u001b[0;34m[\u001b[0m\u001b[0mstr\u001b[0m\u001b[0;34m,\u001b[0m \u001b[0mAny\u001b[0m\u001b[0;34m]\u001b[0m\u001b[0;34m:\u001b[0m\u001b[0;34m\u001b[0m\u001b[0;34m\u001b[0m\u001b[0m\n",
            "\u001b[0;32m/usr/local/lib/python3.10/dist-packages/ee/data.py\u001b[0m in \u001b[0;36mcomputeValue\u001b[0;34m(obj)\u001b[0m\n\u001b[1;32m   1099\u001b[0m   \u001b[0m_maybe_populate_workload_tag\u001b[0m\u001b[0;34m(\u001b[0m\u001b[0mbody\u001b[0m\u001b[0;34m)\u001b[0m\u001b[0;34m\u001b[0m\u001b[0;34m\u001b[0m\u001b[0m\n\u001b[1;32m   1100\u001b[0m \u001b[0;34m\u001b[0m\u001b[0m\n\u001b[0;32m-> 1101\u001b[0;31m   return _execute_cloud_call(\n\u001b[0m\u001b[1;32m   1102\u001b[0m       \u001b[0m_get_cloud_projects\u001b[0m\u001b[0;34m(\u001b[0m\u001b[0;34m)\u001b[0m\u001b[0;34m\u001b[0m\u001b[0;34m\u001b[0m\u001b[0m\n\u001b[1;32m   1103\u001b[0m       \u001b[0;34m.\u001b[0m\u001b[0mvalue\u001b[0m\u001b[0;34m(\u001b[0m\u001b[0;34m)\u001b[0m\u001b[0;34m\u001b[0m\u001b[0;34m\u001b[0m\u001b[0m\n",
            "\u001b[0;32m/usr/local/lib/python3.10/dist-packages/ee/data.py\u001b[0m in \u001b[0;36m_execute_cloud_call\u001b[0;34m(call, num_retries)\u001b[0m\n\u001b[1;32m    402\u001b[0m     \u001b[0;32mreturn\u001b[0m \u001b[0mcall\u001b[0m\u001b[0;34m.\u001b[0m\u001b[0mexecute\u001b[0m\u001b[0;34m(\u001b[0m\u001b[0mnum_retries\u001b[0m\u001b[0;34m=\u001b[0m\u001b[0mnum_retries\u001b[0m\u001b[0;34m)\u001b[0m\u001b[0;34m\u001b[0m\u001b[0;34m\u001b[0m\u001b[0m\n\u001b[1;32m    403\u001b[0m   \u001b[0;32mexcept\u001b[0m \u001b[0mgoogleapiclient\u001b[0m\u001b[0;34m.\u001b[0m\u001b[0merrors\u001b[0m\u001b[0;34m.\u001b[0m\u001b[0mHttpError\u001b[0m \u001b[0;32mas\u001b[0m \u001b[0me\u001b[0m\u001b[0;34m:\u001b[0m\u001b[0;34m\u001b[0m\u001b[0;34m\u001b[0m\u001b[0m\n\u001b[0;32m--> 404\u001b[0;31m     \u001b[0;32mraise\u001b[0m \u001b[0m_translate_cloud_exception\u001b[0m\u001b[0;34m(\u001b[0m\u001b[0me\u001b[0m\u001b[0;34m)\u001b[0m  \u001b[0;31m# pylint: disable=raise-missing-from\u001b[0m\u001b[0;34m\u001b[0m\u001b[0;34m\u001b[0m\u001b[0m\n\u001b[0m\u001b[1;32m    405\u001b[0m \u001b[0;34m\u001b[0m\u001b[0m\n\u001b[1;32m    406\u001b[0m \u001b[0;34m\u001b[0m\u001b[0m\n",
            "\u001b[0;31mEEException\u001b[0m: User memory limit exceeded."
          ]
        }
      ]
    },
    {
      "cell_type": "markdown",
      "source": [
        "Create masks/labels"
      ],
      "metadata": {
        "id": "JuPIs5TM5dWS"
      }
    },
    {
      "cell_type": "code",
      "source": [
        "### import necessary libraries\n",
        "\n",
        "import rasterio as rio\n",
        "import matplotlib.pyplot as plt\n",
        "import numpy as np\n",
        "from shapely.geometry import shape\n",
        "import geopandas as gpd\n",
        "from rasterio.mask import mask\n",
        "from shapely.geometry import mapping\n",
        "from rasterio.features import geometry_mask\n",
        "from rasterio.plot import show\n",
        "import holoviews as hv\n",
        "import hvplot.xarray\n",
        "import xarray as xr\n",
        "import hvplot.pandas\n",
        "from shapely.geometry import box\n",
        "from shapely.ops import unary_union\n",
        "import os\n",
        "from rasterio.enums import Resampling\n",
        "import contextily\n",
        "from rasterio.mask import mask\n",
        "import subprocess\n",
        "import rasterio as rio\n",
        "import numpy as np\n",
        "import pandas as pd\n",
        "import geopandas as gpd\n",
        "import fiona\n",
        "from rasterio.transform import from_bounds"
      ],
      "metadata": {
        "id": "CbT6cJlT5gNx"
      },
      "execution_count": null,
      "outputs": []
    },
    {
      "cell_type": "code",
      "source": [
        "### read in seagrass and land gdf - depending on whether you use the Greek or the Croatian dataset\n",
        "# Mount Google Drive\n",
        "from google.colab import drive\n",
        "drive.mount('/content/drive')\n",
        "# Reading seagrass polygons into Geopandas dataframe\n",
        "seagrass_gdf = gpd.read_file('/content/drive/My Drive/Seagrass_Files/Croatia_filtereddataset_4326(1).geojson')\n",
        "# for Croatia: gpd.read_file('/content/drive/My Drive/Seagrass_Files/Croatia_filtereddataset_4326(1).geojson')\n",
        "# for Greece: gpd.read_file('/content/drive/My Drive/Seagrass_Files/Greek_Seagrass_Meadows_v0906/Greek Seagrass meadows v0906.shp')\n",
        "seagrass_gdf = seagrass_gdf[seagrass_gdf.is_valid]\n",
        "# Read in landmask\n",
        "shape_path1 = '/content/drive/My Drive/Seagrass_Files/landmask2_Greece.geojson'\n",
        "# for Croatia: landmask2_Croatia.geojson\n",
        "gdf_land_mask = gpd.read_file(shape_path1)"
      ],
      "metadata": {
        "id": "BoF93-NnT74i"
      },
      "execution_count": null,
      "outputs": []
    },
    {
      "cell_type": "code",
      "source": [
        "### check if geotif folder and region of interest folder contain the same amount of files\n",
        "import os\n",
        "\n",
        "folder_path = \"/content/drive/My Drive/Winter_images_2\"\n",
        "folder_path2 = \"/content/drive/My Drive/roi_ee_2\"\n",
        "\n",
        "# List files in the first directory\n",
        "files_in_folder1 = os.listdir(folder_path)\n",
        "\n",
        "# List files in the second directory\n",
        "files_in_folder2 = os.listdir(folder_path2)\n",
        "\n",
        "# Compare the lengths of the lists\n",
        "if len(files_in_folder1) == len(files_in_folder2):\n",
        "    print(\"Both folders contain the same amount of files.\")\n",
        "else:\n",
        "    print(\"The folders contain different amounts of files.\")\n"
      ],
      "metadata": {
        "id": "R9s7KB7nU-kv"
      },
      "execution_count": null,
      "outputs": []
    },
    {
      "cell_type": "markdown",
      "source": [
        "Define helper functions:"
      ],
      "metadata": {
        "id": "4zh_hQFAWqR8"
      }
    },
    {
      "cell_type": "code",
      "source": [
        "def read_in_aoi(shape_path):\n",
        "  gdf_sh = gpd.read_file(shape_path)\n",
        "\n",
        "  # Extract the polygon from the GeoDataFrame\n",
        "  aoi_polygon = gdf_sh['geometry'].iloc[0]\n",
        "  return aoi_polygon"
      ],
      "metadata": {
        "id": "DlGaVKt0Wty6"
      },
      "execution_count": null,
      "outputs": []
    },
    {
      "cell_type": "code",
      "source": [
        "def seagrass_and_land_polygons(seagrass_gdf, gdf_land_mask, shape_path):\n",
        "  gdf_sh = gpd.read_file(shape_path)\n",
        "  seagrass_in_roi_1 = gpd.sjoin(seagrass_gdf, gdf_sh, how='inner', op='intersects')\n",
        "  land_in_roi_1 = gpd.sjoin(gdf_land_mask, gdf_sh, how='inner', op='intersects')\n",
        "  return seagrass_in_roi_1, land_in_roi_1"
      ],
      "metadata": {
        "id": "7tOdFJdAW5vz"
      },
      "execution_count": null,
      "outputs": []
    },
    {
      "cell_type": "markdown",
      "source": [
        "Do the actual mask generation"
      ],
      "metadata": {
        "id": "lSqubVvfi_tx"
      }
    },
    {
      "cell_type": "code",
      "source": [
        "import os\n",
        "\n",
        "folder_path = \"/content/drive/My Drive/Winter_images_2\"\n",
        "folder_path2 = \"/content/drive/My Drive/roi_ee_2\"\n",
        "mask_output_path = \"/content/drive/My Drive/winter_images_2_labels\"\n",
        "\n",
        "# List files in the first directory\n",
        "files_in_folder1 = sorted(os.listdir(folder_path))  # Sorting for consistent iteration\n",
        "\n",
        "# List files in the second directory\n",
        "files_in_folder2 = sorted(os.listdir(folder_path2))  # Sorting for consistent iteration\n",
        "\n",
        "# Iterate over the files in both directories simultaneously\n",
        "for img_file, shape_file in zip(files_in_folder1, files_in_folder2):\n",
        "  # Construct full file paths\n",
        "  geotif_file_path = os.path.join(folder_path, img_file)\n",
        "  aoi_shape_path = os.path.join(folder_path2, shape_file)\n",
        "  aoi_polygon = read_in_aoi(aoi_shape_path)\n",
        "  seagrass_in_roi_1, land_in_roi_1 = seagrass_and_land_polygons(seagrass_gdf, gdf_land_mask, aoi_shape_path)\n",
        "\n",
        "  with rio.open(geotif_file_path) as src:\n",
        "    # Read the geospatial metadata\n",
        "    geotransform = src.transform\n",
        "    projection = src.crs\n",
        "    # Read all bands as a numpy array\n",
        "    bands_data = []\n",
        "    for i in range(1, src.count + 1):\n",
        "      band_data = src.read(i)\n",
        "      bands_data.append(band_data)\n",
        "\n",
        "    # Stack bands into one numpy array\n",
        "    stacked_data = np.stack(bands_data, axis=-1)\n",
        "    # Generate variables later needed for creating masks\n",
        "    _, cropped_transform1 = mask(src, [mapping(aoi_polygon)], crop=False)\n",
        "    blue_height1, blue_width1 = src.shape\n",
        "\n",
        "\n",
        "  seagrass_in_roi_1 = seagrass_in_roi_1.to_crs(projection)\n",
        "  final_mask_Posidonia = geometry_mask(seagrass_in_roi_1.geometry, out_shape=(blue_height1, blue_width1), transform=cropped_transform1, invert=True)\n",
        "  land_in_roi_1 = land_in_roi_1.to_crs(projection) ## add needed final gdf here\n",
        "  if len(land_in_roi_1)> 0:\n",
        "    final_mask_Land = geometry_mask(land_in_roi_1.geometry, out_shape=(blue_height1, blue_width1), transform=cropped_transform1, invert=True)\n",
        "  else: final_mask_Land = np.zeros(final_mask_Posidonia.shape, dtype=bool)\n",
        "  final_mask_water = ~(final_mask_Posidonia | final_mask_Land)\n",
        "  # Determine the shape of mask_class0\n",
        "  mask_shape = final_mask_Posidonia.shape\n",
        "\n",
        "  # Create an empty array to store the combined result with the same shape as mask_class0\n",
        "  combined_mask = np.zeros(mask_shape, dtype=np.uint8)\n",
        "\n",
        "  # Assign class labels to the combined mask\n",
        "  combined_mask[final_mask_Posidonia] = 0  # Class 0\n",
        "  combined_mask[final_mask_water] = 1  # Class 1\n",
        "  combined_mask[final_mask_Land] = 2  # Class 2\n",
        "\n",
        "  # Define the output file path\n",
        "  output_tif_path = mask_output_path + \"/\"+ img_file[:-4] + '_mask.tif'\n",
        "\n",
        "  # Define the transformation matrix\n",
        "  transform = cropped_transform1\n",
        "\n",
        "  # Define the CRS (coordinate reference system) of the transformation\n",
        "  crs = \"EPSG:4326\"  # Assuming WGS84 coordinate reference system\n",
        "\n",
        "  # Write the combined mask to a GeoTIFF file\n",
        "  with rio.open(\n",
        "    output_tif_path,\n",
        "    'w',\n",
        "    driver='GTiff',\n",
        "    height=combined_mask.shape[0],\n",
        "    width=combined_mask.shape[1],\n",
        "    count=1,\n",
        "    dtype=combined_mask.dtype,\n",
        "    crs=crs,\n",
        "    transform=transform\n",
        "    ) as dst:\n",
        "      dst.write(combined_mask, 1)\n"
      ],
      "metadata": {
        "id": "dtaZJanhVAzC"
      },
      "execution_count": null,
      "outputs": []
    },
    {
      "cell_type": "markdown",
      "source": [
        "Check some masks or images (adjust folders for it...)"
      ],
      "metadata": {
        "id": "0T7CAAkdjEKH"
      }
    },
    {
      "cell_type": "code",
      "source": [
        "# Import os module\n",
        "import os\n",
        "\n",
        "# Define the path to the folder\n",
        "folder_path = \"/content/drive/My Drive/Winter_images_2\"\n",
        "\n",
        "# List the contents of the folder\n",
        "folder_contents = os.listdir(folder_path)\n",
        "\n",
        "# Display the contents\n",
        "print(\"Contents of the folder:\")\n",
        "for item in folder_contents:\n",
        "    print(item)"
      ],
      "metadata": {
        "id": "qHId7P5ZiY1f"
      },
      "execution_count": null,
      "outputs": []
    },
    {
      "cell_type": "code",
      "source": [
        "### check a single image:\n",
        "from skimage import io\n",
        "from skimage.segmentation import felzenszwalb, slic, quickshift\n",
        "from skimage.segmentation import mark_boundaries\n",
        "from skimage.util import img_as_float\n",
        "import cv2\n",
        "\n",
        "image = \"/content/drive/My Drive/Winter_images_2/Croatia_0_1_GeoTIFF.tif\"\n",
        "img = io.imread(image)\n",
        "img.shape"
      ],
      "metadata": {
        "id": "2Zg25CtzisYc"
      },
      "execution_count": null,
      "outputs": []
    },
    {
      "cell_type": "code",
      "source": [
        "### display image\n",
        "\n",
        "import numpy as np\n",
        "import matplotlib.pyplot as plt\n",
        "from skimage import io\n",
        "\n",
        "io.imshow(img[:,:,1], cmap='viridis')\n",
        "plt.show()"
      ],
      "metadata": {
        "id": "r1_xi6lijwUq"
      },
      "execution_count": null,
      "outputs": []
    },
    {
      "cell_type": "markdown",
      "source": [
        "Clip images and masks to actual size needed"
      ],
      "metadata": {
        "id": "16hu-CIyvsz4"
      }
    },
    {
      "cell_type": "code",
      "source": [
        "### make final files where to store images and labels in 256*256 pixels format\n",
        "\n",
        "! mkdir -p \"/content/drive/My Drive/clipped_Winter_images_2\"\n",
        "! mkdir -p \"/content/drive/My Drive/clipped_winter_images_2_labels\""
      ],
      "metadata": {
        "id": "tcpCG8Ovw8PQ"
      },
      "execution_count": null,
      "outputs": []
    },
    {
      "cell_type": "code",
      "source": [
        "### check if geotif folder and labels folder contain the same amount of files\n",
        "import os\n",
        "\n",
        "folder_path = \"/content/drive/My Drive/Winter_images_2\"\n",
        "folder_path2 = \"/content/drive/My Drive/winter_images_2_labels\"\n",
        "\n",
        "# List files in the first directory\n",
        "files_in_folder1 = os.listdir(folder_path)\n",
        "\n",
        "# List files in the second directory\n",
        "files_in_folder2 = os.listdir(folder_path2)\n",
        "\n",
        "# Compare the lengths of the lists\n",
        "if len(files_in_folder1) == len(files_in_folder2):\n",
        "    print(\"Both folders contain the same amount of files.\")\n",
        "else:\n",
        "    print(\"The folders contain different amounts of files.\")"
      ],
      "metadata": {
        "id": "kPMn4OGSxNSi"
      },
      "execution_count": null,
      "outputs": []
    },
    {
      "cell_type": "code",
      "source": [
        "### define helper function\n",
        "\n",
        "import rasterio\n",
        "from rasterio.windows import Window\n",
        "import numpy as np\n",
        "\n",
        "def clip_geotif(rifile, output_path, country, artype, idx):\n",
        "# Open the GeoTiff image\n",
        "  with rasterio.open(rifile) as src:\n",
        "    # Read the entire image as a numpy array\n",
        "    image_array = src.read()\n",
        "\n",
        "    # Define the window to extract the upper-left subset (adjust as needed)\n",
        "    window = Window(0, 0, 256, 256)\n",
        "\n",
        "    # Read the subset from the original image\n",
        "    upper_left_subset = src.read(window=window)\n",
        "\n",
        "    # Get metadata from the original GeoTiff\n",
        "    meta = src.meta\n",
        "\n",
        "    # Update metadata with new dimensions and affine transformation\n",
        "    meta['width'] = 256\n",
        "    meta['height'] = 256\n",
        "    meta['transform'] = rasterio.windows.transform(window, src.transform)\n",
        "\n",
        "    output_file = output_path + \"/\" + country + \"_\" + artype + \"_\" + idx + \".tif\"\n",
        "    # Write the subset as a new GeoTiff\n",
        "    with rasterio.open(output_file, 'w', **meta) as dst:\n",
        "        dst.write(upper_left_subset)\n",
        "\n",
        "#print(\"Subset saved successfully.\")\n"
      ],
      "metadata": {
        "id": "ToBXKO_GyVj3"
      },
      "execution_count": null,
      "outputs": []
    },
    {
      "cell_type": "code",
      "source": [
        "### convert images and labels to 256*256 pixels format\n",
        "import os\n",
        "\n",
        "folder_path = \"/content/drive/My Drive/Winter_images_2\"\n",
        "folder_path2 = \"/content/drive/My Drive/winter_images_2_labels\"\n",
        "image_output_path = \"/content/drive/My Drive/clipped_Winter_images_2\"\n",
        "label_output_path = \"/content/drive/My Drive/clipped_winter_images_2_labels\"\n",
        "\n",
        "country = \"Greece\" # change if needed\n",
        "\n",
        "# List files in the first directory\n",
        "files_in_folder1 = sorted(os.listdir(folder_path))  # Sorting for consistent iteration\n",
        "\n",
        "# List files in the second directory\n",
        "files_in_folder2 = sorted(os.listdir(folder_path2))  # Sorting for consistent iteration\n",
        "\n",
        "# Iterate over the files in both directories simultaneously\n",
        "for idx, (img_file, label_file) in enumerate(zip(files_in_folder1, files_in_folder2)):\n",
        "    # idx is the index of the current iteration\n",
        "  artype = \"image\"\n",
        "  ### check the clip_geotif lines -> it may be (clip_geotif(os.path.join(folder_path,img_file), image_output_path, country, artype, str(idx))----)\n",
        "  clip_geotif(os.path.join(folder_path,img_file), image_output_path, country, artype, str(idx))\n",
        "  artype = \"label\"\n",
        "  clip_geotif(os.path.join(folder_path2,label_file), label_output_path, country, artype, str(idx))"
      ],
      "metadata": {
        "id": "nrydmMlQxo1x"
      },
      "execution_count": null,
      "outputs": []
    },
    {
      "cell_type": "markdown",
      "source": [
        "Uploading images and masks to dagshub"
      ],
      "metadata": {
        "id": "h-FPZSGn3v68"
      }
    },
    {
      "cell_type": "code",
      "source": [
        "!pip install dagshub -qq"
      ],
      "metadata": {
        "id": "B6ZMm7u135Na"
      },
      "execution_count": null,
      "outputs": []
    },
    {
      "cell_type": "code",
      "source": [
        "!dagshub login"
      ],
      "metadata": {
        "id": "nA8bSYFu37yq"
      },
      "execution_count": null,
      "outputs": []
    },
    {
      "cell_type": "code",
      "source": [
        "from dagshub.upload import Repo\n",
        "\n",
        "# Defining the Repo & directory\n",
        "repo = Repo(\"Omdena\", \"TriesteItalyChapter_MappingSeagrassMeadows\")\n",
        "ds = repo.directory('./data')\n",
        "\n",
        "image_output_path = \"/content/drive/My Drive/clipped_Winter_images_2\"\n",
        "label_output_path = \"/content/drive/My Drive/clipped_winter_images_2_labels\"\n",
        "\n",
        "# Addes images & masks to data folder\n",
        "img_list = sorted(os.listdir(image_output_path))\n",
        "mask_list = sorted(os.listdir(label_output_path))\n",
        "\n",
        "for i in img_list:\n",
        "  ds.add(file=os.path.join(image_output_path, i), path=f'./Winter_data/images/{i}')\n",
        "for i in mask_list:\n",
        "  ds.add(file=os.path.join(label_output_path, i), path=f'./Winter_data/masks/{i}')\n",
        "\n",
        "# Commit the changes\n",
        "ds.commit('Adds images & masks to data folder', versioning='dvc')"
      ],
      "metadata": {
        "id": "WsdYv97j3_K7"
      },
      "execution_count": null,
      "outputs": []
    }
  ]
}