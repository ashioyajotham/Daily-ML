{
  "cells": [
    {
      "cell_type": "code",
      "execution_count": 13,
      "metadata": {
        "id": "azmN8mAK31XA",
        "vscode": {
          "languageId": "python"
        }
      },
      "outputs": [],
      "source": [
        "import pandas as pd\n",
        "import numpy as np\n",
        "import matplotlib.pyplot as plt\n",
        "import seaborn as sns\n",
        "import warnings\n",
        "warnings.filterwarnings('ignore')\n",
        "sns.set_style('darkgrid')\n",
        "%matplotlib inline"
      ]
    },
    {
      "attachments": {},
      "cell_type": "markdown",
      "metadata": {
        "id": "dZTQJLSq31XP"
      },
      "source": [
        "# Building a Recommendation Engine. "
      ]
    },
    {
      "attachments": {},
      "cell_type": "markdown",
      "metadata": {},
      "source": [
        "## Content-based filtering\n",
        "* This is a method that uses only information about the description and attributes of the items users has previously consumed to model user's preferences.  It is a very popular method for recommender systems.\n",
        "* The method is based on the idea that if a user likes an item, he or she will also like items that are similar to it.\n",
        "* It uses a series of discrete characteristics of an item in order to recommend additional items with similar properties."
      ]
    },
    {
      "cell_type": "code",
      "execution_count": 15,
      "metadata": {
        "colab": {
          "base_uri": "https://localhost:8080/",
          "height": 456
        },
        "id": "-0kvFPeS31XW",
        "outputId": "438a4154-41b6-4c1e-9a11-baa38b7202e9",
        "vscode": {
          "languageId": "python"
        }
      },
      "outputs": [
        {
          "data": {
            "text/html": [
              "<div>\n",
              "<style scoped>\n",
              "    .dataframe tbody tr th:only-of-type {\n",
              "        vertical-align: middle;\n",
              "    }\n",
              "\n",
              "    .dataframe tbody tr th {\n",
              "        vertical-align: top;\n",
              "    }\n",
              "\n",
              "    .dataframe thead th {\n",
              "        text-align: right;\n",
              "    }\n",
              "</style>\n",
              "<table border=\"1\" class=\"dataframe\">\n",
              "  <thead>\n",
              "    <tr style=\"text-align: right;\">\n",
              "      <th></th>\n",
              "      <th>UID</th>\n",
              "      <th>PRODUCT_NAME</th>\n",
              "      <th>IMAGE_URL</th>\n",
              "      <th>PRODUCT_PRICE</th>\n",
              "      <th>PRODUCT_PRICE_TREATED_OUTLIERS</th>\n",
              "      <th>PRODUCT_LINK</th>\n",
              "      <th>PRODUCT_INFORMATION_T</th>\n",
              "      <th>CATEGORY</th>\n",
              "      <th>SUB_CATEGORY</th>\n",
              "      <th>PRICE_PER_KG/L</th>\n",
              "      <th>...</th>\n",
              "      <th>PROTEIN</th>\n",
              "      <th>SALT</th>\n",
              "      <th>FAT</th>\n",
              "      <th>INGREDIENTS</th>\n",
              "      <th>STORAGE_INFORMATION</th>\n",
              "      <th>STORE_NAME</th>\n",
              "      <th>PRICE_PER_KG/L_UNIT</th>\n",
              "      <th>ENERGY_KJ</th>\n",
              "      <th>NUTRITIONAL_LABEL</th>\n",
              "      <th>combo</th>\n",
              "    </tr>\n",
              "  </thead>\n",
              "  <tbody>\n",
              "    <tr>\n",
              "      <th>0</th>\n",
              "      <td>138</td>\n",
              "      <td>Almdudler Original Herb Lemonade</td>\n",
              "      <td>https://imageproxy.wolt.com/menu/menu-images/6...</td>\n",
              "      <td>2.24</td>\n",
              "      <td>2.24</td>\n",
              "      <td>https://wolt.com/en/deu/berlin/venue/flink-kar...</td>\n",
              "      <td>Alpine herbal lemonade</td>\n",
              "      <td>Food &amp; Beverage</td>\n",
              "      <td>Soft Drinks</td>\n",
              "      <td>1.99</td>\n",
              "      <td>...</td>\n",
              "      <td>6.540362</td>\n",
              "      <td>6.13861</td>\n",
              "      <td>12.989936</td>\n",
              "      <td>Water, sugar, carbon dioxide, acidifier citric...</td>\n",
              "      <td>Please store in a dry place and protect from h...</td>\n",
              "      <td>Wolt: Flink Karl Liebknecht</td>\n",
              "      <td>Kg</td>\n",
              "      <td>596.656412</td>\n",
              "      <td>high_fiber</td>\n",
              "      <td>Food &amp; Beverage Soft Drinks Almdudler Original...</td>\n",
              "    </tr>\n",
              "    <tr>\n",
              "      <th>1</th>\n",
              "      <td>151</td>\n",
              "      <td>Almdudler Sugar Free Herb Lemonade</td>\n",
              "      <td>https://imageproxy.wolt.com/menu/menu-images/6...</td>\n",
              "      <td>2.24</td>\n",
              "      <td>2.24</td>\n",
              "      <td>https://wolt.com/en/deu/berlin/venue/flink-kar...</td>\n",
              "      <td>Alpine herb lemonade without sugar with sweete...</td>\n",
              "      <td>Food &amp; Beverage</td>\n",
              "      <td>Soft Drinks</td>\n",
              "      <td>1.99</td>\n",
              "      <td>...</td>\n",
              "      <td>6.540362</td>\n",
              "      <td>6.13861</td>\n",
              "      <td>12.989936</td>\n",
              "      <td>Water, carbon dioxide, acidifier citric acid, ...</td>\n",
              "      <td>Please store in a dry place and protect from h...</td>\n",
              "      <td>Wolt: Flink Karl Liebknecht</td>\n",
              "      <td>Kg</td>\n",
              "      <td>596.656412</td>\n",
              "      <td>high_fiber</td>\n",
              "      <td>Food &amp; Beverage Soft Drinks Almdudler Sugar Fr...</td>\n",
              "    </tr>\n",
              "    <tr>\n",
              "      <th>2</th>\n",
              "      <td>267</td>\n",
              "      <td>almond butter brown 250g</td>\n",
              "      <td>https://static.mueller.de/markant_041044201797...</td>\n",
              "      <td>5.99</td>\n",
              "      <td>5.99</td>\n",
              "      <td>https://www.mueller.de/p/alnatura-mandelmus-br...</td>\n",
              "      <td>Product information An intensely aromatic pure...</td>\n",
              "      <td>Food &amp; Beverage</td>\n",
              "      <td>Sweet spreads</td>\n",
              "      <td>23.96</td>\n",
              "      <td>...</td>\n",
              "      <td>22.000000</td>\n",
              "      <td>0.01000</td>\n",
              "      <td>53.000000</td>\n",
              "      <td>ALMONDS* unpeeled *from organic farming. May c...</td>\n",
              "      <td>Best before: see lid, summer de preference ava...</td>\n",
              "      <td>Muller</td>\n",
              "      <td>Kg</td>\n",
              "      <td>2559.002825</td>\n",
              "      <td>very unhealthy</td>\n",
              "      <td>Food &amp; Beverage Sweet spreads almond butter br...</td>\n",
              "    </tr>\n",
              "    <tr>\n",
              "      <th>3</th>\n",
              "      <td>270</td>\n",
              "      <td>almond butter white 250g</td>\n",
              "      <td>https://static.mueller.de/markant_041044201811...</td>\n",
              "      <td>6.99</td>\n",
              "      <td>6.99</td>\n",
              "      <td>https://www.mueller.de/p/alnatura-mandelmus-we...</td>\n",
              "      <td>Product information A fine puree made from 100...</td>\n",
              "      <td>Food &amp; Beverage</td>\n",
              "      <td>Sweet spreads</td>\n",
              "      <td>27.96</td>\n",
              "      <td>...</td>\n",
              "      <td>22.000000</td>\n",
              "      <td>0.01000</td>\n",
              "      <td>61.000000</td>\n",
              "      <td>ALMONDS* peeled *from organic farming. May con...</td>\n",
              "      <td>Best before: see lid, summer de preference ava...</td>\n",
              "      <td>Muller</td>\n",
              "      <td>Kg</td>\n",
              "      <td>2781.003070</td>\n",
              "      <td>high_fiber</td>\n",
              "      <td>Food &amp; Beverage Sweet spreads almond butter wh...</td>\n",
              "    </tr>\n",
              "    <tr>\n",
              "      <th>4</th>\n",
              "      <td>275</td>\n",
              "      <td>Almond Cranberry Fruit Bar 75G</td>\n",
              "      <td>https://static.mueller.de/markant_000000424067...</td>\n",
              "      <td>1.69</td>\n",
              "      <td>1.69</td>\n",
              "      <td>https://www.mueller.de/p/alnatura-mandel-cranb...</td>\n",
              "      <td>Product information Two ideally harmonizing la...</td>\n",
              "      <td>Food &amp; Beverage</td>\n",
              "      <td>Sweet &amp; salty</td>\n",
              "      <td>22.53</td>\n",
              "      <td>...</td>\n",
              "      <td>7.000000</td>\n",
              "      <td>0.08000</td>\n",
              "      <td>11.000000</td>\n",
              "      <td>Rice syrup*, banana flakes* 20%, WHOLEMEAL OAT...</td>\n",
              "      <td>Please store in a dry place and protect from h...</td>\n",
              "      <td>Muller</td>\n",
              "      <td>Kg</td>\n",
              "      <td>1670.001844</td>\n",
              "      <td>healthy</td>\n",
              "      <td>Food &amp; Beverage Sweet &amp; salty Almond Cranberry...</td>\n",
              "    </tr>\n",
              "  </tbody>\n",
              "</table>\n",
              "<p>5 rows × 23 columns</p>\n",
              "</div>"
            ],
            "text/plain": [
              "   UID                        PRODUCT_NAME  \\\n",
              "0  138    Almdudler Original Herb Lemonade   \n",
              "1  151  Almdudler Sugar Free Herb Lemonade   \n",
              "2  267            almond butter brown 250g   \n",
              "3  270            almond butter white 250g   \n",
              "4  275      Almond Cranberry Fruit Bar 75G   \n",
              "\n",
              "                                           IMAGE_URL  PRODUCT_PRICE  \\\n",
              "0  https://imageproxy.wolt.com/menu/menu-images/6...           2.24   \n",
              "1  https://imageproxy.wolt.com/menu/menu-images/6...           2.24   \n",
              "2  https://static.mueller.de/markant_041044201797...           5.99   \n",
              "3  https://static.mueller.de/markant_041044201811...           6.99   \n",
              "4  https://static.mueller.de/markant_000000424067...           1.69   \n",
              "\n",
              "   PRODUCT_PRICE_TREATED_OUTLIERS  \\\n",
              "0                            2.24   \n",
              "1                            2.24   \n",
              "2                            5.99   \n",
              "3                            6.99   \n",
              "4                            1.69   \n",
              "\n",
              "                                        PRODUCT_LINK  \\\n",
              "0  https://wolt.com/en/deu/berlin/venue/flink-kar...   \n",
              "1  https://wolt.com/en/deu/berlin/venue/flink-kar...   \n",
              "2  https://www.mueller.de/p/alnatura-mandelmus-br...   \n",
              "3  https://www.mueller.de/p/alnatura-mandelmus-we...   \n",
              "4  https://www.mueller.de/p/alnatura-mandel-cranb...   \n",
              "\n",
              "                               PRODUCT_INFORMATION_T         CATEGORY  \\\n",
              "0                             Alpine herbal lemonade  Food & Beverage   \n",
              "1  Alpine herb lemonade without sugar with sweete...  Food & Beverage   \n",
              "2  Product information An intensely aromatic pure...  Food & Beverage   \n",
              "3  Product information A fine puree made from 100...  Food & Beverage   \n",
              "4  Product information Two ideally harmonizing la...  Food & Beverage   \n",
              "\n",
              "    SUB_CATEGORY  PRICE_PER_KG/L  ...    PROTEIN     SALT        FAT  \\\n",
              "0    Soft Drinks            1.99  ...   6.540362  6.13861  12.989936   \n",
              "1    Soft Drinks            1.99  ...   6.540362  6.13861  12.989936   \n",
              "2  Sweet spreads           23.96  ...  22.000000  0.01000  53.000000   \n",
              "3  Sweet spreads           27.96  ...  22.000000  0.01000  61.000000   \n",
              "4  Sweet & salty           22.53  ...   7.000000  0.08000  11.000000   \n",
              "\n",
              "                                         INGREDIENTS  \\\n",
              "0  Water, sugar, carbon dioxide, acidifier citric...   \n",
              "1  Water, carbon dioxide, acidifier citric acid, ...   \n",
              "2  ALMONDS* unpeeled *from organic farming. May c...   \n",
              "3  ALMONDS* peeled *from organic farming. May con...   \n",
              "4  Rice syrup*, banana flakes* 20%, WHOLEMEAL OAT...   \n",
              "\n",
              "                                 STORAGE_INFORMATION  \\\n",
              "0  Please store in a dry place and protect from h...   \n",
              "1  Please store in a dry place and protect from h...   \n",
              "2  Best before: see lid, summer de preference ava...   \n",
              "3  Best before: see lid, summer de preference ava...   \n",
              "4  Please store in a dry place and protect from h...   \n",
              "\n",
              "                    STORE_NAME PRICE_PER_KG/L_UNIT    ENERGY_KJ  \\\n",
              "0  Wolt: Flink Karl Liebknecht                  Kg   596.656412   \n",
              "1  Wolt: Flink Karl Liebknecht                  Kg   596.656412   \n",
              "2                       Muller                  Kg  2559.002825   \n",
              "3                       Muller                  Kg  2781.003070   \n",
              "4                       Muller                  Kg  1670.001844   \n",
              "\n",
              "  NUTRITIONAL_LABEL                                              combo  \n",
              "0        high_fiber  Food & Beverage Soft Drinks Almdudler Original...  \n",
              "1        high_fiber  Food & Beverage Soft Drinks Almdudler Sugar Fr...  \n",
              "2    very unhealthy  Food & Beverage Sweet spreads almond butter br...  \n",
              "3        high_fiber  Food & Beverage Sweet spreads almond butter wh...  \n",
              "4           healthy  Food & Beverage Sweet & salty Almond Cranberry...  \n",
              "\n",
              "[5 rows x 23 columns]"
            ]
          },
          "execution_count": 15,
          "metadata": {},
          "output_type": "execute_result"
        }
      ],
      "source": [
        "df = pd.read_csv('df.csv', nrows=5000)\n",
        "df.head()"
      ]
    },
    {
      "cell_type": "code",
      "execution_count": 16,
      "metadata": {
        "colab": {
          "base_uri": "https://localhost:8080/"
        },
        "id": "VinIsDfi31Xc",
        "outputId": "caa28393-444b-4267-abe2-c9edff776c82",
        "vscode": {
          "languageId": "python"
        }
      },
      "outputs": [
        {
          "name": "stdout",
          "output_type": "stream",
          "text": [
            "<class 'pandas.core.frame.DataFrame'>\n",
            "RangeIndex: 5000 entries, 0 to 4999\n",
            "Data columns (total 23 columns):\n",
            " #   Column                          Non-Null Count  Dtype  \n",
            "---  ------                          --------------  -----  \n",
            " 0   UID                             5000 non-null   int64  \n",
            " 1   PRODUCT_NAME                    5000 non-null   object \n",
            " 2   IMAGE_URL                       5000 non-null   object \n",
            " 3   PRODUCT_PRICE                   5000 non-null   float64\n",
            " 4   PRODUCT_PRICE_TREATED_OUTLIERS  5000 non-null   float64\n",
            " 5   PRODUCT_LINK                    5000 non-null   object \n",
            " 6   PRODUCT_INFORMATION_T           5000 non-null   object \n",
            " 7   CATEGORY                        5000 non-null   object \n",
            " 8   SUB_CATEGORY                    5000 non-null   object \n",
            " 9   PRICE_PER_KG/L                  5000 non-null   float64\n",
            " 10  SATURATED_FATTY_ACIDS           5000 non-null   float64\n",
            " 11  CARBOHYDRATES                   5000 non-null   float64\n",
            " 12  SUGAR                           5000 non-null   float64\n",
            " 13  PROTEIN                         5000 non-null   float64\n",
            " 14  SALT                            5000 non-null   float64\n",
            " 15  FAT                             5000 non-null   float64\n",
            " 16  INGREDIENTS                     5000 non-null   object \n",
            " 17  STORAGE_INFORMATION             5000 non-null   object \n",
            " 18  STORE_NAME                      5000 non-null   object \n",
            " 19  PRICE_PER_KG/L_UNIT             5000 non-null   object \n",
            " 20  ENERGY_KJ                       5000 non-null   float64\n",
            " 21  NUTRITIONAL_LABEL               5000 non-null   object \n",
            " 22  combo                           5000 non-null   object \n",
            "dtypes: float64(10), int64(1), object(12)\n",
            "memory usage: 898.6+ KB\n"
          ]
        }
      ],
      "source": [
        "df.info()"
      ]
    },
    {
      "cell_type": "code",
      "execution_count": 17,
      "metadata": {
        "colab": {
          "base_uri": "https://localhost:8080/"
        },
        "id": "pQdM2Qax31Xe",
        "outputId": "efea08b0-c7d5-463e-856e-9482861705a4",
        "vscode": {
          "languageId": "python"
        }
      },
      "outputs": [
        {
          "name": "stdout",
          "output_type": "stream",
          "text": [
            "The dataset has 5000 rows and 23 columns\n",
            "\n",
            "The dataset has 0 missing values\n",
            "\n",
            "The dataset has 0 duplicated rows\n",
            "\n"
          ]
        }
      ],
      "source": [
        "print(f'The dataset has {df.shape[0]} rows and {df.shape[1]} columns', end='\\n\\n')\n",
        "print(f'The dataset has {df.isnull().sum().sum()} missing values', end='\\n\\n')\n",
        "print(f'The dataset has {df.duplicated().sum()} duplicated rows', end='\\n\\n')"
      ]
    },
    {
      "cell_type": "code",
      "execution_count": 18,
      "metadata": {
        "colab": {
          "base_uri": "https://localhost:8080/"
        },
        "id": "CwMCWmBQ31Xh",
        "outputId": "91a566c5-393f-409b-cd9a-2dcd75001fbb",
        "vscode": {
          "languageId": "python"
        }
      },
      "outputs": [
        {
          "name": "stdout",
          "output_type": "stream",
          "text": [
            "<class 'pandas.core.frame.DataFrame'>\n",
            "RangeIndex: 5000 entries, 0 to 4999\n",
            "Data columns (total 23 columns):\n",
            " #   Column                          Non-Null Count  Dtype  \n",
            "---  ------                          --------------  -----  \n",
            " 0   UID                             5000 non-null   int64  \n",
            " 1   PRODUCT_NAME                    5000 non-null   object \n",
            " 2   IMAGE_URL                       5000 non-null   object \n",
            " 3   PRODUCT_PRICE                   5000 non-null   float64\n",
            " 4   PRODUCT_PRICE_TREATED_OUTLIERS  5000 non-null   float64\n",
            " 5   PRODUCT_LINK                    5000 non-null   object \n",
            " 6   PRODUCT_INFORMATION_T           5000 non-null   object \n",
            " 7   CATEGORY                        5000 non-null   object \n",
            " 8   SUB_CATEGORY                    5000 non-null   object \n",
            " 9   PRICE_PER_KG/L                  5000 non-null   float64\n",
            " 10  SATURATED_FATTY_ACIDS           5000 non-null   float64\n",
            " 11  CARBOHYDRATES                   5000 non-null   float64\n",
            " 12  SUGAR                           5000 non-null   float64\n",
            " 13  PROTEIN                         5000 non-null   float64\n",
            " 14  SALT                            5000 non-null   float64\n",
            " 15  FAT                             5000 non-null   float64\n",
            " 16  INGREDIENTS                     5000 non-null   object \n",
            " 17  STORAGE_INFORMATION             5000 non-null   object \n",
            " 18  STORE_NAME                      5000 non-null   object \n",
            " 19  PRICE_PER_KG/L_UNIT             5000 non-null   object \n",
            " 20  ENERGY_KJ                       5000 non-null   float64\n",
            " 21  NUTRITIONAL_LABEL               5000 non-null   object \n",
            " 22  combo                           5000 non-null   object \n",
            "dtypes: float64(10), int64(1), object(12)\n",
            "memory usage: 898.6+ KB\n"
          ]
        }
      ],
      "source": [
        "# Impute missing values of numeric columns with the mean with 50% threshold\n",
        "for col in df.select_dtypes(include=np.number).columns:\n",
        "    if df[col].isnull().sum() > 0.5 * df.shape[0]:\n",
        "        df.drop(col, axis=1, inplace=True)\n",
        "    else:\n",
        "        df[col].fillna(df[col].mean(), inplace=True)\n",
        "\n",
        "# Impute missing values of categorical columns with the mode with 50% threshold\n",
        "for col in df.select_dtypes(include='object').columns:\n",
        "    if df[col].isnull().sum() > 0.5 * df.shape[0]:\n",
        "        df.drop(col, axis=1, inplace=True)\n",
        "    else:\n",
        "        df[col].fillna(df[col].mode()[0], inplace=True)\n",
        "        \n",
        "\n",
        "df.info()\n",
        "    "
      ]
    },
    {
      "cell_type": "code",
      "execution_count": 19,
      "metadata": {
        "id": "jrTEe_tt31Xm",
        "vscode": {
          "languageId": "python"
        }
      },
      "outputs": [],
      "source": [
        "# Choose the features to use for similarity. We'll use the ingredients, product name and brand name\n",
        "df['combo'] = df['CATEGORY'] + ' ' + df['SUB_CATEGORY'] + ' ' + df['PRODUCT_NAME'] + ' ' + df['INGREDIENTS']\n",
        "\n",
        "from sklearn.feature_extraction.text import CountVectorizer\n",
        "cv = CountVectorizer(min_df=50, max_df=.9)\n",
        "count_matrix = cv.fit_transform(df['combo'])"
      ]
    },
    {
      "attachments": {},
      "cell_type": "markdown",
      "metadata": {},
      "source": [
        "* We will use the cosine similarity to calculate a numeric quantity that denotes the similarity between two products. Mathematically, it is defined as follows:\n",
        "\t* $cos(x, y) = \\frac{x \\cdot y}{\\left\\Vert x \\right\\Vert \\left\\Vert y \\right\\Vert}$"
      ]
    },
    {
      "cell_type": "code",
      "execution_count": 20,
      "metadata": {
        "id": "PLQjgJX_31Xr",
        "vscode": {
          "languageId": "python"
        }
      },
      "outputs": [],
      "source": [
        "from sklearn.metrics.pairwise import cosine_similarity\n",
        "\n",
        "cosine_sim = cosine_similarity(count_matrix) "
      ]
    },
    {
      "cell_type": "code",
      "execution_count": 21,
      "metadata": {
        "id": "XLcKG1Vj31Xt",
        "vscode": {
          "languageId": "python"
        }
      },
      "outputs": [],
      "source": [
        "def get_recommendations(PRODUCT_NAME, top_n=3):\n",
        "    product_index = df[df['CATEGORY']==PRODUCT_NAME].index[0]\n",
        "    similar_products = cosine_sim[product_index].argsort()[:-top_n:-1]\n",
        "    return df.iloc[similar_products].PRODUCT_NAME.values "
      ]
    },
    {
      "cell_type": "code",
      "execution_count": 22,
      "metadata": {
        "colab": {
          "base_uri": "https://localhost:8080/"
        },
        "id": "Ho1IZCeEIBl6",
        "outputId": "5d522a0b-7727-4222-8b5e-1eaad955c7f7",
        "vscode": {
          "languageId": "python"
        }
      },
      "outputs": [
        {
          "data": {
            "text/plain": [
              "array(['Almdudler Original Herb Lemonade',\n",
              "       'Almdudler Original herbal lemonade 1l'], dtype=object)"
            ]
          },
          "execution_count": 22,
          "metadata": {},
          "output_type": "execute_result"
        }
      ],
      "source": [
        "get_recommendations('Food & Beverage')"
      ]
    },
    {
      "attachments": {},
      "cell_type": "markdown",
      "metadata": {},
      "source": [
        "* The above function is an example of a content-based recommender system. It recommends products based on the similarity of their features. It is known as a content-based recommender because the features of the products are used to recommend other products.\n",
        "* The function takes in a product name and returns the top 5 similar products.\n"
      ]
    },
    {
      "attachments": {},
      "cell_type": "markdown",
      "metadata": {},
      "source": [
        "* We could also use the Pearson Correlation Coefficient to calculate a numeric quantity that denotes the similarity\n",
        "between two products. Mathematically, it is defined as follows:\n",
        "    * $\\rho_{X,Y} = \\frac{cov(X,Y)}{\\sigma_X \\sigma_Y} = \\frac{E[(X-\\mu_X)(Y-\\mu_Y)]}{\\sigma_X \\sigma_Y}$\n",
        "    * $\\rho_{X,Y} = \\frac{\\sum_{i=1}^{n}(x_i - \\mu_X)(y_i - \\mu_Y)}{\\sqrt{\\sum_{i=1}^{n}(x_i - \\mu_X)^2}\\sqrt{\\sum_{i=1}^{n}(y_i - \\mu_Y)^2}}$\n",
        "    \n",
        "\n",
        "* We will use the Euclidean Distance to calculate the distance between two vectors. Mathematically, it is defined as follows:\n",
        "    * $d(p, q) = \\sqrt{\\sum_{i=1}^{n}(p_i - q_i)^2}$"
      ]
    },
    {
      "cell_type": "code",
      "execution_count": 10,
      "metadata": {
        "vscode": {
          "languageId": "python"
        }
      },
      "outputs": [],
      "source": [
        "# Saving the model\n",
        "import pickle\n",
        "pickle.dump(cosine_sim, open('cosine_sim.pkl', 'wb'))"
      ]
    },
    {
      "attachments": {},
      "cell_type": "markdown",
      "metadata": {},
      "source": [
        "## Topic-Based Recommender Systems\n",
        "* We will use the Latent Dirichlet Allocation (LDA) to recommend products based on the topics. LDA is a generative statistical model that allows sets of observations to be explained by unobserved groups that explain why some parts of the data are similar. For example, if observations are words collected into documents, it posits that each document is a mixture of a small number of topics and that each word's presence is attributable to one of the document's topics. LDA is an example of a topic model."
      ]
    },
    {
      "cell_type": "code",
      "execution_count": 23,
      "metadata": {
        "vscode": {
          "languageId": "python"
        }
      },
      "outputs": [
        {
          "data": {
            "text/html": [
              "<style>#sk-container-id-1 {color: black;background-color: white;}#sk-container-id-1 pre{padding: 0;}#sk-container-id-1 div.sk-toggleable {background-color: white;}#sk-container-id-1 label.sk-toggleable__label {cursor: pointer;display: block;width: 100%;margin-bottom: 0;padding: 0.3em;box-sizing: border-box;text-align: center;}#sk-container-id-1 label.sk-toggleable__label-arrow:before {content: \"▸\";float: left;margin-right: 0.25em;color: #696969;}#sk-container-id-1 label.sk-toggleable__label-arrow:hover:before {color: black;}#sk-container-id-1 div.sk-estimator:hover label.sk-toggleable__label-arrow:before {color: black;}#sk-container-id-1 div.sk-toggleable__content {max-height: 0;max-width: 0;overflow: hidden;text-align: left;background-color: #f0f8ff;}#sk-container-id-1 div.sk-toggleable__content pre {margin: 0.2em;color: black;border-radius: 0.25em;background-color: #f0f8ff;}#sk-container-id-1 input.sk-toggleable__control:checked~div.sk-toggleable__content {max-height: 200px;max-width: 100%;overflow: auto;}#sk-container-id-1 input.sk-toggleable__control:checked~label.sk-toggleable__label-arrow:before {content: \"▾\";}#sk-container-id-1 div.sk-estimator input.sk-toggleable__control:checked~label.sk-toggleable__label {background-color: #d4ebff;}#sk-container-id-1 div.sk-label input.sk-toggleable__control:checked~label.sk-toggleable__label {background-color: #d4ebff;}#sk-container-id-1 input.sk-hidden--visually {border: 0;clip: rect(1px 1px 1px 1px);clip: rect(1px, 1px, 1px, 1px);height: 1px;margin: -1px;overflow: hidden;padding: 0;position: absolute;width: 1px;}#sk-container-id-1 div.sk-estimator {font-family: monospace;background-color: #f0f8ff;border: 1px dotted black;border-radius: 0.25em;box-sizing: border-box;margin-bottom: 0.5em;}#sk-container-id-1 div.sk-estimator:hover {background-color: #d4ebff;}#sk-container-id-1 div.sk-parallel-item::after {content: \"\";width: 100%;border-bottom: 1px solid gray;flex-grow: 1;}#sk-container-id-1 div.sk-label:hover label.sk-toggleable__label {background-color: #d4ebff;}#sk-container-id-1 div.sk-serial::before {content: \"\";position: absolute;border-left: 1px solid gray;box-sizing: border-box;top: 0;bottom: 0;left: 50%;z-index: 0;}#sk-container-id-1 div.sk-serial {display: flex;flex-direction: column;align-items: center;background-color: white;padding-right: 0.2em;padding-left: 0.2em;position: relative;}#sk-container-id-1 div.sk-item {position: relative;z-index: 1;}#sk-container-id-1 div.sk-parallel {display: flex;align-items: stretch;justify-content: center;background-color: white;position: relative;}#sk-container-id-1 div.sk-item::before, #sk-container-id-1 div.sk-parallel-item::before {content: \"\";position: absolute;border-left: 1px solid gray;box-sizing: border-box;top: 0;bottom: 0;left: 50%;z-index: -1;}#sk-container-id-1 div.sk-parallel-item {display: flex;flex-direction: column;z-index: 1;position: relative;background-color: white;}#sk-container-id-1 div.sk-parallel-item:first-child::after {align-self: flex-end;width: 50%;}#sk-container-id-1 div.sk-parallel-item:last-child::after {align-self: flex-start;width: 50%;}#sk-container-id-1 div.sk-parallel-item:only-child::after {width: 0;}#sk-container-id-1 div.sk-dashed-wrapped {border: 1px dashed gray;margin: 0 0.4em 0.5em 0.4em;box-sizing: border-box;padding-bottom: 0.4em;background-color: white;}#sk-container-id-1 div.sk-label label {font-family: monospace;font-weight: bold;display: inline-block;line-height: 1.2em;}#sk-container-id-1 div.sk-label-container {text-align: center;}#sk-container-id-1 div.sk-container {/* jupyter's `normalize.less` sets `[hidden] { display: none; }` but bootstrap.min.css set `[hidden] { display: none !important; }` so we also need the `!important` here to be able to override the default hidden behavior on the sphinx rendered scikit-learn.org. See: https://github.com/scikit-learn/scikit-learn/issues/21755 */display: inline-block !important;position: relative;}#sk-container-id-1 div.sk-text-repr-fallback {display: none;}</style><div id=\"sk-container-id-1\" class=\"sk-top-container\"><div class=\"sk-text-repr-fallback\"><pre>LatentDirichletAllocation(n_components=5, random_state=42)</pre><b>In a Jupyter environment, please rerun this cell to show the HTML representation or trust the notebook. <br />On GitHub, the HTML representation is unable to render, please try loading this page with nbviewer.org.</b></div><div class=\"sk-container\" hidden><div class=\"sk-item\"><div class=\"sk-estimator sk-toggleable\"><input class=\"sk-toggleable__control sk-hidden--visually\" id=\"sk-estimator-id-1\" type=\"checkbox\" checked><label for=\"sk-estimator-id-1\" class=\"sk-toggleable__label sk-toggleable__label-arrow\">LatentDirichletAllocation</label><div class=\"sk-toggleable__content\"><pre>LatentDirichletAllocation(n_components=5, random_state=42)</pre></div></div></div></div></div>"
            ],
            "text/plain": [
              "LatentDirichletAllocation(n_components=5, random_state=42)"
            ]
          },
          "execution_count": 23,
          "metadata": {},
          "output_type": "execute_result"
        }
      ],
      "source": [
        "# Building LDA model\n",
        "from sklearn.decomposition import LatentDirichletAllocation\n",
        "lda = LatentDirichletAllocation(n_components=5, random_state=42)\n",
        "lda.fit(count_matrix)\n",
        "\n",
        "# Saving the model\n",
        "# pickle.dump(lda, open('lda.pkl', 'wb'))"
      ]
    },
    {
      "cell_type": "code",
      "execution_count": 24,
      "metadata": {
        "vscode": {
          "languageId": "python"
        }
      },
      "outputs": [
        {
          "data": {
            "text/plain": [
              "array(['almond butter brown 250g', 'Almdudler Sugar Free Herb Lemonade'],\n",
              "      dtype=object)"
            ]
          },
          "execution_count": 24,
          "metadata": {},
          "output_type": "execute_result"
        }
      ],
      "source": [
        "# Transforming the count matrix\n",
        "count_matrix_lda = lda.transform(count_matrix)\n",
        "\n",
        "# Saving the transformed matrix\n",
        "#pickle.dump(count_matrix_lda, open('count_matrix_lda.pkl', 'wb'))\n",
        "\n",
        "# Building a recommendation system using LDA\n",
        "def get_recommendations_lda(PRODUCT_NAME, top_n=3):\n",
        "    product_index = df[df['CATEGORY']==PRODUCT_NAME].index[0]\n",
        "    similar_products = count_matrix_lda[product_index].argsort()[:-top_n:-1]\n",
        "    return df.iloc[similar_products].PRODUCT_NAME.values\n",
        "\n",
        "get_recommendations_lda('Food & Beverage')"
      ]
    },
    {
      "attachments": {},
      "cell_type": "markdown",
      "metadata": {},
      "source": [
        "## Incorporating LLMs.\n",
        "* For our case, we will use the Claude LLM API from Anthropic using API keys."
      ]
    },
    {
      "cell_type": "code",
      "execution_count": 31,
      "metadata": {
        "vscode": {
          "languageId": "python"
        }
      },
      "outputs": [
        {
          "data": {
            "text/plain": [
              "<anthropic.api.Client at 0x2bd559e9720>"
            ]
          },
          "execution_count": 31,
          "metadata": {},
          "output_type": "execute_result"
        }
      ],
      "source": [
        "api_key = ''\n",
        "\n",
        "import anthropic\n",
        "client = anthropic.Client(api_key)\n",
        "\n",
        "client"
      ]
    },
    {
      "cell_type": "code",
      "execution_count": 42,
      "metadata": {
        "vscode": {
          "languageId": "python"
        }
      },
      "outputs": [],
      "source": [
        "\n",
        "response = client.completion(\n",
        "    prompt=f\"{anthropic.HUMAN_PROMPT}Get groceries recommendations{anthropic.AI_PROMPT}\",\n",
        "    model = 'claude-v1',\n",
        "    max_tokens_to_sample=100,\n",
        "    stop_sequences=[anthropic.HUMAN_PROMPT]\n",
        ")\n"
      ]
    }
  ],
  "metadata": {
    "accelerator": "TPU",
    "colab": {
      "provenance": []
    },
    "kernelspec": {
      "display_name": "Python 3 (ipykernel)",
      "language": "python",
      "name": "python3"
    },
    "language_info": {
      "name": "",
      "version": ""
    },
    "orig_nbformat": 4
  },
  "nbformat": 4,
  "nbformat_minor": 0
}
