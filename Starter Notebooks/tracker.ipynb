{
 "cells": [
  {
   "cell_type": "code",
   "execution_count": 2,
   "metadata": {},
   "outputs": [
    {
     "name": "stdout",
     "output_type": "stream",
     "text": [
      "timezone : ('Africa/Nairobi',)\n",
      "location : Kenya\n",
      "service provider : Airtel\n"
     ]
    }
   ],
   "source": [
    "import phonenumbers\n",
    "from phonenumbers import timezone\n",
    "from phonenumbers import geocoder\n",
    "from phonenumbers import carrier\n",
    "\n",
    "#enter phone number along with country code\n",
    "number = input(\"Enter phone number with country code : \")\n",
    " \n",
    "# Parsing String to the Phone number\n",
    "phoneNumber = phonenumbers.parse(number)\n",
    " \n",
    "# printing the timezone using the timezone module\n",
    "timeZone = timezone.time_zones_for_number(phoneNumber)\n",
    "print(\"timezone : \"+str(timeZone))\n",
    " \n",
    "# printing the geolocation of the given number using the geocoder module\n",
    "geolocation = geocoder.description_for_number(phoneNumber,\"en\")\n",
    "print(\"location : \"+geolocation)\n",
    " \n",
    "# printing the service provider name using the carrier module\n",
    "service = carrier.name_for_number(phoneNumber,\"en\")\n",
    "print(\"service provider : \"+service)"
   ]
  },
  {
   "cell_type": "code",
   "execution_count": null,
   "metadata": {},
   "outputs": [],
   "source": [
    "# track location with the map using the phone number\n",
    "import phonenumbers\n",
    "from phonenumbers import geocoder\n",
    "from phonenumbers import carrier\n",
    " \n",
    "import folium\n",
    "from opencage.geocoder import OpenCageGeocode\n",
    " \n",
    "# taking input the phonenumber along with the country code\n",
    "#Example: +91 8897909596\n",
    "number = input(\"Enter the PhoneNumber with the country code : \")\n",
    "\n",
    "# Parsing the phonenumber string to convert it into phonenumber format\n",
    "phoneNumber = phonenumbers.parse(number)\n",
    " \n",
    "# Storing the API Key in the Key variable\n",
    "#ex-API \"45xx61272xxxxd1cb57164b53exxxx\"\n",
    "Key = \" Enter your Api\" #generate your api https://opencagedata.com/api\n",
    " \n",
    "# Using the geocoder module of phonenumbers to print the Location\n",
    "yourLocation = geocoder.description_for_number(phoneNumber,\"en\")\n",
    "print(\"Location : \"+yourLocation)\n",
    " \n",
    "# Using the carrier module of phonenumbers to print the service provider name\n",
    "yourServiceProvider = carrier.name_for_number(phoneNumber,\"en\")\n",
    "print(\"service provider : \"+yourServiceProvider)\n",
    " \n",
    "# Using opencage to get the latitude and longitude of the location\n",
    "geocoder = OpenCageGeocode(Key)\n",
    "query = str(yourLocation)\n",
    "results = geocoder.geocode(query)\n",
    " \n",
    "# Assigning the latitude and longitude values to the lat and lng variables\n",
    "lat = results[0]['geometry']['lat']\n",
    "lng = results[0]['geometry']['lng']\n",
    " \n",
    "# Getting the map for the given latitude and longitude\n",
    "myMap = folium.Map(loction=[lat,lng],zoom_start = 9)\n",
    " \n",
    "# Adding a Marker on the map to show the location name\n",
    "folium.Marker([lat,lng],popup=yourLocation).add_to(myMap)\n",
    " \n",
    "# save map to html file to open it and see the actual location in map format\n",
    "myMap.save(\"Location.html\")\n"
   ]
  }
 ],
 "metadata": {
  "kernelspec": {
   "display_name": "venv",
   "language": "python",
   "name": "python3"
  },
  "language_info": {
   "codemirror_mode": {
    "name": "ipython",
    "version": 3
   },
   "file_extension": ".py",
   "mimetype": "text/x-python",
   "name": "python",
   "nbconvert_exporter": "python",
   "pygments_lexer": "ipython3",
   "version": "3.11.9"
  }
 },
 "nbformat": 4,
 "nbformat_minor": 2
}
