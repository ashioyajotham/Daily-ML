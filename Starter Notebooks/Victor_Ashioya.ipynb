{
 "cells": [
  {
   "cell_type": "markdown",
   "metadata": {
    "id": "kxAFONmqSJA5"
   },
   "source": [
    "# Python Assessment\n",
    "You are required to go through the four problems below. \n",
    "Where asked, name variables and write functions as instructed. \n",
    "You are allowed to research on the questions, and refresh on concepts. \n",
    "\n",
    "Best of luck!\n",
    "\n",
    "\n",
    "### How to run the code\n",
    "\n",
    "This is an executable [Colab notebook](https://colab.research.google.com/) which is like the [Jupyter Notebook IDE](https://jupyter.org/)(don't worry if these terms seem unfamiliar; we don't require to learn a lot about them in order to use them). You can _run_ this tutorial and experiment with the code examples in a couple of ways: *using free online resources* (recommended) or *on your computer*.\n",
    "\n",
    "#### Option 1: Running using Colab (1-click, recommended)\n",
    "\n",
    "The easiest way to start executing the code is through Google Colab, but you'll need to create an account on [Google Colab](https://colab.research.google.com). Once this file is open, you will need to **create a copy of this file** in your Google Drive by clicking on File->Save a Copy in Drive, where you'll be able to edit, and run the file separately.\n",
    "\n",
    "\n",
    "#### Option 2: Running on your computer locally\n",
    "\n",
    "To run the code on your computer locally, you'll need to set up [Python](https://www.python.org), download the notebook and install the required libraries. We recommend using the [Conda](https://docs.conda.io/projects/conda/en/latest/user-guide/install/) distribution of Python. Download this notebook and you will be able to run it on your machine.\n"
   ]
  },
  {
   "cell_type": "markdown",
   "metadata": {
    "id": "GoXLORjpVD9W"
   },
   "source": [
    "## Problem 1 \n",
    "\n",
    "In this scenario, three colleagues are travelling for a business trip. The price for each ticket to their destination came in at 723.28 Rwandan Franc. The friends decide to split the amount equally, after adding meals which would cost 30% of the price of one ticket. Calculate the cost of meals, the total amount paid, and each friend's share, then output a message saying \"Each person paid: \" followed by the resulting number."
   ]
  },
  {
   "cell_type": "code",
   "execution_count": 1,
   "metadata": {
    "colab": {
     "base_uri": "https://localhost:8080/"
    },
    "id": "7Z3BhKYH7V10",
    "outputId": "c67e0450-4767-4a92-a426-c7086ae6e971"
   },
   "outputs": [
    {
     "name": "stdout",
     "output_type": "stream",
     "text": [
      "Each person paid:  313.42133333333334\n"
     ]
    }
   ],
   "source": [
    "# Calculate individual fare\n",
    "fare = 723.28/3\n",
    "\n",
    "# Calculate meal price\n",
    "meal = 30/100 * fare\n",
    "\n",
    "Total = fare + meal\n",
    "print(\"Each person paid: \", Total)"
   ]
  },
  {
   "cell_type": "markdown",
   "metadata": {
    "id": "ZGvR4TH3mUS6"
   },
   "source": [
    "## Problem 2\n",
    "\n",
    "Suppose you have been assigned the task of creating a program of calculating the income tax of employees in a company you work with in Kenya. You have done your research and found the percentage tax against income to be as follows:\n",
    "\n",
    "----------------------------------------------------------------------------------------------------\n",
    "        Tax Band                             Annual                       Monthly                    Rates               \n",
    "        ----------------------------------------------------------------------------------------------------\n",
    "        On the First                         KSh 288000                   KSh 24000                  10%\n",
    "        On the Next                          KSh 100000                   KSh 8333                   25%         \n",
    "        On all income in excess of           KSh 388000                   KSh 32333                  30%\n",
    "             \n",
    "        ----------------------------------------------------------------------------------------------------\n",
    "Create a function that would be able to calculate and return the annual income tax."
   ]
  },
  {
   "cell_type": "code",
   "execution_count": 2,
   "metadata": {
    "colab": {
     "base_uri": "https://localhost:8080/"
    },
    "id": "mUUW-NVh6AvP",
    "outputId": "362c1820-98c6-4ad3-e9c8-ae1a1e853610"
   },
   "outputs": [
    {
     "data": {
      "text/plain": [
       "[]"
      ]
     },
     "execution_count": 2,
     "metadata": {},
     "output_type": "execute_result"
    }
   ],
   "source": [
    "salary = []\n",
    "income_taxes = []\n",
    "\n",
    "def taxes(salary):\n",
    "  for sal in salary:\n",
    "    if sal <= 288000:\n",
    "      income_taxes.append(10/100 * sal)\n",
    "    elif sal > 288000 and sal <= 388000:\n",
    "      income_taxes.append(25/100 * sal)\n",
    "    else:\n",
    "      income_taxes.append(30/100 * sal)\n",
    "\n",
    "  return income_taxes\n",
    "  print(income_taxes)\n",
    "\n",
    "taxes(salary)"
   ]
  },
  {
   "cell_type": "markdown",
   "metadata": {
    "id": "bMJNdrUD6BR0"
   },
   "source": [
    "You then received the `annual_salaries` for employees at the company as the following dictionary. You are supposed to calculate their income taxes. "
   ]
  },
  {
   "cell_type": "code",
   "execution_count": 3,
   "metadata": {
    "id": "ANdG5ZdelZtc"
   },
   "outputs": [],
   "source": [
    "salaries={1: 108552, 2: 72679, 3: 57198, 4: 271296, 5: 99722, 6: 251814, 7: 210458, 8: 247305, 9: 202855, 10: 117166, 11: 152529, 12: 273912,\n",
    "          13: 184420, 14: 236298, 15: 50508, 16: 206862, 17: 72062, 18: 258068, 19: 78794, 20: 117025, 21: 284822, 22: 378505, 23: 370294,\n",
    "          24: 302483,25: 307528, 26: 315354, 27: 283511, 28: 299262, 29: 333080, 30: 311823, 31: 371120, 32: 347659, 33: 287133, 34: 376662,\n",
    "          35: 350110, 36: 307104, 37: 367396, 38: 307843, 39: 361603, 40: 375365, 41: 293453, 42: 377251, 43: 303910, 44: 325292, 45: 282092,\n",
    "          46: 366539, 47: 292615, 48: 296441, 49: 323248, 50: 367250, 51: 317307, 52: 347091, 53: 370317, 54: 341956, 55: 355902, 56: 323268,\n",
    "          57: 308002, 58: 373975, 59: 297598, 60: 343184, 61: 371680, 62: 301567, 63: 312669, 64: 290943, 65: 333425, 66: 324122, 67: 334473,\n",
    "          68: 376202, 69: 312642, 70: 292535, 71: 282528, 72: 353944, 73: 315266, 74: 320626, 75: 326936, 76: 371358, 77: 316628, 78: 287070,\n",
    "          79: 289512, 80: 352505, 81: 354667, 82: 370024, 83: 322802, 84: 281877, 85: 374898, 86: 422116, 87: 430919, 88: 504574, 89: 558862,\n",
    "          90: 407170, 91: 590550, 92: 550552, 93: 624273, 94: 592890, 95: 664253, 96: 750000, 97: 700000, 98: 700000, 99: 700000, 100: 700000}"
   ]
  },
  {
   "cell_type": "markdown",
   "metadata": {
    "id": "HxYOyVM0m6uO"
   },
   "source": [
    "Use the function above to return a list of the respective taxes-`income_taxes`."
   ]
  },
  {
   "cell_type": "code",
   "execution_count": 4,
   "metadata": {
    "colab": {
     "base_uri": "https://localhost:8080/"
    },
    "id": "DH9_b_-5HvPq",
    "outputId": "0a7eee73-034c-4aa6-c4b7-5e540a36d512"
   },
   "outputs": [
    {
     "data": {
      "text/plain": [
       "[10855.2,\n",
       " 7267.900000000001,\n",
       " 5719.8,\n",
       " 27129.600000000002,\n",
       " 9972.2,\n",
       " 25181.4,\n",
       " 21045.800000000003,\n",
       " 24730.5,\n",
       " 20285.5,\n",
       " 11716.6,\n",
       " 15252.900000000001,\n",
       " 27391.2,\n",
       " 18442.0,\n",
       " 23629.800000000003,\n",
       " 5050.8,\n",
       " 20686.2,\n",
       " 7206.200000000001,\n",
       " 25806.800000000003,\n",
       " 7879.400000000001,\n",
       " 11702.5,\n",
       " 28482.2,\n",
       " 94626.25,\n",
       " 92573.5,\n",
       " 75620.75,\n",
       " 76882.0,\n",
       " 78838.5,\n",
       " 28351.100000000002,\n",
       " 74815.5,\n",
       " 83270.0,\n",
       " 77955.75,\n",
       " 92780.0,\n",
       " 86914.75,\n",
       " 28713.300000000003,\n",
       " 94165.5,\n",
       " 87527.5,\n",
       " 76776.0,\n",
       " 91849.0,\n",
       " 76960.75,\n",
       " 90400.75,\n",
       " 93841.25,\n",
       " 73363.25,\n",
       " 94312.75,\n",
       " 75977.5,\n",
       " 81323.0,\n",
       " 28209.2,\n",
       " 91634.75,\n",
       " 73153.75,\n",
       " 74110.25,\n",
       " 80812.0,\n",
       " 91812.5,\n",
       " 79326.75,\n",
       " 86772.75,\n",
       " 92579.25,\n",
       " 85489.0,\n",
       " 88975.5,\n",
       " 80817.0,\n",
       " 77000.5,\n",
       " 93493.75,\n",
       " 74399.5,\n",
       " 85796.0,\n",
       " 92920.0,\n",
       " 75391.75,\n",
       " 78167.25,\n",
       " 72735.75,\n",
       " 83356.25,\n",
       " 81030.5,\n",
       " 83618.25,\n",
       " 94050.5,\n",
       " 78160.5,\n",
       " 73133.75,\n",
       " 28252.800000000003,\n",
       " 88486.0,\n",
       " 78816.5,\n",
       " 80156.5,\n",
       " 81734.0,\n",
       " 92839.5,\n",
       " 79157.0,\n",
       " 28707.0,\n",
       " 72378.0,\n",
       " 88126.25,\n",
       " 88666.75,\n",
       " 92506.0,\n",
       " 80700.5,\n",
       " 28187.7,\n",
       " 93724.5,\n",
       " 126634.79999999999,\n",
       " 129275.7,\n",
       " 151372.19999999998,\n",
       " 167658.6,\n",
       " 122151.0,\n",
       " 177165.0,\n",
       " 165165.6,\n",
       " 187281.9,\n",
       " 177867.0,\n",
       " 199275.9,\n",
       " 225000.0,\n",
       " 210000.0,\n",
       " 210000.0,\n",
       " 210000.0,\n",
       " 210000.0]"
      ]
     },
     "execution_count": 4,
     "metadata": {},
     "output_type": "execute_result"
    }
   ],
   "source": [
    "salary = list(salaries.values())\n",
    "income_taxes = []\n",
    "\n",
    "def taxes(salary):\n",
    "  for sal in salary:\n",
    "    if sal <= 288000:\n",
    "      income_taxes.append(10/100 * sal)\n",
    "    elif sal > 288000 and sal <= 388000:\n",
    "      income_taxes.append(25/100 * sal)\n",
    "    else:\n",
    "      income_taxes.append(30/100 * sal)\n",
    "\n",
    "  return income_taxes\n",
    "  print(income_taxes)\n",
    "\n",
    "taxes(salary)"
   ]
  },
  {
   "cell_type": "markdown",
   "metadata": {
    "id": "Zjt_ZOCNHkcq"
   },
   "source": [
    "## Problem 3\n",
    "Convert the `income_taxes` list to a numpy array\n",
    "\n",
    "Now, suppose the company wanted you to calculate the total taxes that their employees pay. How would you do this using a numpy function. Calculate this and store in a variable `total_taxes` \n",
    "\n",
    "Using the total taxes paid, could you calculate the mean tax paid by employees? Calculate this and store in a variable `mean_tax`\n",
    "\n",
    "Using the values in the array, calculate the [mid-range](http://content.nroc.org/DevelopmentalMath/COURSE_TEXT2_RESOURCE/U08_L2_T1_text_final.html#:~:text=It%20is%20also%20useful%20to%20know%20what%20number%20is%20mid%2Dway%20between%20the%20least%20value%20and%20the%20greatest%20value%20of%20the%20data%20set.%20This%20number%20is%20called%20the%20midrange.%20To%20find%20the%20midrange%2C%20add%20together%20the%20least%20and%20greatest%20values%20and%20divide%20by%20two%2C%20or%20in%20other%20words%2C%20find%20the%20mean%20of%20the%20least%20and%20greatest%20values.) of the income taxes provided. Store in a variable `midrange_tax`\n",
    "\n",
    "The company also wants to find out the unique figures paid as tax by their employees. Use a numpy function to find only the unique values, and return them as a numpy array `unique_taxes`."
   ]
  },
  {
   "cell_type": "code",
   "execution_count": 5,
   "metadata": {
    "colab": {
     "base_uri": "https://localhost:8080/"
    },
    "id": "46HT51oNKyNB",
    "outputId": "154e7104-e3ef-4d0d-f649-46c423785c6a"
   },
   "outputs": [
    {
     "name": "stdout",
     "output_type": "stream",
     "text": [
      "[ 10855.2    7267.9    5719.8   27129.6    9972.2   25181.4   21045.8\n",
      "  24730.5   20285.5   11716.6   15252.9   27391.2   18442.    23629.8\n",
      "   5050.8   20686.2    7206.2   25806.8    7879.4   11702.5   28482.2\n",
      "  94626.25  92573.5   75620.75  76882.    78838.5   28351.1   74815.5\n",
      "  83270.    77955.75  92780.    86914.75  28713.3   94165.5   87527.5\n",
      "  76776.    91849.    76960.75  90400.75  93841.25  73363.25  94312.75\n",
      "  75977.5   81323.    28209.2   91634.75  73153.75  74110.25  80812.\n",
      "  91812.5   79326.75  86772.75  92579.25  85489.    88975.5   80817.\n",
      "  77000.5   93493.75  74399.5   85796.    92920.    75391.75  78167.25\n",
      "  72735.75  83356.25  81030.5   83618.25  94050.5   78160.5   73133.75\n",
      "  28252.8   88486.    78816.5   80156.5   81734.    92839.5   79157.\n",
      "  28707.    72378.    88126.25  88666.75  92506.    80700.5   28187.7\n",
      "  93724.5  126634.8  129275.7  151372.2  167658.6  122151.   177165.\n",
      " 165165.6  187281.9  177867.   199275.9  225000.   210000.   210000.\n",
      " 210000.   210000.  ]\n"
     ]
    }
   ],
   "source": [
    "import numpy\n",
    "income_taxes_arr = numpy.array(income_taxes)\n",
    "print(income_taxes_arr)"
   ]
  },
  {
   "cell_type": "code",
   "execution_count": 6,
   "metadata": {
    "colab": {
     "base_uri": "https://localhost:8080/"
    },
    "id": "1La_SDCoW_n1",
    "outputId": "2c3e3a91-e212-4e7a-ce4d-8d511abf1dec"
   },
   "outputs": [
    {
     "name": "stdout",
     "output_type": "stream",
     "text": [
      "The total taxes are  8051506.8\n"
     ]
    }
   ],
   "source": [
    "total_taxes = income_taxes_arr.sum()\n",
    "print(\"The total taxes are \", total_taxes)"
   ]
  },
  {
   "cell_type": "code",
   "execution_count": 7,
   "metadata": {
    "colab": {
     "base_uri": "https://localhost:8080/"
    },
    "id": "MGHlW1NEW__t",
    "outputId": "3260b87e-9c09-4e3b-d99b-f6ccab6f276c"
   },
   "outputs": [
    {
     "name": "stdout",
     "output_type": "stream",
     "text": [
      "The mean tax is  80515.068\n"
     ]
    }
   ],
   "source": [
    "mean_tax = numpy.mean(income_taxes_arr)\n",
    "print(\"The mean tax is \", mean_tax)"
   ]
  },
  {
   "cell_type": "code",
   "execution_count": 8,
   "metadata": {
    "colab": {
     "base_uri": "https://localhost:8080/"
    },
    "id": "M7UFphRkXAfF",
    "outputId": "6f8dab76-8cdd-4ade-f399-f07acd86b90f"
   },
   "outputs": [
    {
     "name": "stdout",
     "output_type": "stream",
     "text": [
      "115025.4\n"
     ]
    }
   ],
   "source": [
    "max = numpy.max(income_taxes_arr)\n",
    "min = numpy.min(income_taxes_arr)\n",
    "mid_range = (max + min)/2\n",
    "print(mid_range)"
   ]
  },
  {
   "cell_type": "code",
   "execution_count": 9,
   "metadata": {
    "colab": {
     "base_uri": "https://localhost:8080/"
    },
    "id": "nHsEgDqf2Q13",
    "outputId": "09564d98-a68f-43b7-afa3-0c34807f1807"
   },
   "outputs": [
    {
     "name": "stdout",
     "output_type": "stream",
     "text": [
      "The unique taxes are  [  5050.8    5719.8    7206.2    7267.9    7879.4    9972.2   10855.2\n",
      "  11702.5   11716.6   15252.9   18442.    20285.5   20686.2   21045.8\n",
      "  23629.8   24730.5   25181.4   25806.8   27129.6   27391.2   28187.7\n",
      "  28209.2   28252.8   28351.1   28482.2   28707.    28713.3   72378.\n",
      "  72735.75  73133.75  73153.75  73363.25  74110.25  74399.5   74815.5\n",
      "  75391.75  75620.75  75977.5   76776.    76882.    76960.75  77000.5\n",
      "  77955.75  78160.5   78167.25  78816.5   78838.5   79157.    79326.75\n",
      "  80156.5   80700.5   80812.    80817.    81030.5   81323.    81734.\n",
      "  83270.    83356.25  83618.25  85489.    85796.    86772.75  86914.75\n",
      "  87527.5   88126.25  88486.    88666.75  88975.5   90400.75  91634.75\n",
      "  91812.5   91849.    92506.    92573.5   92579.25  92780.    92839.5\n",
      "  92920.    93493.75  93724.5   93841.25  94050.5   94165.5   94312.75\n",
      "  94626.25 122151.   126634.8  129275.7  151372.2  165165.6  167658.6\n",
      " 177165.   177867.   187281.9  199275.9  210000.   225000.  ]\n"
     ]
    }
   ],
   "source": [
    "unique_taxes = numpy.unique(income_taxes_arr)\n",
    "print(\"The unique taxes are \", unique_taxes)"
   ]
  },
  {
   "cell_type": "markdown",
   "metadata": {
    "id": "uDvMvrzKfqXB"
   },
   "source": [
    "Now, out of curiosity, you want to see the disparities in income among the employees. Using pyplot and appropriate income bands, visualize the data in a histogram, including the mean and median. Use appropriate labels and a legend."
   ]
  },
  {
   "cell_type": "code",
   "execution_count": 10,
   "metadata": {
    "colab": {
     "base_uri": "https://localhost:8080/",
     "height": 265
    },
    "id": "Tu5juGg5gb4P",
    "outputId": "2fbbfe1a-0b54-4101-9919-7ba0160931f9"
   },
   "outputs": [
    {
     "data": {
      "image/png": "[encoded data removed]",
      "text/plain": [
       "<Figure size 640x480 with 1 Axes>"
      ]
     },
     "metadata": {},
     "output_type": "display_data"
    }
   ],
   "source": [
    "median_tax = numpy.median(income_taxes_arr)\n",
    "\n",
    "import matplotlib.pyplot as plt\n",
    "f, ax = plt.subplots()\n",
    "plt.hist(income_taxes_arr)\n",
    "plt.axvline(mean_tax, color=\"r\", linestyle=\"solid\", linewidth=3, label=\"Mean tax\")\n",
    "plt.axvline(median_tax, color=\"black\", linestyle=\"dotted\", linewidth=3, label=\"Median tax\")\n",
    "plt.axvline(mid_range, color=\"y\", linestyle=\"dashed\", linewidth=3, label=\"Mid range\")\n",
    "plt.legend();"
   ]
  },
  {
   "cell_type": "markdown",
   "metadata": {
    "id": "bjNSxQwRXA2V"
   },
   "source": [
    "## Problem 4"
   ]
  },
  {
   "cell_type": "markdown",
   "metadata": {
    "id": "SToLF0dJYb85"
   },
   "source": [
    "Read and load the [Netflix dataset](https://) from the link and name the dataframe `netflix`. We are going to use pandas to analyze the dataset."
   ]
  },
  {
   "cell_type": "code",
   "execution_count": 11,
   "metadata": {
    "id": "voYC8d9XXhWO"
   },
   "outputs": [],
   "source": [
    "import pandas as pd"
   ]
  },
  {
   "cell_type": "code",
   "execution_count": 12,
   "metadata": {
    "colab": {
     "base_uri": "https://localhost:8080/",
     "height": 476
    },
    "id": "ogxzm4mWXpOt",
    "outputId": "d249807f-1b10-4aee-fc75-b2ed538dd0be"
   },
   "outputs": [
    {
     "data": {
      "text/html": [
       "<div>\n",
       "<style scoped>\n",
       "    .dataframe tbody tr th:only-of-type {\n",
       "        vertical-align: middle;\n",
       "    }\n",
       "\n",
       "    .dataframe tbody tr th {\n",
       "        vertical-align: top;\n",
       "    }\n",
       "\n",
       "    .dataframe thead th {\n",
       "        text-align: right;\n",
       "    }\n",
       "</style>\n",
       "<table border=\"1\" class=\"dataframe\">\n",
       "  <thead>\n",
       "    <tr style=\"text-align: right;\">\n",
       "      <th></th>\n",
       "      <th>show_id</th>\n",
       "      <th>type</th>\n",
       "      <th>title</th>\n",
       "      <th>director</th>\n",
       "      <th>cast</th>\n",
       "      <th>country</th>\n",
       "      <th>date_added</th>\n",
       "      <th>release_year</th>\n",
       "      <th>rating</th>\n",
       "      <th>duration</th>\n",
       "      <th>listed_in</th>\n",
       "      <th>description</th>\n",
       "    </tr>\n",
       "  </thead>\n",
       "  <tbody>\n",
       "    <tr>\n",
       "      <th>0</th>\n",
       "      <td>81145628</td>\n",
       "      <td>Movie</td>\n",
       "      <td>Norm of the North: King Sized Adventure</td>\n",
       "      <td>Richard Finn, Tim Maltby</td>\n",
       "      <td>Alan Marriott, Andrew Toth, Brian Dobson, Cole...</td>\n",
       "      <td>United States, India, South Korea, China</td>\n",
       "      <td>September 9, 2019</td>\n",
       "      <td>2019</td>\n",
       "      <td>TV-PG</td>\n",
       "      <td>90 min</td>\n",
       "      <td>Children &amp; Family Movies, Comedies</td>\n",
       "      <td>Before planning an awesome wedding for his gra...</td>\n",
       "    </tr>\n",
       "    <tr>\n",
       "      <th>1</th>\n",
       "      <td>80117401</td>\n",
       "      <td>Movie</td>\n",
       "      <td>Jandino: Whatever it Takes</td>\n",
       "      <td>NaN</td>\n",
       "      <td>Jandino Asporaat</td>\n",
       "      <td>United Kingdom</td>\n",
       "      <td>September 9, 2016</td>\n",
       "      <td>2016</td>\n",
       "      <td>TV-MA</td>\n",
       "      <td>94 min</td>\n",
       "      <td>Stand-Up Comedy</td>\n",
       "      <td>Jandino Asporaat riffs on the challenges of ra...</td>\n",
       "    </tr>\n",
       "    <tr>\n",
       "      <th>2</th>\n",
       "      <td>70234439</td>\n",
       "      <td>TV Show</td>\n",
       "      <td>Transformers Prime</td>\n",
       "      <td>NaN</td>\n",
       "      <td>Peter Cullen, Sumalee Montano, Frank Welker, J...</td>\n",
       "      <td>United States</td>\n",
       "      <td>September 8, 2018</td>\n",
       "      <td>2013</td>\n",
       "      <td>TV-Y7-FV</td>\n",
       "      <td>1 Season</td>\n",
       "      <td>Kids' TV</td>\n",
       "      <td>With the help of three human allies, the Autob...</td>\n",
       "    </tr>\n",
       "    <tr>\n",
       "      <th>3</th>\n",
       "      <td>80058654</td>\n",
       "      <td>TV Show</td>\n",
       "      <td>Transformers: Robots in Disguise</td>\n",
       "      <td>NaN</td>\n",
       "      <td>Will Friedle, Darren Criss, Constance Zimmer, ...</td>\n",
       "      <td>United States</td>\n",
       "      <td>September 8, 2018</td>\n",
       "      <td>2016</td>\n",
       "      <td>TV-Y7</td>\n",
       "      <td>1 Season</td>\n",
       "      <td>Kids' TV</td>\n",
       "      <td>When a prison ship crash unleashes hundreds of...</td>\n",
       "    </tr>\n",
       "    <tr>\n",
       "      <th>4</th>\n",
       "      <td>80125979</td>\n",
       "      <td>Movie</td>\n",
       "      <td>#realityhigh</td>\n",
       "      <td>Fernando Lebrija</td>\n",
       "      <td>Nesta Cooper, Kate Walsh, John Michael Higgins...</td>\n",
       "      <td>United States</td>\n",
       "      <td>September 8, 2017</td>\n",
       "      <td>2017</td>\n",
       "      <td>TV-14</td>\n",
       "      <td>99 min</td>\n",
       "      <td>Comedies</td>\n",
       "      <td>When nerdy high schooler Dani finally attracts...</td>\n",
       "    </tr>\n",
       "  </tbody>\n",
       "</table>\n",
       "</div>"
      ],
      "text/plain": [
       "    show_id     type                                    title  \\\n",
       "0  81145628    Movie  Norm of the North: King Sized Adventure   \n",
       "1  80117401    Movie               Jandino: Whatever it Takes   \n",
       "2  70234439  TV Show                       Transformers Prime   \n",
       "3  80058654  TV Show         Transformers: Robots in Disguise   \n",
       "4  80125979    Movie                             #realityhigh   \n",
       "\n",
       "                   director  \\\n",
       "0  Richard Finn, Tim Maltby   \n",
       "1                       NaN   \n",
       "2                       NaN   \n",
       "3                       NaN   \n",
       "4          Fernando Lebrija   \n",
       "\n",
       "                                                cast  \\\n",
       "0  Alan Marriott, Andrew Toth, Brian Dobson, Cole...   \n",
       "1                                   Jandino Asporaat   \n",
       "2  Peter Cullen, Sumalee Montano, Frank Welker, J...   \n",
       "3  Will Friedle, Darren Criss, Constance Zimmer, ...   \n",
       "4  Nesta Cooper, Kate Walsh, John Michael Higgins...   \n",
       "\n",
       "                                    country         date_added  release_year  \\\n",
       "0  United States, India, South Korea, China  September 9, 2019          2019   \n",
       "1                            United Kingdom  September 9, 2016          2016   \n",
       "2                             United States  September 8, 2018          2013   \n",
       "3                             United States  September 8, 2018          2016   \n",
       "4                             United States  September 8, 2017          2017   \n",
       "\n",
       "     rating  duration                           listed_in  \\\n",
       "0     TV-PG    90 min  Children & Family Movies, Comedies   \n",
       "1     TV-MA    94 min                     Stand-Up Comedy   \n",
       "2  TV-Y7-FV  1 Season                            Kids' TV   \n",
       "3     TV-Y7  1 Season                            Kids' TV   \n",
       "4     TV-14    99 min                            Comedies   \n",
       "\n",
       "                                         description  \n",
       "0  Before planning an awesome wedding for his gra...  \n",
       "1  Jandino Asporaat riffs on the challenges of ra...  \n",
       "2  With the help of three human allies, the Autob...  \n",
       "3  When a prison ship crash unleashes hundreds of...  \n",
       "4  When nerdy high schooler Dani finally attracts...  "
      ]
     },
     "execution_count": 12,
     "metadata": {},
     "output_type": "execute_result"
    }
   ],
   "source": [
    "netflix = pd.read_csv('https://raw.githubusercontent.com/byui-cse/cse450-course/master/data/netflix_titles.csv')\n",
    "netflix.head()"
   ]
  },
  {
   "cell_type": "markdown",
   "metadata": {
    "id": "8FzPcdQOaj5T"
   },
   "source": [
    "Filter your data set to contain only `Movies`. How many of these were rated `TV-14`?"
   ]
  },
  {
   "cell_type": "code",
   "execution_count": 13,
   "metadata": {
    "colab": {
     "base_uri": "https://localhost:8080/",
     "height": 936
    },
    "id": "VUiia3HabxwM",
    "outputId": "97c3fc65-cffc-4e16-d720-38f118ea2932"
   },
   "outputs": [
    {
     "data": {
      "text/html": [
       "<div>\n",
       "<style scoped>\n",
       "    .dataframe tbody tr th:only-of-type {\n",
       "        vertical-align: middle;\n",
       "    }\n",
       "\n",
       "    .dataframe tbody tr th {\n",
       "        vertical-align: top;\n",
       "    }\n",
       "\n",
       "    .dataframe thead th {\n",
       "        text-align: right;\n",
       "    }\n",
       "</style>\n",
       "<table border=\"1\" class=\"dataframe\">\n",
       "  <thead>\n",
       "    <tr style=\"text-align: right;\">\n",
       "      <th></th>\n",
       "      <th>show_id</th>\n",
       "      <th>type</th>\n",
       "      <th>title</th>\n",
       "      <th>director</th>\n",
       "      <th>cast</th>\n",
       "      <th>country</th>\n",
       "      <th>date_added</th>\n",
       "      <th>release_year</th>\n",
       "      <th>rating</th>\n",
       "      <th>duration</th>\n",
       "      <th>listed_in</th>\n",
       "      <th>description</th>\n",
       "    </tr>\n",
       "  </thead>\n",
       "  <tbody>\n",
       "    <tr>\n",
       "      <th>4</th>\n",
       "      <td>80125979</td>\n",
       "      <td>Movie</td>\n",
       "      <td>#realityhigh</td>\n",
       "      <td>Fernando Lebrija</td>\n",
       "      <td>Nesta Cooper, Kate Walsh, John Michael Higgins...</td>\n",
       "      <td>United States</td>\n",
       "      <td>September 8, 2017</td>\n",
       "      <td>2017</td>\n",
       "      <td>TV-14</td>\n",
       "      <td>99 min</td>\n",
       "      <td>Comedies</td>\n",
       "      <td>When nerdy high schooler Dani finally attracts...</td>\n",
       "    </tr>\n",
       "    <tr>\n",
       "      <th>20</th>\n",
       "      <td>80060297</td>\n",
       "      <td>Movie</td>\n",
       "      <td>Manhattan Romance</td>\n",
       "      <td>Tom O'Brien</td>\n",
       "      <td>Tom O'Brien, Katherine Waterston, Caitlin Fitz...</td>\n",
       "      <td>United States</td>\n",
       "      <td>September 8, 2017</td>\n",
       "      <td>2014</td>\n",
       "      <td>TV-14</td>\n",
       "      <td>98 min</td>\n",
       "      <td>Comedies, Independent Movies, Romantic Movies</td>\n",
       "      <td>A filmmaker working on a documentary about lov...</td>\n",
       "    </tr>\n",
       "    <tr>\n",
       "      <th>36</th>\n",
       "      <td>81113928</td>\n",
       "      <td>Movie</td>\n",
       "      <td>Care of Kancharapalem</td>\n",
       "      <td>Maha Venkatesh</td>\n",
       "      <td>Subba Rao Vepada, Radha Bessy, Kesava Karri, N...</td>\n",
       "      <td>NaN</td>\n",
       "      <td>September 6, 2019</td>\n",
       "      <td>2018</td>\n",
       "      <td>TV-14</td>\n",
       "      <td>142 min</td>\n",
       "      <td>Comedies, Dramas, Independent Movies</td>\n",
       "      <td>From a schoolboy’s crush to a middle-aged bach...</td>\n",
       "    </tr>\n",
       "    <tr>\n",
       "      <th>37</th>\n",
       "      <td>81052275</td>\n",
       "      <td>Movie</td>\n",
       "      <td>Ee Nagaraniki Emaindi</td>\n",
       "      <td>Tharun Bhascker</td>\n",
       "      <td>Vishwaksen Naidu, Sushanth Reddy, Abhinav Goma...</td>\n",
       "      <td>India</td>\n",
       "      <td>September 6, 2019</td>\n",
       "      <td>2018</td>\n",
       "      <td>TV-14</td>\n",
       "      <td>133 min</td>\n",
       "      <td>Comedies, International Movies</td>\n",
       "      <td>In Goa and in desperate need of cash, four chi...</td>\n",
       "    </tr>\n",
       "    <tr>\n",
       "      <th>38</th>\n",
       "      <td>81132437</td>\n",
       "      <td>Movie</td>\n",
       "      <td>Kill Me If You Dare</td>\n",
       "      <td>Şenol Sönmez</td>\n",
       "      <td>Murat Boz, Seda Bakan, Açelya Topaloğlu, Özgür...</td>\n",
       "      <td>NaN</td>\n",
       "      <td>September 6, 2019</td>\n",
       "      <td>2019</td>\n",
       "      <td>TV-14</td>\n",
       "      <td>100 min</td>\n",
       "      <td>Comedies, International Movies, Romantic Movies</td>\n",
       "      <td>Bogged down with money problems, a couple grow...</td>\n",
       "    </tr>\n",
       "    <tr>\n",
       "      <th>...</th>\n",
       "      <td>...</td>\n",
       "      <td>...</td>\n",
       "      <td>...</td>\n",
       "      <td>...</td>\n",
       "      <td>...</td>\n",
       "      <td>...</td>\n",
       "      <td>...</td>\n",
       "      <td>...</td>\n",
       "      <td>...</td>\n",
       "      <td>...</td>\n",
       "      <td>...</td>\n",
       "      <td>...</td>\n",
       "    </tr>\n",
       "    <tr>\n",
       "      <th>5550</th>\n",
       "      <td>80131414</td>\n",
       "      <td>Movie</td>\n",
       "      <td>Born to Be Free</td>\n",
       "      <td>Gayane Petrosyan</td>\n",
       "      <td>Casting a light on the mistreatment of sea mam...</td>\n",
       "      <td>United Kingdom, Russia</td>\n",
       "      <td>April 1, 2017</td>\n",
       "      <td>2016</td>\n",
       "      <td>TV-14</td>\n",
       "      <td>74 min</td>\n",
       "      <td>Documentaries, International Movies</td>\n",
       "      <td>Casting a light on the mistreatment of sea mam...</td>\n",
       "    </tr>\n",
       "    <tr>\n",
       "      <th>5559</th>\n",
       "      <td>80081955</td>\n",
       "      <td>Movie</td>\n",
       "      <td>Five Nights in Maine</td>\n",
       "      <td>Maris Curran</td>\n",
       "      <td>David Oyelowo, Dianne Wiest, Rosie Perez, Teyo...</td>\n",
       "      <td>United States</td>\n",
       "      <td>April 1, 2017</td>\n",
       "      <td>2015</td>\n",
       "      <td>TV-14</td>\n",
       "      <td>83 min</td>\n",
       "      <td>Dramas, Independent Movies</td>\n",
       "      <td>After his wife dies in a car accident, a grief...</td>\n",
       "    </tr>\n",
       "    <tr>\n",
       "      <th>5560</th>\n",
       "      <td>80164112</td>\n",
       "      <td>Movie</td>\n",
       "      <td>Joe Cocker: Mad Dog with Soul</td>\n",
       "      <td>John Edginton</td>\n",
       "      <td>NaN</td>\n",
       "      <td>United Kingdom</td>\n",
       "      <td>April 1, 2017</td>\n",
       "      <td>2017</td>\n",
       "      <td>TV-14</td>\n",
       "      <td>90 min</td>\n",
       "      <td>Documentaries, International Movies, Music &amp; M...</td>\n",
       "      <td>From his star turn at Woodstock to his battles...</td>\n",
       "    </tr>\n",
       "    <tr>\n",
       "      <th>5562</th>\n",
       "      <td>70302835</td>\n",
       "      <td>Movie</td>\n",
       "      <td>Killa</td>\n",
       "      <td>Avinash Arun</td>\n",
       "      <td>Amruta Subhash, Archit Deodhar, Parth Bhalerao...</td>\n",
       "      <td>India</td>\n",
       "      <td>April 1, 2017</td>\n",
       "      <td>2014</td>\n",
       "      <td>TV-14</td>\n",
       "      <td>107 min</td>\n",
       "      <td>Dramas, International Movies</td>\n",
       "      <td>Growing up poses challenges for Chinu when he ...</td>\n",
       "    </tr>\n",
       "    <tr>\n",
       "      <th>5568</th>\n",
       "      <td>80158479</td>\n",
       "      <td>Movie</td>\n",
       "      <td>Salaakhen</td>\n",
       "      <td>A. Salaam</td>\n",
       "      <td>Shashi Kapoor, Sulakshana Pandit, Mehmood, Sud...</td>\n",
       "      <td>India</td>\n",
       "      <td>April 1, 2017</td>\n",
       "      <td>1975</td>\n",
       "      <td>TV-14</td>\n",
       "      <td>134 min</td>\n",
       "      <td>Action &amp; Adventure, International Movies, Musi...</td>\n",
       "      <td>Two close childhood friends take drastically d...</td>\n",
       "    </tr>\n",
       "  </tbody>\n",
       "</table>\n",
       "<p>1038 rows × 12 columns</p>\n",
       "</div>"
      ],
      "text/plain": [
       "       show_id   type                          title          director  \\\n",
       "4     80125979  Movie                   #realityhigh  Fernando Lebrija   \n",
       "20    80060297  Movie              Manhattan Romance       Tom O'Brien   \n",
       "36    81113928  Movie          Care of Kancharapalem    Maha Venkatesh   \n",
       "37    81052275  Movie          Ee Nagaraniki Emaindi   Tharun Bhascker   \n",
       "38    81132437  Movie            Kill Me If You Dare      Şenol Sönmez   \n",
       "...        ...    ...                            ...               ...   \n",
       "5550  80131414  Movie                Born to Be Free  Gayane Petrosyan   \n",
       "5559  80081955  Movie           Five Nights in Maine      Maris Curran   \n",
       "5560  80164112  Movie  Joe Cocker: Mad Dog with Soul     John Edginton   \n",
       "5562  70302835  Movie                          Killa      Avinash Arun   \n",
       "5568  80158479  Movie                      Salaakhen         A. Salaam   \n",
       "\n",
       "                                                   cast  \\\n",
       "4     Nesta Cooper, Kate Walsh, John Michael Higgins...   \n",
       "20    Tom O'Brien, Katherine Waterston, Caitlin Fitz...   \n",
       "36    Subba Rao Vepada, Radha Bessy, Kesava Karri, N...   \n",
       "37    Vishwaksen Naidu, Sushanth Reddy, Abhinav Goma...   \n",
       "38    Murat Boz, Seda Bakan, Açelya Topaloğlu, Özgür...   \n",
       "...                                                 ...   \n",
       "5550  Casting a light on the mistreatment of sea mam...   \n",
       "5559  David Oyelowo, Dianne Wiest, Rosie Perez, Teyo...   \n",
       "5560                                                NaN   \n",
       "5562  Amruta Subhash, Archit Deodhar, Parth Bhalerao...   \n",
       "5568  Shashi Kapoor, Sulakshana Pandit, Mehmood, Sud...   \n",
       "\n",
       "                     country         date_added  release_year rating duration  \\\n",
       "4              United States  September 8, 2017          2017  TV-14   99 min   \n",
       "20             United States  September 8, 2017          2014  TV-14   98 min   \n",
       "36                       NaN  September 6, 2019          2018  TV-14  142 min   \n",
       "37                     India  September 6, 2019          2018  TV-14  133 min   \n",
       "38                       NaN  September 6, 2019          2019  TV-14  100 min   \n",
       "...                      ...                ...           ...    ...      ...   \n",
       "5550  United Kingdom, Russia      April 1, 2017          2016  TV-14   74 min   \n",
       "5559           United States      April 1, 2017          2015  TV-14   83 min   \n",
       "5560          United Kingdom      April 1, 2017          2017  TV-14   90 min   \n",
       "5562                   India      April 1, 2017          2014  TV-14  107 min   \n",
       "5568                   India      April 1, 2017          1975  TV-14  134 min   \n",
       "\n",
       "                                              listed_in  \\\n",
       "4                                              Comedies   \n",
       "20        Comedies, Independent Movies, Romantic Movies   \n",
       "36                 Comedies, Dramas, Independent Movies   \n",
       "37                       Comedies, International Movies   \n",
       "38      Comedies, International Movies, Romantic Movies   \n",
       "...                                                 ...   \n",
       "5550                Documentaries, International Movies   \n",
       "5559                         Dramas, Independent Movies   \n",
       "5560  Documentaries, International Movies, Music & M...   \n",
       "5562                       Dramas, International Movies   \n",
       "5568  Action & Adventure, International Movies, Musi...   \n",
       "\n",
       "                                            description  \n",
       "4     When nerdy high schooler Dani finally attracts...  \n",
       "20    A filmmaker working on a documentary about lov...  \n",
       "36    From a schoolboy’s crush to a middle-aged bach...  \n",
       "37    In Goa and in desperate need of cash, four chi...  \n",
       "38    Bogged down with money problems, a couple grow...  \n",
       "...                                                 ...  \n",
       "5550  Casting a light on the mistreatment of sea mam...  \n",
       "5559  After his wife dies in a car accident, a grief...  \n",
       "5560  From his star turn at Woodstock to his battles...  \n",
       "5562  Growing up poses challenges for Chinu when he ...  \n",
       "5568  Two close childhood friends take drastically d...  \n",
       "\n",
       "[1038 rows x 12 columns]"
      ]
     },
     "execution_count": 13,
     "metadata": {},
     "output_type": "execute_result"
    }
   ],
   "source": [
    "movie_tv_14 = netflix.query('type == \"Movie\" and rating == \"TV-14\"')\n",
    "movie_tv_14"
   ]
  },
  {
   "cell_type": "markdown",
   "metadata": {
    "id": "mjnTMg-Tzsfu"
   },
   "source": [
    "**There are 1038 movies with TV-14 rating**"
   ]
  },
  {
   "cell_type": "markdown",
   "metadata": {
    "id": "XPEPM_p0a4Kz"
   },
   "source": [
    "Further filter the data set to contain `Movies` between `2010` and `2016`. How many were rated `TV-14`?"
   ]
  },
  {
   "cell_type": "code",
   "execution_count": 14,
   "metadata": {
    "colab": {
     "base_uri": "https://localhost:8080/",
     "height": 902
    },
    "id": "p-oByLVnbyH7",
    "outputId": "3e5c81e5-4f34-4db5-d3c6-714ed8f62359"
   },
   "outputs": [
    {
     "data": {
      "text/html": [
       "<div>\n",
       "<style scoped>\n",
       "    .dataframe tbody tr th:only-of-type {\n",
       "        vertical-align: middle;\n",
       "    }\n",
       "\n",
       "    .dataframe tbody tr th {\n",
       "        vertical-align: top;\n",
       "    }\n",
       "\n",
       "    .dataframe thead th {\n",
       "        text-align: right;\n",
       "    }\n",
       "</style>\n",
       "<table border=\"1\" class=\"dataframe\">\n",
       "  <thead>\n",
       "    <tr style=\"text-align: right;\">\n",
       "      <th></th>\n",
       "      <th>show_id</th>\n",
       "      <th>type</th>\n",
       "      <th>title</th>\n",
       "      <th>director</th>\n",
       "      <th>cast</th>\n",
       "      <th>country</th>\n",
       "      <th>date_added</th>\n",
       "      <th>release_year</th>\n",
       "      <th>rating</th>\n",
       "      <th>duration</th>\n",
       "      <th>listed_in</th>\n",
       "      <th>description</th>\n",
       "    </tr>\n",
       "  </thead>\n",
       "  <tbody>\n",
       "    <tr>\n",
       "      <th>20</th>\n",
       "      <td>80060297</td>\n",
       "      <td>Movie</td>\n",
       "      <td>Manhattan Romance</td>\n",
       "      <td>Tom O'Brien</td>\n",
       "      <td>Tom O'Brien, Katherine Waterston, Caitlin Fitz...</td>\n",
       "      <td>United States</td>\n",
       "      <td>September 8, 2017</td>\n",
       "      <td>2014</td>\n",
       "      <td>TV-14</td>\n",
       "      <td>98 min</td>\n",
       "      <td>Comedies, Independent Movies, Romantic Movies</td>\n",
       "      <td>A filmmaker working on a documentary about lov...</td>\n",
       "    </tr>\n",
       "    <tr>\n",
       "      <th>41</th>\n",
       "      <td>70303496</td>\n",
       "      <td>Movie</td>\n",
       "      <td>PK</td>\n",
       "      <td>Rajkumar Hirani</td>\n",
       "      <td>Aamir Khan, Anuskha Sharma, Sanjay Dutt, Saura...</td>\n",
       "      <td>India</td>\n",
       "      <td>September 6, 2018</td>\n",
       "      <td>2014</td>\n",
       "      <td>TV-14</td>\n",
       "      <td>146 min</td>\n",
       "      <td>Comedies, Dramas, International Movies</td>\n",
       "      <td>Aamir Khan teams with director Rajkumar Hirani...</td>\n",
       "    </tr>\n",
       "    <tr>\n",
       "      <th>45</th>\n",
       "      <td>80159880</td>\n",
       "      <td>Movie</td>\n",
       "      <td>ATM</td>\n",
       "      <td>Mez Tharatorn</td>\n",
       "      <td>Chantavit Dhanasevi, Preechaya Pongthananikorn...</td>\n",
       "      <td>United States, Canada</td>\n",
       "      <td>September 5, 2018</td>\n",
       "      <td>2012</td>\n",
       "      <td>TV-14</td>\n",
       "      <td>122 min</td>\n",
       "      <td>Comedies, International Movies, Romantic Movies</td>\n",
       "      <td>When a broken ATM dishes out a fortune, a coup...</td>\n",
       "    </tr>\n",
       "    <tr>\n",
       "      <th>47</th>\n",
       "      <td>80158838</td>\n",
       "      <td>Movie</td>\n",
       "      <td>I Fine... Thank You... Love You</td>\n",
       "      <td>Mez Tharatorn</td>\n",
       "      <td>Preechaya Pongthananikorn, Sunny Suwanmethanon...</td>\n",
       "      <td>Thailand</td>\n",
       "      <td>September 5, 2018</td>\n",
       "      <td>2014</td>\n",
       "      <td>TV-14</td>\n",
       "      <td>116 min</td>\n",
       "      <td>Comedies, International Movies, Romantic Movies</td>\n",
       "      <td>Desperate to go to the U.S. to win back his gi...</td>\n",
       "    </tr>\n",
       "    <tr>\n",
       "      <th>52</th>\n",
       "      <td>80147760</td>\n",
       "      <td>Movie</td>\n",
       "      <td>Carrie Pilby</td>\n",
       "      <td>Susan Johnson</td>\n",
       "      <td>Bel Powley, Nathan Lane, Vanessa Bayer, Gabrie...</td>\n",
       "      <td>United States</td>\n",
       "      <td>September 5, 2017</td>\n",
       "      <td>2016</td>\n",
       "      <td>TV-14</td>\n",
       "      <td>98 min</td>\n",
       "      <td>Comedies, Dramas</td>\n",
       "      <td>A socially awkward 19-year-old genius makes bi...</td>\n",
       "    </tr>\n",
       "    <tr>\n",
       "      <th>...</th>\n",
       "      <td>...</td>\n",
       "      <td>...</td>\n",
       "      <td>...</td>\n",
       "      <td>...</td>\n",
       "      <td>...</td>\n",
       "      <td>...</td>\n",
       "      <td>...</td>\n",
       "      <td>...</td>\n",
       "      <td>...</td>\n",
       "      <td>...</td>\n",
       "      <td>...</td>\n",
       "      <td>...</td>\n",
       "    </tr>\n",
       "    <tr>\n",
       "      <th>5540</th>\n",
       "      <td>80124313</td>\n",
       "      <td>Movie</td>\n",
       "      <td>Sairat</td>\n",
       "      <td>Nagraj Manjule</td>\n",
       "      <td>Rinku Rajguru, Akash Thosar, Arbaz Shaikh, Tan...</td>\n",
       "      <td>India</td>\n",
       "      <td>April 1, 2018</td>\n",
       "      <td>2016</td>\n",
       "      <td>TV-14</td>\n",
       "      <td>173 min</td>\n",
       "      <td>Dramas, International Movies, Romantic Movies</td>\n",
       "      <td>When two college students – a rich man’s daugh...</td>\n",
       "    </tr>\n",
       "    <tr>\n",
       "      <th>5549</th>\n",
       "      <td>80172938</td>\n",
       "      <td>Movie</td>\n",
       "      <td>Beyond All Boundaries</td>\n",
       "      <td>Sushrut Jain</td>\n",
       "      <td>Kunal Nayyar</td>\n",
       "      <td>United States, India</td>\n",
       "      <td>April 1, 2017</td>\n",
       "      <td>2013</td>\n",
       "      <td>TV-14</td>\n",
       "      <td>98 min</td>\n",
       "      <td>Documentaries, International Movies, Sports Mo...</td>\n",
       "      <td>As the 2011 Cricket World Cup begins, three In...</td>\n",
       "    </tr>\n",
       "    <tr>\n",
       "      <th>5550</th>\n",
       "      <td>80131414</td>\n",
       "      <td>Movie</td>\n",
       "      <td>Born to Be Free</td>\n",
       "      <td>Gayane Petrosyan</td>\n",
       "      <td>Casting a light on the mistreatment of sea mam...</td>\n",
       "      <td>United Kingdom, Russia</td>\n",
       "      <td>April 1, 2017</td>\n",
       "      <td>2016</td>\n",
       "      <td>TV-14</td>\n",
       "      <td>74 min</td>\n",
       "      <td>Documentaries, International Movies</td>\n",
       "      <td>Casting a light on the mistreatment of sea mam...</td>\n",
       "    </tr>\n",
       "    <tr>\n",
       "      <th>5559</th>\n",
       "      <td>80081955</td>\n",
       "      <td>Movie</td>\n",
       "      <td>Five Nights in Maine</td>\n",
       "      <td>Maris Curran</td>\n",
       "      <td>David Oyelowo, Dianne Wiest, Rosie Perez, Teyo...</td>\n",
       "      <td>United States</td>\n",
       "      <td>April 1, 2017</td>\n",
       "      <td>2015</td>\n",
       "      <td>TV-14</td>\n",
       "      <td>83 min</td>\n",
       "      <td>Dramas, Independent Movies</td>\n",
       "      <td>After his wife dies in a car accident, a grief...</td>\n",
       "    </tr>\n",
       "    <tr>\n",
       "      <th>5562</th>\n",
       "      <td>70302835</td>\n",
       "      <td>Movie</td>\n",
       "      <td>Killa</td>\n",
       "      <td>Avinash Arun</td>\n",
       "      <td>Amruta Subhash, Archit Deodhar, Parth Bhalerao...</td>\n",
       "      <td>India</td>\n",
       "      <td>April 1, 2017</td>\n",
       "      <td>2014</td>\n",
       "      <td>TV-14</td>\n",
       "      <td>107 min</td>\n",
       "      <td>Dramas, International Movies</td>\n",
       "      <td>Growing up poses challenges for Chinu when he ...</td>\n",
       "    </tr>\n",
       "  </tbody>\n",
       "</table>\n",
       "<p>396 rows × 12 columns</p>\n",
       "</div>"
      ],
      "text/plain": [
       "       show_id   type                            title          director  \\\n",
       "20    80060297  Movie                Manhattan Romance       Tom O'Brien   \n",
       "41    70303496  Movie                               PK   Rajkumar Hirani   \n",
       "45    80159880  Movie                              ATM     Mez Tharatorn   \n",
       "47    80158838  Movie  I Fine... Thank You... Love You     Mez Tharatorn   \n",
       "52    80147760  Movie                     Carrie Pilby     Susan Johnson   \n",
       "...        ...    ...                              ...               ...   \n",
       "5540  80124313  Movie                           Sairat    Nagraj Manjule   \n",
       "5549  80172938  Movie            Beyond All Boundaries      Sushrut Jain   \n",
       "5550  80131414  Movie                  Born to Be Free  Gayane Petrosyan   \n",
       "5559  80081955  Movie             Five Nights in Maine      Maris Curran   \n",
       "5562  70302835  Movie                            Killa      Avinash Arun   \n",
       "\n",
       "                                                   cast  \\\n",
       "20    Tom O'Brien, Katherine Waterston, Caitlin Fitz...   \n",
       "41    Aamir Khan, Anuskha Sharma, Sanjay Dutt, Saura...   \n",
       "45    Chantavit Dhanasevi, Preechaya Pongthananikorn...   \n",
       "47    Preechaya Pongthananikorn, Sunny Suwanmethanon...   \n",
       "52    Bel Powley, Nathan Lane, Vanessa Bayer, Gabrie...   \n",
       "...                                                 ...   \n",
       "5540  Rinku Rajguru, Akash Thosar, Arbaz Shaikh, Tan...   \n",
       "5549                                       Kunal Nayyar   \n",
       "5550  Casting a light on the mistreatment of sea mam...   \n",
       "5559  David Oyelowo, Dianne Wiest, Rosie Perez, Teyo...   \n",
       "5562  Amruta Subhash, Archit Deodhar, Parth Bhalerao...   \n",
       "\n",
       "                     country         date_added  release_year rating duration  \\\n",
       "20             United States  September 8, 2017          2014  TV-14   98 min   \n",
       "41                     India  September 6, 2018          2014  TV-14  146 min   \n",
       "45     United States, Canada  September 5, 2018          2012  TV-14  122 min   \n",
       "47                  Thailand  September 5, 2018          2014  TV-14  116 min   \n",
       "52             United States  September 5, 2017          2016  TV-14   98 min   \n",
       "...                      ...                ...           ...    ...      ...   \n",
       "5540                   India      April 1, 2018          2016  TV-14  173 min   \n",
       "5549    United States, India      April 1, 2017          2013  TV-14   98 min   \n",
       "5550  United Kingdom, Russia      April 1, 2017          2016  TV-14   74 min   \n",
       "5559           United States      April 1, 2017          2015  TV-14   83 min   \n",
       "5562                   India      April 1, 2017          2014  TV-14  107 min   \n",
       "\n",
       "                                              listed_in  \\\n",
       "20        Comedies, Independent Movies, Romantic Movies   \n",
       "41               Comedies, Dramas, International Movies   \n",
       "45      Comedies, International Movies, Romantic Movies   \n",
       "47      Comedies, International Movies, Romantic Movies   \n",
       "52                                     Comedies, Dramas   \n",
       "...                                                 ...   \n",
       "5540      Dramas, International Movies, Romantic Movies   \n",
       "5549  Documentaries, International Movies, Sports Mo...   \n",
       "5550                Documentaries, International Movies   \n",
       "5559                         Dramas, Independent Movies   \n",
       "5562                       Dramas, International Movies   \n",
       "\n",
       "                                            description  \n",
       "20    A filmmaker working on a documentary about lov...  \n",
       "41    Aamir Khan teams with director Rajkumar Hirani...  \n",
       "45    When a broken ATM dishes out a fortune, a coup...  \n",
       "47    Desperate to go to the U.S. to win back his gi...  \n",
       "52    A socially awkward 19-year-old genius makes bi...  \n",
       "...                                                 ...  \n",
       "5540  When two college students – a rich man’s daugh...  \n",
       "5549  As the 2011 Cricket World Cup begins, three In...  \n",
       "5550  Casting a light on the mistreatment of sea mam...  \n",
       "5559  After his wife dies in a car accident, a grief...  \n",
       "5562  Growing up poses challenges for Chinu when he ...  \n",
       "\n",
       "[396 rows x 12 columns]"
      ]
     },
     "execution_count": 14,
     "metadata": {},
     "output_type": "execute_result"
    }
   ],
   "source": [
    "movie_tv_14.query('release_year>=2010 and release_year<=2016')"
   ]
  },
  {
   "cell_type": "markdown",
   "metadata": {
    "id": "PYovEj8G1Raj"
   },
   "source": [
    "**There are 396 movies between 2010 and 2016**"
   ]
  },
  {
   "cell_type": "markdown",
   "metadata": {
    "id": "4QACNNhTb-t-"
   },
   "source": [
    "Create a count plot using pyplot or seaborn to show the relative counts of ratings of `Movies` between 2010-2016.ie. ratings vs number of movies."
   ]
  },
  {
   "cell_type": "code",
   "execution_count": null,
   "metadata": {
    "colab": {
     "base_uri": "https://localhost:8080/",
     "height": 384
    },
    "id": "SHhwlk96StgD",
    "outputId": "d4259363-c4aa-4458-b921-1fc45e6d1c2b"
   },
   "outputs": [],
   "source": [
    "data = netflix.query('release_year>=2010 and release_year<=2016')\n",
    "import seaborn as sns\n",
    "sns.countplot(data[\"rating\"])\n",
    "plt.xticks(rotation = \"vertical\")\n",
    "plt.title(\"Movies between 2010 and 2016\");"
   ]
  }
 ],
 "metadata": {
  "colab": {
   "name": "Victor Ashioya.ipynb",
   "provenance": []
  },
  "kernelspec": {
   "display_name": "Python 3 (ipykernel)",
   "language": "python",
   "name": "python3"
  },
  "language_info": {
   "codemirror_mode": {
    "name": "ipython",
    "version": 3
   },
   "file_extension": ".py",
   "mimetype": "text/x-python",
   "name": "python",
   "nbconvert_exporter": "python",
   "pygments_lexer": "ipython3",
   "version": "3.10.6"
  }
 },
 "nbformat": 4,
 "nbformat_minor": 1
}
