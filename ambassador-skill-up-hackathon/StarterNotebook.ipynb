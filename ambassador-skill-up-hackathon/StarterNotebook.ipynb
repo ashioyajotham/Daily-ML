{
 "cells": [
  {
   "attachments": {},
   "cell_type": "markdown",
   "id": "b63dc6e5-e47c-474e-88fa-5e8a3e5843f1",
   "metadata": {},
   "source": [
    "## Project structure"
   ]
  },
  {
   "attachments": {},
   "cell_type": "markdown",
   "id": "dfec515d-5d56-48b7-a116-d098e965f803",
   "metadata": {},
   "source": [
    "├── data\\\n",
    "│   ├── metadata.csv\\\n",
    "│   ├── SampleSubmission.csv\\\n",
    "│   ├── Test.csv\\\n",
    "│   ├── Train.csv\\\n",
    "│   └── VariablesDefinition.txt\\\n",
    "├── logs\\\n",
    "├── models\\\n",
    "├── src\\\n",
    "│   └── StarterNotebook.ipynb\\\n",
    "└── submissions\n"
   ]
  },
  {
   "attachments": {},
   "cell_type": "markdown",
   "id": "2662ae67-7d0b-4501-8cfb-c7b07afdaabf",
   "metadata": {},
   "source": [
    "## Libs"
   ]
  },
  {
   "cell_type": "code",
   "execution_count": 1,
   "id": "28077157-a248-4324-b16a-0dfb1f085e4d",
   "metadata": {
    "execution": {
     "iopub.execute_input": "2021-06-04T14:47:47.409180Z",
     "iopub.status.busy": "2021-06-04T14:47:47.408969Z",
     "iopub.status.idle": "2021-06-04T14:47:49.106127Z",
     "shell.execute_reply": "2021-06-04T14:47:49.105334Z",
     "shell.execute_reply.started": "2021-06-04T14:47:47.409128Z"
    },
    "tags": []
   },
   "outputs": [
    {
     "name": "stderr",
     "output_type": "stream",
     "text": [
      "INFO:root:Using tensorflow version : 2.12.0\n"
     ]
    }
   ],
   "source": [
    "import os\n",
    "import ast\n",
    "import pandas as pd\n",
    "import numpy as np\n",
    "from matplotlib import pyplot\n",
    "import matplotlib.patches as mpatches\n",
    "import seaborn as sn\n",
    "from tqdm.std import tqdm\n",
    "from sklearn.model_selection import train_test_split\n",
    "from sklearn.preprocessing import StandardScaler\n",
    "import tensorflow as tf\n",
    "from tensorflow import keras\n",
    "\n",
    "import logging\n",
    "logging.basicConfig(level='INFO')\n",
    "\n",
    "\n",
    "logging.info(msg=f\"Using tensorflow version : {tf.__version__}\")"
   ]
  },
  {
   "cell_type": "code",
   "execution_count": 2,
   "id": "34b80287-7aec-4c4b-acec-cc9cc5791c7b",
   "metadata": {
    "execution": {
     "iopub.execute_input": "2021-06-04T14:47:49.107439Z",
     "iopub.status.busy": "2021-06-04T14:47:49.107230Z",
     "iopub.status.idle": "2021-06-04T14:47:49.110578Z",
     "shell.execute_reply": "2021-06-04T14:47:49.109882Z",
     "shell.execute_reply.started": "2021-06-04T14:47:49.107405Z"
    },
    "tags": []
   },
   "outputs": [],
   "source": [
    "import warnings\n",
    "warnings.filterwarnings(action=\"ignore\")"
   ]
  },
  {
   "attachments": {},
   "cell_type": "markdown",
   "id": "ab471e95-c461-4398-a231-30d9fdb6c463",
   "metadata": {},
   "source": [
    "## Config & Helpers funcs"
   ]
  },
  {
   "cell_type": "code",
   "execution_count": 3,
   "id": "3be921ca-53cd-490b-b480-dd6627e4405a",
   "metadata": {
    "execution": {
     "iopub.execute_input": "2021-06-04T14:47:49.111613Z",
     "iopub.status.busy": "2021-06-04T14:47:49.111452Z",
     "iopub.status.idle": "2021-06-04T14:47:49.203194Z",
     "shell.execute_reply": "2021-06-04T14:47:49.201771Z",
     "shell.execute_reply.started": "2021-06-04T14:47:49.111593Z"
    },
    "tags": []
   },
   "outputs": [],
   "source": [
    "class Config:\n",
    "    data_dir = '../data/'\n",
    "    working_dir = '../src/'\n",
    "    models_dir = '../models/'\n",
    "    submissions_dir = '../submissions'\n",
    "\n",
    "\n",
    "def create_target(df:pd.DataFrame, window:int=2):\n",
    "    \n",
    "    \"\"\"\n",
    "    Compute a target column : this column will be the answer to the following question\n",
    "    (Did the company receive a payment after the term date + (window * term) days) and (total amount paid so far grater that 60% of contract value) ? \n",
    "                                        \n",
    "                        ********************************************************************\n",
    "                                                    DISCLAIMER\n",
    "                        ********************************************************************\n",
    "                                        \n",
    "        This target may not be accurate...anyway, you should create your own target to predict contract status \n",
    "                    since your end model is not evaluated on this task (predicting contract status)\n",
    "\n",
    "                        ********************************************************************\n",
    "                                                    DISCLAIMER\n",
    "                        ********************************************************************\n",
    "\n",
    "        Parameters\n",
    "        ----------\n",
    "            df : pandas dataframe - like\n",
    "                dataframe to add targets to. (should contain the payments history)\n",
    "                \n",
    "            window : int\n",
    "                number of repeated term(s) to look at\n",
    "                \n",
    "        Returns\n",
    "        -------\n",
    "        \n",
    "            df : pandas dataframe - like\n",
    "                dataframe with a 'Target' column\n",
    "    \"\"\"\n",
    "    try:\n",
    "        df = df.copy()\n",
    "        \n",
    "        df[\"ExpectedTermDate\"] = pd.to_datetime(df[\"ExpectedTermDate\"]) + pd.to_timedelta(pd.np.ceil(df.Term*window), unit=\"D\")\n",
    "        df[\"LastPaymentDate\"] = pd.to_datetime(df[\"LastPaymentDate\"]).dt.tz_localize(None)\n",
    "        \n",
    "        targets = []\n",
    "        \n",
    "        for r in df.iterrows():\n",
    "            r = r[1]\n",
    "            target = ((100 * sum(ast.literal_eval(r.PaymentsHistory) + r[-6:].values.tolist()) // r.TotalContractValue)>=60.) and (r.LastPaymentDate < r.ExpectedTermDate)\n",
    "            targets.append(float(target))\n",
    "            \n",
    "        df[\"Target\"] = targets\n",
    "        \n",
    "        del targets\n",
    "    \n",
    "        return df\n",
    "    \n",
    "    except Exception as ex:\n",
    "        logging.error(msg=f'{ex}')\n",
    "        \n",
    "        return None\n",
    "\n",
    "\n",
    "def get_viz(df:pd.DataFrame):\n",
    "    \"\"\"\n",
    "        Make a simple Visialization of some variables\n",
    "        \n",
    "    Parameters\n",
    "    ----------\n",
    "        df : pandas dataframe - like\n",
    "            metadata dataframe\n",
    "            \n",
    "    Returns\n",
    "    -------\n",
    "        fig : Matplotlib Figure - like\n",
    "    \"\"\"\n",
    "    \n",
    "    fig, axes = pyplot.subplots(figsize=(25, 15), nrows=2, ncols=3)\n",
    "\n",
    "    # class distrib\n",
    "    axes[0, 0].set_title(label='Good/Bad payer countplot')\n",
    "\n",
    "    sn.countplot(x=df.Target,ax=axes[0, 0])\n",
    "\n",
    "    vals = df.Target.value_counts().values.tolist()\n",
    "    vals.reverse()\n",
    "    for a,p in zip(vals, axes[0, 0].patches):\n",
    "        axes[0, 0].annotate(\n",
    "            xy=(p.get_x() + p.get_width() / 2., p.get_height()), \n",
    "            text=a,\n",
    "            ha='center', \n",
    "            va='center', \n",
    "            fontsize=13, \n",
    "            color='black', \n",
    "            xytext=(1, 5),\n",
    "            textcoords='offset points'\n",
    "        )\n",
    "\n",
    "    bad_patch = mpatches.Patch(color='#1f77b4', label='Bad')\n",
    "    good_patch = mpatches.Patch(color='orange', label='Good')\n",
    "\n",
    "    axes[0, 0].legend(handles=[bad_patch, good_patch])\n",
    "\n",
    "    # regions distrib\n",
    "    axes[0, 1].set_title(label='Region distribution')\n",
    "    sn.countplot(x=df.Region, ax=axes[0, 1])\n",
    "    axes[0, 1].set_xticklabels(labels=axes[0, 1].get_xticklabels(), rotation=30)\n",
    "\n",
    "    # ages distrib\n",
    "    axes[0, 2].set_title(label='Ages distribution')\n",
    "    sn.histplot(x=df.Age, ax=axes[0, 2])\n",
    "\n",
    "    # Gender distrib\n",
    "    axes[1, 0].set_title(label='Gender distribution')\n",
    "    sn.countplot(x=df.MainApplicantGender, ax=axes[1, 0])\n",
    "\n",
    "    #  Town distrib\n",
    "    axes[1, 1].set_title(label='Town distribution')\n",
    "    sn.countplot(x=df.Town, ax=axes[1, 1])\n",
    "    axes[1, 1].set_xticklabels(labels=axes[1, 1].get_xticklabels(), rotation=90)\n",
    "\n",
    "    # Customer ocupation distrib\n",
    "    axes[1, 2].set_title(label='Occupation distribution')\n",
    "    sn.countplot(x=df.Occupation, ax=axes[1, 2])\n",
    "    axes[1, 2].set_xticklabels(labels=axes[1, 2].get_xticklabels(), rotation=90)\n",
    "\n",
    "    pyplot.tight_layout()\n",
    "    pyplot.show()\n",
    "    \n",
    "    return fig\n",
    "\n",
    "\n",
    "\n",
    "def preprocess_data(df:pd.DataFrame, skip_cols:list=None)->pd.DataFrame:\n",
    "    \"\"\"\n",
    "        Preprocessing pipeline for AFC hackathon datasets\n",
    "        \n",
    "        Parameters\n",
    "        ----------\n",
    "            df : Pandas dataframe\n",
    "                Dataframe to be preprocessed.\n",
    "                \n",
    "            skip_cols : list\n",
    "                list of columns to skip during preprocessing\n",
    "                \n",
    "        Returns\n",
    "        -------\n",
    "            df : Pandas dataframe\n",
    "                Preprocessed dataframe.\n",
    "        \n",
    "        Examples\n",
    "        --------\n",
    "        >>> dataset = pd.read_csv(filepath_or_buffer='<path_to_data.csv>') \n",
    "        >>> new_df = preprocess_data(df=dataset) \n",
    "        \n",
    "    \"\"\"\n",
    "    \n",
    "    df = df.copy(deep=True)\n",
    "    cols = [col for col in df.columns[1:] if col not in skip_cols]\n",
    "    cat_cols = [col for col in cols if df[col].dtype == 'O' and 'Date' not in col]\n",
    "    date_cols = [col for col in cols if 'Date' in col]\n",
    "    \n",
    "    # convert cat col to category type\n",
    "    # print(\"Categorical cols\", cat_cols)\n",
    "    for col in tqdm(cat_cols, desc='Processing categorical columns \\t'):\n",
    "        df[col] = df[col].astype('category')\n",
    "        \n",
    "    # print(\"Date cols\", date_cols)\n",
    "    # convert date col to datetime type\n",
    "    for col in tqdm(date_cols, desc='Processing datetime columns \\t'):\n",
    "        df[col] = pd.to_datetime(df[col]).dt.tz_localize(None)\n",
    "    \n",
    "    # fill missing values\n",
    "    df.UpsellDate.fillna(value='None', inplace=True)\n",
    "    df.Region.fillna(value=df.Region.mode()[0], inplace=True)\n",
    "    df.Age.fillna(value=round(df.Age.mean()), inplace=True)\n",
    "    \n",
    "    for col in cat_cols:            \n",
    "        try:\n",
    "            df[col] = df[col].cat.codes\n",
    "        except Exception as ex:\n",
    "            logging.error(msg=f\"Column issue ({col}) : {ex}\")\n",
    "\n",
    "        \n",
    "    return df\n",
    "\n",
    "\n",
    "def extract_features(df:pd.DataFrame)->pd.DataFrame:\n",
    "    df = df.copy()\n",
    "    df['RegisteredInLeapYear'] = df.RegistrationDate.dt.is_leap_year.astype('float')\n",
    "    df['RegisteredAtMonthStart'] = df.RegistrationDate.dt.is_month_start.astype('float')\n",
    "    df['RegisteredAtMonthEnd'] = df.RegistrationDate.dt.is_month_end.astype('float')\n",
    "    df['LastPaymentMonth'] = df.LastPaymentDate.dt.month\n",
    "    df['FirstPaymentMonth'] = df.FirstPaymentDate.dt.month\n",
    "    \n",
    "    return df.drop(columns=[\"TransactionDates\", \"PaymentsHistory\", \"m1\", \"m2\", \"m3\", \"m4\", \"m5\", \"m6\"], inplace=False)\n",
    "\n",
    "\n",
    "def pad_history(df:pd.DataFrame, max_len:int=41):\n",
    "    \n",
    "    df = df.copy()\n",
    "    \n",
    "    padded_payments = []\n",
    "    \n",
    "    for r in df.copy().iterrows():\n",
    "        r = r[1]\n",
    "        \n",
    "        if len(ast.literal_eval(r.PaymentsHistory)) > max_len:\n",
    "            padded_payments.append(ast.literal_eval(r.PaymentsHistory)[:max_len])\n",
    "            \n",
    "        else:\n",
    "            padding_len = abs(max_len - len(ast.literal_eval(r.PaymentsHistory)))\n",
    "            padded_payments.append(ast.literal_eval(r.PaymentsHistory) + padding_len*[0.])\n",
    "            \n",
    "    \n",
    "    df[\"PaymentsHistory\"] = padded_payments\n",
    "    \n",
    "    del padded_payments\n",
    "    \n",
    "    return df, max_len"
   ]
  },
  {
   "attachments": {},
   "cell_type": "markdown",
   "id": "cc9471c0-1136-4ada-9795-78e090bd6798",
   "metadata": {},
   "source": [
    "# Dataset\n",
    "---\n",
    "1. Load files\n",
    "2. Exploratory Data Analysis (EDA)\n",
    "3. Preprocess data\n",
    "4. Extract features\n",
    "4. Train/Test split"
   ]
  },
  {
   "cell_type": "code",
   "execution_count": 4,
   "id": "100991a5-5846-4d15-854f-c9fe4f3ceb90",
   "metadata": {
    "execution": {
     "iopub.execute_input": "2021-06-04T14:47:49.205879Z",
     "iopub.status.busy": "2021-06-04T14:47:49.205364Z",
     "iopub.status.idle": "2021-06-04T14:47:49.344895Z",
     "shell.execute_reply": "2021-06-04T14:47:49.344393Z",
     "shell.execute_reply.started": "2021-06-04T14:47:49.205816Z"
    },
    "tags": []
   },
   "outputs": [],
   "source": [
    "train = pd.read_csv(filepath_or_buffer=os.path.join(Config.data_dir, \"Train.csv\"))\n",
    "metadata = pd.read_csv(filepath_or_buffer=os.path.join(Config.data_dir, \"metadata.csv\"))\n",
    "test = pd.read_csv(filepath_or_buffer=os.path.join(Config.data_dir, \"Test.csv\"))\n",
    "ss = pd.read_csv(filepath_or_buffer=os.path.join(Config.data_dir, \"SampleSubmission.csv\"))"
   ]
  },
  {
   "attachments": {},
   "cell_type": "markdown",
   "id": "4cba1668-d647-46e9-8a64-37be49777848",
   "metadata": {
    "execution": {
     "iopub.execute_input": "2021-06-04T06:44:23.685607Z",
     "iopub.status.busy": "2021-06-04T06:44:23.685352Z",
     "iopub.status.idle": "2021-06-04T06:44:23.688805Z",
     "shell.execute_reply": "2021-06-04T06:44:23.688241Z",
     "shell.execute_reply.started": "2021-06-04T06:44:23.685554Z"
    }
   },
   "source": [
    "### EDA"
   ]
  },
  {
   "cell_type": "code",
   "execution_count": 5,
   "id": "06b85c38-02e4-4e0c-bca1-9dc6eadc9fc0",
   "metadata": {
    "execution": {
     "iopub.execute_input": "2021-06-04T14:47:49.345713Z",
     "iopub.status.busy": "2021-06-04T14:47:49.345539Z",
     "iopub.status.idle": "2021-06-04T14:47:49.495372Z",
     "shell.execute_reply": "2021-06-04T14:47:49.494249Z",
     "shell.execute_reply.started": "2021-06-04T14:47:49.345682Z"
    },
    "tags": []
   },
   "outputs": [
    {
     "name": "stdout",
     "output_type": "stream",
     "text": [
      "<class 'pandas.core.frame.DataFrame'>\n",
      "RangeIndex: 2250 entries, 0 to 2249\n",
      "Data columns (total 9 columns):\n",
      " #   Column            Non-Null Count  Dtype  \n",
      "---  ------            --------------  -----  \n",
      " 0   ID                2250 non-null   object \n",
      " 1   TransactionDates  2250 non-null   object \n",
      " 2   PaymentsHistory   2250 non-null   object \n",
      " 3   m1                2250 non-null   float64\n",
      " 4   m2                2250 non-null   float64\n",
      " 5   m3                2250 non-null   float64\n",
      " 6   m4                2250 non-null   float64\n",
      " 7   m5                2250 non-null   float64\n",
      " 8   m6                2250 non-null   float64\n",
      "dtypes: float64(6), object(3)\n",
      "memory usage: 158.3+ KB\n"
     ]
    }
   ],
   "source": [
    "train.info()"
   ]
  },
  {
   "cell_type": "code",
   "execution_count": 6,
   "id": "60a283a6-cda8-4029-86da-d42e240ed33c",
   "metadata": {
    "execution": {
     "iopub.execute_input": "2021-06-04T14:47:49.496916Z",
     "iopub.status.busy": "2021-06-04T14:47:49.496607Z",
     "iopub.status.idle": "2021-06-04T14:47:49.676326Z",
     "shell.execute_reply": "2021-06-04T14:47:49.675676Z",
     "shell.execute_reply.started": "2021-06-04T14:47:49.496878Z"
    },
    "tags": []
   },
   "outputs": [
    {
     "data": {
      "text/html": [
       "<div>\n",
       "<style scoped>\n",
       "    .dataframe tbody tr th:only-of-type {\n",
       "        vertical-align: middle;\n",
       "    }\n",
       "\n",
       "    .dataframe tbody tr th {\n",
       "        vertical-align: top;\n",
       "    }\n",
       "\n",
       "    .dataframe thead th {\n",
       "        text-align: right;\n",
       "    }\n",
       "</style>\n",
       "<table border=\"1\" class=\"dataframe\">\n",
       "  <thead>\n",
       "    <tr style=\"text-align: right;\">\n",
       "      <th></th>\n",
       "      <th>count</th>\n",
       "      <th>mean</th>\n",
       "      <th>std</th>\n",
       "      <th>min</th>\n",
       "      <th>25%</th>\n",
       "      <th>50%</th>\n",
       "      <th>75%</th>\n",
       "      <th>max</th>\n",
       "    </tr>\n",
       "  </thead>\n",
       "  <tbody>\n",
       "    <tr>\n",
       "      <th>m1</th>\n",
       "      <td>2250.0</td>\n",
       "      <td>938.658222</td>\n",
       "      <td>1002.634490</td>\n",
       "      <td>10.0</td>\n",
       "      <td>320.0</td>\n",
       "      <td>851.0</td>\n",
       "      <td>1210.00</td>\n",
       "      <td>30000.0</td>\n",
       "    </tr>\n",
       "    <tr>\n",
       "      <th>m2</th>\n",
       "      <td>2250.0</td>\n",
       "      <td>912.608889</td>\n",
       "      <td>883.813598</td>\n",
       "      <td>10.0</td>\n",
       "      <td>260.0</td>\n",
       "      <td>840.0</td>\n",
       "      <td>1210.00</td>\n",
       "      <td>16100.0</td>\n",
       "    </tr>\n",
       "    <tr>\n",
       "      <th>m3</th>\n",
       "      <td>2250.0</td>\n",
       "      <td>928.769778</td>\n",
       "      <td>934.261956</td>\n",
       "      <td>4.0</td>\n",
       "      <td>275.0</td>\n",
       "      <td>800.0</td>\n",
       "      <td>1210.00</td>\n",
       "      <td>17650.0</td>\n",
       "    </tr>\n",
       "    <tr>\n",
       "      <th>m4</th>\n",
       "      <td>2250.0</td>\n",
       "      <td>895.854667</td>\n",
       "      <td>881.213263</td>\n",
       "      <td>5.0</td>\n",
       "      <td>220.0</td>\n",
       "      <td>720.5</td>\n",
       "      <td>1200.00</td>\n",
       "      <td>10000.0</td>\n",
       "    </tr>\n",
       "    <tr>\n",
       "      <th>m5</th>\n",
       "      <td>2250.0</td>\n",
       "      <td>901.889333</td>\n",
       "      <td>964.014180</td>\n",
       "      <td>5.0</td>\n",
       "      <td>200.0</td>\n",
       "      <td>620.0</td>\n",
       "      <td>1238.75</td>\n",
       "      <td>10000.0</td>\n",
       "    </tr>\n",
       "    <tr>\n",
       "      <th>m6</th>\n",
       "      <td>2250.0</td>\n",
       "      <td>1109.386667</td>\n",
       "      <td>1153.929625</td>\n",
       "      <td>5.0</td>\n",
       "      <td>170.0</td>\n",
       "      <td>620.0</td>\n",
       "      <td>2000.00</td>\n",
       "      <td>8000.0</td>\n",
       "    </tr>\n",
       "  </tbody>\n",
       "</table>\n",
       "</div>"
      ],
      "text/plain": [
       "     count         mean          std   min    25%    50%      75%      max\n",
       "m1  2250.0   938.658222  1002.634490  10.0  320.0  851.0  1210.00  30000.0\n",
       "m2  2250.0   912.608889   883.813598  10.0  260.0  840.0  1210.00  16100.0\n",
       "m3  2250.0   928.769778   934.261956   4.0  275.0  800.0  1210.00  17650.0\n",
       "m4  2250.0   895.854667   881.213263   5.0  220.0  720.5  1200.00  10000.0\n",
       "m5  2250.0   901.889333   964.014180   5.0  200.0  620.0  1238.75  10000.0\n",
       "m6  2250.0  1109.386667  1153.929625   5.0  170.0  620.0  2000.00   8000.0"
      ]
     },
     "execution_count": 6,
     "metadata": {},
     "output_type": "execute_result"
    }
   ],
   "source": [
    "train.describe(datetime_is_numeric=True).transpose()"
   ]
  },
  {
   "cell_type": "code",
   "execution_count": 7,
   "id": "9d5bca6f-ed45-4c33-95fd-c27d18328d11",
   "metadata": {
    "execution": {
     "iopub.execute_input": "2021-06-04T14:47:49.678142Z",
     "iopub.status.busy": "2021-06-04T14:47:49.677954Z",
     "iopub.status.idle": "2021-06-04T14:47:49.800975Z",
     "shell.execute_reply": "2021-06-04T14:47:49.800132Z",
     "shell.execute_reply.started": "2021-06-04T14:47:49.678122Z"
    },
    "tags": []
   },
   "outputs": [
    {
     "data": {
      "text/html": [
       "<div>\n",
       "<style scoped>\n",
       "    .dataframe tbody tr th:only-of-type {\n",
       "        vertical-align: middle;\n",
       "    }\n",
       "\n",
       "    .dataframe tbody tr th {\n",
       "        vertical-align: top;\n",
       "    }\n",
       "\n",
       "    .dataframe thead th {\n",
       "        text-align: right;\n",
       "    }\n",
       "</style>\n",
       "<table border=\"1\" class=\"dataframe\">\n",
       "  <thead>\n",
       "    <tr style=\"text-align: right;\">\n",
       "      <th></th>\n",
       "      <th>ID</th>\n",
       "      <th>TransactionDates</th>\n",
       "      <th>PaymentsHistory</th>\n",
       "      <th>m1</th>\n",
       "      <th>m2</th>\n",
       "      <th>m3</th>\n",
       "      <th>m4</th>\n",
       "      <th>m5</th>\n",
       "      <th>m6</th>\n",
       "    </tr>\n",
       "  </thead>\n",
       "  <tbody>\n",
       "    <tr>\n",
       "      <th>0</th>\n",
       "      <td>ID_P6IMAB9</td>\n",
       "      <td>['5-2021', '4-2021', '5-2019', '6-2019', '12-2...</td>\n",
       "      <td>[55.0, 110.0, 240.0, 900.0, 1330.0, 1190.0, 16...</td>\n",
       "      <td>110.0</td>\n",
       "      <td>1650.0</td>\n",
       "      <td>1500.0</td>\n",
       "      <td>50.0</td>\n",
       "      <td>165.0</td>\n",
       "      <td>3000.0</td>\n",
       "    </tr>\n",
       "    <tr>\n",
       "      <th>1</th>\n",
       "      <td>ID_AF1HPAT</td>\n",
       "      <td>['11-2017', '10-2017', '8-2018', '3-2018', '4-...</td>\n",
       "      <td>[1120.0, 3120.0, 1200.0, 880.0, 1360.0, 880.0,...</td>\n",
       "      <td>1120.0</td>\n",
       "      <td>1240.0</td>\n",
       "      <td>1360.0</td>\n",
       "      <td>760.0</td>\n",
       "      <td>560.0</td>\n",
       "      <td>1520.0</td>\n",
       "    </tr>\n",
       "  </tbody>\n",
       "</table>\n",
       "</div>"
      ],
      "text/plain": [
       "           ID                                   TransactionDates  \\\n",
       "0  ID_P6IMAB9  ['5-2021', '4-2021', '5-2019', '6-2019', '12-2...   \n",
       "1  ID_AF1HPAT  ['11-2017', '10-2017', '8-2018', '3-2018', '4-...   \n",
       "\n",
       "                                     PaymentsHistory      m1      m2      m3  \\\n",
       "0  [55.0, 110.0, 240.0, 900.0, 1330.0, 1190.0, 16...   110.0  1650.0  1500.0   \n",
       "1  [1120.0, 3120.0, 1200.0, 880.0, 1360.0, 880.0,...  1120.0  1240.0  1360.0   \n",
       "\n",
       "      m4     m5      m6  \n",
       "0   50.0  165.0  3000.0  \n",
       "1  760.0  560.0  1520.0  "
      ]
     },
     "execution_count": 7,
     "metadata": {},
     "output_type": "execute_result"
    }
   ],
   "source": [
    "train.head(n=2)"
   ]
  },
  {
   "cell_type": "code",
   "execution_count": 8,
   "id": "b25e6608-cdcf-4e12-832f-96cfdc7190c0",
   "metadata": {
    "execution": {
     "iopub.execute_input": "2021-06-04T14:47:49.803150Z",
     "iopub.status.busy": "2021-06-04T14:47:49.802853Z",
     "iopub.status.idle": "2021-06-04T14:47:49.896154Z",
     "shell.execute_reply": "2021-06-04T14:47:49.895702Z",
     "shell.execute_reply.started": "2021-06-04T14:47:49.803121Z"
    },
    "tags": []
   },
   "outputs": [
    {
     "name": "stdout",
     "output_type": "stream",
     "text": [
      "<class 'pandas.core.frame.DataFrame'>\n",
      "RangeIndex: 3000 entries, 0 to 2999\n",
      "Data columns (total 20 columns):\n",
      " #   Column               Non-Null Count  Dtype  \n",
      "---  ------               --------------  -----  \n",
      " 0   ID                   3000 non-null   object \n",
      " 1   RegistrationDate     3000 non-null   object \n",
      " 2   Deposit              3000 non-null   int64  \n",
      " 3   UpsellDate           87 non-null     object \n",
      " 4   AccessoryRate        3000 non-null   float64\n",
      " 5   PaymentMethod        3000 non-null   object \n",
      " 6   rateTypeEntity       3000 non-null   object \n",
      " 7   RatePerUnit          3000 non-null   int64  \n",
      " 8   DaysOnDeposit        3000 non-null   int64  \n",
      " 9   MainApplicantGender  3000 non-null   object \n",
      " 10  Age                  2453 non-null   float64\n",
      " 11  Region               2845 non-null   object \n",
      " 12  Town                 3000 non-null   object \n",
      " 13  Occupation           3000 non-null   object \n",
      " 14  SupplierName         3000 non-null   object \n",
      " 15  Term                 3000 non-null   int64  \n",
      " 16  TotalContractValue   3000 non-null   float64\n",
      " 17  ExpectedTermDate     3000 non-null   object \n",
      " 18  FirstPaymentDate     3000 non-null   object \n",
      " 19  LastPaymentDate      3000 non-null   object \n",
      "dtypes: float64(3), int64(4), object(13)\n",
      "memory usage: 468.9+ KB\n"
     ]
    }
   ],
   "source": [
    "metadata.info()"
   ]
  },
  {
   "cell_type": "code",
   "execution_count": 9,
   "id": "03c3aff6-940f-43a0-ae32-e6f4ad05a294",
   "metadata": {
    "execution": {
     "iopub.execute_input": "2021-06-04T14:47:49.896998Z",
     "iopub.status.busy": "2021-06-04T14:47:49.896831Z",
     "iopub.status.idle": "2021-06-04T14:47:50.058446Z",
     "shell.execute_reply": "2021-06-04T14:47:50.057804Z",
     "shell.execute_reply.started": "2021-06-04T14:47:49.896977Z"
    },
    "tags": []
   },
   "outputs": [
    {
     "data": {
      "text/html": [
       "<div>\n",
       "<style scoped>\n",
       "    .dataframe tbody tr th:only-of-type {\n",
       "        vertical-align: middle;\n",
       "    }\n",
       "\n",
       "    .dataframe tbody tr th {\n",
       "        vertical-align: top;\n",
       "    }\n",
       "\n",
       "    .dataframe thead th {\n",
       "        text-align: right;\n",
       "    }\n",
       "</style>\n",
       "<table border=\"1\" class=\"dataframe\">\n",
       "  <thead>\n",
       "    <tr style=\"text-align: right;\">\n",
       "      <th></th>\n",
       "      <th>count</th>\n",
       "      <th>mean</th>\n",
       "      <th>std</th>\n",
       "      <th>min</th>\n",
       "      <th>25%</th>\n",
       "      <th>50%</th>\n",
       "      <th>75%</th>\n",
       "      <th>max</th>\n",
       "    </tr>\n",
       "  </thead>\n",
       "  <tbody>\n",
       "    <tr>\n",
       "      <th>Deposit</th>\n",
       "      <td>3000.0</td>\n",
       "      <td>2339.357333</td>\n",
       "      <td>425.323629</td>\n",
       "      <td>0.0</td>\n",
       "      <td>2000.0</td>\n",
       "      <td>2000.0</td>\n",
       "      <td>2500.0</td>\n",
       "      <td>3500.0</td>\n",
       "    </tr>\n",
       "    <tr>\n",
       "      <th>AccessoryRate</th>\n",
       "      <td>3000.0</td>\n",
       "      <td>1.375667</td>\n",
       "      <td>8.893944</td>\n",
       "      <td>0.0</td>\n",
       "      <td>0.0</td>\n",
       "      <td>0.0</td>\n",
       "      <td>0.0</td>\n",
       "      <td>120.0</td>\n",
       "    </tr>\n",
       "    <tr>\n",
       "      <th>RatePerUnit</th>\n",
       "      <td>3000.0</td>\n",
       "      <td>49.127333</td>\n",
       "      <td>47.161155</td>\n",
       "      <td>35.0</td>\n",
       "      <td>40.0</td>\n",
       "      <td>40.0</td>\n",
       "      <td>55.0</td>\n",
       "      <td>1000.0</td>\n",
       "    </tr>\n",
       "    <tr>\n",
       "      <th>DaysOnDeposit</th>\n",
       "      <td>3000.0</td>\n",
       "      <td>4.587333</td>\n",
       "      <td>3.308376</td>\n",
       "      <td>0.0</td>\n",
       "      <td>3.0</td>\n",
       "      <td>3.0</td>\n",
       "      <td>7.0</td>\n",
       "      <td>60.0</td>\n",
       "    </tr>\n",
       "    <tr>\n",
       "      <th>Age</th>\n",
       "      <td>2453.0</td>\n",
       "      <td>39.004484</td>\n",
       "      <td>12.201459</td>\n",
       "      <td>20.0</td>\n",
       "      <td>29.0</td>\n",
       "      <td>36.0</td>\n",
       "      <td>46.0</td>\n",
       "      <td>92.0</td>\n",
       "    </tr>\n",
       "    <tr>\n",
       "      <th>Term</th>\n",
       "      <td>3000.0</td>\n",
       "      <td>411.577667</td>\n",
       "      <td>120.450682</td>\n",
       "      <td>12.0</td>\n",
       "      <td>364.0</td>\n",
       "      <td>364.0</td>\n",
       "      <td>547.0</td>\n",
       "      <td>621.0</td>\n",
       "    </tr>\n",
       "    <tr>\n",
       "      <th>TotalContractValue</th>\n",
       "      <td>3000.0</td>\n",
       "      <td>22939.425667</td>\n",
       "      <td>10338.885591</td>\n",
       "      <td>10800.0</td>\n",
       "      <td>16560.0</td>\n",
       "      <td>16560.0</td>\n",
       "      <td>33080.0</td>\n",
       "      <td>64484.0</td>\n",
       "    </tr>\n",
       "  </tbody>\n",
       "</table>\n",
       "</div>"
      ],
      "text/plain": [
       "                     count          mean           std      min      25%  \\\n",
       "Deposit             3000.0   2339.357333    425.323629      0.0   2000.0   \n",
       "AccessoryRate       3000.0      1.375667      8.893944      0.0      0.0   \n",
       "RatePerUnit         3000.0     49.127333     47.161155     35.0     40.0   \n",
       "DaysOnDeposit       3000.0      4.587333      3.308376      0.0      3.0   \n",
       "Age                 2453.0     39.004484     12.201459     20.0     29.0   \n",
       "Term                3000.0    411.577667    120.450682     12.0    364.0   \n",
       "TotalContractValue  3000.0  22939.425667  10338.885591  10800.0  16560.0   \n",
       "\n",
       "                        50%      75%      max  \n",
       "Deposit              2000.0   2500.0   3500.0  \n",
       "AccessoryRate           0.0      0.0    120.0  \n",
       "RatePerUnit            40.0     55.0   1000.0  \n",
       "DaysOnDeposit           3.0      7.0     60.0  \n",
       "Age                    36.0     46.0     92.0  \n",
       "Term                  364.0    547.0    621.0  \n",
       "TotalContractValue  16560.0  33080.0  64484.0  "
      ]
     },
     "execution_count": 9,
     "metadata": {},
     "output_type": "execute_result"
    }
   ],
   "source": [
    "metadata.describe(datetime_is_numeric=True).transpose()"
   ]
  },
  {
   "cell_type": "code",
   "execution_count": 10,
   "id": "1a785a2b-4059-483d-a4ab-cf6dd335e1c3",
   "metadata": {
    "execution": {
     "iopub.execute_input": "2021-06-04T14:47:50.059337Z",
     "iopub.status.busy": "2021-06-04T14:47:50.059129Z",
     "iopub.status.idle": "2021-06-04T14:47:50.143629Z",
     "shell.execute_reply": "2021-06-04T14:47:50.142898Z",
     "shell.execute_reply.started": "2021-06-04T14:47:50.059318Z"
    },
    "tags": []
   },
   "outputs": [
    {
     "data": {
      "text/html": [
       "<div>\n",
       "<style scoped>\n",
       "    .dataframe tbody tr th:only-of-type {\n",
       "        vertical-align: middle;\n",
       "    }\n",
       "\n",
       "    .dataframe tbody tr th {\n",
       "        vertical-align: top;\n",
       "    }\n",
       "\n",
       "    .dataframe thead th {\n",
       "        text-align: right;\n",
       "    }\n",
       "</style>\n",
       "<table border=\"1\" class=\"dataframe\">\n",
       "  <thead>\n",
       "    <tr style=\"text-align: right;\">\n",
       "      <th></th>\n",
       "      <th>ID</th>\n",
       "      <th>RegistrationDate</th>\n",
       "      <th>Deposit</th>\n",
       "      <th>UpsellDate</th>\n",
       "      <th>AccessoryRate</th>\n",
       "      <th>PaymentMethod</th>\n",
       "      <th>rateTypeEntity</th>\n",
       "      <th>RatePerUnit</th>\n",
       "      <th>DaysOnDeposit</th>\n",
       "      <th>MainApplicantGender</th>\n",
       "      <th>Age</th>\n",
       "      <th>Region</th>\n",
       "      <th>Town</th>\n",
       "      <th>Occupation</th>\n",
       "      <th>SupplierName</th>\n",
       "      <th>Term</th>\n",
       "      <th>TotalContractValue</th>\n",
       "      <th>ExpectedTermDate</th>\n",
       "      <th>FirstPaymentDate</th>\n",
       "      <th>LastPaymentDate</th>\n",
       "    </tr>\n",
       "  </thead>\n",
       "  <tbody>\n",
       "    <tr>\n",
       "      <th>0</th>\n",
       "      <td>ID_ECQME2K</td>\n",
       "      <td>2017-09-14 09:37:03</td>\n",
       "      <td>2000</td>\n",
       "      <td>NaN</td>\n",
       "      <td>0.0</td>\n",
       "      <td>FINANCED</td>\n",
       "      <td>DAILY</td>\n",
       "      <td>40</td>\n",
       "      <td>7</td>\n",
       "      <td>Female</td>\n",
       "      <td>34.0</td>\n",
       "      <td>Western</td>\n",
       "      <td>Bungoma</td>\n",
       "      <td>Farmer</td>\n",
       "      <td>d_light</td>\n",
       "      <td>364</td>\n",
       "      <td>16560.0</td>\n",
       "      <td>2018-09-13 09:37:03</td>\n",
       "      <td>2017-09-14 09:37:03</td>\n",
       "      <td>2018-12-30 09:20:00</td>\n",
       "    </tr>\n",
       "    <tr>\n",
       "      <th>1</th>\n",
       "      <td>ID_3CU8FA2</td>\n",
       "      <td>2020-01-10 13:01:49</td>\n",
       "      <td>2000</td>\n",
       "      <td>NaN</td>\n",
       "      <td>0.0</td>\n",
       "      <td>FINANCED</td>\n",
       "      <td>DAILY</td>\n",
       "      <td>40</td>\n",
       "      <td>3</td>\n",
       "      <td>Male</td>\n",
       "      <td>31.0</td>\n",
       "      <td>Nyanza</td>\n",
       "      <td>Kisumu</td>\n",
       "      <td>Driver/Motorbike Rider</td>\n",
       "      <td>d_light</td>\n",
       "      <td>270</td>\n",
       "      <td>12800.0</td>\n",
       "      <td>2020-10-06 13:01:49</td>\n",
       "      <td>2020-01-10 13:01:57</td>\n",
       "      <td>2021-05-05 10:25:15</td>\n",
       "    </tr>\n",
       "  </tbody>\n",
       "</table>\n",
       "</div>"
      ],
      "text/plain": [
       "           ID     RegistrationDate  Deposit UpsellDate  AccessoryRate  \\\n",
       "0  ID_ECQME2K  2017-09-14 09:37:03     2000        NaN            0.0   \n",
       "1  ID_3CU8FA2  2020-01-10 13:01:49     2000        NaN            0.0   \n",
       "\n",
       "  PaymentMethod rateTypeEntity  RatePerUnit  DaysOnDeposit  \\\n",
       "0      FINANCED          DAILY           40              7   \n",
       "1      FINANCED          DAILY           40              3   \n",
       "\n",
       "  MainApplicantGender   Age   Region     Town              Occupation  \\\n",
       "0              Female  34.0  Western  Bungoma                  Farmer   \n",
       "1                Male  31.0   Nyanza   Kisumu  Driver/Motorbike Rider   \n",
       "\n",
       "  SupplierName  Term  TotalContractValue     ExpectedTermDate  \\\n",
       "0      d_light   364             16560.0  2018-09-13 09:37:03   \n",
       "1      d_light   270             12800.0  2020-10-06 13:01:49   \n",
       "\n",
       "      FirstPaymentDate      LastPaymentDate  \n",
       "0  2017-09-14 09:37:03  2018-12-30 09:20:00  \n",
       "1  2020-01-10 13:01:57  2021-05-05 10:25:15  "
      ]
     },
     "execution_count": 10,
     "metadata": {},
     "output_type": "execute_result"
    }
   ],
   "source": [
    "metadata.head(n=2)"
   ]
  },
  {
   "cell_type": "code",
   "execution_count": 11,
   "id": "734ad388-1bdf-4066-ad9e-859168ee206c",
   "metadata": {
    "execution": {
     "iopub.execute_input": "2021-06-04T14:47:50.144687Z",
     "iopub.status.busy": "2021-06-04T14:47:50.144480Z",
     "iopub.status.idle": "2021-06-04T14:47:50.251210Z",
     "shell.execute_reply": "2021-06-04T14:47:50.250544Z",
     "shell.execute_reply.started": "2021-06-04T14:47:50.144664Z"
    },
    "tags": []
   },
   "outputs": [
    {
     "name": "stdout",
     "output_type": "stream",
     "text": [
      "<class 'pandas.core.frame.DataFrame'>\n",
      "RangeIndex: 750 entries, 0 to 749\n",
      "Data columns (total 3 columns):\n",
      " #   Column            Non-Null Count  Dtype \n",
      "---  ------            --------------  ----- \n",
      " 0   ID                750 non-null    object\n",
      " 1   TransactionDates  750 non-null    object\n",
      " 2   PaymentsHistory   750 non-null    object\n",
      "dtypes: object(3)\n",
      "memory usage: 17.7+ KB\n"
     ]
    }
   ],
   "source": [
    "test.info()"
   ]
  },
  {
   "cell_type": "code",
   "execution_count": 12,
   "id": "8d207ec9-fd50-4441-8454-017593f87487",
   "metadata": {
    "execution": {
     "iopub.execute_input": "2021-06-04T14:47:50.256796Z",
     "iopub.status.busy": "2021-06-04T14:47:50.254838Z",
     "iopub.status.idle": "2021-06-04T14:47:50.406040Z",
     "shell.execute_reply": "2021-06-04T14:47:50.397968Z",
     "shell.execute_reply.started": "2021-06-04T14:47:50.256743Z"
    },
    "tags": []
   },
   "outputs": [
    {
     "data": {
      "text/html": [
       "<div>\n",
       "<style scoped>\n",
       "    .dataframe tbody tr th:only-of-type {\n",
       "        vertical-align: middle;\n",
       "    }\n",
       "\n",
       "    .dataframe tbody tr th {\n",
       "        vertical-align: top;\n",
       "    }\n",
       "\n",
       "    .dataframe thead th {\n",
       "        text-align: right;\n",
       "    }\n",
       "</style>\n",
       "<table border=\"1\" class=\"dataframe\">\n",
       "  <thead>\n",
       "    <tr style=\"text-align: right;\">\n",
       "      <th></th>\n",
       "      <th>count</th>\n",
       "      <th>unique</th>\n",
       "      <th>top</th>\n",
       "      <th>freq</th>\n",
       "    </tr>\n",
       "  </thead>\n",
       "  <tbody>\n",
       "    <tr>\n",
       "      <th>ID</th>\n",
       "      <td>750</td>\n",
       "      <td>750</td>\n",
       "      <td>ID_LSQK8R2</td>\n",
       "      <td>1</td>\n",
       "    </tr>\n",
       "    <tr>\n",
       "      <th>TransactionDates</th>\n",
       "      <td>750</td>\n",
       "      <td>750</td>\n",
       "      <td>['6-2019', '4-2019', '7-2018', '3-2019', '10-2...</td>\n",
       "      <td>1</td>\n",
       "    </tr>\n",
       "    <tr>\n",
       "      <th>PaymentsHistory</th>\n",
       "      <td>750</td>\n",
       "      <td>750</td>\n",
       "      <td>[1200.0, 3200.0, 1200.0, 1150.0, 900.0, 900.0,...</td>\n",
       "      <td>1</td>\n",
       "    </tr>\n",
       "  </tbody>\n",
       "</table>\n",
       "</div>"
      ],
      "text/plain": [
       "                 count unique  \\\n",
       "ID                 750    750   \n",
       "TransactionDates   750    750   \n",
       "PaymentsHistory    750    750   \n",
       "\n",
       "                                                                top freq  \n",
       "ID                                                       ID_LSQK8R2    1  \n",
       "TransactionDates  ['6-2019', '4-2019', '7-2018', '3-2019', '10-2...    1  \n",
       "PaymentsHistory   [1200.0, 3200.0, 1200.0, 1150.0, 900.0, 900.0,...    1  "
      ]
     },
     "execution_count": 12,
     "metadata": {},
     "output_type": "execute_result"
    }
   ],
   "source": [
    "test.describe(datetime_is_numeric=True).transpose()"
   ]
  },
  {
   "cell_type": "code",
   "execution_count": 13,
   "id": "b953f74a-24b1-4b7c-a925-a6aaf2e82aab",
   "metadata": {
    "execution": {
     "iopub.execute_input": "2021-06-04T14:47:50.408953Z",
     "iopub.status.busy": "2021-06-04T14:47:50.408156Z",
     "iopub.status.idle": "2021-06-04T14:47:50.511038Z",
     "shell.execute_reply": "2021-06-04T14:47:50.509693Z",
     "shell.execute_reply.started": "2021-06-04T14:47:50.408897Z"
    },
    "tags": []
   },
   "outputs": [
    {
     "data": {
      "text/html": [
       "<div>\n",
       "<style scoped>\n",
       "    .dataframe tbody tr th:only-of-type {\n",
       "        vertical-align: middle;\n",
       "    }\n",
       "\n",
       "    .dataframe tbody tr th {\n",
       "        vertical-align: top;\n",
       "    }\n",
       "\n",
       "    .dataframe thead th {\n",
       "        text-align: right;\n",
       "    }\n",
       "</style>\n",
       "<table border=\"1\" class=\"dataframe\">\n",
       "  <thead>\n",
       "    <tr style=\"text-align: right;\">\n",
       "      <th></th>\n",
       "      <th>ID</th>\n",
       "      <th>TransactionDates</th>\n",
       "      <th>PaymentsHistory</th>\n",
       "    </tr>\n",
       "  </thead>\n",
       "  <tbody>\n",
       "    <tr>\n",
       "      <th>0</th>\n",
       "      <td>ID_ECQME2K</td>\n",
       "      <td>['11-2018', '9-2018', '6-2018', '12-2017', '8-...</td>\n",
       "      <td>[720.0, 840.0, 880.0, 1100.0, 840.0, 1040.0, 8...</td>\n",
       "    </tr>\n",
       "    <tr>\n",
       "      <th>1</th>\n",
       "      <td>ID_2TE361R</td>\n",
       "      <td>['5-2021', '2-2021', '3-2021', '4-2021', '1-20...</td>\n",
       "      <td>[450.0, 130.0, 310.0, 500.0, 480.0, 970.0, 500...</td>\n",
       "    </tr>\n",
       "  </tbody>\n",
       "</table>\n",
       "</div>"
      ],
      "text/plain": [
       "           ID                                   TransactionDates  \\\n",
       "0  ID_ECQME2K  ['11-2018', '9-2018', '6-2018', '12-2017', '8-...   \n",
       "1  ID_2TE361R  ['5-2021', '2-2021', '3-2021', '4-2021', '1-20...   \n",
       "\n",
       "                                     PaymentsHistory  \n",
       "0  [720.0, 840.0, 880.0, 1100.0, 840.0, 1040.0, 8...  \n",
       "1  [450.0, 130.0, 310.0, 500.0, 480.0, 970.0, 500...  "
      ]
     },
     "execution_count": 13,
     "metadata": {},
     "output_type": "execute_result"
    }
   ],
   "source": [
    "test.head(n=2)"
   ]
  },
  {
   "cell_type": "code",
   "execution_count": 14,
   "id": "45b92170-fbd9-4af3-b666-d8634ed2081c",
   "metadata": {
    "execution": {
     "iopub.execute_input": "2021-06-04T14:47:50.514489Z",
     "iopub.status.busy": "2021-06-04T14:47:50.513393Z",
     "iopub.status.idle": "2021-06-04T14:47:50.614945Z",
     "shell.execute_reply": "2021-06-04T14:47:50.614191Z",
     "shell.execute_reply.started": "2021-06-04T14:47:50.514413Z"
    },
    "tags": []
   },
   "outputs": [
    {
     "name": "stdout",
     "output_type": "stream",
     "text": [
      "---------------- Missing values Report ----------------\n",
      "ID                  0\n",
      "TransactionDates    0\n",
      "PaymentsHistory     0\n",
      "m1                  0\n",
      "m2                  0\n",
      "m3                  0\n",
      "m4                  0\n",
      "m5                  0\n",
      "m6                  0\n",
      "dtype: int64\n"
     ]
    }
   ],
   "source": [
    "print(\"---------------- Missing values Report ----------------\")\n",
    "print(train.isna().sum())"
   ]
  },
  {
   "cell_type": "code",
   "execution_count": 15,
   "id": "1920fe36-bc18-4eeb-ab98-91ac700ba5ff",
   "metadata": {
    "execution": {
     "iopub.execute_input": "2021-06-04T14:47:50.616267Z",
     "iopub.status.busy": "2021-06-04T14:47:50.616004Z",
     "iopub.status.idle": "2021-06-04T14:47:50.742625Z",
     "shell.execute_reply": "2021-06-04T14:47:50.740856Z",
     "shell.execute_reply.started": "2021-06-04T14:47:50.616237Z"
    },
    "tags": []
   },
   "outputs": [
    {
     "name": "stdout",
     "output_type": "stream",
     "text": [
      "---------------- Missing values Report ----------------\n",
      "ID                  0\n",
      "TransactionDates    0\n",
      "PaymentsHistory     0\n",
      "dtype: int64\n"
     ]
    }
   ],
   "source": [
    "print(\"---------------- Missing values Report ----------------\")\n",
    "print(test.isna().sum())"
   ]
  },
  {
   "cell_type": "code",
   "execution_count": 16,
   "id": "5b0c111f-1dd2-4178-b921-49f4020a35b6",
   "metadata": {
    "execution": {
     "iopub.execute_input": "2021-06-04T14:47:50.746293Z",
     "iopub.status.busy": "2021-06-04T14:47:50.745198Z",
     "iopub.status.idle": "2021-06-04T14:47:50.910317Z",
     "shell.execute_reply": "2021-06-04T14:47:50.908677Z",
     "shell.execute_reply.started": "2021-06-04T14:47:50.746220Z"
    },
    "tags": []
   },
   "outputs": [
    {
     "name": "stdout",
     "output_type": "stream",
     "text": [
      "---------------- Missing values Report ----------------\n",
      "ID                        0\n",
      "RegistrationDate          0\n",
      "Deposit                   0\n",
      "UpsellDate             2913\n",
      "AccessoryRate             0\n",
      "PaymentMethod             0\n",
      "rateTypeEntity            0\n",
      "RatePerUnit               0\n",
      "DaysOnDeposit             0\n",
      "MainApplicantGender       0\n",
      "Age                     547\n",
      "Region                  155\n",
      "Town                      0\n",
      "Occupation                0\n",
      "SupplierName              0\n",
      "Term                      0\n",
      "TotalContractValue        0\n",
      "ExpectedTermDate          0\n",
      "FirstPaymentDate          0\n",
      "LastPaymentDate           0\n",
      "dtype: int64\n"
     ]
    }
   ],
   "source": [
    "print(\"---------------- Missing values Report ----------------\")\n",
    "print(metadata.isna().sum())"
   ]
  },
  {
   "cell_type": "code",
   "execution_count": 17,
   "id": "d3c2c42f-6597-4241-abf6-ad0e45693ac4",
   "metadata": {
    "execution": {
     "iopub.execute_input": "2021-06-04T14:47:50.918108Z",
     "iopub.status.busy": "2021-06-04T14:47:50.917544Z",
     "iopub.status.idle": "2021-06-04T14:47:51.073794Z",
     "shell.execute_reply": "2021-06-04T14:47:51.073081Z",
     "shell.execute_reply.started": "2021-06-04T14:47:50.918042Z"
    },
    "tags": []
   },
   "outputs": [],
   "source": [
    "merged = pd.merge(left=metadata, right=pd.concat(objs=[train, test]).fillna(value=0.), on=\"ID\")"
   ]
  },
  {
   "cell_type": "code",
   "execution_count": 18,
   "id": "836d7b3e-dcd4-4b32-927d-0aab7ac62dc6",
   "metadata": {
    "execution": {
     "iopub.execute_input": "2021-06-04T14:47:51.074948Z",
     "iopub.status.busy": "2021-06-04T14:47:51.074734Z",
     "iopub.status.idle": "2021-06-04T14:47:52.811106Z",
     "shell.execute_reply": "2021-06-04T14:47:52.810572Z",
     "shell.execute_reply.started": "2021-06-04T14:47:51.074922Z"
    },
    "tags": []
   },
   "outputs": [
    {
     "data": {
      "image/png": "[encoded data removed]",
      "text/plain": [
       "<Figure size 1800x1080 with 6 Axes>"
      ]
     },
     "metadata": {
      "needs_background": "light"
     },
     "output_type": "display_data"
    }
   ],
   "source": [
    "merged = create_target(df=merged, window=4)\n",
    "\n",
    "### some visualization\n",
    "fig = get_viz(df=merged)"
   ]
  },
  {
   "attachments": {},
   "cell_type": "markdown",
   "id": "98b16880-9d1d-4cfa-86c3-132c6eb005d0",
   "metadata": {},
   "source": [
    "### Preprocessing"
   ]
  },
  {
   "cell_type": "code",
   "execution_count": 19,
   "id": "482deef3-7079-4005-b7c0-5cc6126e0274",
   "metadata": {
    "execution": {
     "iopub.execute_input": "2021-06-04T14:47:52.811923Z",
     "iopub.status.busy": "2021-06-04T14:47:52.811776Z",
     "iopub.status.idle": "2021-06-04T14:47:52.851600Z",
     "shell.execute_reply": "2021-06-04T14:47:52.850795Z",
     "shell.execute_reply.started": "2021-06-04T14:47:52.811905Z"
    },
    "tags": []
   },
   "outputs": [
    {
     "name": "stderr",
     "output_type": "stream",
     "text": [
      "Processing categorical columns \t: 100%|██████████| 7/7 [00:00<00:00, 782.39it/s]\n",
      "Processing datetime columns \t: 100%|██████████| 5/5 [00:00<00:00, 444.47it/s]\n"
     ]
    }
   ],
   "source": [
    "merged_ = preprocess_data(df=merged, skip_cols=[\"PaymentsHistory\", \"TransactionDates\"])"
   ]
  },
  {
   "cell_type": "code",
   "execution_count": 20,
   "id": "db03d204-3626-445d-81be-ebb0fc0439bf",
   "metadata": {
    "execution": {
     "iopub.execute_input": "2021-06-04T14:47:52.852501Z",
     "iopub.status.busy": "2021-06-04T14:47:52.852320Z",
     "iopub.status.idle": "2021-06-04T14:47:52.935286Z",
     "shell.execute_reply": "2021-06-04T14:47:52.933751Z",
     "shell.execute_reply.started": "2021-06-04T14:47:52.852480Z"
    },
    "tags": []
   },
   "outputs": [
    {
     "data": {
      "text/plain": [
       "ID                     0\n",
       "RegistrationDate       0\n",
       "Deposit                0\n",
       "UpsellDate             0\n",
       "AccessoryRate          0\n",
       "PaymentMethod          0\n",
       "rateTypeEntity         0\n",
       "RatePerUnit            0\n",
       "DaysOnDeposit          0\n",
       "MainApplicantGender    0\n",
       "Age                    0\n",
       "Region                 0\n",
       "Town                   0\n",
       "Occupation             0\n",
       "SupplierName           0\n",
       "Term                   0\n",
       "TotalContractValue     0\n",
       "ExpectedTermDate       0\n",
       "FirstPaymentDate       0\n",
       "LastPaymentDate        0\n",
       "TransactionDates       0\n",
       "PaymentsHistory        0\n",
       "m1                     0\n",
       "m2                     0\n",
       "m3                     0\n",
       "m4                     0\n",
       "m5                     0\n",
       "m6                     0\n",
       "Target                 0\n",
       "dtype: int64"
      ]
     },
     "execution_count": 20,
     "metadata": {},
     "output_type": "execute_result"
    }
   ],
   "source": [
    "merged_.isna().sum()"
   ]
  },
  {
   "attachments": {},
   "cell_type": "markdown",
   "id": "295f0b85-5a8c-413b-b12e-1d7e8ca44acb",
   "metadata": {},
   "source": [
    "### Features extraction"
   ]
  },
  {
   "cell_type": "code",
   "execution_count": 21,
   "id": "1ab26365-3c9c-4dcf-b7db-6c80416af245",
   "metadata": {
    "execution": {
     "iopub.execute_input": "2021-06-04T14:47:52.938444Z",
     "iopub.status.busy": "2021-06-04T14:47:52.937468Z",
     "iopub.status.idle": "2021-06-04T14:47:53.110948Z",
     "shell.execute_reply": "2021-06-04T14:47:53.110350Z",
     "shell.execute_reply.started": "2021-06-04T14:47:52.938370Z"
    },
    "tags": []
   },
   "outputs": [
    {
     "data": {
      "text/html": [
       "<div>\n",
       "<style scoped>\n",
       "    .dataframe tbody tr th:only-of-type {\n",
       "        vertical-align: middle;\n",
       "    }\n",
       "\n",
       "    .dataframe tbody tr th {\n",
       "        vertical-align: top;\n",
       "    }\n",
       "\n",
       "    .dataframe thead th {\n",
       "        text-align: right;\n",
       "    }\n",
       "</style>\n",
       "<table border=\"1\" class=\"dataframe\">\n",
       "  <thead>\n",
       "    <tr style=\"text-align: right;\">\n",
       "      <th></th>\n",
       "      <th>ID</th>\n",
       "      <th>RegistrationDate</th>\n",
       "      <th>Deposit</th>\n",
       "      <th>UpsellDate</th>\n",
       "      <th>AccessoryRate</th>\n",
       "      <th>PaymentMethod</th>\n",
       "      <th>rateTypeEntity</th>\n",
       "      <th>RatePerUnit</th>\n",
       "      <th>DaysOnDeposit</th>\n",
       "      <th>MainApplicantGender</th>\n",
       "      <th>...</th>\n",
       "      <th>TotalContractValue</th>\n",
       "      <th>ExpectedTermDate</th>\n",
       "      <th>FirstPaymentDate</th>\n",
       "      <th>LastPaymentDate</th>\n",
       "      <th>Target</th>\n",
       "      <th>RegisteredInLeapYear</th>\n",
       "      <th>RegisteredAtMonthStart</th>\n",
       "      <th>RegisteredAtMonthEnd</th>\n",
       "      <th>LastPaymentMonth</th>\n",
       "      <th>FirstPaymentMonth</th>\n",
       "    </tr>\n",
       "  </thead>\n",
       "  <tbody>\n",
       "    <tr>\n",
       "      <th>0</th>\n",
       "      <td>ID_ECQME2K</td>\n",
       "      <td>2017-09-14 09:37:03</td>\n",
       "      <td>2000</td>\n",
       "      <td>None</td>\n",
       "      <td>0.0</td>\n",
       "      <td>0</td>\n",
       "      <td>0</td>\n",
       "      <td>40</td>\n",
       "      <td>7</td>\n",
       "      <td>0</td>\n",
       "      <td>...</td>\n",
       "      <td>16560.0</td>\n",
       "      <td>2022-09-08 09:37:03</td>\n",
       "      <td>2017-09-14 09:37:03</td>\n",
       "      <td>2018-12-30 09:20:00</td>\n",
       "      <td>0.0</td>\n",
       "      <td>0.0</td>\n",
       "      <td>0.0</td>\n",
       "      <td>0.0</td>\n",
       "      <td>12</td>\n",
       "      <td>9</td>\n",
       "    </tr>\n",
       "    <tr>\n",
       "      <th>1</th>\n",
       "      <td>ID_3CU8FA2</td>\n",
       "      <td>2020-01-10 13:01:49</td>\n",
       "      <td>2000</td>\n",
       "      <td>None</td>\n",
       "      <td>0.0</td>\n",
       "      <td>0</td>\n",
       "      <td>0</td>\n",
       "      <td>40</td>\n",
       "      <td>3</td>\n",
       "      <td>1</td>\n",
       "      <td>...</td>\n",
       "      <td>12800.0</td>\n",
       "      <td>2023-09-21 13:01:49</td>\n",
       "      <td>2020-01-10 13:01:57</td>\n",
       "      <td>2021-05-05 10:25:15</td>\n",
       "      <td>1.0</td>\n",
       "      <td>1.0</td>\n",
       "      <td>0.0</td>\n",
       "      <td>0.0</td>\n",
       "      <td>5</td>\n",
       "      <td>1</td>\n",
       "    </tr>\n",
       "  </tbody>\n",
       "</table>\n",
       "<p>2 rows × 26 columns</p>\n",
       "</div>"
      ],
      "text/plain": [
       "           ID    RegistrationDate  Deposit UpsellDate  AccessoryRate  \\\n",
       "0  ID_ECQME2K 2017-09-14 09:37:03     2000       None            0.0   \n",
       "1  ID_3CU8FA2 2020-01-10 13:01:49     2000       None            0.0   \n",
       "\n",
       "   PaymentMethod  rateTypeEntity  RatePerUnit  DaysOnDeposit  \\\n",
       "0              0               0           40              7   \n",
       "1              0               0           40              3   \n",
       "\n",
       "   MainApplicantGender  ...  TotalContractValue    ExpectedTermDate  \\\n",
       "0                    0  ...             16560.0 2022-09-08 09:37:03   \n",
       "1                    1  ...             12800.0 2023-09-21 13:01:49   \n",
       "\n",
       "     FirstPaymentDate     LastPaymentDate  Target  RegisteredInLeapYear  \\\n",
       "0 2017-09-14 09:37:03 2018-12-30 09:20:00     0.0                   0.0   \n",
       "1 2020-01-10 13:01:57 2021-05-05 10:25:15     1.0                   1.0   \n",
       "\n",
       "   RegisteredAtMonthStart RegisteredAtMonthEnd LastPaymentMonth  \\\n",
       "0                     0.0                  0.0               12   \n",
       "1                     0.0                  0.0                5   \n",
       "\n",
       "  FirstPaymentMonth  \n",
       "0                 9  \n",
       "1                 1  \n",
       "\n",
       "[2 rows x 26 columns]"
      ]
     },
     "execution_count": 21,
     "metadata": {},
     "output_type": "execute_result"
    }
   ],
   "source": [
    "merged_ = extract_features(df=merged_)\n",
    "merged_.head(n=2)"
   ]
  },
  {
   "cell_type": "code",
   "execution_count": 22,
   "id": "d5d96f53-ea8d-47e8-bc9d-446eae63229c",
   "metadata": {
    "execution": {
     "iopub.execute_input": "2021-06-04T14:47:53.111879Z",
     "iopub.status.busy": "2021-06-04T14:47:53.111700Z",
     "iopub.status.idle": "2021-06-04T14:47:53.161323Z",
     "shell.execute_reply": "2021-06-04T14:47:53.158887Z",
     "shell.execute_reply.started": "2021-06-04T14:47:53.111858Z"
    },
    "tags": []
   },
   "outputs": [
    {
     "name": "stdout",
     "output_type": "stream",
     "text": [
      "> Training inputs shape : (2100, 20), Training targets shape : (2100,)\n",
      "> Validation inputs shape : (900, 20), Training targets shape : (900,)\n"
     ]
    }
   ],
   "source": [
    "selected_features = [c for c in merged_.columns[1:] if \"Date\" not in c]\n",
    "xtrain_loan = merged_[selected_features]\n",
    "ytrain_loan = merged_.Target\n",
    "## Split\n",
    "xtrain_loan, xval_loan, ytrain_loan, yval_loan = train_test_split(\n",
    "    xtrain_loan, \n",
    "    ytrain_loan, \n",
    "    test_size=.3, \n",
    "    random_state=21, \n",
    "    shuffle=True\n",
    ")\n",
    "scaler = StandardScaler()\n",
    "##Fit scaler\n",
    "scaler.fit(X=xtrain_loan.values)\n",
    "\n",
    "## Scale data\n",
    "xtrain_loan = scaler.transform(X=xtrain_loan.values)\n",
    "xval_loan = scaler.transform(X=xval_loan.values)\n",
    "\n",
    "print(f\"> Training inputs shape : {xtrain_loan.shape}, Training targets shape : {ytrain_loan.shape}\")\n",
    "print(f\"> Validation inputs shape : {xval_loan.shape}, Training targets shape : {yval_loan.shape}\")"
   ]
  },
  {
   "attachments": {},
   "cell_type": "markdown",
   "id": "15c68592-eb0a-44a7-b208-c28c437b6db0",
   "metadata": {},
   "source": [
    "### Train/Val split"
   ]
  },
  {
   "cell_type": "code",
   "execution_count": 23,
   "id": "f7b3c46a-f5ca-4d1f-9327-a991c13040b3",
   "metadata": {
    "execution": {
     "iopub.execute_input": "2021-06-04T14:47:53.164479Z",
     "iopub.status.busy": "2021-06-04T14:47:53.163947Z",
     "iopub.status.idle": "2021-06-04T14:47:53.940011Z",
     "shell.execute_reply": "2021-06-04T14:47:53.939483Z",
     "shell.execute_reply.started": "2021-06-04T14:47:53.164417Z"
    },
    "tags": []
   },
   "outputs": [],
   "source": [
    "train, max_len = pad_history(df=train, max_len=41)\n",
    "\n",
    "xtrain = train.PaymentsHistory.values\n",
    "ytrain = train[train.columns[-6:]].values\n",
    "\n",
    "xs = np.array(xtrain.tolist()).reshape((xtrain.shape[0], 1, max_len))\n",
    "ys = np.array(ytrain.tolist()).reshape((ytrain.shape[0], 1, 6))\n",
    "\n",
    "train_ds = tf.data.Dataset.from_tensor_slices((xs, ys))"
   ]
  },
  {
   "cell_type": "code",
   "execution_count": 24,
   "id": "fa601306-0e5d-421b-af1d-b583eebf4261",
   "metadata": {
    "execution": {
     "iopub.execute_input": "2021-06-04T14:47:53.941513Z",
     "iopub.status.busy": "2021-06-04T14:47:53.941322Z",
     "iopub.status.idle": "2021-06-04T14:47:53.948884Z",
     "shell.execute_reply": "2021-06-04T14:47:53.948219Z",
     "shell.execute_reply.started": "2021-06-04T14:47:53.941494Z"
    },
    "tags": []
   },
   "outputs": [
    {
     "name": "stdout",
     "output_type": "stream",
     "text": [
      "(<tf.Tensor: shape=(1, 41), dtype=float64, numpy=\n",
      "array([[  55.,  110.,  240.,  900., 1330., 1190.,  160., 1570., 2000.,\n",
      "         170.,  235., 1505.,  200., 1075.,  715.,  550., 1405.,  120.,\n",
      "         180., 1365.,   55.,   55.,    0.,    0.,    0.,    0.,    0.,\n",
      "           0.,    0.,    0.,    0.,    0.,    0.,    0.,    0.,    0.,\n",
      "           0.,    0.,    0.,    0.,    0.]])>, <tf.Tensor: shape=(1, 6), dtype=float64, numpy=array([[ 110., 1650., 1500.,   50.,  165., 3000.]])>)\n"
     ]
    }
   ],
   "source": [
    "for sample in train_ds:\n",
    "    print(sample)\n",
    "    break"
   ]
  },
  {
   "attachments": {},
   "cell_type": "markdown",
   "id": "9801d339-085d-4bce-b4ab-31a7958dd1f0",
   "metadata": {},
   "source": [
    "## Modelling"
   ]
  },
  {
   "cell_type": "code",
   "execution_count": 25,
   "id": "5170db2b-2bd0-432d-b42f-3863e555d7b1",
   "metadata": {
    "execution": {
     "iopub.execute_input": "2021-06-04T14:47:53.951236Z",
     "iopub.status.busy": "2021-06-04T14:47:53.950986Z",
     "iopub.status.idle": "2021-06-04T14:47:54.048911Z",
     "shell.execute_reply": "2021-06-04T14:47:54.047040Z",
     "shell.execute_reply.started": "2021-06-04T14:47:53.951214Z"
    },
    "tags": []
   },
   "outputs": [],
   "source": [
    "def build_model():\n",
    "    \n",
    "    payments_inp = keras.Input(shape=(41), name=\"payments_inputs\")\n",
    "    status_inp = keras.Input(shape=(xtrain_loan.shape[1]), name=\"status_inputs\")\n",
    "    \n",
    "    x1 = keras.layers.Dense(35, activation=\"sigmoid\", name=\"x1\")(status_inp)\n",
    "    out1 = keras.layers.Dense(1, name=\"loan_status_out\")(x1)\n",
    "    \n",
    "    \n",
    "    x2 = keras.layers.Dense(20, activation=\"sigmoid\", name=\"x2\")(payments_inp)\n",
    "    x2_out = keras.layers.Dense(30, activation=\"sigmoid\", name=\"payment_out\")(x2)\n",
    "    \n",
    "    concat = keras.layers.Concatenate(name=\"concat_layer\")([out1, x2_out])\n",
    "    out2 = keras.layers.Dense(6, name=\"out\")(concat)\n",
    "    \n",
    "    # Model\n",
    "    model = keras.Model(inputs=[payments_inp, status_inp], outputs=[out1, out2])\n",
    "    \n",
    "    opt = keras.optimizers.Adam(learning_rate=0.01)\n",
    "    wgt = {\"out1\":.7, \"out2\":.3}\n",
    "    \n",
    "    model.compile(\n",
    "        loss=\"mean_squared_error\",\n",
    "        optimizer=opt,\n",
    "        loss_weights=wgt\n",
    "    )\n",
    "\n",
    "    model.summary()\n",
    "    \n",
    "    return model\n",
    "\n",
    "\n",
    "def build_simple_model():\n",
    "    \n",
    "    payments_inp = keras.Input(shape=(41), name=\"payments_inputs\")\n",
    "\n",
    "    x = keras.layers.Dense(20, activation=\"sigmoid\", name=\"x2\")(payments_inp)\n",
    "    x_out = keras.layers.Dense(30, activation=\"sigmoid\", name=\"payment_out\")(x)\n",
    "    \n",
    "    out = keras.layers.Dense(6, name=\"out\")(x)\n",
    "    \n",
    "    # Model\n",
    "    model = keras.Model(inputs=[payments_inp], outputs=[out])\n",
    "    \n",
    "    opt = keras.optimizers.Adam(learning_rate=0.01)\n",
    "    \n",
    "    model.compile(\n",
    "        loss=\"mean_squared_error\",\n",
    "        optimizer=opt,\n",
    "    )\n",
    "\n",
    "    model.summary()\n",
    "    \n",
    "    return model\n",
    "\n",
    "\n",
    "def build_status_model():\n",
    "    \n",
    "    status_inp = keras.Input(shape=(xtrain_loan.shape[1]), name=\"status_inputs\")\n",
    "\n",
    "    x = keras.layers.Dense(20, activation=\"sigmoid\", name=\"x2\")(status_inp)\n",
    "    x_out = keras.layers.Dense(30, activation=\"sigmoid\", name=\"statut_out\")(x)\n",
    "    \n",
    "    out = keras.layers.Dense(6, name=\"out\")(x)\n",
    "    \n",
    "    # Model\n",
    "    model = keras.Model(inputs=[status_inp], outputs=[out])\n",
    "    \n",
    "    opt = keras.optimizers.Adam(learning_rate=0.01)\n",
    "    \n",
    "    model.compile(\n",
    "        loss=\"mean_squared_error\",\n",
    "        optimizer=opt,\n",
    "    )\n",
    "\n",
    "    model.summary()\n",
    "    \n",
    "    return model\n",
    "\n"
   ]
  },
  {
   "cell_type": "code",
   "execution_count": 26,
   "id": "132dc356-2e2b-43c9-8dcd-70074b025a12",
   "metadata": {
    "execution": {
     "iopub.execute_input": "2021-06-04T14:47:54.056639Z",
     "iopub.status.busy": "2021-06-04T14:47:54.054371Z",
     "iopub.status.idle": "2021-06-04T14:47:54.655692Z",
     "shell.execute_reply": "2021-06-04T14:47:54.654513Z",
     "shell.execute_reply.started": "2021-06-04T14:47:54.056559Z"
    },
    "tags": []
   },
   "outputs": [
    {
     "name": "stdout",
     "output_type": "stream",
     "text": [
      "Model: \"model\"\n",
      "_________________________________________________________________\n",
      "Layer (type)                 Output Shape              Param #   \n",
      "=================================================================\n",
      "payments_inputs (InputLayer) [(None, 41)]              0         \n",
      "_________________________________________________________________\n",
      "x2 (Dense)                   (None, 20)                840       \n",
      "_________________________________________________________________\n",
      "out (Dense)                  (None, 6)                 126       \n",
      "=================================================================\n",
      "Total params: 966\n",
      "Trainable params: 966\n",
      "Non-trainable params: 0\n",
      "_________________________________________________________________\n"
     ]
    }
   ],
   "source": [
    "model = build_simple_model()"
   ]
  },
  {
   "cell_type": "code",
   "execution_count": 27,
   "id": "89b4dd1d-e0c7-4ad7-a2d8-cba8e895e9a0",
   "metadata": {
    "execution": {
     "iopub.execute_input": "2021-06-04T14:47:54.656779Z",
     "iopub.status.busy": "2021-06-04T14:47:54.656592Z",
     "iopub.status.idle": "2021-06-04T14:47:54.974135Z",
     "shell.execute_reply": "2021-06-04T14:47:54.973256Z",
     "shell.execute_reply.started": "2021-06-04T14:47:54.656755Z"
    },
    "tags": []
   },
   "outputs": [
    {
     "data": {
      "image/png": "[encoded data removed]",
      "text/plain": [
       "<IPython.core.display.Image object>"
      ]
     },
     "execution_count": 27,
     "metadata": {},
     "output_type": "execute_result"
    }
   ],
   "source": [
    "tf.keras.utils.plot_model(\n",
    "        model,\n",
    "        to_file=\"../model.png\", \n",
    "        show_shapes=True\n",
    "    )"
   ]
  },
  {
   "attachments": {},
   "cell_type": "markdown",
   "id": "ac2abe6d-2c72-4595-a96b-a25875520b03",
   "metadata": {},
   "source": [
    "## Learning phase"
   ]
  },
  {
   "cell_type": "code",
   "execution_count": 28,
   "id": "0e3620c7-215f-4d68-ad12-9d68bf6ffffd",
   "metadata": {
    "execution": {
     "iopub.execute_input": "2021-06-04T14:47:54.975333Z",
     "iopub.status.busy": "2021-06-04T14:47:54.975125Z",
     "iopub.status.idle": "2021-06-04T14:47:59.915245Z",
     "shell.execute_reply": "2021-06-04T14:47:59.914795Z",
     "shell.execute_reply.started": "2021-06-04T14:47:54.975306Z"
    },
    "scrolled": true,
    "tags": []
   },
   "outputs": [
    {
     "name": "stdout",
     "output_type": "stream",
     "text": [
      "Epoch 1/2\n",
      "2250/2250 [==============================] - 2s 993us/step - loss: 1619204.3750\n",
      "Epoch 2/2\n",
      "2250/2250 [==============================] - 2s 1ms/step - loss: 1277944.3750\n"
     ]
    },
    {
     "data": {
      "text/plain": [
       "<tensorflow.python.keras.callbacks.History at 0x7f2ab24b7dc0>"
      ]
     },
     "execution_count": 28,
     "metadata": {},
     "output_type": "execute_result"
    }
   ],
   "source": [
    "model.fit(train_ds, batch_size=16, epochs=2)"
   ]
  },
  {
   "attachments": {},
   "cell_type": "markdown",
   "id": "a3a05373-6b29-44fe-8f6b-74cceebab71c",
   "metadata": {},
   "source": [
    "## Eval/Inference time"
   ]
  },
  {
   "cell_type": "code",
   "execution_count": 29,
   "id": "bee12663-6697-455e-8cc8-57024ef76a2e",
   "metadata": {
    "execution": {
     "iopub.execute_input": "2021-06-04T14:47:59.916004Z",
     "iopub.status.busy": "2021-06-04T14:47:59.915855Z",
     "iopub.status.idle": "2021-06-04T14:47:59.921504Z",
     "shell.execute_reply": "2021-06-04T14:47:59.921034Z",
     "shell.execute_reply.started": "2021-06-04T14:47:59.915985Z"
    },
    "tags": []
   },
   "outputs": [],
   "source": [
    "def predict(test:pd.DataFrame):\n",
    "    test, max_len = pad_history(df=test, max_len=41)\n",
    "\n",
    "    xtest = test.PaymentsHistory.values\n",
    "    xtest = np.array(xtest.tolist()).reshape((xtest.shape[0], 1, max_len))\n",
    "    \n",
    "    test_ds = tf.data.Dataset.from_tensor_slices(xtest)\n",
    "    preds = model.predict(test_ds)\n",
    "    \n",
    "    assert preds.shape[0] == test.shape[0], f\"Shape mismatch, {preds.shape[0]} predictions found while test set has {test.shape[0]} rows\"\n",
    "    \n",
    "    return preds.flatten()"
   ]
  },
  {
   "cell_type": "code",
   "execution_count": 30,
   "id": "006d1f05-08b1-4bf9-a3e7-09ef518a3f9a",
   "metadata": {
    "execution": {
     "iopub.execute_input": "2021-06-04T14:47:59.923571Z",
     "iopub.status.busy": "2021-06-04T14:47:59.923415Z",
     "iopub.status.idle": "2021-06-04T14:48:00.468776Z",
     "shell.execute_reply": "2021-06-04T14:48:00.468347Z",
     "shell.execute_reply.started": "2021-06-04T14:47:59.923552Z"
    },
    "tags": []
   },
   "outputs": [],
   "source": [
    "preds = predict(test=test)"
   ]
  },
  {
   "cell_type": "code",
   "execution_count": 31,
   "id": "f82b4fb5-fe19-4b43-9cfc-8e4e94d93f31",
   "metadata": {
    "execution": {
     "iopub.execute_input": "2021-06-04T14:48:00.469602Z",
     "iopub.status.busy": "2021-06-04T14:48:00.469466Z",
     "iopub.status.idle": "2021-06-04T14:48:00.474573Z",
     "shell.execute_reply": "2021-06-04T14:48:00.474002Z",
     "shell.execute_reply.started": "2021-06-04T14:48:00.469584Z"
    },
    "tags": []
   },
   "outputs": [
    {
     "data": {
      "text/plain": [
       "((4500,), (4500, 2))"
      ]
     },
     "execution_count": 31,
     "metadata": {},
     "output_type": "execute_result"
    }
   ],
   "source": [
    "preds.shape, ss.shape"
   ]
  },
  {
   "attachments": {},
   "cell_type": "markdown",
   "id": "a7ad77e2-6494-46f8-b147-4398b862c1af",
   "metadata": {},
   "source": [
    "## Create submission"
   ]
  },
  {
   "cell_type": "code",
   "execution_count": 32,
   "id": "46b2a24c-5637-4f08-ac7b-45114ba4d0e4",
   "metadata": {
    "execution": {
     "iopub.execute_input": "2021-06-04T14:48:00.475425Z",
     "iopub.status.busy": "2021-06-04T14:48:00.475265Z",
     "iopub.status.idle": "2021-06-04T14:48:00.580003Z",
     "shell.execute_reply": "2021-06-04T14:48:00.578019Z",
     "shell.execute_reply.started": "2021-06-04T14:48:00.475405Z"
    }
   },
   "outputs": [
    {
     "data": {
      "text/html": [
       "<div>\n",
       "<style scoped>\n",
       "    .dataframe tbody tr th:only-of-type {\n",
       "        vertical-align: middle;\n",
       "    }\n",
       "\n",
       "    .dataframe tbody tr th {\n",
       "        vertical-align: top;\n",
       "    }\n",
       "\n",
       "    .dataframe thead th {\n",
       "        text-align: right;\n",
       "    }\n",
       "</style>\n",
       "<table border=\"1\" class=\"dataframe\">\n",
       "  <thead>\n",
       "    <tr style=\"text-align: right;\">\n",
       "      <th></th>\n",
       "      <th>ID</th>\n",
       "      <th>Target</th>\n",
       "    </tr>\n",
       "  </thead>\n",
       "  <tbody>\n",
       "    <tr>\n",
       "      <th>0</th>\n",
       "      <td>ID_ECQME2K x m1</td>\n",
       "      <td>0.0</td>\n",
       "    </tr>\n",
       "    <tr>\n",
       "      <th>1</th>\n",
       "      <td>ID_ECQME2K x m2</td>\n",
       "      <td>0.0</td>\n",
       "    </tr>\n",
       "    <tr>\n",
       "      <th>2</th>\n",
       "      <td>ID_ECQME2K x m3</td>\n",
       "      <td>0.0</td>\n",
       "    </tr>\n",
       "    <tr>\n",
       "      <th>3</th>\n",
       "      <td>ID_ECQME2K x m4</td>\n",
       "      <td>0.0</td>\n",
       "    </tr>\n",
       "    <tr>\n",
       "      <th>4</th>\n",
       "      <td>ID_ECQME2K x m5</td>\n",
       "      <td>0.0</td>\n",
       "    </tr>\n",
       "    <tr>\n",
       "      <th>5</th>\n",
       "      <td>ID_ECQME2K x m6</td>\n",
       "      <td>0.0</td>\n",
       "    </tr>\n",
       "    <tr>\n",
       "      <th>6</th>\n",
       "      <td>ID_2TE361R x m1</td>\n",
       "      <td>0.0</td>\n",
       "    </tr>\n",
       "    <tr>\n",
       "      <th>7</th>\n",
       "      <td>ID_2TE361R x m2</td>\n",
       "      <td>0.0</td>\n",
       "    </tr>\n",
       "    <tr>\n",
       "      <th>8</th>\n",
       "      <td>ID_2TE361R x m3</td>\n",
       "      <td>0.0</td>\n",
       "    </tr>\n",
       "    <tr>\n",
       "      <th>9</th>\n",
       "      <td>ID_2TE361R x m4</td>\n",
       "      <td>0.0</td>\n",
       "    </tr>\n",
       "    <tr>\n",
       "      <th>10</th>\n",
       "      <td>ID_2TE361R x m5</td>\n",
       "      <td>0.0</td>\n",
       "    </tr>\n",
       "    <tr>\n",
       "      <th>11</th>\n",
       "      <td>ID_2TE361R x m6</td>\n",
       "      <td>0.0</td>\n",
       "    </tr>\n",
       "  </tbody>\n",
       "</table>\n",
       "</div>"
      ],
      "text/plain": [
       "                 ID  Target\n",
       "0   ID_ECQME2K x m1     0.0\n",
       "1   ID_ECQME2K x m2     0.0\n",
       "2   ID_ECQME2K x m3     0.0\n",
       "3   ID_ECQME2K x m4     0.0\n",
       "4   ID_ECQME2K x m5     0.0\n",
       "5   ID_ECQME2K x m6     0.0\n",
       "6   ID_2TE361R x m1     0.0\n",
       "7   ID_2TE361R x m2     0.0\n",
       "8   ID_2TE361R x m3     0.0\n",
       "9   ID_2TE361R x m4     0.0\n",
       "10  ID_2TE361R x m5     0.0\n",
       "11  ID_2TE361R x m6     0.0"
      ]
     },
     "execution_count": 32,
     "metadata": {},
     "output_type": "execute_result"
    }
   ],
   "source": [
    "ss.head(n=12)"
   ]
  },
  {
   "cell_type": "code",
   "execution_count": 33,
   "id": "b8853a8f-53c3-4d15-ab77-9fef4ddf97aa",
   "metadata": {
    "execution": {
     "iopub.execute_input": "2021-06-04T14:48:00.584120Z",
     "iopub.status.busy": "2021-06-04T14:48:00.583206Z",
     "iopub.status.idle": "2021-06-04T14:48:00.677039Z",
     "shell.execute_reply": "2021-06-04T14:48:00.676355Z",
     "shell.execute_reply.started": "2021-06-04T14:48:00.584042Z"
    },
    "tags": []
   },
   "outputs": [],
   "source": [
    "ss[\"Target\"] = preds"
   ]
  },
  {
   "cell_type": "code",
   "execution_count": 34,
   "id": "2bf142b4-00f2-45f3-a75d-4c3548f7f109",
   "metadata": {
    "execution": {
     "iopub.execute_input": "2021-06-04T14:48:00.678004Z",
     "iopub.status.busy": "2021-06-04T14:48:00.677819Z",
     "iopub.status.idle": "2021-06-04T14:48:00.834986Z",
     "shell.execute_reply": "2021-06-04T14:48:00.833362Z",
     "shell.execute_reply.started": "2021-06-04T14:48:00.677980Z"
    }
   },
   "outputs": [
    {
     "data": {
      "text/html": [
       "<div>\n",
       "<style scoped>\n",
       "    .dataframe tbody tr th:only-of-type {\n",
       "        vertical-align: middle;\n",
       "    }\n",
       "\n",
       "    .dataframe tbody tr th {\n",
       "        vertical-align: top;\n",
       "    }\n",
       "\n",
       "    .dataframe thead th {\n",
       "        text-align: right;\n",
       "    }\n",
       "</style>\n",
       "<table border=\"1\" class=\"dataframe\">\n",
       "  <thead>\n",
       "    <tr style=\"text-align: right;\">\n",
       "      <th></th>\n",
       "      <th>ID</th>\n",
       "      <th>Target</th>\n",
       "    </tr>\n",
       "  </thead>\n",
       "  <tbody>\n",
       "    <tr>\n",
       "      <th>0</th>\n",
       "      <td>ID_ECQME2K x m1</td>\n",
       "      <td>469.827728</td>\n",
       "    </tr>\n",
       "    <tr>\n",
       "      <th>1</th>\n",
       "      <td>ID_ECQME2K x m2</td>\n",
       "      <td>495.836853</td>\n",
       "    </tr>\n",
       "    <tr>\n",
       "      <th>2</th>\n",
       "      <td>ID_ECQME2K x m3</td>\n",
       "      <td>495.337036</td>\n",
       "    </tr>\n",
       "    <tr>\n",
       "      <th>3</th>\n",
       "      <td>ID_ECQME2K x m4</td>\n",
       "      <td>500.100677</td>\n",
       "    </tr>\n",
       "    <tr>\n",
       "      <th>4</th>\n",
       "      <td>ID_ECQME2K x m5</td>\n",
       "      <td>480.187042</td>\n",
       "    </tr>\n",
       "    <tr>\n",
       "      <th>5</th>\n",
       "      <td>ID_ECQME2K x m6</td>\n",
       "      <td>502.291748</td>\n",
       "    </tr>\n",
       "    <tr>\n",
       "      <th>6</th>\n",
       "      <td>ID_2TE361R x m1</td>\n",
       "      <td>425.901306</td>\n",
       "    </tr>\n",
       "    <tr>\n",
       "      <th>7</th>\n",
       "      <td>ID_2TE361R x m2</td>\n",
       "      <td>447.836456</td>\n",
       "    </tr>\n",
       "    <tr>\n",
       "      <th>8</th>\n",
       "      <td>ID_2TE361R x m3</td>\n",
       "      <td>447.367310</td>\n",
       "    </tr>\n",
       "    <tr>\n",
       "      <th>9</th>\n",
       "      <td>ID_2TE361R x m4</td>\n",
       "      <td>451.163483</td>\n",
       "    </tr>\n",
       "    <tr>\n",
       "      <th>10</th>\n",
       "      <td>ID_2TE361R x m5</td>\n",
       "      <td>433.430267</td>\n",
       "    </tr>\n",
       "    <tr>\n",
       "      <th>11</th>\n",
       "      <td>ID_2TE361R x m6</td>\n",
       "      <td>453.607178</td>\n",
       "    </tr>\n",
       "  </tbody>\n",
       "</table>\n",
       "</div>"
      ],
      "text/plain": [
       "                 ID      Target\n",
       "0   ID_ECQME2K x m1  469.827728\n",
       "1   ID_ECQME2K x m2  495.836853\n",
       "2   ID_ECQME2K x m3  495.337036\n",
       "3   ID_ECQME2K x m4  500.100677\n",
       "4   ID_ECQME2K x m5  480.187042\n",
       "5   ID_ECQME2K x m6  502.291748\n",
       "6   ID_2TE361R x m1  425.901306\n",
       "7   ID_2TE361R x m2  447.836456\n",
       "8   ID_2TE361R x m3  447.367310\n",
       "9   ID_2TE361R x m4  451.163483\n",
       "10  ID_2TE361R x m5  433.430267\n",
       "11  ID_2TE361R x m6  453.607178"
      ]
     },
     "execution_count": 34,
     "metadata": {},
     "output_type": "execute_result"
    }
   ],
   "source": [
    "ss.head(n=12)"
   ]
  },
  {
   "cell_type": "code",
   "execution_count": 35,
   "id": "a441599d-f0be-4108-90e8-810ad58077fc",
   "metadata": {
    "execution": {
     "iopub.execute_input": "2021-06-04T14:48:00.837539Z",
     "iopub.status.busy": "2021-06-04T14:48:00.837066Z",
     "iopub.status.idle": "2021-06-04T14:48:00.946881Z",
     "shell.execute_reply": "2021-06-04T14:48:00.945787Z",
     "shell.execute_reply.started": "2021-06-04T14:48:00.837476Z"
    }
   },
   "outputs": [],
   "source": [
    "ss.to_csv('../submissions/baseline_sub.csv', index=False)"
   ]
  },
  {
   "attachments": {},
   "cell_type": "markdown",
   "id": "27e2328f-8f8e-4bcc-a7dd-e083d0d5ef96",
   "metadata": {},
   "source": [
    "### some insights\n",
    "\n",
    "1. !!! You must then build a machine learning model that returns the expected future payments for `n` months ahead !!! (Make sure one will be able to predict for more steps with your model and `set n=6 for this competition`)⚠️\n",
    "\n",
    "2. Building a loan status predictor is highly recommended (likelihood of being a good/bad payer)✅\n",
    "\n",
    "3. gradient boosting? random forest? reccurent net? even use an ensemble of many models. be creative 💡!\n",
    "\n",
    "4. Cross validation ? why not 🤷🏾‍♂️\n",
    "\n",
    "5. You can even try a Seq2Seq model : [resource](https://awaywithideas.com/keras-implementation-of-a-sequence-to-sequence-model-for-time-series-prediction-using-an-encoder-decoder-architecture/)"
   ]
  },
  {
   "cell_type": "code",
   "execution_count": null,
   "id": "79c0d8bf",
   "metadata": {},
   "outputs": [],
   "source": [
    "# Fitting a different model\n",
    "# XGBoost\n",
    "from xgboost import XGBRegressor\n",
    "xgb = XGBRegressor(n_estimators=1000, learning_rate=0.05, n_jobs=4)\n",
    "xgb.fit(xtrain_loan, ytrain_loan)\n",
    "\n",
    "xgb_preds = xgb.predict(xval_loan)\n",
    "\n",
    "xgb_preds.shape, yval_loan.shape\n",
    "\n",
    "from sklearn.metrics import mean_squared_error, r2_score\n",
    "1 - r2_score(yval_loan, xgb_preds)"
   ]
  },
  {
   "cell_type": "code",
   "execution_count": null,
   "id": "41fbc99a",
   "metadata": {},
   "outputs": [],
   "source": [
    "# Submission\n"
   ]
  }
 ],
 "metadata": {
  "kernelspec": {
   "display_name": "Python 3",
   "language": "python",
   "name": "python3"
  },
  "language_info": {
   "codemirror_mode": {
    "name": "ipython",
    "version": 3
   },
   "file_extension": ".py",
   "mimetype": "text/x-python",
   "name": "python",
   "nbconvert_exporter": "python",
   "pygments_lexer": "ipython3",
   "version": "3.11.3"
  },
  "widgets": {
   "application/vnd.jupyter.widget-state+json": {
    "state": {},
    "version_major": 2,
    "version_minor": 0
   }
  }
 },
 "nbformat": 4,
 "nbformat_minor": 5
}
