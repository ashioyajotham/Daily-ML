{
 "cells": [
  {
   "cell_type": "code",
   "execution_count": 1,
   "id": "8f6ff5b6-84ff-4fee-9c50-9a1bb4cc0661",
   "metadata": {},
   "outputs": [
    {
     "data": {
      "text/plain": [
       "dict"
      ]
     },
     "execution_count": 1,
     "metadata": {},
     "output_type": "execute_result"
    }
   ],
   "source": [
    "def check_type(**kwargs):\n",
    "    return type(kwargs)\n",
    "\n",
    "check_type(a = 1, b = 2, c = 3)"
   ]
  },
  {
   "cell_type": "code",
   "execution_count": 2,
   "id": "54a92790-2948-4a6f-ab8e-3811ff18dfd2",
   "metadata": {},
   "outputs": [
    {
     "name": "stdout",
     "output_type": "stream",
     "text": [
      "21\n"
     ]
    }
   ],
   "source": [
    "def add_max(x,y):\n",
    "  z = max(x) + max(y)\n",
    "  return z\n",
    "print (add_max([4,2,4],[17,13,17]))"
   ]
  },
  {
   "cell_type": "code",
   "execution_count": 3,
   "id": "974d3216-7ac6-4b95-ae9c-589da2784f4a",
   "metadata": {},
   "outputs": [
    {
     "data": {
      "text/plain": [
       "('3.4000', '5.6780')"
      ]
     },
     "execution_count": 3,
     "metadata": {},
     "output_type": "execute_result"
    }
   ],
   "source": [
    "def add_zeros(string):\n",
    "    updated_string = string + '0'\n",
    "    def add_more():\n",
    "        nonlocal updated_string\n",
    "        updated_string+=\"0\"\n",
    "    while len (updated_string) < 6:\n",
    "        add_more()\n",
    "    return updated_string\n",
    "(add_zeros(\"3.4\"), add_zeros(\"5.678\"))"
   ]
  },
  {
   "cell_type": "code",
   "execution_count": 4,
   "id": "1b9cb6f7-b6c6-4ec8-b8e9-2a2652f8ed35",
   "metadata": {},
   "outputs": [
    {
     "name": "stdout",
     "output_type": "stream",
     "text": [
      "Note: you may need to restart the kernel to use updated packages.Collecting seaborn\n"
     ]
    },
    {
     "name": "stderr",
     "output_type": "stream",
     "text": [
      "ERROR: THESE PACKAGES DO NOT MATCH THE HASHES FROM THE REQUIREMENTS FILE. If you have updated the package versions, please update the hashes. Otherwise, examine the package contents carefully; someone may have tampered with them.\n",
      "    scipy>=1.0 from https://files.pythonhosted.org/packages/52/8a/d53c6a64dd88ef80911a150478367567a9b1254d1926664524867c4d64e2/scipy-1.7.3-cp310-cp310-win_amd64.whl#sha256=304dfaa7146cffdb75fbf6bb7c190fd7688795389ad060b970269c8576d038e9 (from seaborn):\n",
      "        Expected sha256 304dfaa7146cffdb75fbf6bb7c190fd7688795389ad060b970269c8576d038e9\n",
      "             Got        6a18974c106eca23c1e8789db670b84ce660acbadb6c58e91a80d1e0e6eff0aa\n",
      "\n"
     ]
    },
    {
     "name": "stdout",
     "output_type": "stream",
     "text": [
      "\n",
      "  Using cached seaborn-0.11.2-py3-none-any.whl (292 kB)\n",
      "Requirement already satisfied: matplotlib>=2.2 in c:\\users\\user\\appdata\\local\\programs\\python\\python310\\lib\\site-packages (from seaborn) (3.5.1)\n",
      "Requirement already satisfied: numpy>=1.15 in c:\\users\\user\\appdata\\local\\programs\\python\\python310\\lib\\site-packages (from seaborn) (1.22.0)\n",
      "Collecting scipy>=1.0\n",
      "  Downloading scipy-1.7.3-cp310-cp310-win_amd64.whl (34.3 MB)\n"
     ]
    }
   ],
   "source": [
    "%pip install seaborn"
   ]
  }
 ],
 "metadata": {
  "kernelspec": {
   "display_name": "Python 3",
   "language": "python",
   "name": "python3"
  },
  "language_info": {
   "codemirror_mode": {
    "name": "ipython",
    "version": 3
   },
   "file_extension": ".py",
   "mimetype": "text/x-python",
   "name": "python",
   "nbconvert_exporter": "python",
   "pygments_lexer": "ipython3",
   "version": "3.10.1"
  },
  "widgets": {
   "application/vnd.jupyter.widget-state+json": {
    "state": {},
    "version_major": 2,
    "version_minor": 0
   }
  }
 },
 "nbformat": 4,
 "nbformat_minor": 5
}
