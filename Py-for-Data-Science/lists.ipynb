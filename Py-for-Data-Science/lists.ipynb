{
 "cells": [
  {
   "cell_type": "code",
   "execution_count": null,
   "id": "94893a4d-147d-49af-9215-4aa267259d27",
   "metadata": {},
   "outputs": [],
   "source": [
    "# List refers to a data type that is used to store multiply items \n",
    "# List items are gnerally ordered, easily changeable and allow duplicate values\n",
    "    # Changeable - means we can and remove items in a list\n",
    "   # Ordered - means list iems have a ready defined order\n",
    "  # Duplicates - just like the name suggests, lists can have items with the same value\n",
    "# lists are mutable ie cannot be changed after being nested\n",
    "# Lists can be nested\n",
    "# We use the list index to access items in a list using the index opetrator[] which begins from 0"
   ]
  },
  {
   "cell_type": "code",
   "execution_count": 4,
   "id": "932d6342-980c-40d8-a02f-f8f53dbb9223",
   "metadata": {},
   "outputs": [
    {
     "name": "stdout",
     "output_type": "stream",
     "text": [
      "['Tupac', 'Victor', 'Ashioya', 'Victor']\n"
     ]
    }
   ],
   "source": [
    "# Lists allow duplicates\n",
    "names = [\"Tupac\", \"Victor\", \"Ashioya\", \"Victor\"]\n",
    "print(names)"
   ]
  },
  {
   "cell_type": "code",
   "execution_count": 6,
   "id": "6e32fcc9-784b-493b-94d2-c53c03d6b224",
   "metadata": {},
   "outputs": [
    {
     "name": "stdout",
     "output_type": "stream",
     "text": [
      "['Tupac', 'Victor', 'Ashioya']\n",
      "['Tupac', 'Victor', 'Ashioya', 'Jotham']\n"
     ]
    }
   ],
   "source": [
    "# Lists are changeable\n",
    "names = [\"Tupac\", \"Victor\", \"Ashioya\", \"Victor\"]\n",
    "\n",
    "# delete item\n",
    "del names[3]\n",
    "print(names)\n",
    "\n",
    "# add item\n",
    "names.append(\"Jotham\")\n",
    "print(names)"
   ]
  },
  {
   "cell_type": "code",
   "execution_count": 7,
   "id": "92afd785-d88d-4270-b0e9-b2544c51404a",
   "metadata": {},
   "outputs": [
    {
     "data": {
      "text/plain": [
       "False"
      ]
     },
     "execution_count": 7,
     "metadata": {},
     "output_type": "execute_result"
    }
   ],
   "source": [
    "# Lists are ordered\n",
    "names = [\"Tupac\", \"Victor\", \"Ashioya\", \"Jotham\"]\n",
    "nemis = [\"Ashioya\", \"Jotham\", \"Victor\", \"Tupac\"]\n",
    "names is nemis"
   ]
  },
  {
   "cell_type": "code",
   "execution_count": 8,
   "id": "f1732245-fd89-47bd-b1cf-d394bbbd8269",
   "metadata": {},
   "outputs": [
    {
     "data": {
      "text/plain": [
       "['Tupac', 'Victor', ['Vicky', 'Vic'], 'Ashioya', 'Jotham']"
      ]
     },
     "execution_count": 8,
     "metadata": {},
     "output_type": "execute_result"
    }
   ],
   "source": [
    "# Lists can be nested\n",
    "names = [\"Tupac\", \"Victor\", [\"Vicky\", \"Vic\"], \"Ashioya\", \"Jotham\"]\n",
    "names"
   ]
  },
  {
   "cell_type": "code",
   "execution_count": null,
   "id": "c7b026e8-7c14-4308-b3a2-b512b29e2b54",
   "metadata": {},
   "outputs": [],
   "source": []
  }
 ],
 "metadata": {
  "kernelspec": {
   "display_name": "Python 3",
   "language": "python",
   "name": "python3"
  },
  "language_info": {
   "codemirror_mode": {
    "name": "ipython",
    "version": 3
   },
   "file_extension": ".py",
   "mimetype": "text/x-python",
   "name": "python",
   "nbconvert_exporter": "python",
   "pygments_lexer": "ipython3",
   "version": "3.9.7"
  },
  "widgets": {
   "application/vnd.jupyter.widget-state+json": {
    "state": {},
    "version_major": 2,
    "version_minor": 0
   }
  }
 },
 "nbformat": 4,
 "nbformat_minor": 5
}
