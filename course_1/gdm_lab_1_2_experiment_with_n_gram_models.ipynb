{
  "cells": [
    {
      "cell_type": "markdown",
      "metadata": {
        "id": "view-in-github",
        "colab_type": "text"
      },
      "source": [
        "<a href=\"https://colab.research.google.com/github/ashioyajotham/Daily-ML/blob/main/course_1/gdm_lab_1_2_experiment_with_n_gram_models.ipynb\" target=\"_parent\"><img src=\"https://colab.research.google.com/assets/colab-badge.svg\" alt=\"Open In Colab\"/></a>"
      ]
    },
    {
      "metadata": {
        "id": "_DAsej7XSlYt"
      },
      "cell_type": "markdown",
      "source": [
        "> <p><small><small>This Notebook is made available subject to the licence and terms set out in the <a href = \"http://www.github.com/google-deepmind/ai-foundations\">AI Research Foundations Github README file</a>."
      ]
    },
    {
      "cell_type": "markdown",
      "source": [
        "<img src=\"https://storage.googleapis.com/dm-educational/assets/ai_foundations/GDM-Labs-banner-image-C1-white-bg.png\">"
      ],
      "metadata": {
        "id": "3myzQnLMOJ91"
      }
    },
    {
      "metadata": {
        "id": "zE0jaJsaICiX"
      },
      "cell_type": "markdown",
      "source": [
        "# Lab: Experiment with N-Gram Models\n",
        "\n",
        "<a href='https://colab.research.google.com/github/google-deepmind/ai-foundations/blob/master/course_1/gdm_lab_1_2_experiment_with_n_gram_models.ipynb' target='_parent'><img src='https://colab.research.google.com/assets/colab-badge.svg' alt='Open In Colab'/></a>\n",
        "\n",
        "Practice extracting n-gram counts and learn how to use them to build a language model.\n",
        "\n",
        "\n",
        "30 minutes"
      ]
    },
    {
      "cell_type": "markdown",
      "source": [
        "## Overview\n",
        "\n",
        "In the previous lab, you built a very small language model in which you manually assigned probabilities to the next token for different prompts. In this lab, you will automatically estimate the probabilities for predicting the next word and build an **n-gram model** using a small dataset of paragraphs. This will result in a language model that will be able to predict the next word for a given prompt and that can be used to generate texts. You will also gain a practical understanding of how n-gram models capture language patterns and what the limitations of this family of models are. This knowledge will serve as a foundation for exploring more advanced language models in later modules."
      ],
      "metadata": {
        "id": "zSYq3aNrdpnC"
      }
    },
    {
      "cell_type": "markdown",
      "source": [
        "### What you will learn:\n",
        "\n",
        "By the end of this lab, you will be able to:\n",
        "\n",
        "* Split paragraphs in a dataset into word-like units called tokens, a process known as **tokenization**.\n",
        "* Estimate the probabilities for an n-gram language model from a dataset.\n",
        "* Use the n-gram language model to predict individual tokens and longer continuations.\n",
        "\n"
      ],
      "metadata": {
        "id": "v4Qf3eGhfl4H"
      }
    },
    {
      "cell_type": "markdown",
      "source": [
        "### Tasks\n",
        "\n",
        "As mentioned in the previous article, an n-gram is a continuous sequence of $n$ words. An n-gram model uses these sequences to estimate the probability of the next word given a preceding sequence of $n-1$ words (the context).\n",
        "\n",
        "Recall that you can compute the probability $P(\\mbox{B} \\mid \\mbox{A})$, where $\\mbox{B}$ is the next word and $\\mbox{A}$ is the context, as follows:\n",
        "\n",
        "$$P(\\mbox{B} \\mid \\mbox{A}) = \\frac{\\mbox{Count}(\\mbox{A B})}{\\mbox{Count}(\\mbox{A})}$$\n",
        "\n",
        "The full n-gram counts, $\\mbox{ Count}(\\mbox{A B})$, and the context n-gram counts, $\\mbox{ Count}(\\mbox{A})$, can be computed by counting n-grams in a **dataset**. For building a language model, this dataset is usually a collection of texts, also referred to as a **text corpus**.\n",
        "\n",
        "**In this lab, you will**:\n",
        "\n",
        "* Define your dataset, and break the sentences into individual tokens.\n",
        "* Create n-grams from the tokenized tokens, and calculate counts of n-grams, $\\mbox{ Count}(\\mbox{A B})$.\n",
        "* Estimate $P(\\mbox{B} \\mid \\mbox{A})$ using the n-gram counts.\n",
        "* Use the estimated $P(\\mbox{B} \\mid \\mbox{A})$ distributions to generate new text based on your n-gram  language model.\n",
        "\n"
      ],
      "metadata": {
        "id": "qIhcVxx0foVo"
      }
    },
    {
      "cell_type": "markdown",
      "source": [
        "## How to use Google Colaboratory (Colab)"
      ],
      "metadata": {
        "id": "NDWsJUGcf4Ru"
      }
    },
    {
      "cell_type": "markdown",
      "source": [
        "Google Colaboratory (also known as Google Colab) is a platform that allows you to run Python code in your browser. The code is written in *cells* that are executed on a remote server.\n",
        "\n",
        "To run a cell, hover over a cell and click on the `run` button to its left. The run button is the circle with the triangle (▶). Alternatively, you can also click on a cell and use the keyboard combination Ctrl+Return (or ⌘+Return if you are using a Mac).\n",
        "\n",
        "To try this out, run the following cell. This should print today's day of the week below it."
      ],
      "metadata": {
        "id": "wlNG_jg-39Zj"
      }
    },
    {
      "cell_type": "code",
      "source": [
        "from datetime import datetime\n",
        "print(f\"Today is {datetime.today():%A}.\")"
      ],
      "metadata": {
        "id": "UyTT6C0JhGBs",
        "colab": {
          "base_uri": "https://localhost:8080/"
        },
        "outputId": "e6282fd0-a9a1-4dcd-856a-5cb99bcd6bf8"
      },
      "execution_count": 1,
      "outputs": [
        {
          "output_type": "stream",
          "name": "stdout",
          "text": [
            "Today is Monday.\n"
          ]
        }
      ]
    },
    {
      "cell_type": "markdown",
      "source": [
        "Note that the *order in which you run the cells matters*. When you are working through a lab, make sure to always run *all* cells in order, otherwise the code might not work. If you take a break while working on a lab, Colab may disconnect you and in that case, you have to execute all cells again before  continuing your work. To make this easier, you can select the cell you are currently working on and then choose **Runtime** → **Run before**  from the menu above (or use the keyboard combination Ctrl/⌘ + F8). This will re-execute all cells before the current one."
      ],
      "metadata": {
        "id": "pbtgZxrpjm6j"
      }
    },
    {
      "cell_type": "markdown",
      "source": [
        "## Imports\n",
        "\n",
        "The code in this lab uses the [`random`](https://docs.python.org/3/library/random.html) package for sampling from probability distributions, the [`Counter`](https://docs.python.org/3/library/collections.html#collections.Counter) and [`defaultdict`](https://docs.python.org/3/library/collections.html#collections.defaultdict) data types for counting n-grams, and the [`pandas`](https://pandas.pydata.org/) (`pd`) package for constructing data tables."
      ],
      "metadata": {
        "id": "WQQlDe0hL8AY"
      }
    },
    {
      "cell_type": "code",
      "source": [
        "%%capture\n",
        "!pip install \"git+https://github.com/google-deepmind/ai-foundations.git@main\"\n",
        "\n",
        "# Packages used.\n",
        "import random # For sampling from probability distributions.\n",
        "from collections import Counter, defaultdict # For counting n-grams.\n",
        "\n",
        "import textwrap # For automatically addding linebreaks to long texts.\n",
        "import pandas as pd # For construction and visualizing tables.\n",
        "\n",
        "# Custom functions for providing feedback on your solutions.\n",
        "from ai_foundations.feedback.course_1 import ngrams"
      ],
      "metadata": {
        "id": "5Ht3mC6LUcUq"
      },
      "execution_count": 2,
      "outputs": []
    },
    {
      "metadata": {
        "id": "1rTj9QNCr2NC"
      },
      "cell_type": "markdown",
      "source": [
        "## Dataset loading and tokenization\n",
        "\n",
        "Begin by loading the dataset that you will use to estimate the n-gram counts. For this purpose, you will process the  [AfricaGalore](https://storage.googleapis.com/dm-educational/assets/ai_foundations/africa_galore.json) dataset.\n",
        "\n",
        "The Africa Galore dataset has been designed for this course and consists of synthetically generated paragraphs focusing on diverse aspects of African culture, history, and geography. It has been generated using Google's Gemini language model. Because it is synthetically created, the data is clean, free from the noise and inconsistencies that are often present in real-world datasets. At the same time, given its synthetic nature, the texts may not always be as natural as human-authored texts.\n",
        "\n",
        "The dataset is specifically designed for educational purposes and the generation process has been guided to ensure that the content is concentrated around the topics relevant to the lab exercises you will be exploring. Its generation process was inspired by the [TinyStories project](https://arxiv.org/abs/2305.07759) [1].\n",
        "\n",
        "Run the following cell to download the dataset."
      ]
    },
    {
      "metadata": {
        "id": "Pa22xutOAiTx",
        "colab": {
          "base_uri": "https://localhost:8080/"
        },
        "outputId": "154f3411-af6f-4d15-a1dc-c023e726cbef"
      },
      "cell_type": "code",
      "source": [
        "africa_galore = pd.read_json(\n",
        "    \"https://storage.googleapis.com/dm-educational/assets/ai_foundations/africa_galore.json\"\n",
        ")\n",
        "dataset = africa_galore[\"description\"]\n",
        "print(f\"The dataset consists of {dataset.shape[0]} paragraphs.\")"
      ],
      "outputs": [
        {
          "output_type": "stream",
          "name": "stdout",
          "text": [
            "The dataset consists of 232 paragraphs.\n"
          ]
        }
      ],
      "execution_count": 3
    },
    {
      "metadata": {
        "id": "xUt0FYhXKg_N"
      },
      "cell_type": "markdown",
      "source": [
        "To get a sense of what these paragraphs look like, inspect the first ten paragraphs in the dataset. You may also want to skim the remainder of the dataset here: [Africa Galore dataset](https://storage.googleapis.com/dm-educational/assets/ai_foundations/africa_galore.json). When working with datasets, it is important to have a good sense of what is in the dataset, since datasets strongly influence the behavior of machine learning models."
      ]
    },
    {
      "metadata": {
        "id": "IRYzvOkxCILc",
        "colab": {
          "base_uri": "https://localhost:8080/"
        },
        "outputId": "65c6e6f9-020b-4a2b-f4c8-c0a24bb06b19"
      },
      "cell_type": "code",
      "source": [
        "for paragraph in dataset[:10]:\n",
        "    # textwrap automatically adds linebreaks to make long texts more readable.\n",
        "    formatted_paragraph = textwrap.fill(paragraph)\n",
        "    print(f\"{formatted_paragraph}\\n\")"
      ],
      "outputs": [
        {
          "output_type": "stream",
          "name": "stdout",
          "text": [
            "The Lagos air was thick with humidity, but the energy in the club was\n",
            "electric. The band launched into a hypnotic Afrobeat groove, the drums\n",
            "pounding out a complex polyrhythm, the horns blaring a soaring melody,\n",
            "and the bass laying down a deep, funky foundation. A woman named Imani\n",
            "moved effortlessly to the music, her body swaying in time with the\n",
            "rhythm. The music seemed to flow through her, a powerful current of\n",
            "energy and joy. All around her, people were dancing, singing, and\n",
            "clapping, caught up in the infectious rhythm. The music was more than\n",
            "just entertainment; it was a celebration of life, a connection to\n",
            "their shared heritage, a vibrant expression of the soul of Lagos.\n",
            "\n",
            "The warm evening air in Accra was filled with the lilting melodies of\n",
            "Highlife music. At a small bar tucked away on a side street, a band\n",
            "played, the guitars weaving intricate patterns, the horns adding a\n",
            "bright, joyful counterpoint. Kwame, a man with a wistful smile, sat at\n",
            "a table nursing a beer, lost in the music. The Highlife tunes evoked\n",
            "memories of his childhood, of family gatherings, of dancing under the\n",
            "stars. The music was a soundtrack to his life, a reminder of his\n",
            "roots, a source of comfort and joy in the bustling city.\n",
            "\n",
            "The bustling streets of Lagos were alive with the sounds of Juju\n",
            "music. From a small radio in a market stall, the distinctive rhythms\n",
            "and vocals of King Sunny Adé poured out, drawing a crowd of listeners.\n",
            "Mama Bisi, a woman with a warm smile and a contagious laugh, tapped\n",
            "her feet to the beat as she haggled for vegetables. The music was a\n",
            "constant companion in her life, a source of energy and inspiration, a\n",
            "reminder of the rich cultural tapestry of Nigeria.\n",
            "\n",
            "The Dakar waterfront was buzzing with activity as the sun began to\n",
            "set. From a nearby restaurant, the vibrant sounds of Mbalax music\n",
            "spilled out, the distinctive vocals of Youssou N'Dour soaring over the\n",
            "complex percussion and the hypnotic basslines. A group of friends,\n",
            "gathered for an evening meal, swayed to the music, their faces lit up\n",
            "with smiles. The Mbalax rhythms, a blend of traditional Senegalese\n",
            "music and modern influences, created an atmosphere of celebration and\n",
            "joy, a vibrant expression of Senegalese culture.\n",
            "\n",
            "The Kinshasa night was alive with the infectious energy of Soukous\n",
            "music. In a crowded nightclub, the band played, the guitars weaving\n",
            "intricate melodies, the drums driving the rhythm, and the singers'\n",
            "voices urging everyone to dance. Jean-Pierre, a man with boundless\n",
            "energy, moved his feet to the beat, lost in the music. The Soukous\n",
            "rhythms, a fusion of Congolese rumba and other influences, created a\n",
            "whirlwind of movement and joy, a celebration of life and music in the\n",
            "heart of Africa.\n",
            "\n",
            "In a small township outside Durban, a group of men gathered in a\n",
            "community hall. They were members of an Isicathamiya choir, practicing\n",
            "their intricate harmonies and synchronized dance moves. The music,\n",
            "characterized by its a cappella vocals and close harmonies, filled the\n",
            "hall with a powerful and moving sound. For these men, Isicathamiya was\n",
            "more than just music; it was a way to express their emotions, to\n",
            "connect with their Zulu heritage, and to find solace and strength in\n",
            "the face of adversity.\n",
            "\n",
            "The vibrant colors and intricate patterns of Kente cloth, a symbol of\n",
            "Ghanaian royalty and prestige, tell stories of history, culture, and\n",
            "social status. Woven on narrow looms by skilled artisans, each strip\n",
            "of Kente is a testament to patience and artistry. The geometric\n",
            "designs, rich with symbolism, represent proverbs, historical events,\n",
            "and important figures. Worn during special occasions and ceremonies,\n",
            "Kente cloth embodies the spirit of Ghana, its vibrant culture, and its\n",
            "rich history. From the bright yellows and golds representing royalty\n",
            "to the deep blues and greens symbolizing spirituality, Kente is a\n",
            "visual language, a wearable expression of Ghanaian identity and\n",
            "heritage.\n",
            "\n",
            "Bogolanfini, or mud cloth, from Mali, is a textile steeped in\n",
            "tradition and symbolism. Its distinctive patterns, created using\n",
            "fermented mud and natural dyes, tell stories of Malian culture,\n",
            "history, and beliefs. The process of creating Bogolanfini is as rich\n",
            "and complex as the designs themselves, involving multiple stages of\n",
            "dyeing, painting, and sun-drying. Each piece is unique, reflecting the\n",
            "artistry and skill of the maker. Traditionally worn by hunters and\n",
            "warriors, Bogolanfini has become a symbol of Malian identity and a\n",
            "testament to the enduring power of indigenous art forms.\n",
            "\n",
            "Adire, a resist-dyed indigo cloth from Nigeria, is a vibrant\n",
            "expression of Yoruba culture and creativity. The intricate patterns,\n",
            "created using various techniques such as stitching, tying, and\n",
            "applying starch paste, represent proverbs, stories, and symbols of\n",
            "Yoruba cosmology. Adire, meaning “tied and dyed,” is a testament to\n",
            "the ingenuity and artistry of Yoruba women, who have passed down these\n",
            "techniques through generations. From the bold, geometric designs of\n",
            "Adire Eleko to the more fluid patterns of Adire Oniko, Adire cloth is\n",
            "a celebration of Yoruba artistry and a symbol of cultural pride.\n",
            "\n",
            "Kanga, a colorful printed cloth from East Africa, particularly\n",
            "Tanzania and Kenya, is more than just a fabric; it's a form of\n",
            "communication and social expression. Each Kanga features a central\n",
            "design surrounded by a border and a proverb or saying, often written\n",
            "in Swahili. These proverbs offer advice, commentary on social issues,\n",
            "or expressions of love and friendship. Kanga are worn by women for\n",
            "everyday wear, special occasions, and as gifts, serving as a vibrant\n",
            "symbol of East African culture and a testament to the power of\n",
            "language and visual expression.\n",
            "\n"
          ]
        }
      ],
      "execution_count": 4
    },
    {
      "metadata": {
        "id": "q-wtFwrL5_gn"
      },
      "cell_type": "markdown",
      "source": [
        "### Tokenization\n",
        "\n",
        "Remember that an n-gram is a sequence of $n$ *words*. However, in its current form, the paragraphs are one long string. In order to split the dataset into n-grams and to count them so that you can use them to build a language model, you will have to split these sequences into individual words. This process is referred to as **tokenization**.\n",
        "\n",
        "The simplest tokenizer is a **space tokenizer**. This tokenizer breaks sentences into individual words based on spaces, that is, the characters that are produced by pressing the space bar. For example, a space tokenizer would tokenize the sentence \"Bimpe didn't buy the rice\" into the list of words `[\"Bimpe\", \"didn't\", \"buy\", \"the\", \"rice\"]`.\n",
        "\n",
        "The cell below implements a space tokenizer in the `space_tokenize` function."
      ]
    },
    {
      "metadata": {
        "id": "mns1I5yzx-kp",
        "colab": {
          "base_uri": "https://localhost:8080/"
        },
        "outputId": "93291a4c-1e92-45a2-a53f-4e032e0d701d"
      },
      "cell_type": "code",
      "source": [
        "def space_tokenize(text: str) -> list[str]:\n",
        "    \"\"\"Splits a string into a list of words (tokens).\n",
        "\n",
        "    Splits text on space.\n",
        "\n",
        "    Args:\n",
        "        text: The input text.\n",
        "\n",
        "    Returns:\n",
        "        A list of tokens. Returns empty list if text is empty or all spaces.\n",
        "    \"\"\"\n",
        "    tokens = text.split(\" \")\n",
        "    return tokens\n",
        "\n",
        "# Tokenize an example text with the `space_tokenize` function.\n",
        "space_tokenize(\"Kanga, a colorful printed cloth is more than just a fabric.\")"
      ],
      "outputs": [
        {
          "output_type": "execute_result",
          "data": {
            "text/plain": [
              "['Kanga,',\n",
              " 'a',\n",
              " 'colorful',\n",
              " 'printed',\n",
              " 'cloth',\n",
              " 'is',\n",
              " 'more',\n",
              " 'than',\n",
              " 'just',\n",
              " 'a',\n",
              " 'fabric.']"
            ]
          },
          "metadata": {},
          "execution_count": 5
        }
      ],
      "execution_count": 5
    },
    {
      "metadata": {
        "id": "j_9Ns7sUB-VT"
      },
      "cell_type": "markdown",
      "source": [
        "Note that the space tokenizer is quite naive. When you are tokenizing based only on spaces, you will observe that the punctuation marks are often considered part of the words. For example, tokenizing the sentence \"Table mountain is tall.\"  will result in a different list of words than tokenizing \"Table mountain is tall\". The first sentence results in (`[\"Table\", \"mountain\", \"is\", \"tall.\"]`. The second sentence, which has the period missing from the end, will result in `[\"Table\", \"mountain\", \"is\", \"tall\"]`). Since the units that tokenizers split sequences into are not always a word, they are usually referred to as **tokens**. In many cases, a token will be the same as a word but it may also be non-word strings, such as \"tall.\" or \"3/4\".\n",
        "\n",
        "You will learn about more sophisticated methods for tokenizing texts in later courses. For the purpose of this lab, the space tokenizer will be sufficient and you will use the implementation of the `space_tokenize` function that you observed in the previous cell."
      ]
    },
    {
      "metadata": {
        "id": "ni2mxLCfY-SK"
      },
      "cell_type": "markdown",
      "source": [
        "To get an impression of what the tokenized data looks like, run the cell below to tokenize the first paragraph in the dataset."
      ]
    },
    {
      "metadata": {
        "id": "Xno1DO0sY87o",
        "colab": {
          "base_uri": "https://localhost:8080/"
        },
        "outputId": "50775bb4-870e-4fa1-ef50-922c4aa24534"
      },
      "cell_type": "code",
      "source": [
        "space_tokenize(dataset[0])"
      ],
      "outputs": [
        {
          "output_type": "execute_result",
          "data": {
            "text/plain": [
              "['The',\n",
              " 'Lagos',\n",
              " 'air',\n",
              " 'was',\n",
              " 'thick',\n",
              " 'with',\n",
              " 'humidity,',\n",
              " 'but',\n",
              " 'the',\n",
              " 'energy',\n",
              " 'in',\n",
              " 'the',\n",
              " 'club',\n",
              " 'was',\n",
              " 'electric.',\n",
              " 'The',\n",
              " 'band',\n",
              " 'launched',\n",
              " 'into',\n",
              " 'a',\n",
              " 'hypnotic',\n",
              " 'Afrobeat',\n",
              " 'groove,',\n",
              " 'the',\n",
              " 'drums',\n",
              " 'pounding',\n",
              " 'out',\n",
              " 'a',\n",
              " 'complex',\n",
              " 'polyrhythm,',\n",
              " 'the',\n",
              " 'horns',\n",
              " 'blaring',\n",
              " 'a',\n",
              " 'soaring',\n",
              " 'melody,',\n",
              " 'and',\n",
              " 'the',\n",
              " 'bass',\n",
              " 'laying',\n",
              " 'down',\n",
              " 'a',\n",
              " 'deep,',\n",
              " 'funky',\n",
              " 'foundation.',\n",
              " 'A',\n",
              " 'woman',\n",
              " 'named',\n",
              " 'Imani',\n",
              " 'moved',\n",
              " 'effortlessly',\n",
              " 'to',\n",
              " 'the',\n",
              " 'music,',\n",
              " 'her',\n",
              " 'body',\n",
              " 'swaying',\n",
              " 'in',\n",
              " 'time',\n",
              " 'with',\n",
              " 'the',\n",
              " 'rhythm.',\n",
              " 'The',\n",
              " 'music',\n",
              " 'seemed',\n",
              " 'to',\n",
              " 'flow',\n",
              " 'through',\n",
              " 'her,',\n",
              " 'a',\n",
              " 'powerful',\n",
              " 'current',\n",
              " 'of',\n",
              " 'energy',\n",
              " 'and',\n",
              " 'joy.',\n",
              " 'All',\n",
              " 'around',\n",
              " 'her,',\n",
              " 'people',\n",
              " 'were',\n",
              " 'dancing,',\n",
              " 'singing,',\n",
              " 'and',\n",
              " 'clapping,',\n",
              " 'caught',\n",
              " 'up',\n",
              " 'in',\n",
              " 'the',\n",
              " 'infectious',\n",
              " 'rhythm.',\n",
              " 'The',\n",
              " 'music',\n",
              " 'was',\n",
              " 'more',\n",
              " 'than',\n",
              " 'just',\n",
              " 'entertainment;',\n",
              " 'it',\n",
              " 'was',\n",
              " 'a',\n",
              " 'celebration',\n",
              " 'of',\n",
              " 'life,',\n",
              " 'a',\n",
              " 'connection',\n",
              " 'to',\n",
              " 'their',\n",
              " 'shared',\n",
              " 'heritage,',\n",
              " 'a',\n",
              " 'vibrant',\n",
              " 'expression',\n",
              " 'of',\n",
              " 'the',\n",
              " 'soul',\n",
              " 'of',\n",
              " 'Lagos.']"
            ]
          },
          "metadata": {},
          "execution_count": 6
        }
      ],
      "execution_count": 6
    },
    {
      "metadata": {
        "id": "wMiC7Jq0YtXq"
      },
      "cell_type": "markdown",
      "source": [
        "## Coding Activity 1: From lists of tokens to n-grams\n",
        "\n",
        "The `space_tokenize` function returns a list of individual tokens. However, to compute the conditional probability of a token $\\mbox{B}$ following a context $\\mbox{A}$, $P(\\mbox{B} \\mid \\mbox{A})$, you need to determine how often all n-grams and (n-1)-grams appear in your dataset.\n",
        "\n",
        "For example, if you want to compute the probability of the token \"is\" following a bigram (2-gram) \"Table Mountain\", then you need to know the counts of the trigram (3-gram) \"Table Mountain is\" and the bigram \"Table Mountain\". More generally, to build an n-gram language model, you need to determine the counts of all n-grams and (n-1)-grams. As a first step towards obtaining these counts, you will write a function that turns a list of tokens into a list of n-grams."
      ]
    },
    {
      "cell_type": "markdown",
      "source": [
        "------\n",
        "> 💻 **Your task**:\n",
        ">\n",
        "> Complete the function `generate_ngrams(text: str, n: int)` below.\n",
        ">\n",
        "> This function should return a list of n-grams of length $n$ for a text. Each n-gram should be represented as a tuple of tokens. The function should therefore return a list of tuples of strings. You can use the [`tuple()`](https://www.w3schools.com/python/python_tuples.asp) function to convert a list of strings to a tuple of strings.\n",
        ">\n",
        "> Your function will first have to tokenize the text. You can use the `space_tokenize` function from above for this purpose. Second, the function needs to construct the list of n-grams for the text.\n",
        ">\n",
        "> For example, if the input to the function is `text = \"Table Mountain is tall.\"` and `n = 2`, the function should return the following list of bigrams:\n",
        "> ```\n",
        "> [\n",
        "  (\"Table\", \"Mountain\"),\n",
        "  (\"Mountain\", \"is\"),\n",
        "  (\"is\", \"tall.\")\n",
        "]\n",
        "> ```\n",
        ">\n",
        "> Once you have finished your implementation, run the cell below to print the first ten unigrams, bigrams, and trigrams that appear in the dataset.\n",
        "\n",
        "------"
      ],
      "metadata": {
        "id": "M9qHlL3l8yMx"
      }
    },
    {
      "metadata": {
        "id": "IJx9P17ox-kp",
        "colab": {
          "base_uri": "https://localhost:8080/"
        },
        "outputId": "8bd78351-b879-42dd-dee1-483a960f2402"
      },
      "cell_type": "code",
      "source": [
        "all_unigrams = []\n",
        "all_bigrams = []\n",
        "all_trigrams = []\n",
        "\n",
        "def generate_ngrams(text: str, n: int) -> list[tuple[str]]:\n",
        "    \"\"\"Generates n-grams from a given text.\n",
        "\n",
        "    Args:\n",
        "        text: The input text string.\n",
        "        n: The size of the n-grams (e.g., 2 for bigrams, 3 for trigrams).\n",
        "\n",
        "    Returns:\n",
        "        A list of n-grams, each represented as a list of tokens.\n",
        "    \"\"\"\n",
        "\n",
        "    # Tokenize text.\n",
        "    tokens = space_tokenize(text)\n",
        "\n",
        "    # Construct the list of n-grams.\n",
        "    ngrams = []\n",
        "\n",
        "    # Iterate through the tokens and create the n-grams\n",
        "    for i in range(len(tokens) - n + 1):\n",
        "        # Extract n consecutive tokens starting at position i\n",
        "        ngram = tuple(tokens[i:i + n])\n",
        "        ngrams.append(ngram)\n",
        "\n",
        "    return ngrams\n",
        "\n",
        "for paragraph in dataset:\n",
        "    # Calling `generate_ngrams` with n=1 constructs a list of unigrams.\n",
        "    all_unigrams.extend(generate_ngrams(paragraph, n=1))\n",
        "    # Calling `generate_ngrams` with n=2 constructs a list of bigrams (2-grams).\n",
        "    all_bigrams.extend(generate_ngrams(paragraph, n=2))\n",
        "    # Calling `generate_ngrams` with n=2 constructs a list of trigram (3-grams).\n",
        "    all_trigrams.extend(generate_ngrams(paragraph, n=3))\n",
        "\n",
        "print(\"First 10 Unigrams:\", all_unigrams[:10])\n",
        "print(\"First 10 Bigrams:\", all_bigrams[:10])\n",
        "print(\"First 10 Trigrams:\", all_trigrams[:10])"
      ],
      "outputs": [
        {
          "output_type": "stream",
          "name": "stdout",
          "text": [
            "First 10 Unigrams: [('The',), ('Lagos',), ('air',), ('was',), ('thick',), ('with',), ('humidity,',), ('but',), ('the',), ('energy',)]\n",
            "First 10 Bigrams: [('The', 'Lagos'), ('Lagos', 'air'), ('air', 'was'), ('was', 'thick'), ('thick', 'with'), ('with', 'humidity,'), ('humidity,', 'but'), ('but', 'the'), ('the', 'energy'), ('energy', 'in')]\n",
            "First 10 Trigrams: [('The', 'Lagos', 'air'), ('Lagos', 'air', 'was'), ('air', 'was', 'thick'), ('was', 'thick', 'with'), ('thick', 'with', 'humidity,'), ('with', 'humidity,', 'but'), ('humidity,', 'but', 'the'), ('but', 'the', 'energy'), ('the', 'energy', 'in'), ('energy', 'in', 'the')]\n"
          ]
        }
      ],
      "execution_count": 7
    },
    {
      "cell_type": "code",
      "source": [
        "# @title Run this cell to test your implementation.\n",
        "ngrams.test_generate_ngrams(generate_ngrams, space_tokenize)"
      ],
      "metadata": {
        "id": "tlT3xhwcsEtE",
        "colab": {
          "base_uri": "https://localhost:8080/"
        },
        "outputId": "5c920d3f-f8a7-4e52-ea43-c498795aae06"
      },
      "execution_count": 8,
      "outputs": [
        {
          "output_type": "stream",
          "name": "stdout",
          "text": [
            "✅ Nice! Your implementation looks correct.\n"
          ]
        }
      ]
    },
    {
      "metadata": {
        "id": "esDTLIxaHmLA"
      },
      "cell_type": "markdown",
      "source": [
        "The main reason for counting n-grams and using these counts to compute probabilities is that these probabilities can capture **patterns** in language. In this context, frequent n-grams are usually more interesting than very rare n-grams since they capture frequent co-occurrences of words (e.g., \"Table Mountain\" or \"jollof rice\").\n",
        "\n",
        "Run the following cell to compute which n-grams appear most frequently in the dataset.\n",
        "The output of the cell below is a list of tuples of the format `(ngram, number of occurrences)`. For example, the output shows you that the bigram `(\"is\",  \"a\")` appears 144 times in the Africa Galore dataset."
      ]
    },
    {
      "metadata": {
        "id": "2azMP6I4x-kp",
        "colab": {
          "base_uri": "https://localhost:8080/"
        },
        "outputId": "9236108e-6709-4649-d57c-4f634a763528"
      },
      "cell_type": "code",
      "source": [
        "# Use the Python Counter data type for computing the counts of all bigrams.\n",
        "# See: https://docs.python.org/3/library/collections.html#collections.Counter\n",
        "bigram_counts = Counter(all_bigrams)\n",
        "\n",
        "# Print the ten most common bigrams.\n",
        "print(\"Most common bigrams:\")\n",
        "for bigram, count in bigram_counts.most_common(10):\n",
        "    print(f\"  ({bigram}, {count})\")\n",
        "\n",
        "# Use the Python Counter data type for computing the counts of all trigrams.\n",
        "trigram_counts = Counter(all_trigrams)\n",
        "\n",
        "# Print the ten most common trigrams.\n",
        "print(\"\\n\\nMost common trigrams:\")\n",
        "for trigram, count in trigram_counts.most_common(10):\n",
        "    print(f\"  ({trigram}, {count})\")"
      ],
      "outputs": [
        {
          "output_type": "stream",
          "name": "stdout",
          "text": [
            "Most common bigrams:\n",
            "  (('is', 'a'), 144)\n",
            "  (('of', 'the'), 100)\n",
            "  (('and', 'the'), 69)\n",
            "  (('in', 'the'), 61)\n",
            "  (('with', 'a'), 60)\n",
            "  (('in', 'a'), 55)\n",
            "  (('and', 'a'), 50)\n",
            "  (('to', 'the'), 42)\n",
            "  (('was', 'a'), 39)\n",
            "  (('It', 'is'), 33)\n",
            "\n",
            "\n",
            "Most common trigrams:\n",
            "  (('went', 'looking', 'for'), 32)\n",
            "  (('a', 'symbol', 'of'), 18)\n",
            "  (('was', 'hungry', 'so'), 18)\n",
            "  (('The', 'result', 'is'), 17)\n",
            "  (('looking', 'for', 'a'), 17)\n",
            "  (('she', 'went', 'looking'), 16)\n",
            "  (('he', 'went', 'looking'), 16)\n",
            "  (('result', 'is', 'a'), 15)\n",
            "  (('so', 'he', 'went'), 14)\n",
            "  (('so', 'she', 'went'), 14)\n"
          ]
        }
      ],
      "execution_count": 9
    },
    {
      "cell_type": "markdown",
      "source": [
        "## Coding Activity 2: Counting n-grams\n",
        "\n",
        "In preparation for computing the probabilities, you require a function that returns the counts of n-grams."
      ],
      "metadata": {
        "id": "GRn18yqADwJD"
      }
    },
    {
      "cell_type": "markdown",
      "source": [
        "------\n",
        "> 💻 **Your task**:\n",
        ">\n",
        "> Complete the function `get_ngram_counts(dataset, n)` below.\n",
        ">\n",
        "> This function should return a dictionary of [`Counter`](https://docs.python.org/3/library/collections.html#collections.Counter) objects where the keys are contexts of length n-1 tokens and the values are counters for the last token in the n-gram.\n",
        ">\n",
        ">For example, if the dataset consists of the two sentences \"Table Mountain is tall.\" and \"Table Mountain is beautiful.\" then the function called with `n = 3` should return:\n",
        ">```\n",
        ">{\n",
        ">   \"Table Mountain\": Counter({\"is\": 2}),\n",
        ">   \"Mountain is\": Counter({\"tall\": 1, \"beautiful\": 1})   \n",
        ">}\n",
        ">```\n",
        "------"
      ],
      "metadata": {
        "id": "LDiQN6Lp7lkH"
      }
    },
    {
      "metadata": {
        "id": "VZaL5Lu4x-kp",
        "colab": {
          "base_uri": "https://localhost:8080/"
        },
        "outputId": "25a82ed3-d97b-4f65-b06e-cc0608b72dff"
      },
      "cell_type": "code",
      "source": [
        "def get_ngram_counts(dataset: list[str], n: int) -> dict[str, Counter]:\n",
        "    \"\"\"Computes the n-gram counts from a dataset.\n",
        "\n",
        "    This function takes a list of text strings (paragraphs or sentences) as\n",
        "    input, constructs n-grams from each text, and creates a dictionary where:\n",
        "\n",
        "    * Keys represent n-1 token long contexts `context`.\n",
        "    * Values are a Counter object `counts` such that `counts[next_token]` is the\n",
        "      count of `next_token` following `context`.\n",
        "\n",
        "    Args:\n",
        "        dataset: The list of text strings in the dataset.\n",
        "        n: The size of the n-grams to generate (e.g., 2 for bigrams, 3 for\n",
        "            trigrams).\n",
        "\n",
        "    Returns:\n",
        "        A dictionary where keys are (n-1)-token contexts and values are Counter\n",
        "        objects storing the counts of each next token for that context.\n",
        "\n",
        "    \"\"\"\n",
        "\n",
        "    # Define the dictionary as a defaultdict that is automatically initialized\n",
        "    # with an empty Counter object. This allows you to access and set the value\n",
        "    # of ngram_counts[context][next_token] without initializing\n",
        "    # ngram_counts[context] or ngram_counts[context][next_token] first.\n",
        "    # Reference\n",
        "    # https://docs.python.org/3/library/collections.html#collections.Counter and\n",
        "    # https://docs.python.org/3/library/collections.html#collections.defaultdict\n",
        "    # for more information on how to use defaultdict and Counter types.\n",
        "    ngram_counts = defaultdict(Counter)\n",
        "\n",
        "    for paragraph in dataset:\n",
        "        # Generate n-grams for the current paragraph\n",
        "        n_grams = generate_ngrams(paragraph, n)\n",
        "\n",
        "        # Iterate through the n-grams and update the counts\n",
        "        for ngram in n_grams:\n",
        "          # Split the n-gram into context (first n-1 tokens) and next token (last token)\n",
        "          context = \" \".join(ngram[:-1]) # join first n-1 tokens with spaces\n",
        "          next_token = ngram[-1] # last token\n",
        "\n",
        "          # Update the count for the next token in the context\n",
        "          ngram_counts[context][next_token] += 1\n",
        "\n",
        "\n",
        "    return dict(ngram_counts)\n",
        "\n",
        "\n",
        "# Example usage of the function.\n",
        "example_data = [\n",
        "    \"This is an example sentence.\",\n",
        "    \"Another example sentence.\",\n",
        "    \"Split a sentence.\"\n",
        "]\n",
        "ngram_counts = get_ngram_counts(example_data, 2)\n",
        "\n",
        "# Print the bigram counts dictionary for the dataset consisting of the\n",
        "# three example sentences.\n",
        "print(\"Bigram counts dictionary:\\n\")\n",
        "print(\"{\")\n",
        "for context, counter in ngram_counts.items():\n",
        "    print(f\"  '{context}': {counter},\")\n",
        "print(\"}\")"
      ],
      "outputs": [
        {
          "output_type": "stream",
          "name": "stdout",
          "text": [
            "Bigram counts dictionary:\n",
            "\n",
            "{\n",
            "  'This': Counter({'is': 1}),\n",
            "  'is': Counter({'an': 1}),\n",
            "  'an': Counter({'example': 1}),\n",
            "  'example': Counter({'sentence.': 2}),\n",
            "  'Another': Counter({'example': 1}),\n",
            "  'Split': Counter({'a': 1}),\n",
            "  'a': Counter({'sentence.': 1}),\n",
            "}\n"
          ]
        }
      ],
      "execution_count": 10
    },
    {
      "metadata": {
        "id": "MjHpBNaNknJQ"
      },
      "cell_type": "markdown",
      "source": [
        "As you can see in the output, the count of the bigram \"example sentence.\" is 2, which is shown in the entry for `\"example\"`.\n",
        "\n"
      ]
    },
    {
      "cell_type": "code",
      "source": [
        "# @title Run this cell to test your implementation.\n",
        "ngrams.test_ngram_counts(get_ngram_counts, generate_ngrams)"
      ],
      "metadata": {
        "id": "detz3eAXF7AY",
        "colab": {
          "base_uri": "https://localhost:8080/"
        },
        "outputId": "0199c78c-248f-4250-cfa9-ed2c76c3f152"
      },
      "execution_count": 11,
      "outputs": [
        {
          "output_type": "stream",
          "name": "stdout",
          "text": [
            "✅ Nice! Your implementation looks correct.\n"
          ]
        }
      ]
    },
    {
      "metadata": {
        "id": "yOC1Lkbb_QuO"
      },
      "cell_type": "markdown",
      "source": [
        "### Exploring the n-gram counts in the Africa Galore dataset\n",
        "\n",
        "You can now use the `get_ngram_counts` function to compute the bigram counts for all combinations of tokens in the Africa Galore dataset.\n",
        "\n",
        "Run the following cell to print a table of bigram counts. This table shows the count of all bigrams where the first token in the bigram is shown at the beginning of each row and the second token is shown at top of each column."
      ]
    },
    {
      "metadata": {
        "id": "qRHDd6pTkBY8",
        "colab": {
          "base_uri": "https://localhost:8080/",
          "height": 461
        },
        "outputId": "f31c2adb-df14-4daa-f2ff-538e38b38467"
      },
      "cell_type": "code",
      "source": [
        "bigram_counts = get_ngram_counts(dataset, n=2)\n",
        "\n",
        "# Use the pandas library to display the counts in a table.\n",
        "bigram_counts_matrix = {\n",
        "    context: dict(counts) for context, counts in bigram_counts.items()\n",
        "}\n",
        "bigram_data_frame = pd.DataFrame.from_dict(\n",
        "    bigram_counts_matrix, orient=\"index\").fillna(0)\n",
        "\n",
        "display(bigram_data_frame)\n",
        "\n",
        "zero_count = (bigram_data_frame == 0).sum().sum()\n",
        "print(\n",
        "    f\"Number of bigrams with a count of 0: {zero_count:,}\"\n",
        "    f\" ({zero_count/bigram_data_frame.size * 100:.2f}%)\"\n",
        ")"
      ],
      "outputs": [
        {
          "output_type": "display_data",
          "data": {
            "text/plain": [
              "             Lagos  band  music  warm  Highlife  bustling  Dakar  Mbalax  \\\n",
              "The            1.0   1.0    4.0   1.0       1.0       1.0    1.0     1.0   \n",
              "of             1.0   0.0    1.0   0.0       1.0       0.0    0.0     1.0   \n",
              "the            0.0   1.0    0.0   4.0       0.0       4.0    0.0     0.0   \n",
              "a              0.0   1.0    0.0   6.0       0.0       7.0    0.0     0.0   \n",
              "with           0.0   0.0    1.0   3.0       0.0       0.0    0.0     0.0   \n",
              "...            ...   ...    ...   ...       ...       ...    ...     ...   \n",
              "water's        0.0   0.0    0.0   0.0       0.0       0.0    0.0     0.0   \n",
              "Penguin        0.0   0.0    0.0   0.0       0.0       0.0    0.0     0.0   \n",
              "(Spheniscus    0.0   0.0    0.0   0.0       0.0       0.0    0.0     0.0   \n",
              "penguins       0.0   0.0    0.0   0.0       0.0       0.0    0.0     0.0   \n",
              "Algoa          0.0   0.0    0.0   0.0       0.0       0.0    0.0     0.0   \n",
              "\n",
              "             Kinshasa  Soukous  ...  kudu,  mph),  Ostriches  Antarctic  \\\n",
              "The               1.0      1.0  ...    0.0    0.0        0.0        0.0   \n",
              "of                0.0      1.0  ...    0.0    0.0        0.0        0.0   \n",
              "the               0.0      0.0  ...    0.0    0.0        0.0        0.0   \n",
              "a                 0.0      0.0  ...    0.0    0.0        0.0        0.0   \n",
              "with              0.0      0.0  ...    0.0    0.0        0.0        0.0   \n",
              "...               ...      ...  ...    ...    ...        ...        ...   \n",
              "water's           0.0      0.0  ...    0.0    0.0        0.0        0.0   \n",
              "Penguin           0.0      0.0  ...    0.0    0.0        0.0        0.0   \n",
              "(Spheniscus       0.0      0.0  ...    0.0    0.0        0.0        0.0   \n",
              "penguins          0.0      0.0  ...    0.0    0.0        0.0        0.0   \n",
              "Algoa             0.0      0.0  ...    0.0    0.0        0.0        0.0   \n",
              "\n",
              "             plumage  surface.  (Spheniscus  demersus).  breed  Bay  \n",
              "The              0.0       0.0          0.0         0.0    0.0  0.0  \n",
              "of               0.0       0.0          0.0         0.0    0.0  0.0  \n",
              "the              0.0       0.0          0.0         0.0    0.0  0.0  \n",
              "a                0.0       0.0          0.0         0.0    0.0  0.0  \n",
              "with             0.0       0.0          0.0         0.0    0.0  0.0  \n",
              "...              ...       ...          ...         ...    ...  ...  \n",
              "water's          0.0       1.0          0.0         0.0    0.0  0.0  \n",
              "Penguin          0.0       0.0          1.0         0.0    0.0  0.0  \n",
              "(Spheniscus      0.0       0.0          0.0         1.0    0.0  0.0  \n",
              "penguins         0.0       0.0          0.0         0.0    1.0  0.0  \n",
              "Algoa            0.0       0.0          0.0         0.0    0.0  1.0  \n",
              "\n",
              "[5143 rows x 5176 columns]"
            ],
            "text/html": [
              "\n",
              "  <div id=\"df-327a4175-8f18-4543-a487-f2d7e155bd19\" class=\"colab-df-container\">\n",
              "    <div>\n",
              "<style scoped>\n",
              "    .dataframe tbody tr th:only-of-type {\n",
              "        vertical-align: middle;\n",
              "    }\n",
              "\n",
              "    .dataframe tbody tr th {\n",
              "        vertical-align: top;\n",
              "    }\n",
              "\n",
              "    .dataframe thead th {\n",
              "        text-align: right;\n",
              "    }\n",
              "</style>\n",
              "<table border=\"1\" class=\"dataframe\">\n",
              "  <thead>\n",
              "    <tr style=\"text-align: right;\">\n",
              "      <th></th>\n",
              "      <th>Lagos</th>\n",
              "      <th>band</th>\n",
              "      <th>music</th>\n",
              "      <th>warm</th>\n",
              "      <th>Highlife</th>\n",
              "      <th>bustling</th>\n",
              "      <th>Dakar</th>\n",
              "      <th>Mbalax</th>\n",
              "      <th>Kinshasa</th>\n",
              "      <th>Soukous</th>\n",
              "      <th>...</th>\n",
              "      <th>kudu,</th>\n",
              "      <th>mph),</th>\n",
              "      <th>Ostriches</th>\n",
              "      <th>Antarctic</th>\n",
              "      <th>plumage</th>\n",
              "      <th>surface.</th>\n",
              "      <th>(Spheniscus</th>\n",
              "      <th>demersus).</th>\n",
              "      <th>breed</th>\n",
              "      <th>Bay</th>\n",
              "    </tr>\n",
              "  </thead>\n",
              "  <tbody>\n",
              "    <tr>\n",
              "      <th>The</th>\n",
              "      <td>1.0</td>\n",
              "      <td>1.0</td>\n",
              "      <td>4.0</td>\n",
              "      <td>1.0</td>\n",
              "      <td>1.0</td>\n",
              "      <td>1.0</td>\n",
              "      <td>1.0</td>\n",
              "      <td>1.0</td>\n",
              "      <td>1.0</td>\n",
              "      <td>1.0</td>\n",
              "      <td>...</td>\n",
              "      <td>0.0</td>\n",
              "      <td>0.0</td>\n",
              "      <td>0.0</td>\n",
              "      <td>0.0</td>\n",
              "      <td>0.0</td>\n",
              "      <td>0.0</td>\n",
              "      <td>0.0</td>\n",
              "      <td>0.0</td>\n",
              "      <td>0.0</td>\n",
              "      <td>0.0</td>\n",
              "    </tr>\n",
              "    <tr>\n",
              "      <th>of</th>\n",
              "      <td>1.0</td>\n",
              "      <td>0.0</td>\n",
              "      <td>1.0</td>\n",
              "      <td>0.0</td>\n",
              "      <td>1.0</td>\n",
              "      <td>0.0</td>\n",
              "      <td>0.0</td>\n",
              "      <td>1.0</td>\n",
              "      <td>0.0</td>\n",
              "      <td>1.0</td>\n",
              "      <td>...</td>\n",
              "      <td>0.0</td>\n",
              "      <td>0.0</td>\n",
              "      <td>0.0</td>\n",
              "      <td>0.0</td>\n",
              "      <td>0.0</td>\n",
              "      <td>0.0</td>\n",
              "      <td>0.0</td>\n",
              "      <td>0.0</td>\n",
              "      <td>0.0</td>\n",
              "      <td>0.0</td>\n",
              "    </tr>\n",
              "    <tr>\n",
              "      <th>the</th>\n",
              "      <td>0.0</td>\n",
              "      <td>1.0</td>\n",
              "      <td>0.0</td>\n",
              "      <td>4.0</td>\n",
              "      <td>0.0</td>\n",
              "      <td>4.0</td>\n",
              "      <td>0.0</td>\n",
              "      <td>0.0</td>\n",
              "      <td>0.0</td>\n",
              "      <td>0.0</td>\n",
              "      <td>...</td>\n",
              "      <td>0.0</td>\n",
              "      <td>0.0</td>\n",
              "      <td>0.0</td>\n",
              "      <td>0.0</td>\n",
              "      <td>0.0</td>\n",
              "      <td>0.0</td>\n",
              "      <td>0.0</td>\n",
              "      <td>0.0</td>\n",
              "      <td>0.0</td>\n",
              "      <td>0.0</td>\n",
              "    </tr>\n",
              "    <tr>\n",
              "      <th>a</th>\n",
              "      <td>0.0</td>\n",
              "      <td>1.0</td>\n",
              "      <td>0.0</td>\n",
              "      <td>6.0</td>\n",
              "      <td>0.0</td>\n",
              "      <td>7.0</td>\n",
              "      <td>0.0</td>\n",
              "      <td>0.0</td>\n",
              "      <td>0.0</td>\n",
              "      <td>0.0</td>\n",
              "      <td>...</td>\n",
              "      <td>0.0</td>\n",
              "      <td>0.0</td>\n",
              "      <td>0.0</td>\n",
              "      <td>0.0</td>\n",
              "      <td>0.0</td>\n",
              "      <td>0.0</td>\n",
              "      <td>0.0</td>\n",
              "      <td>0.0</td>\n",
              "      <td>0.0</td>\n",
              "      <td>0.0</td>\n",
              "    </tr>\n",
              "    <tr>\n",
              "      <th>with</th>\n",
              "      <td>0.0</td>\n",
              "      <td>0.0</td>\n",
              "      <td>1.0</td>\n",
              "      <td>3.0</td>\n",
              "      <td>0.0</td>\n",
              "      <td>0.0</td>\n",
              "      <td>0.0</td>\n",
              "      <td>0.0</td>\n",
              "      <td>0.0</td>\n",
              "      <td>0.0</td>\n",
              "      <td>...</td>\n",
              "      <td>0.0</td>\n",
              "      <td>0.0</td>\n",
              "      <td>0.0</td>\n",
              "      <td>0.0</td>\n",
              "      <td>0.0</td>\n",
              "      <td>0.0</td>\n",
              "      <td>0.0</td>\n",
              "      <td>0.0</td>\n",
              "      <td>0.0</td>\n",
              "      <td>0.0</td>\n",
              "    </tr>\n",
              "    <tr>\n",
              "      <th>...</th>\n",
              "      <td>...</td>\n",
              "      <td>...</td>\n",
              "      <td>...</td>\n",
              "      <td>...</td>\n",
              "      <td>...</td>\n",
              "      <td>...</td>\n",
              "      <td>...</td>\n",
              "      <td>...</td>\n",
              "      <td>...</td>\n",
              "      <td>...</td>\n",
              "      <td>...</td>\n",
              "      <td>...</td>\n",
              "      <td>...</td>\n",
              "      <td>...</td>\n",
              "      <td>...</td>\n",
              "      <td>...</td>\n",
              "      <td>...</td>\n",
              "      <td>...</td>\n",
              "      <td>...</td>\n",
              "      <td>...</td>\n",
              "      <td>...</td>\n",
              "    </tr>\n",
              "    <tr>\n",
              "      <th>water's</th>\n",
              "      <td>0.0</td>\n",
              "      <td>0.0</td>\n",
              "      <td>0.0</td>\n",
              "      <td>0.0</td>\n",
              "      <td>0.0</td>\n",
              "      <td>0.0</td>\n",
              "      <td>0.0</td>\n",
              "      <td>0.0</td>\n",
              "      <td>0.0</td>\n",
              "      <td>0.0</td>\n",
              "      <td>...</td>\n",
              "      <td>0.0</td>\n",
              "      <td>0.0</td>\n",
              "      <td>0.0</td>\n",
              "      <td>0.0</td>\n",
              "      <td>0.0</td>\n",
              "      <td>1.0</td>\n",
              "      <td>0.0</td>\n",
              "      <td>0.0</td>\n",
              "      <td>0.0</td>\n",
              "      <td>0.0</td>\n",
              "    </tr>\n",
              "    <tr>\n",
              "      <th>Penguin</th>\n",
              "      <td>0.0</td>\n",
              "      <td>0.0</td>\n",
              "      <td>0.0</td>\n",
              "      <td>0.0</td>\n",
              "      <td>0.0</td>\n",
              "      <td>0.0</td>\n",
              "      <td>0.0</td>\n",
              "      <td>0.0</td>\n",
              "      <td>0.0</td>\n",
              "      <td>0.0</td>\n",
              "      <td>...</td>\n",
              "      <td>0.0</td>\n",
              "      <td>0.0</td>\n",
              "      <td>0.0</td>\n",
              "      <td>0.0</td>\n",
              "      <td>0.0</td>\n",
              "      <td>0.0</td>\n",
              "      <td>1.0</td>\n",
              "      <td>0.0</td>\n",
              "      <td>0.0</td>\n",
              "      <td>0.0</td>\n",
              "    </tr>\n",
              "    <tr>\n",
              "      <th>(Spheniscus</th>\n",
              "      <td>0.0</td>\n",
              "      <td>0.0</td>\n",
              "      <td>0.0</td>\n",
              "      <td>0.0</td>\n",
              "      <td>0.0</td>\n",
              "      <td>0.0</td>\n",
              "      <td>0.0</td>\n",
              "      <td>0.0</td>\n",
              "      <td>0.0</td>\n",
              "      <td>0.0</td>\n",
              "      <td>...</td>\n",
              "      <td>0.0</td>\n",
              "      <td>0.0</td>\n",
              "      <td>0.0</td>\n",
              "      <td>0.0</td>\n",
              "      <td>0.0</td>\n",
              "      <td>0.0</td>\n",
              "      <td>0.0</td>\n",
              "      <td>1.0</td>\n",
              "      <td>0.0</td>\n",
              "      <td>0.0</td>\n",
              "    </tr>\n",
              "    <tr>\n",
              "      <th>penguins</th>\n",
              "      <td>0.0</td>\n",
              "      <td>0.0</td>\n",
              "      <td>0.0</td>\n",
              "      <td>0.0</td>\n",
              "      <td>0.0</td>\n",
              "      <td>0.0</td>\n",
              "      <td>0.0</td>\n",
              "      <td>0.0</td>\n",
              "      <td>0.0</td>\n",
              "      <td>0.0</td>\n",
              "      <td>...</td>\n",
              "      <td>0.0</td>\n",
              "      <td>0.0</td>\n",
              "      <td>0.0</td>\n",
              "      <td>0.0</td>\n",
              "      <td>0.0</td>\n",
              "      <td>0.0</td>\n",
              "      <td>0.0</td>\n",
              "      <td>0.0</td>\n",
              "      <td>1.0</td>\n",
              "      <td>0.0</td>\n",
              "    </tr>\n",
              "    <tr>\n",
              "      <th>Algoa</th>\n",
              "      <td>0.0</td>\n",
              "      <td>0.0</td>\n",
              "      <td>0.0</td>\n",
              "      <td>0.0</td>\n",
              "      <td>0.0</td>\n",
              "      <td>0.0</td>\n",
              "      <td>0.0</td>\n",
              "      <td>0.0</td>\n",
              "      <td>0.0</td>\n",
              "      <td>0.0</td>\n",
              "      <td>...</td>\n",
              "      <td>0.0</td>\n",
              "      <td>0.0</td>\n",
              "      <td>0.0</td>\n",
              "      <td>0.0</td>\n",
              "      <td>0.0</td>\n",
              "      <td>0.0</td>\n",
              "      <td>0.0</td>\n",
              "      <td>0.0</td>\n",
              "      <td>0.0</td>\n",
              "      <td>1.0</td>\n",
              "    </tr>\n",
              "  </tbody>\n",
              "</table>\n",
              "<p>5143 rows × 5176 columns</p>\n",
              "</div>\n",
              "    <div class=\"colab-df-buttons\">\n",
              "\n",
              "  <div class=\"colab-df-container\">\n",
              "    <button class=\"colab-df-convert\" onclick=\"convertToInteractive('df-327a4175-8f18-4543-a487-f2d7e155bd19')\"\n",
              "            title=\"Convert this dataframe to an interactive table.\"\n",
              "            style=\"display:none;\">\n",
              "\n",
              "  <svg xmlns=\"http://www.w3.org/2000/svg\" height=\"24px\" viewBox=\"0 -960 960 960\">\n",
              "    <path d=\"M120-120v-720h720v720H120Zm60-500h600v-160H180v160Zm220 220h160v-160H400v160Zm0 220h160v-160H400v160ZM180-400h160v-160H180v160Zm440 0h160v-160H620v160ZM180-180h160v-160H180v160Zm440 0h160v-160H620v160Z\"/>\n",
              "  </svg>\n",
              "    </button>\n",
              "\n",
              "  <style>\n",
              "    .colab-df-container {\n",
              "      display:flex;\n",
              "      gap: 12px;\n",
              "    }\n",
              "\n",
              "    .colab-df-convert {\n",
              "      background-color: #E8F0FE;\n",
              "      border: none;\n",
              "      border-radius: 50%;\n",
              "      cursor: pointer;\n",
              "      display: none;\n",
              "      fill: #1967D2;\n",
              "      height: 32px;\n",
              "      padding: 0 0 0 0;\n",
              "      width: 32px;\n",
              "    }\n",
              "\n",
              "    .colab-df-convert:hover {\n",
              "      background-color: #E2EBFA;\n",
              "      box-shadow: 0px 1px 2px rgba(60, 64, 67, 0.3), 0px 1px 3px 1px rgba(60, 64, 67, 0.15);\n",
              "      fill: #174EA6;\n",
              "    }\n",
              "\n",
              "    .colab-df-buttons div {\n",
              "      margin-bottom: 4px;\n",
              "    }\n",
              "\n",
              "    [theme=dark] .colab-df-convert {\n",
              "      background-color: #3B4455;\n",
              "      fill: #D2E3FC;\n",
              "    }\n",
              "\n",
              "    [theme=dark] .colab-df-convert:hover {\n",
              "      background-color: #434B5C;\n",
              "      box-shadow: 0px 1px 3px 1px rgba(0, 0, 0, 0.15);\n",
              "      filter: drop-shadow(0px 1px 2px rgba(0, 0, 0, 0.3));\n",
              "      fill: #FFFFFF;\n",
              "    }\n",
              "  </style>\n",
              "\n",
              "    <script>\n",
              "      const buttonEl =\n",
              "        document.querySelector('#df-327a4175-8f18-4543-a487-f2d7e155bd19 button.colab-df-convert');\n",
              "      buttonEl.style.display =\n",
              "        google.colab.kernel.accessAllowed ? 'block' : 'none';\n",
              "\n",
              "      async function convertToInteractive(key) {\n",
              "        const element = document.querySelector('#df-327a4175-8f18-4543-a487-f2d7e155bd19');\n",
              "        const dataTable =\n",
              "          await google.colab.kernel.invokeFunction('convertToInteractive',\n",
              "                                                    [key], {});\n",
              "        if (!dataTable) return;\n",
              "\n",
              "        const docLinkHtml = 'Like what you see? Visit the ' +\n",
              "          '<a target=\"_blank\" href=https://colab.research.google.com/notebooks/data_table.ipynb>data table notebook</a>'\n",
              "          + ' to learn more about interactive tables.';\n",
              "        element.innerHTML = '';\n",
              "        dataTable['output_type'] = 'display_data';\n",
              "        await google.colab.output.renderOutput(dataTable, element);\n",
              "        const docLink = document.createElement('div');\n",
              "        docLink.innerHTML = docLinkHtml;\n",
              "        element.appendChild(docLink);\n",
              "      }\n",
              "    </script>\n",
              "  </div>\n",
              "\n",
              "\n",
              "    <div id=\"df-8ce505f2-69be-4324-ad60-ceb71fc17aec\">\n",
              "      <button class=\"colab-df-quickchart\" onclick=\"quickchart('df-8ce505f2-69be-4324-ad60-ceb71fc17aec')\"\n",
              "                title=\"Suggest charts\"\n",
              "                style=\"display:none;\">\n",
              "\n",
              "<svg xmlns=\"http://www.w3.org/2000/svg\" height=\"24px\"viewBox=\"0 0 24 24\"\n",
              "     width=\"24px\">\n",
              "    <g>\n",
              "        <path d=\"M19 3H5c-1.1 0-2 .9-2 2v14c0 1.1.9 2 2 2h14c1.1 0 2-.9 2-2V5c0-1.1-.9-2-2-2zM9 17H7v-7h2v7zm4 0h-2V7h2v10zm4 0h-2v-4h2v4z\"/>\n",
              "    </g>\n",
              "</svg>\n",
              "      </button>\n",
              "\n",
              "<style>\n",
              "  .colab-df-quickchart {\n",
              "      --bg-color: #E8F0FE;\n",
              "      --fill-color: #1967D2;\n",
              "      --hover-bg-color: #E2EBFA;\n",
              "      --hover-fill-color: #174EA6;\n",
              "      --disabled-fill-color: #AAA;\n",
              "      --disabled-bg-color: #DDD;\n",
              "  }\n",
              "\n",
              "  [theme=dark] .colab-df-quickchart {\n",
              "      --bg-color: #3B4455;\n",
              "      --fill-color: #D2E3FC;\n",
              "      --hover-bg-color: #434B5C;\n",
              "      --hover-fill-color: #FFFFFF;\n",
              "      --disabled-bg-color: #3B4455;\n",
              "      --disabled-fill-color: #666;\n",
              "  }\n",
              "\n",
              "  .colab-df-quickchart {\n",
              "    background-color: var(--bg-color);\n",
              "    border: none;\n",
              "    border-radius: 50%;\n",
              "    cursor: pointer;\n",
              "    display: none;\n",
              "    fill: var(--fill-color);\n",
              "    height: 32px;\n",
              "    padding: 0;\n",
              "    width: 32px;\n",
              "  }\n",
              "\n",
              "  .colab-df-quickchart:hover {\n",
              "    background-color: var(--hover-bg-color);\n",
              "    box-shadow: 0 1px 2px rgba(60, 64, 67, 0.3), 0 1px 3px 1px rgba(60, 64, 67, 0.15);\n",
              "    fill: var(--button-hover-fill-color);\n",
              "  }\n",
              "\n",
              "  .colab-df-quickchart-complete:disabled,\n",
              "  .colab-df-quickchart-complete:disabled:hover {\n",
              "    background-color: var(--disabled-bg-color);\n",
              "    fill: var(--disabled-fill-color);\n",
              "    box-shadow: none;\n",
              "  }\n",
              "\n",
              "  .colab-df-spinner {\n",
              "    border: 2px solid var(--fill-color);\n",
              "    border-color: transparent;\n",
              "    border-bottom-color: var(--fill-color);\n",
              "    animation:\n",
              "      spin 1s steps(1) infinite;\n",
              "  }\n",
              "\n",
              "  @keyframes spin {\n",
              "    0% {\n",
              "      border-color: transparent;\n",
              "      border-bottom-color: var(--fill-color);\n",
              "      border-left-color: var(--fill-color);\n",
              "    }\n",
              "    20% {\n",
              "      border-color: transparent;\n",
              "      border-left-color: var(--fill-color);\n",
              "      border-top-color: var(--fill-color);\n",
              "    }\n",
              "    30% {\n",
              "      border-color: transparent;\n",
              "      border-left-color: var(--fill-color);\n",
              "      border-top-color: var(--fill-color);\n",
              "      border-right-color: var(--fill-color);\n",
              "    }\n",
              "    40% {\n",
              "      border-color: transparent;\n",
              "      border-right-color: var(--fill-color);\n",
              "      border-top-color: var(--fill-color);\n",
              "    }\n",
              "    60% {\n",
              "      border-color: transparent;\n",
              "      border-right-color: var(--fill-color);\n",
              "    }\n",
              "    80% {\n",
              "      border-color: transparent;\n",
              "      border-right-color: var(--fill-color);\n",
              "      border-bottom-color: var(--fill-color);\n",
              "    }\n",
              "    90% {\n",
              "      border-color: transparent;\n",
              "      border-bottom-color: var(--fill-color);\n",
              "    }\n",
              "  }\n",
              "</style>\n",
              "\n",
              "      <script>\n",
              "        async function quickchart(key) {\n",
              "          const quickchartButtonEl =\n",
              "            document.querySelector('#' + key + ' button');\n",
              "          quickchartButtonEl.disabled = true;  // To prevent multiple clicks.\n",
              "          quickchartButtonEl.classList.add('colab-df-spinner');\n",
              "          try {\n",
              "            const charts = await google.colab.kernel.invokeFunction(\n",
              "                'suggestCharts', [key], {});\n",
              "          } catch (error) {\n",
              "            console.error('Error during call to suggestCharts:', error);\n",
              "          }\n",
              "          quickchartButtonEl.classList.remove('colab-df-spinner');\n",
              "          quickchartButtonEl.classList.add('colab-df-quickchart-complete');\n",
              "        }\n",
              "        (() => {\n",
              "          let quickchartButtonEl =\n",
              "            document.querySelector('#df-8ce505f2-69be-4324-ad60-ceb71fc17aec button');\n",
              "          quickchartButtonEl.style.display =\n",
              "            google.colab.kernel.accessAllowed ? 'block' : 'none';\n",
              "        })();\n",
              "      </script>\n",
              "    </div>\n",
              "\n",
              "  <div id=\"id_ddb9456d-7e6a-4976-8f72-6451fa4eefce\">\n",
              "    <style>\n",
              "      .colab-df-generate {\n",
              "        background-color: #E8F0FE;\n",
              "        border: none;\n",
              "        border-radius: 50%;\n",
              "        cursor: pointer;\n",
              "        display: none;\n",
              "        fill: #1967D2;\n",
              "        height: 32px;\n",
              "        padding: 0 0 0 0;\n",
              "        width: 32px;\n",
              "      }\n",
              "\n",
              "      .colab-df-generate:hover {\n",
              "        background-color: #E2EBFA;\n",
              "        box-shadow: 0px 1px 2px rgba(60, 64, 67, 0.3), 0px 1px 3px 1px rgba(60, 64, 67, 0.15);\n",
              "        fill: #174EA6;\n",
              "      }\n",
              "\n",
              "      [theme=dark] .colab-df-generate {\n",
              "        background-color: #3B4455;\n",
              "        fill: #D2E3FC;\n",
              "      }\n",
              "\n",
              "      [theme=dark] .colab-df-generate:hover {\n",
              "        background-color: #434B5C;\n",
              "        box-shadow: 0px 1px 3px 1px rgba(0, 0, 0, 0.15);\n",
              "        filter: drop-shadow(0px 1px 2px rgba(0, 0, 0, 0.3));\n",
              "        fill: #FFFFFF;\n",
              "      }\n",
              "    </style>\n",
              "    <button class=\"colab-df-generate\" onclick=\"generateWithVariable('bigram_data_frame')\"\n",
              "            title=\"Generate code using this dataframe.\"\n",
              "            style=\"display:none;\">\n",
              "\n",
              "  <svg xmlns=\"http://www.w3.org/2000/svg\" height=\"24px\"viewBox=\"0 0 24 24\"\n",
              "       width=\"24px\">\n",
              "    <path d=\"M7,19H8.4L18.45,9,17,7.55,7,17.6ZM5,21V16.75L18.45,3.32a2,2,0,0,1,2.83,0l1.4,1.43a1.91,1.91,0,0,1,.58,1.4,1.91,1.91,0,0,1-.58,1.4L9.25,21ZM18.45,9,17,7.55Zm-12,3A5.31,5.31,0,0,0,4.9,8.1,5.31,5.31,0,0,0,1,6.5,5.31,5.31,0,0,0,4.9,4.9,5.31,5.31,0,0,0,6.5,1,5.31,5.31,0,0,0,8.1,4.9,5.31,5.31,0,0,0,12,6.5,5.46,5.46,0,0,0,6.5,12Z\"/>\n",
              "  </svg>\n",
              "    </button>\n",
              "    <script>\n",
              "      (() => {\n",
              "      const buttonEl =\n",
              "        document.querySelector('#id_ddb9456d-7e6a-4976-8f72-6451fa4eefce button.colab-df-generate');\n",
              "      buttonEl.style.display =\n",
              "        google.colab.kernel.accessAllowed ? 'block' : 'none';\n",
              "\n",
              "      buttonEl.onclick = () => {\n",
              "        google.colab.notebook.generateWithVariable('bigram_data_frame');\n",
              "      }\n",
              "      })();\n",
              "    </script>\n",
              "  </div>\n",
              "\n",
              "    </div>\n",
              "  </div>\n"
            ],
            "application/vnd.google.colaboratory.intrinsic+json": {
              "type": "dataframe",
              "variable_name": "bigram_data_frame"
            }
          },
          "metadata": {}
        },
        {
          "output_type": "stream",
          "name": "stdout",
          "text": [
            "Number of bigrams with a count of 0: 26,606,550 (99.95%)\n"
          ]
        }
      ],
      "execution_count": 12
    },
    {
      "metadata": {
        "id": "rqbmtcWNmdbK"
      },
      "cell_type": "markdown",
      "source": [
        "As you can observe from the table, a lot of entries are 0. This is because the table shows (almost) every possible combination of all tokens that appear in the Africa Galore dataset. In total, there are $5,143 \\times 5,176$ possible combinations but most of them (99.95%) never appear in the dataset. This **sparsity** is an important property to consider when building n-gram language models. For any context $\\mbox{A}$, the probability $P(\\mbox{B} \\mid \\mbox{A})$ will be 0 for most tokens $\\mbox{B}$.\n",
        "\n",
        "\n"
      ]
    },
    {
      "cell_type": "markdown",
      "source": [
        "The sparsity increases even more as the length of the context increases. For an example of this, run the following cell, which computes the frequencies of all trigrams and displays them as a table:"
      ],
      "metadata": {
        "id": "ZfgvmlhkBj-F"
      }
    },
    {
      "metadata": {
        "id": "blX_r7XXlJON",
        "colab": {
          "base_uri": "https://localhost:8080/",
          "height": 548
        },
        "outputId": "77df45d5-6291-4a1e-8e11-673186ae1e10"
      },
      "cell_type": "code",
      "source": [
        "trigram_counts = get_ngram_counts(dataset, n=3)\n",
        "\n",
        "# Use the pandas library to display the counts in a table.\n",
        "trigram_counts_matrix = {\n",
        "    context: dict(counts) for context, counts in trigram_counts.items()\n",
        "}\n",
        "trigram_data_frame = pd.DataFrame.from_dict(\n",
        "    trigram_counts_matrix, orient=\"index\").fillna(0)\n",
        "\n",
        "display(trigram_data_frame)\n",
        "\n",
        "zero_count = (trigram_data_frame == 0).sum().sum()\n",
        "print(\n",
        "    f\"Number of trigrams with a count of 0: {zero_count:,}\"\n",
        "    f\" ({zero_count/trigram_data_frame.size * 100:.2f}%)\"\n",
        ")"
      ],
      "outputs": [
        {
          "output_type": "display_data",
          "data": {
            "text/plain": [
              "                     air  was  thick  thin  always  quiet,  filled  alive  \\\n",
              "The Lagos            1.0  0.0    0.0   0.0     0.0     0.0     0.0    0.0   \n",
              "in the               1.0  0.0    0.0   0.0     0.0     0.0     0.0    0.0   \n",
              "and the              3.0  0.0    0.0   0.0     0.0     0.0     0.0    0.0   \n",
              "warm evening         1.0  0.0    0.0   0.0     0.0     0.0     0.0    0.0   \n",
              "vegetables. The      1.0  0.0    0.0   0.0     0.0     0.0     0.0    0.0   \n",
              "...                  ...  ...    ...   ...     ...     ...     ...    ...   \n",
              "Penguin (Spheniscus  0.0  0.0    0.0   0.0     0.0     0.0     0.0    0.0   \n",
              "demersus). These     0.0  0.0    0.0   0.0     0.0     0.0     0.0    0.0   \n",
              "These penguins       0.0  0.0    0.0   0.0     0.0     0.0     0.0    0.0   \n",
              "down to              0.0  0.0    0.0   0.0     0.0     0.0     0.0    0.0   \n",
              "to Algoa             0.0  0.0    0.0   0.0     0.0     0.0     0.0    0.0   \n",
              "\n",
              "                     with  humidity,  ...  plumage  water's  surface.  \\\n",
              "The Lagos             0.0        0.0  ...      0.0      0.0       0.0   \n",
              "in the                0.0        0.0  ...      0.0      0.0       0.0   \n",
              "and the               0.0        0.0  ...      0.0      0.0       0.0   \n",
              "warm evening          0.0        0.0  ...      0.0      0.0       0.0   \n",
              "vegetables. The       0.0        0.0  ...      0.0      0.0       0.0   \n",
              "...                   ...        ...  ...      ...      ...       ...   \n",
              "Penguin (Spheniscus   0.0        0.0  ...      0.0      0.0       0.0   \n",
              "demersus). These      0.0        0.0  ...      0.0      0.0       0.0   \n",
              "These penguins        0.0        0.0  ...      0.0      0.0       0.0   \n",
              "down to               0.0        0.0  ...      0.0      0.0       0.0   \n",
              "to Algoa              0.0        0.0  ...      0.0      0.0       0.0   \n",
              "\n",
              "                     penguin  (Spheniscus  demersus).  penguins  breed  Algoa  \\\n",
              "The Lagos                0.0          0.0         0.0       0.0    0.0    0.0   \n",
              "in the                   0.0          0.0         0.0       0.0    0.0    0.0   \n",
              "and the                  0.0          0.0         0.0       0.0    0.0    0.0   \n",
              "warm evening             0.0          0.0         0.0       0.0    0.0    0.0   \n",
              "vegetables. The          0.0          0.0         0.0       0.0    0.0    0.0   \n",
              "...                      ...          ...         ...       ...    ...    ...   \n",
              "Penguin (Spheniscus      0.0          0.0         1.0       0.0    0.0    0.0   \n",
              "demersus). These         0.0          0.0         0.0       1.0    0.0    0.0   \n",
              "These penguins           0.0          0.0         0.0       0.0    1.0    0.0   \n",
              "down to                  0.0          0.0         0.0       0.0    0.0    1.0   \n",
              "to Algoa                 0.0          0.0         0.0       0.0    0.0    0.0   \n",
              "\n",
              "                     Bay  \n",
              "The Lagos            0.0  \n",
              "in the               0.0  \n",
              "and the              0.0  \n",
              "warm evening         0.0  \n",
              "vegetables. The      0.0  \n",
              "...                  ...  \n",
              "Penguin (Spheniscus  0.0  \n",
              "demersus). These     0.0  \n",
              "These penguins       0.0  \n",
              "down to              0.0  \n",
              "to Algoa             1.0  \n",
              "\n",
              "[13411 rows x 5142 columns]"
            ],
            "text/html": [
              "\n",
              "  <div id=\"df-3075e798-28b3-4404-b104-476e1fbc4015\" class=\"colab-df-container\">\n",
              "    <div>\n",
              "<style scoped>\n",
              "    .dataframe tbody tr th:only-of-type {\n",
              "        vertical-align: middle;\n",
              "    }\n",
              "\n",
              "    .dataframe tbody tr th {\n",
              "        vertical-align: top;\n",
              "    }\n",
              "\n",
              "    .dataframe thead th {\n",
              "        text-align: right;\n",
              "    }\n",
              "</style>\n",
              "<table border=\"1\" class=\"dataframe\">\n",
              "  <thead>\n",
              "    <tr style=\"text-align: right;\">\n",
              "      <th></th>\n",
              "      <th>air</th>\n",
              "      <th>was</th>\n",
              "      <th>thick</th>\n",
              "      <th>thin</th>\n",
              "      <th>always</th>\n",
              "      <th>quiet,</th>\n",
              "      <th>filled</th>\n",
              "      <th>alive</th>\n",
              "      <th>with</th>\n",
              "      <th>humidity,</th>\n",
              "      <th>...</th>\n",
              "      <th>plumage</th>\n",
              "      <th>water's</th>\n",
              "      <th>surface.</th>\n",
              "      <th>penguin</th>\n",
              "      <th>(Spheniscus</th>\n",
              "      <th>demersus).</th>\n",
              "      <th>penguins</th>\n",
              "      <th>breed</th>\n",
              "      <th>Algoa</th>\n",
              "      <th>Bay</th>\n",
              "    </tr>\n",
              "  </thead>\n",
              "  <tbody>\n",
              "    <tr>\n",
              "      <th>The Lagos</th>\n",
              "      <td>1.0</td>\n",
              "      <td>0.0</td>\n",
              "      <td>0.0</td>\n",
              "      <td>0.0</td>\n",
              "      <td>0.0</td>\n",
              "      <td>0.0</td>\n",
              "      <td>0.0</td>\n",
              "      <td>0.0</td>\n",
              "      <td>0.0</td>\n",
              "      <td>0.0</td>\n",
              "      <td>...</td>\n",
              "      <td>0.0</td>\n",
              "      <td>0.0</td>\n",
              "      <td>0.0</td>\n",
              "      <td>0.0</td>\n",
              "      <td>0.0</td>\n",
              "      <td>0.0</td>\n",
              "      <td>0.0</td>\n",
              "      <td>0.0</td>\n",
              "      <td>0.0</td>\n",
              "      <td>0.0</td>\n",
              "    </tr>\n",
              "    <tr>\n",
              "      <th>in the</th>\n",
              "      <td>1.0</td>\n",
              "      <td>0.0</td>\n",
              "      <td>0.0</td>\n",
              "      <td>0.0</td>\n",
              "      <td>0.0</td>\n",
              "      <td>0.0</td>\n",
              "      <td>0.0</td>\n",
              "      <td>0.0</td>\n",
              "      <td>0.0</td>\n",
              "      <td>0.0</td>\n",
              "      <td>...</td>\n",
              "      <td>0.0</td>\n",
              "      <td>0.0</td>\n",
              "      <td>0.0</td>\n",
              "      <td>0.0</td>\n",
              "      <td>0.0</td>\n",
              "      <td>0.0</td>\n",
              "      <td>0.0</td>\n",
              "      <td>0.0</td>\n",
              "      <td>0.0</td>\n",
              "      <td>0.0</td>\n",
              "    </tr>\n",
              "    <tr>\n",
              "      <th>and the</th>\n",
              "      <td>3.0</td>\n",
              "      <td>0.0</td>\n",
              "      <td>0.0</td>\n",
              "      <td>0.0</td>\n",
              "      <td>0.0</td>\n",
              "      <td>0.0</td>\n",
              "      <td>0.0</td>\n",
              "      <td>0.0</td>\n",
              "      <td>0.0</td>\n",
              "      <td>0.0</td>\n",
              "      <td>...</td>\n",
              "      <td>0.0</td>\n",
              "      <td>0.0</td>\n",
              "      <td>0.0</td>\n",
              "      <td>0.0</td>\n",
              "      <td>0.0</td>\n",
              "      <td>0.0</td>\n",
              "      <td>0.0</td>\n",
              "      <td>0.0</td>\n",
              "      <td>0.0</td>\n",
              "      <td>0.0</td>\n",
              "    </tr>\n",
              "    <tr>\n",
              "      <th>warm evening</th>\n",
              "      <td>1.0</td>\n",
              "      <td>0.0</td>\n",
              "      <td>0.0</td>\n",
              "      <td>0.0</td>\n",
              "      <td>0.0</td>\n",
              "      <td>0.0</td>\n",
              "      <td>0.0</td>\n",
              "      <td>0.0</td>\n",
              "      <td>0.0</td>\n",
              "      <td>0.0</td>\n",
              "      <td>...</td>\n",
              "      <td>0.0</td>\n",
              "      <td>0.0</td>\n",
              "      <td>0.0</td>\n",
              "      <td>0.0</td>\n",
              "      <td>0.0</td>\n",
              "      <td>0.0</td>\n",
              "      <td>0.0</td>\n",
              "      <td>0.0</td>\n",
              "      <td>0.0</td>\n",
              "      <td>0.0</td>\n",
              "    </tr>\n",
              "    <tr>\n",
              "      <th>vegetables. The</th>\n",
              "      <td>1.0</td>\n",
              "      <td>0.0</td>\n",
              "      <td>0.0</td>\n",
              "      <td>0.0</td>\n",
              "      <td>0.0</td>\n",
              "      <td>0.0</td>\n",
              "      <td>0.0</td>\n",
              "      <td>0.0</td>\n",
              "      <td>0.0</td>\n",
              "      <td>0.0</td>\n",
              "      <td>...</td>\n",
              "      <td>0.0</td>\n",
              "      <td>0.0</td>\n",
              "      <td>0.0</td>\n",
              "      <td>0.0</td>\n",
              "      <td>0.0</td>\n",
              "      <td>0.0</td>\n",
              "      <td>0.0</td>\n",
              "      <td>0.0</td>\n",
              "      <td>0.0</td>\n",
              "      <td>0.0</td>\n",
              "    </tr>\n",
              "    <tr>\n",
              "      <th>...</th>\n",
              "      <td>...</td>\n",
              "      <td>...</td>\n",
              "      <td>...</td>\n",
              "      <td>...</td>\n",
              "      <td>...</td>\n",
              "      <td>...</td>\n",
              "      <td>...</td>\n",
              "      <td>...</td>\n",
              "      <td>...</td>\n",
              "      <td>...</td>\n",
              "      <td>...</td>\n",
              "      <td>...</td>\n",
              "      <td>...</td>\n",
              "      <td>...</td>\n",
              "      <td>...</td>\n",
              "      <td>...</td>\n",
              "      <td>...</td>\n",
              "      <td>...</td>\n",
              "      <td>...</td>\n",
              "      <td>...</td>\n",
              "      <td>...</td>\n",
              "    </tr>\n",
              "    <tr>\n",
              "      <th>Penguin (Spheniscus</th>\n",
              "      <td>0.0</td>\n",
              "      <td>0.0</td>\n",
              "      <td>0.0</td>\n",
              "      <td>0.0</td>\n",
              "      <td>0.0</td>\n",
              "      <td>0.0</td>\n",
              "      <td>0.0</td>\n",
              "      <td>0.0</td>\n",
              "      <td>0.0</td>\n",
              "      <td>0.0</td>\n",
              "      <td>...</td>\n",
              "      <td>0.0</td>\n",
              "      <td>0.0</td>\n",
              "      <td>0.0</td>\n",
              "      <td>0.0</td>\n",
              "      <td>0.0</td>\n",
              "      <td>1.0</td>\n",
              "      <td>0.0</td>\n",
              "      <td>0.0</td>\n",
              "      <td>0.0</td>\n",
              "      <td>0.0</td>\n",
              "    </tr>\n",
              "    <tr>\n",
              "      <th>demersus). These</th>\n",
              "      <td>0.0</td>\n",
              "      <td>0.0</td>\n",
              "      <td>0.0</td>\n",
              "      <td>0.0</td>\n",
              "      <td>0.0</td>\n",
              "      <td>0.0</td>\n",
              "      <td>0.0</td>\n",
              "      <td>0.0</td>\n",
              "      <td>0.0</td>\n",
              "      <td>0.0</td>\n",
              "      <td>...</td>\n",
              "      <td>0.0</td>\n",
              "      <td>0.0</td>\n",
              "      <td>0.0</td>\n",
              "      <td>0.0</td>\n",
              "      <td>0.0</td>\n",
              "      <td>0.0</td>\n",
              "      <td>1.0</td>\n",
              "      <td>0.0</td>\n",
              "      <td>0.0</td>\n",
              "      <td>0.0</td>\n",
              "    </tr>\n",
              "    <tr>\n",
              "      <th>These penguins</th>\n",
              "      <td>0.0</td>\n",
              "      <td>0.0</td>\n",
              "      <td>0.0</td>\n",
              "      <td>0.0</td>\n",
              "      <td>0.0</td>\n",
              "      <td>0.0</td>\n",
              "      <td>0.0</td>\n",
              "      <td>0.0</td>\n",
              "      <td>0.0</td>\n",
              "      <td>0.0</td>\n",
              "      <td>...</td>\n",
              "      <td>0.0</td>\n",
              "      <td>0.0</td>\n",
              "      <td>0.0</td>\n",
              "      <td>0.0</td>\n",
              "      <td>0.0</td>\n",
              "      <td>0.0</td>\n",
              "      <td>0.0</td>\n",
              "      <td>1.0</td>\n",
              "      <td>0.0</td>\n",
              "      <td>0.0</td>\n",
              "    </tr>\n",
              "    <tr>\n",
              "      <th>down to</th>\n",
              "      <td>0.0</td>\n",
              "      <td>0.0</td>\n",
              "      <td>0.0</td>\n",
              "      <td>0.0</td>\n",
              "      <td>0.0</td>\n",
              "      <td>0.0</td>\n",
              "      <td>0.0</td>\n",
              "      <td>0.0</td>\n",
              "      <td>0.0</td>\n",
              "      <td>0.0</td>\n",
              "      <td>...</td>\n",
              "      <td>0.0</td>\n",
              "      <td>0.0</td>\n",
              "      <td>0.0</td>\n",
              "      <td>0.0</td>\n",
              "      <td>0.0</td>\n",
              "      <td>0.0</td>\n",
              "      <td>0.0</td>\n",
              "      <td>0.0</td>\n",
              "      <td>1.0</td>\n",
              "      <td>0.0</td>\n",
              "    </tr>\n",
              "    <tr>\n",
              "      <th>to Algoa</th>\n",
              "      <td>0.0</td>\n",
              "      <td>0.0</td>\n",
              "      <td>0.0</td>\n",
              "      <td>0.0</td>\n",
              "      <td>0.0</td>\n",
              "      <td>0.0</td>\n",
              "      <td>0.0</td>\n",
              "      <td>0.0</td>\n",
              "      <td>0.0</td>\n",
              "      <td>0.0</td>\n",
              "      <td>...</td>\n",
              "      <td>0.0</td>\n",
              "      <td>0.0</td>\n",
              "      <td>0.0</td>\n",
              "      <td>0.0</td>\n",
              "      <td>0.0</td>\n",
              "      <td>0.0</td>\n",
              "      <td>0.0</td>\n",
              "      <td>0.0</td>\n",
              "      <td>0.0</td>\n",
              "      <td>1.0</td>\n",
              "    </tr>\n",
              "  </tbody>\n",
              "</table>\n",
              "<p>13411 rows × 5142 columns</p>\n",
              "</div>\n",
              "    <div class=\"colab-df-buttons\">\n",
              "\n",
              "  <div class=\"colab-df-container\">\n",
              "    <button class=\"colab-df-convert\" onclick=\"convertToInteractive('df-3075e798-28b3-4404-b104-476e1fbc4015')\"\n",
              "            title=\"Convert this dataframe to an interactive table.\"\n",
              "            style=\"display:none;\">\n",
              "\n",
              "  <svg xmlns=\"http://www.w3.org/2000/svg\" height=\"24px\" viewBox=\"0 -960 960 960\">\n",
              "    <path d=\"M120-120v-720h720v720H120Zm60-500h600v-160H180v160Zm220 220h160v-160H400v160Zm0 220h160v-160H400v160ZM180-400h160v-160H180v160Zm440 0h160v-160H620v160ZM180-180h160v-160H180v160Zm440 0h160v-160H620v160Z\"/>\n",
              "  </svg>\n",
              "    </button>\n",
              "\n",
              "  <style>\n",
              "    .colab-df-container {\n",
              "      display:flex;\n",
              "      gap: 12px;\n",
              "    }\n",
              "\n",
              "    .colab-df-convert {\n",
              "      background-color: #E8F0FE;\n",
              "      border: none;\n",
              "      border-radius: 50%;\n",
              "      cursor: pointer;\n",
              "      display: none;\n",
              "      fill: #1967D2;\n",
              "      height: 32px;\n",
              "      padding: 0 0 0 0;\n",
              "      width: 32px;\n",
              "    }\n",
              "\n",
              "    .colab-df-convert:hover {\n",
              "      background-color: #E2EBFA;\n",
              "      box-shadow: 0px 1px 2px rgba(60, 64, 67, 0.3), 0px 1px 3px 1px rgba(60, 64, 67, 0.15);\n",
              "      fill: #174EA6;\n",
              "    }\n",
              "\n",
              "    .colab-df-buttons div {\n",
              "      margin-bottom: 4px;\n",
              "    }\n",
              "\n",
              "    [theme=dark] .colab-df-convert {\n",
              "      background-color: #3B4455;\n",
              "      fill: #D2E3FC;\n",
              "    }\n",
              "\n",
              "    [theme=dark] .colab-df-convert:hover {\n",
              "      background-color: #434B5C;\n",
              "      box-shadow: 0px 1px 3px 1px rgba(0, 0, 0, 0.15);\n",
              "      filter: drop-shadow(0px 1px 2px rgba(0, 0, 0, 0.3));\n",
              "      fill: #FFFFFF;\n",
              "    }\n",
              "  </style>\n",
              "\n",
              "    <script>\n",
              "      const buttonEl =\n",
              "        document.querySelector('#df-3075e798-28b3-4404-b104-476e1fbc4015 button.colab-df-convert');\n",
              "      buttonEl.style.display =\n",
              "        google.colab.kernel.accessAllowed ? 'block' : 'none';\n",
              "\n",
              "      async function convertToInteractive(key) {\n",
              "        const element = document.querySelector('#df-3075e798-28b3-4404-b104-476e1fbc4015');\n",
              "        const dataTable =\n",
              "          await google.colab.kernel.invokeFunction('convertToInteractive',\n",
              "                                                    [key], {});\n",
              "        if (!dataTable) return;\n",
              "\n",
              "        const docLinkHtml = 'Like what you see? Visit the ' +\n",
              "          '<a target=\"_blank\" href=https://colab.research.google.com/notebooks/data_table.ipynb>data table notebook</a>'\n",
              "          + ' to learn more about interactive tables.';\n",
              "        element.innerHTML = '';\n",
              "        dataTable['output_type'] = 'display_data';\n",
              "        await google.colab.output.renderOutput(dataTable, element);\n",
              "        const docLink = document.createElement('div');\n",
              "        docLink.innerHTML = docLinkHtml;\n",
              "        element.appendChild(docLink);\n",
              "      }\n",
              "    </script>\n",
              "  </div>\n",
              "\n",
              "\n",
              "    <div id=\"df-6881c1d0-93d7-4628-b339-fce4a1eadcc8\">\n",
              "      <button class=\"colab-df-quickchart\" onclick=\"quickchart('df-6881c1d0-93d7-4628-b339-fce4a1eadcc8')\"\n",
              "                title=\"Suggest charts\"\n",
              "                style=\"display:none;\">\n",
              "\n",
              "<svg xmlns=\"http://www.w3.org/2000/svg\" height=\"24px\"viewBox=\"0 0 24 24\"\n",
              "     width=\"24px\">\n",
              "    <g>\n",
              "        <path d=\"M19 3H5c-1.1 0-2 .9-2 2v14c0 1.1.9 2 2 2h14c1.1 0 2-.9 2-2V5c0-1.1-.9-2-2-2zM9 17H7v-7h2v7zm4 0h-2V7h2v10zm4 0h-2v-4h2v4z\"/>\n",
              "    </g>\n",
              "</svg>\n",
              "      </button>\n",
              "\n",
              "<style>\n",
              "  .colab-df-quickchart {\n",
              "      --bg-color: #E8F0FE;\n",
              "      --fill-color: #1967D2;\n",
              "      --hover-bg-color: #E2EBFA;\n",
              "      --hover-fill-color: #174EA6;\n",
              "      --disabled-fill-color: #AAA;\n",
              "      --disabled-bg-color: #DDD;\n",
              "  }\n",
              "\n",
              "  [theme=dark] .colab-df-quickchart {\n",
              "      --bg-color: #3B4455;\n",
              "      --fill-color: #D2E3FC;\n",
              "      --hover-bg-color: #434B5C;\n",
              "      --hover-fill-color: #FFFFFF;\n",
              "      --disabled-bg-color: #3B4455;\n",
              "      --disabled-fill-color: #666;\n",
              "  }\n",
              "\n",
              "  .colab-df-quickchart {\n",
              "    background-color: var(--bg-color);\n",
              "    border: none;\n",
              "    border-radius: 50%;\n",
              "    cursor: pointer;\n",
              "    display: none;\n",
              "    fill: var(--fill-color);\n",
              "    height: 32px;\n",
              "    padding: 0;\n",
              "    width: 32px;\n",
              "  }\n",
              "\n",
              "  .colab-df-quickchart:hover {\n",
              "    background-color: var(--hover-bg-color);\n",
              "    box-shadow: 0 1px 2px rgba(60, 64, 67, 0.3), 0 1px 3px 1px rgba(60, 64, 67, 0.15);\n",
              "    fill: var(--button-hover-fill-color);\n",
              "  }\n",
              "\n",
              "  .colab-df-quickchart-complete:disabled,\n",
              "  .colab-df-quickchart-complete:disabled:hover {\n",
              "    background-color: var(--disabled-bg-color);\n",
              "    fill: var(--disabled-fill-color);\n",
              "    box-shadow: none;\n",
              "  }\n",
              "\n",
              "  .colab-df-spinner {\n",
              "    border: 2px solid var(--fill-color);\n",
              "    border-color: transparent;\n",
              "    border-bottom-color: var(--fill-color);\n",
              "    animation:\n",
              "      spin 1s steps(1) infinite;\n",
              "  }\n",
              "\n",
              "  @keyframes spin {\n",
              "    0% {\n",
              "      border-color: transparent;\n",
              "      border-bottom-color: var(--fill-color);\n",
              "      border-left-color: var(--fill-color);\n",
              "    }\n",
              "    20% {\n",
              "      border-color: transparent;\n",
              "      border-left-color: var(--fill-color);\n",
              "      border-top-color: var(--fill-color);\n",
              "    }\n",
              "    30% {\n",
              "      border-color: transparent;\n",
              "      border-left-color: var(--fill-color);\n",
              "      border-top-color: var(--fill-color);\n",
              "      border-right-color: var(--fill-color);\n",
              "    }\n",
              "    40% {\n",
              "      border-color: transparent;\n",
              "      border-right-color: var(--fill-color);\n",
              "      border-top-color: var(--fill-color);\n",
              "    }\n",
              "    60% {\n",
              "      border-color: transparent;\n",
              "      border-right-color: var(--fill-color);\n",
              "    }\n",
              "    80% {\n",
              "      border-color: transparent;\n",
              "      border-right-color: var(--fill-color);\n",
              "      border-bottom-color: var(--fill-color);\n",
              "    }\n",
              "    90% {\n",
              "      border-color: transparent;\n",
              "      border-bottom-color: var(--fill-color);\n",
              "    }\n",
              "  }\n",
              "</style>\n",
              "\n",
              "      <script>\n",
              "        async function quickchart(key) {\n",
              "          const quickchartButtonEl =\n",
              "            document.querySelector('#' + key + ' button');\n",
              "          quickchartButtonEl.disabled = true;  // To prevent multiple clicks.\n",
              "          quickchartButtonEl.classList.add('colab-df-spinner');\n",
              "          try {\n",
              "            const charts = await google.colab.kernel.invokeFunction(\n",
              "                'suggestCharts', [key], {});\n",
              "          } catch (error) {\n",
              "            console.error('Error during call to suggestCharts:', error);\n",
              "          }\n",
              "          quickchartButtonEl.classList.remove('colab-df-spinner');\n",
              "          quickchartButtonEl.classList.add('colab-df-quickchart-complete');\n",
              "        }\n",
              "        (() => {\n",
              "          let quickchartButtonEl =\n",
              "            document.querySelector('#df-6881c1d0-93d7-4628-b339-fce4a1eadcc8 button');\n",
              "          quickchartButtonEl.style.display =\n",
              "            google.colab.kernel.accessAllowed ? 'block' : 'none';\n",
              "        })();\n",
              "      </script>\n",
              "    </div>\n",
              "\n",
              "  <div id=\"id_7a06a0d6-1576-49ef-a151-fc1d8277cf3d\">\n",
              "    <style>\n",
              "      .colab-df-generate {\n",
              "        background-color: #E8F0FE;\n",
              "        border: none;\n",
              "        border-radius: 50%;\n",
              "        cursor: pointer;\n",
              "        display: none;\n",
              "        fill: #1967D2;\n",
              "        height: 32px;\n",
              "        padding: 0 0 0 0;\n",
              "        width: 32px;\n",
              "      }\n",
              "\n",
              "      .colab-df-generate:hover {\n",
              "        background-color: #E2EBFA;\n",
              "        box-shadow: 0px 1px 2px rgba(60, 64, 67, 0.3), 0px 1px 3px 1px rgba(60, 64, 67, 0.15);\n",
              "        fill: #174EA6;\n",
              "      }\n",
              "\n",
              "      [theme=dark] .colab-df-generate {\n",
              "        background-color: #3B4455;\n",
              "        fill: #D2E3FC;\n",
              "      }\n",
              "\n",
              "      [theme=dark] .colab-df-generate:hover {\n",
              "        background-color: #434B5C;\n",
              "        box-shadow: 0px 1px 3px 1px rgba(0, 0, 0, 0.15);\n",
              "        filter: drop-shadow(0px 1px 2px rgba(0, 0, 0, 0.3));\n",
              "        fill: #FFFFFF;\n",
              "      }\n",
              "    </style>\n",
              "    <button class=\"colab-df-generate\" onclick=\"generateWithVariable('trigram_data_frame')\"\n",
              "            title=\"Generate code using this dataframe.\"\n",
              "            style=\"display:none;\">\n",
              "\n",
              "  <svg xmlns=\"http://www.w3.org/2000/svg\" height=\"24px\"viewBox=\"0 0 24 24\"\n",
              "       width=\"24px\">\n",
              "    <path d=\"M7,19H8.4L18.45,9,17,7.55,7,17.6ZM5,21V16.75L18.45,3.32a2,2,0,0,1,2.83,0l1.4,1.43a1.91,1.91,0,0,1,.58,1.4,1.91,1.91,0,0,1-.58,1.4L9.25,21ZM18.45,9,17,7.55Zm-12,3A5.31,5.31,0,0,0,4.9,8.1,5.31,5.31,0,0,0,1,6.5,5.31,5.31,0,0,0,4.9,4.9,5.31,5.31,0,0,0,6.5,1,5.31,5.31,0,0,0,8.1,4.9,5.31,5.31,0,0,0,12,6.5,5.46,5.46,0,0,0,6.5,12Z\"/>\n",
              "  </svg>\n",
              "    </button>\n",
              "    <script>\n",
              "      (() => {\n",
              "      const buttonEl =\n",
              "        document.querySelector('#id_7a06a0d6-1576-49ef-a151-fc1d8277cf3d button.colab-df-generate');\n",
              "      buttonEl.style.display =\n",
              "        google.colab.kernel.accessAllowed ? 'block' : 'none';\n",
              "\n",
              "      buttonEl.onclick = () => {\n",
              "        google.colab.notebook.generateWithVariable('trigram_data_frame');\n",
              "      }\n",
              "      })();\n",
              "    </script>\n",
              "  </div>\n",
              "\n",
              "    </div>\n",
              "  </div>\n"
            ],
            "application/vnd.google.colaboratory.intrinsic+json": {
              "type": "dataframe",
              "variable_name": "trigram_data_frame"
            }
          },
          "metadata": {}
        },
        {
          "output_type": "stream",
          "name": "stdout",
          "text": [
            "Number of trigrams with a count of 0: 68,942,324 (99.98%)\n"
          ]
        }
      ],
      "execution_count": 13
    },
    {
      "cell_type": "markdown",
      "source": [
        "The table above contains even more entries since it contains one entry for each combination of bigram (the columns) and token (the rows) that appears in the dataset. In the case of Africa Galore, this results in $13,411\\times 5,142$ combinations. In this example, an even higher percentage of entries (99.98%) in the table are 0. Keep the concept of sparsity in mind as you use these counts to compute probabilities and use the probabilities to generate texts.\n",
        "\n"
      ],
      "metadata": {
        "id": "9t8JGL9Ql-rY"
      }
    },
    {
      "cell_type": "markdown",
      "source": [
        "## Calculate P(B | A)\n",
        "\n",
        "In the previous activities, you have laid all the groundwork for performing the last computation: computing the probability of a token $\\mbox{B}$ following a context $\\mbox{A}$.\n",
        "\n",
        "$$P(\\mbox{B} \\mid \\mbox{A}) = \\frac{\\mbox{Count}(\\mbox{A B})}{\\mbox{Count}(\\mbox{A})}$$\n",
        "\n",
        "Using the `get_ngram_counts` function above, you can compute both $\\mbox{Count}(\\mbox{A B})$ and $\\mbox{Count}(\\mbox{A})$. For example, if you wanted to estimate probabilities of a trigram model that uses a context of length 2, you could compute the counts in the numerator and the denominator for a `dataset` as:\n",
        "\n",
        "```python\n",
        "# Counts for the numerator.\n",
        "trigram_counts = get_ngram_counts(dataset, n=3)\n",
        "# Counts for the denominator.\n",
        "bigram_counts = get_ngram_counts(dataset, n=2)\n",
        "```\n",
        "\n",
        "However, there is a small trick that computes the bigram counts directly from the trigram counts without calling `get_ngram_counts` a second time.\n",
        "\n",
        "To observe how this works, consider the trigram counts for all trigrams that start with the bigram \"a staple.\" You can access these using the dictionary `trigram_counts` that is defined above:"
      ],
      "metadata": {
        "id": "eKGfzX-nosk1"
      }
    },
    {
      "metadata": {
        "id": "jy84xgPUlbmq",
        "colab": {
          "base_uri": "https://localhost:8080/"
        },
        "outputId": "e2157adb-349e-4e0e-e3c3-f4a261486d8e"
      },
      "cell_type": "code",
      "source": [
        "context = \"a staple\"\n",
        "trigram_counts[context]"
      ],
      "outputs": [
        {
          "output_type": "execute_result",
          "data": {
            "text/plain": [
              "Counter({'food': 1,\n",
              "         'in': 6,\n",
              "         'dish': 2,\n",
              "         'throughout': 1,\n",
              "         'of': 1,\n",
              "         'at': 1,\n",
              "         'beverage': 1})"
            ]
          },
          "metadata": {},
          "execution_count": 14
        }
      ],
      "execution_count": 14
    },
    {
      "metadata": {
        "id": "luMFOggul7w_"
      },
      "cell_type": "markdown",
      "source": [
        "The counter in the output of the previous cell shows you that the dataset contains the following trigrams starting with \"a staple\":\n",
        "\n",
        "* \"a staple food\" (1 time).\n",
        "* \"a staple in\" (6 times).\n",
        "* \"a staple dish\" (2 times).\n",
        "* \"a staple throughout\" (1 time).\n",
        "* \"a staple of\" (1 time).\n",
        "* \"a staple at\" (1 time).\n",
        "* \"a staple beverage\" (1 time).\n",
        "\n",
        "The trick to get the bigram count of \"a staple\" is to sum the number of trigrams that start with \"a staple.\" From the counter above, we can compute this total by summing $1+6+2+1+1+1+1 = 13$.\n",
        "\n",
        "The following cell shows you how to do this automatically using the `sum()` function and the `values()` method of a counter."
      ]
    },
    {
      "cell_type": "code",
      "source": [
        "context = \"a staple\"\n",
        "# Compute the bigram count for \"a staple\" with sum().\n",
        "bigram_count_a_staple = sum(trigram_counts[context].values())\n",
        "\n",
        "print(\n",
        "    'Bigram count of \"a staple\" computed indirectly from trigram counts: ',\n",
        "    bigram_count_a_staple,\n",
        ")\n",
        "\n",
        "# Extract the bigram count for \"a staple\" from bigram_counts.\n",
        "print('Bigram count of \"a staple\" computed directly: ',\n",
        "      bigram_counts[\"a\"][\"staple\"])"
      ],
      "metadata": {
        "id": "J3EUTnTBzIDk",
        "colab": {
          "base_uri": "https://localhost:8080/"
        },
        "outputId": "f3cb01eb-7222-484d-c8df-7644af95b087"
      },
      "execution_count": 15,
      "outputs": [
        {
          "output_type": "stream",
          "name": "stdout",
          "text": [
            "Bigram count of \"a staple\" computed indirectly from trigram counts:  13\n",
            "Bigram count of \"a staple\" computed directly:  13\n"
          ]
        }
      ]
    },
    {
      "cell_type": "markdown",
      "source": [
        "As the output of the cell above shows, both using the `sum()` function and computing the bigram counts indirectly results in the same number."
      ],
      "metadata": {
        "id": "IS9g71QpbeGV"
      }
    },
    {
      "cell_type": "markdown",
      "source": [
        "### Coding Activity 3: Computing the n-gram probabilities\n",
        "\n",
        "------\n",
        "> 💻 **Your task**:\n",
        ">\n",
        "> Complete the function `build_ngram_model(dataset, n)` below.\n",
        ">\n",
        "> This function should return a dictionary of dictionaries where the keys are contexts of length $n-1$ tokens and the values are a dictionary providing the probabilities of the next token given the context.\n",
        ">\n",
        ">For example, if the dataset consists of the two sentences \"Table Mountain is tall.\" and \"Table Mountain is beautiful.\" then the function called with `n = 3` should return:\n",
        ">```\n",
        ">{\n",
        ">   \"Table Mountain\": {\"is\": 1.0},\n",
        ">   \"Mountain is\": {\"tall\": 0.5, \"beautiful\": 0.5}   \n",
        ">}\n",
        ">```\n",
        "------"
      ],
      "metadata": {
        "id": "UFxUoB5Lb73l"
      }
    },
    {
      "metadata": {
        "id": "isbFiZ2EyyO4",
        "colab": {
          "base_uri": "https://localhost:8080/"
        },
        "outputId": "4f962063-0cd4-4dd7-acf3-66a969703bad"
      },
      "cell_type": "code",
      "source": [
        "def build_ngram_model(\n",
        "    dataset: list[str],\n",
        "    n: int\n",
        ") -> dict[str, dict[str, float]]:\n",
        "    \"\"\"Builds an n-gram language model.\n",
        "\n",
        "    This function takes a list of text strings (paragraphs or sentences) as\n",
        "    input, generates n-grams from each text using the function get_ngram_counts\n",
        "    and converts them into probabilities.  The resulting model is a dictionary,\n",
        "    where keys are (n-1)-token contexts and values are dictionaries mapping\n",
        "    possible next tokens to their conditional probabilities given the context.\n",
        "\n",
        "    Args:\n",
        "        dataset: A list of text strings representing the dataset.\n",
        "        n: The size of the n-grams (e.g., 2 for a bigram model).\n",
        "\n",
        "    Returns:\n",
        "        A dictionary representing the n-gram language model, where keys are\n",
        "        (n-1)-tokens contexts and values are dictionaries mapping possible next\n",
        "        tokens to their conditional probabilities.\n",
        "    \"\"\"\n",
        "\n",
        "    # A dictionary to store P(B | A).\n",
        "    # ngram_model[context][token] should store P(token | context).\n",
        "    ngram_model = {}\n",
        "\n",
        "    # Use the ngram_counts as computed by the get_ngram_counts function.\n",
        "    ngram_counts = get_ngram_counts(dataset, n)\n",
        "\n",
        "    # Loop through the possible contexts. `context` is a string\n",
        "    # and `next_tokens` is a dictionary mapping possible next tokens to their\n",
        "    # counts of following `context`.\n",
        "    for context, next_tokens in ngram_counts.items():\n",
        "\n",
        "        # Compute the total count for this context (Count(A))\n",
        "        total_count = sum(next_tokens.values())\n",
        "\n",
        "        # Initialize the dictionary for this context\n",
        "        ngram_model[context] = {}\n",
        "\n",
        "        # Compute P(B|A) for each possible next token\n",
        "        for token, count in next_tokens.items():\n",
        "            ngram_model[context][token] = count / total_count\n",
        "\n",
        "\n",
        "    return ngram_model\n",
        "\n",
        "# Test the method above by bulding a simple trigram model.\n",
        "test_dataset = [\"Table Mountain is tall.\", \"Table Mountain is beautiful.\"]\n",
        "test_trigram_model = build_ngram_model(test_dataset, n=3)\n",
        "test_trigram_model"
      ],
      "outputs": [
        {
          "output_type": "execute_result",
          "data": {
            "text/plain": [
              "{'Table Mountain': {'is': 1.0},\n",
              " 'Mountain is': {'tall.': 0.5, 'beautiful.': 0.5}}"
            ]
          },
          "metadata": {},
          "execution_count": 16
        }
      ],
      "execution_count": 16
    },
    {
      "cell_type": "code",
      "source": [
        "# @title Run this cell to test your implementation.\n",
        "ngrams.test_build_ngram_model(build_ngram_model, get_ngram_counts)"
      ],
      "metadata": {
        "id": "DMd_rTsod2LR",
        "colab": {
          "base_uri": "https://localhost:8080/"
        },
        "outputId": "a0da7c13-9a70-4c1d-925f-e134eb6f4262"
      },
      "execution_count": 17,
      "outputs": [
        {
          "output_type": "stream",
          "name": "stdout",
          "text": [
            "✅ Nice! Your implementation looks correct.\n"
          ]
        }
      ]
    },
    {
      "metadata": {
        "id": "wm0g-BMtbTgK"
      },
      "cell_type": "markdown",
      "source": [
        "After you have successfully implemented the method above, run the following cell to construct a trigram model that estimates the probabilities from the Africa Galore dataset."
      ]
    },
    {
      "cell_type": "code",
      "source": [
        "trigram_model = build_ngram_model(dataset, n=3)"
      ],
      "metadata": {
        "id": "2t7N3A3-kluq"
      },
      "execution_count": null,
      "outputs": []
    },
    {
      "cell_type": "markdown",
      "source": [
        "To gain an understanding of the patterns that the model learned, inspect a few probability distributions."
      ],
      "metadata": {
        "id": "kI4ci1Qnk0RV"
      }
    },
    {
      "cell_type": "code",
      "source": [
        "print(f\"P(B | \\\"as it\\\") = {trigram_model['as it']}\")\n",
        "\n",
        "print(f\"P(B | \\\"as they\\\") = {trigram_model['as they']}\")"
      ],
      "metadata": {
        "id": "o-rVO6UykzyV"
      },
      "execution_count": null,
      "outputs": []
    },
    {
      "metadata": {
        "id": "fdi1RxLaLvIi"
      },
      "cell_type": "markdown",
      "source": [
        "------\n",
        "> 💭 **Reflection:**\n",
        ">\n",
        "> Do the probabilities that you estimated from the dataset make sense? Do they capture any patterns or rules of English that you know of?\n",
        "------"
      ]
    },
    {
      "cell_type": "markdown",
      "source": [
        "As a final step in this part of the lab, look at the probability distribution for more contexts. Start with the context \"The name.\""
      ],
      "metadata": {
        "id": "nX-eaZzWpL52"
      }
    },
    {
      "metadata": {
        "id": "8RDyWq24roG2"
      },
      "cell_type": "code",
      "source": [
        "context = \"The name\"\n",
        "trigram_model[context]"
      ],
      "outputs": [],
      "execution_count": null
    },
    {
      "metadata": {
        "id": "Uli9Gqy9r2un"
      },
      "cell_type": "markdown",
      "source": [
        "Now run the same code with a slightly altered context of \"Their name.\""
      ]
    },
    {
      "metadata": {
        "id": "S6D9iLQNr628"
      },
      "cell_type": "code",
      "source": [
        "context = \"Their name\"\n",
        "trigram_model[context]"
      ],
      "outputs": [],
      "execution_count": null
    },
    {
      "metadata": {
        "id": "pAchRjq8r8Wb"
      },
      "cell_type": "markdown",
      "source": [
        "As you might observe, when you run the previous cell, this code results in an error. The reason for this is that the bigram \"Their name\" does not exist in the dataset. This means that it is not included in the trigram model that you built from the dataset and the dictionary that stores the probabilities does not contain an entry for this bigram, which is the cause of the `KeyError`.\n",
        "\n",
        "This highlights one limitation of the n-gram language model: for some contexts it cannot generate continuations. While there exist extensions to n-gram models that make them more robust, they are generally limited in their ability to generate continuations for arbitrary contexts.\n"
      ]
    },
    {
      "cell_type": "markdown",
      "source": [
        "## Coding Activity 4: Using n-gram probabilities to sample next token\n",
        "\n",
        "The purpose of counting n-grams and using them to estimate conditional probability distributions, as you did in the previous activities, was to be able to sample from the distributions to generate new texts. In this activity, you will now explore how you can sample the next token using an n-gram language model."
      ],
      "metadata": {
        "id": "DsYYr09woio1"
      }
    },
    {
      "metadata": {
        "id": "py8WlM2ARNhZ"
      },
      "cell_type": "markdown",
      "source": [
        "As a first step, consider again the code from the previous lab that used the `random.choices` function to sample a token from a list of candidate tokens, repeated in the next cell.\n",
        "\n",
        "Recall that previously, you manually defined the possible next tokens and probabilities. During this activity, you will use the estimated probabilities from the n-gram model to define the possible next tokens and the associated probabilities.\n"
      ]
    },
    {
      "metadata": {
        "id": "YrXfivl8SKyV"
      },
      "cell_type": "markdown",
      "source": [
        "Run the cell below multiple times to see different candidate words being picked:"
      ]
    },
    {
      "metadata": {
        "id": "qNHq3vS1Rj8m"
      },
      "cell_type": "code",
      "source": [
        "# Define a list of tokens.\n",
        "example_candidate_tokens = [\"apple\", \"banana\", \"cherry\"]\n",
        "\n",
        "# Define corresponding probabilities for each fruit.\n",
        "probabilities = [0.2, 0.5, 0.3]\n",
        "\n",
        "# Sample one fruit based on the probabilities.\n",
        "# The 'k=1' parameter instructs the function to return one item.\n",
        "chosen_fruit = random.choices(\n",
        "    example_candidate_tokens,\n",
        "    weights=probabilities,\n",
        "    k=1)[0]\n",
        "\n",
        "print(\"Chosen fruit:\", chosen_fruit)"
      ],
      "outputs": [],
      "execution_count": null
    },
    {
      "metadata": {
        "id": "CzOxiLBJI_Hv"
      },
      "cell_type": "markdown",
      "source": [
        "------\n",
        "> 💻 **Your task:**\n",
        ">\n",
        "> Complete the following cell and use the probabilities in `trigram_model` to\n",
        "> 1. Generate a list of candidate tokens for the context \"looking for.\"\n",
        "> 2. Extract the corresponding probabilities for each candidate token.\n",
        ">\n",
        "> Run the following cell multiple times to observe what tokens are being sampled.\n",
        "------\n"
      ]
    },
    {
      "metadata": {
        "id": "zBgdyD0XVa3A"
      },
      "cell_type": "code",
      "source": [
        "context = \"looking for\"\n",
        "candidate_tokens = []\n",
        "candidate_tokens_probabilities = []\n",
        "\n",
        "# Extract candidate tokens and associated probabilities from `trigram_model`.\n",
        "# Add your code here.\n",
        "\n",
        "\n",
        "print(f\"Candidate tokens: {candidate_tokens}\")\n",
        "print(f\"Candidate token probabilities: {candidate_tokens_probabilities}\")\n",
        "\n",
        "# Sample from the list of candidate tokens according to the\n",
        "# associated probabilities.\n",
        "next_token = random.choices(candidate_tokens,\n",
        "                            weights=candidate_tokens_probabilities)[0]\n",
        "\n",
        "print(\"\\n\\nSampled next token:\")\n",
        "print(context, next_token)"
      ],
      "outputs": [],
      "execution_count": null
    },
    {
      "metadata": {
        "id": "ovcAe7nmsDBX",
        "cellView": "form"
      },
      "cell_type": "code",
      "source": [
        "# @title Run this to test your code, or get a hint.\n",
        "ngrams.test_candidate_tokens(\n",
        "    trigram_model, candidate_tokens, candidate_tokens_probabilities\n",
        ")\n"
      ],
      "outputs": [],
      "execution_count": null
    },
    {
      "metadata": {
        "id": "oCoGHege65Z1"
      },
      "cell_type": "markdown",
      "source": [
        "## Generating texts\n",
        "\n",
        "You will now investigate the behavior of a function that can generate new texts for a given prompt using the probabilities of an n-gram model.\n",
        "\n",
        "Text generation using an n-gram model is an iterative process where each newly generated token is added to the existing context. This forms the basis for predicting the next token.\n",
        "\n",
        "Starting with an initial prompt text, the model uses the probability distribution derived from the n-gram counts to select the most likely next token. This again makes use of the `random.choices` function for picking the next token. Once this token has been generated, it is added to the context and the updated sequence is used to calculate the next probability distribution. This chain-like process continues until `num_tokens_to_generate` tokens have been generated.\n",
        "\n",
        "The following `generate_next_n_tokens` function implements this iterative generation process:"
      ]
    },
    {
      "metadata": {
        "id": "uenGa3b4iHBo"
      },
      "cell_type": "code",
      "source": [
        "def generate_next_n_tokens(\n",
        "    n: int,\n",
        "    ngram_model: dict[str, dict[str, float]],\n",
        "    prompt: str,\n",
        "    num_tokens_to_generate: int,\n",
        ") -> str:\n",
        "    \"\"\"Generates `num_tokens_to_generate` tokens following a given prompt using\n",
        "    an n-gram language model.\n",
        "\n",
        "    This function takes an n-gram model and uses it to predict the most\n",
        "    likely next token for the given prompt. The generation process\n",
        "    continues iteratively, appending predicted tokens to the prompt until the\n",
        "    desired number of tokens is generated or a context is\n",
        "    encountered for which the model has no predictions.\n",
        "\n",
        "    Args:\n",
        "        n: The size of the n-grams to use (e.g., 2 for a bigram model).\n",
        "        ngram_model: A dictionary representing the n-gram language model.\n",
        "        prompt: The starting text prompt for generating the next tokens.\n",
        "        num_tokens_to_generate: The number of words to generate following\n",
        "            the prompt.\n",
        "\n",
        "    Returns:\n",
        "        A string containing the original prompt followed by the generated\n",
        "        tokens. If no valid continuation is found for a given context, the\n",
        "        function will return the text generated up to that point and print a\n",
        "        message indicating that no continuation could be found.\n",
        "    \"\"\"\n",
        "\n",
        "    # Split prompt into individual tokens.\n",
        "    generated_words = space_tokenize(prompt)\n",
        "\n",
        "    for _ in range(num_tokens_to_generate):\n",
        "        # Get last (n-1) tokens as context.\n",
        "        context = generated_words[-(n - 1):]\n",
        "        context = \" \".join(context)\n",
        "        if context in ngram_model:\n",
        "            # Sample next word based on probabilities.\n",
        "            next_word = random.choices(\n",
        "                list(ngram_model[context].keys()),\n",
        "                weights=ngram_model[context].values()\n",
        "            )[0]\n",
        "\n",
        "            generated_words.append(next_word)\n",
        "        else:\n",
        "            print(\n",
        "                \"⚠️ No valid continuation found. Change the prompt or\"\n",
        "                \" try sampling another continuation.\\n\"\n",
        "            )\n",
        "            break\n",
        "\n",
        "    return \" \".join(generated_words)"
      ],
      "outputs": [],
      "execution_count": null
    },
    {
      "metadata": {
        "id": "SGJwKbsnIOXy"
      },
      "cell_type": "markdown",
      "source": [
        "### Generating texts with a bigram model\n",
        "\n",
        "First, run the following cell multiple times to generate new continuations using a bigram model whose probabilities were estimated from the Africa Galore dataset.\n"
      ]
    },
    {
      "metadata": {
        "id": "xndDil588L39"
      },
      "cell_type": "code",
      "source": [
        "prompt = \"Jide was hungry so she went looking for\"\n",
        "\n",
        "# Construct a bigram model using the Africa Galore dataset.\n",
        "bigram_model = build_ngram_model(dataset, n=2)\n",
        "\n",
        "n = 2  # Bigram.\n",
        "num_tokens_to_generate = 10  # Generate next n words.\n",
        "generate_next_n_tokens(\n",
        "    n=n,\n",
        "    ngram_model=bigram_model,\n",
        "    prompt=prompt,\n",
        "    num_tokens_to_generate=num_tokens_to_generate,\n",
        ")"
      ],
      "outputs": [],
      "execution_count": null
    },
    {
      "metadata": {
        "id": "AMZCFKMaISrV"
      },
      "cell_type": "markdown",
      "source": [
        "### Generating texts with a trigram model\n",
        "\n",
        "Next, run the following cell multiple times to generate new continuations using the trigram model that you built in the previous activities.\n"
      ]
    },
    {
      "metadata": {
        "id": "0Pq0FW_2IULl"
      },
      "cell_type": "code",
      "source": [
        "prompt = \"Jide was hungry so she went looking for\"\n",
        "\n",
        "n = 3  # Trigram.\n",
        "num_tokens_to_generate = 10  # Generate next n words.\n",
        "generate_next_n_tokens(\n",
        "    n=n,\n",
        "    ngram_model=trigram_model,\n",
        "    prompt=prompt,\n",
        "    num_tokens_to_generate=num_tokens_to_generate,\n",
        ")"
      ],
      "outputs": [],
      "execution_count": null
    },
    {
      "metadata": {
        "id": "Oz0MoqxB96S_"
      },
      "cell_type": "markdown",
      "source": [
        "The different results when running the cell multiple times are because the n-gram model is a stochastic model that samples the next token from a probability distribution. More probable next words have a high probability of getting picked but are not guaranteed to be picked.\n",
        "\n",
        "------\n",
        "> 💭 **Reflection: Comparing the generations of bigram and trigram models**\n",
        ">\n",
        "> As you generate multiple continuations using both a bigram model and a trigram model, take note which continuations make more sense and tend to be grammatically correct. On average, does the bigram model or the trigram model produce more sensible continuations? Which model fails to produce a valid continuation more often?\n",
        "------\n"
      ]
    },
    {
      "metadata": {
        "id": "e5B0zuHWkGZr"
      },
      "cell_type": "markdown",
      "source": [
        "## What happens when you increase the $n$ in n-grams?\n",
        "\n",
        "While it intuitively seems that a larger context (greater $n$) would lead to better quality output by capturing more long-range dependencies in language,  it quickly runs into the problem of data sparsity since most n-grams will never be observed in the dataset.\n",
        "\n",
        "When moving from bigrams (pairs of tokens) to trigrams (triplets of tokens), the number of possible combinations increases exponentially, and many of these triplets rarely, if ever, appear in the dataset. This means that while bigram models can cover a significant portion of common token pairs, the majority of potential token sequences in trigram and higher-order models are underrepresented. This makes it more challenging for the model to reliably predict the next token.\n",
        "\n",
        "Consider a simple vocabulary of five tokens: \"I\", \"love\", \"to\", \"eat\", and \"jollof\". For bigrams, there are at most\n",
        "$$5 \\times 5 = 25 $$\n",
        "possible combinations. In reality, however, your data might only include common pairs like \"I love\", \"love to\", \"to eat\", and \"eat jollof\". Now, when you move to trigrams (triplets of tokens), there are $$ 5 \\times 5 \\times 5 = 125$$ possible combinations. However, only a few of these, such as \"I love to\", \"love to eat\", and \"to eat jollof\", will actually appear in the data.\n",
        "\n",
        "Even with massive datasets, many of the higher-order n-grams will never appear in the corpus. This results in many zero counts for the probabilities. As the n-gram order increases, the number of potential combinations grows exponentially. This often leads to many combinations being rare or absent in the data, which makes reliable estimation of probabilities more difficult.\n"
      ]
    },
    {
      "metadata": {
        "id": "RqOIH4XKt5ny"
      },
      "cell_type": "markdown",
      "source": [
        "## Summary\n",
        "\n",
        "This is the end of the **Experiment with N-Gram Models** lab.\n",
        "\n",
        "This lab provided a practical exploration of n-gram language models. Here are some key takeaways:\n",
        "\n",
        "**1. Functionality:**\n",
        "\n",
        "- You saw how n-gram models can be used to predict the next token in a sequence based on the preceding tokens (context).\n",
        "- N-gram models are relatively simple to implement by estimating conditional probabilities from n-gram counts in a dataset. These probabilities can then be used to repeatedly sample the next token and generate new continuations.\n",
        "\n",
        "**2. Data sparsity:**\n",
        "\n",
        "- Data sparsity is a major challenge for n-gram models, especially with higher-order n-grams (trigrams or larger).\n",
        "- This sparsity arises because many possible token combinations are rare or absent in real-world text data.\n",
        "- You observed this in the dataset. The dimensions of the trigram matrix are significantly larger than those of the bigram matrix, resulting in more zero values.\n",
        "\n",
        "**3. Randomness and text generation:**\n",
        "\n",
        "- While the model assigns probabilities to different next tokens, the actual choice is stochastic (random), resulting in different outputs for multiple runs.\n",
        "- While higher probabilities increase the chances of a token being picked, less frequent tokens can also be generated.\n",
        "\n",
        "**4. Considerations for text generation:**\n",
        "\n",
        "- The size of *n* can affect the quality of the generated text. Larger *n* might capture longer-range dependencies but can lead to data sparsity and repetitive outputs.\n",
        "- The model is unable to generate text following an n-gram that is not present in the dataset.\n",
        "\n",
        "In the next activity, you will reflect on some of the limitations of n-gram models and go on to compare them with more advanced models."
      ]
    },
    {
      "cell_type": "markdown",
      "source": [
        "## Solutions\n",
        "\n",
        "The following cells provide reference solutions to the coding activities above. If you really get stuck after trying to solve the activities yourself, you may want to consult these solutions.\n",
        "\n",
        "However, we recommend that you *only* look at the solutions after you have tried to solve the activities above *multiple times*. The best way to learn challenging concepts in computer science and artificial intelligence is to debug your code piece-by-piece until it works rather than copying existing solutions.\n",
        "\n",
        "If you feel stuck, you may want to first try to debug your code, for example, by adding additional print statements to see what your code is doing at every step. This will provide you with a much deeper understanding of the code and the materials. It will also provide you with practice on how to solve challenging coding problems beyond this course.\n",
        "\n",
        "To view the solutions for an activity, click on the arrow to the left of the activity name. If you consult the solutions, do not copy and paste them into the cells above. Instead, look at them and then type them manually into the cell. This will help you understand where you went wrong."
      ],
      "metadata": {
        "id": "TbCry1ll6L9g"
      }
    },
    {
      "cell_type": "markdown",
      "source": [
        "### Coding Activity 1"
      ],
      "metadata": {
        "id": "4NJgcGxO6UDE"
      }
    },
    {
      "metadata": {
        "id": "UD38Eu8K7sXg"
      },
      "cell_type": "code",
      "source": [
        "# This is a complete implementation of `generate_ngrams`.\n",
        "def generate_ngrams(text: str, n: int) -> list[tuple[str]]:\n",
        "    \"\"\"Generates n-grams from a given text.\n",
        "\n",
        "    Args:\n",
        "        text: The input text string.\n",
        "        n: The size of the n-grams (e.g., 2 for bigrams, 3 for trigrams).\n",
        "\n",
        "    Returns:\n",
        "        A list of n-grams, each represented as a list of tokens.\n",
        "    \"\"\"\n",
        "\n",
        "    # Tokenize text.\n",
        "    tokens = space_tokenize(text)\n",
        "\n",
        "    # Construct the list of n-grams.\n",
        "    ngrams = []\n",
        "\n",
        "    num_of_tokens = len(tokens)\n",
        "\n",
        "    # The last n-gram will be tokens[num_of_tokens - n + 1: num_of_tokens + 1].\n",
        "    for i in range(0, num_of_tokens - n + 1):\n",
        "        ngrams.append(tuple(tokens[i:i+n]))\n",
        "\n",
        "    return ngrams"
      ],
      "outputs": [],
      "execution_count": null
    },
    {
      "cell_type": "markdown",
      "source": [
        "### Coding Activity 2"
      ],
      "metadata": {
        "id": "AYxczrMh8weO"
      }
    },
    {
      "metadata": {
        "id": "bsdbWiyvAqso"
      },
      "cell_type": "code",
      "source": [
        "# This is a complete implementation of get_ngram_counts.\n",
        "def get_ngram_counts(dataset: list[str], n: int) -> dict[str, Counter]:\n",
        "    \"\"\"Computes the n-gram counts from a dataset.\n",
        "\n",
        "    This function takes a list of text strings (paragraphs or sentences) as\n",
        "    input, constructs n-grams from each text, and creates a dictionary where:\n",
        "\n",
        "    * Keys represent n-1 token long contexts `context`.\n",
        "    * Values are a Counter object `counts` such that `counts[next_token]` is the\n",
        "    * count of `next_token` following `context`.\n",
        "\n",
        "    Args:\n",
        "        dataset: The list of text strings in the dataset.\n",
        "        n: The size of the n-grams to generate (e.g., 2 for bigrams, 3 for\n",
        "            trigrams).\n",
        "\n",
        "    Returns:\n",
        "        A dictionary where keys are (n-1)-token contexts and values are Counter\n",
        "        objects storing the counts of each next token for that context.\n",
        "\n",
        "    \"\"\"\n",
        "\n",
        "    # Define the dictionary as a defaultdict that is automatically initialized\n",
        "    # with an empty Counter object. This allows you to access and set the value\n",
        "    # of ngram_counts[context][next_token] without initializing\n",
        "    # ngram_counts[context] or ngram_counts[context][next_token] first.\n",
        "    # See\n",
        "    # https://docs.python.org/3/library/collections.html#collections.Counter and\n",
        "    # https://docs.python.org/3/library/collections.html#collections.defaultdict\n",
        "    # for more information on how to use defaultdict and Counter types.\n",
        "    ngram_counts = defaultdict(Counter)\n",
        "\n",
        "    # Loop through all paragraphs.\n",
        "    for paragraph in dataset:\n",
        "        # Loop through all n-grams for the paragraph.\n",
        "        for ngram in generate_ngrams(paragraph, n):\n",
        "            # Extract the context. This will be all but the last token.\n",
        "            context = \" \".join(ngram[:-1])\n",
        "            # Extract the next token. This will be the last token of the n-gram.\n",
        "            next_token = ngram[-1]\n",
        "            # Increment the counter for the context - next_token pair by 1.\n",
        "            ngram_counts[context][next_token] += 1\n",
        "\n",
        "    return dict(ngram_counts)"
      ],
      "outputs": [],
      "execution_count": null
    },
    {
      "cell_type": "markdown",
      "source": [
        "### Coding Activity 3\n"
      ],
      "metadata": {
        "id": "cIYct9V3l2G3"
      }
    },
    {
      "cell_type": "code",
      "source": [
        "# Complete implemenation of build_ngram_model.\n",
        "def build_ngram_model(dataset: list[str], n: int) -> dict[str, dict[str, float]]:\n",
        "    \"\"\"Builds an n-gram language model.\n",
        "\n",
        "    This function takes a list of text strings (paragraphs or sentences) as\n",
        "    input, generates n-grams from each text using the function get_ngram_counts\n",
        "    and converts them into probabilities.  The resulting model is a dictionary,\n",
        "    where keys are (n-1)-token contexts and values are dictionaries mapping\n",
        "    possible next tokens to their conditional probabilities given the context.\n",
        "\n",
        "    Args:\n",
        "        dataset: A list of text strings representing the dataset.\n",
        "        n: The size of the n-grams (e.g., 2 for a bigram model).\n",
        "\n",
        "    Returns:\n",
        "        A dictionary representing the n-gram language model, where keys are\n",
        "        (n-1)-tokens contexts and values are dictionaries mapping possible next\n",
        "        tokens to their conditional probabilities.\n",
        "    \"\"\"\n",
        "    # A dictionary to store P(B | A).\n",
        "    # ngram_model[context][token] should store P(token | context).\n",
        "    ngram_model = {}\n",
        "\n",
        "    # Use the ngram_counts as computed by the get_ngram_counts function.\n",
        "    ngram_counts = get_ngram_counts(dataset, n)\n",
        "\n",
        "\n",
        "    # Loop through the possible contexts. `context` is a string\n",
        "    # and `next_tokens` is a dictionary mapping possible next tokens to their\n",
        "    # counts of following `context`.\n",
        "    for context, next_tokens in ngram_counts.items():\n",
        "\n",
        "        # Compute Count(A) and P(B | A ) here.\n",
        "        context_total_count = sum(next_tokens.values())\n",
        "        ngram_model[context] = {}\n",
        "        for token, count in next_tokens.items():\n",
        "            ngram_model[context][token] = count / context_total_count\n",
        "\n",
        "    return ngram_model"
      ],
      "metadata": {
        "id": "v9jWTcgSl0vY"
      },
      "execution_count": null,
      "outputs": []
    },
    {
      "cell_type": "markdown",
      "source": [
        "### Coding Activity 4"
      ],
      "metadata": {
        "id": "Doe3GMRMmquD"
      }
    },
    {
      "cell_type": "code",
      "source": [
        "# Include this code for extracting the candidate tokens and\n",
        "# candidate tokens probabilities.\n",
        "\n",
        "# Extract candidate tokens and associated probabilities from `trigram_model`.\n",
        "for token, prob in trigram_model[context].items():\n",
        "    candidate_tokens.append(token)\n",
        "    candidate_tokens_probabilities.append(prob)\n"
      ],
      "metadata": {
        "id": "3SpVItCZmqI2"
      },
      "execution_count": null,
      "outputs": []
    },
    {
      "cell_type": "markdown",
      "source": [
        "## References\n",
        "\n",
        "[1] Ronen Eldan and Yuanzhi Li. 2023. Tiny Stories: How Small Can Language Models Be and Still Speak Coherent English. arXiv:2305.07759. Retrieved from [https://arxiv.org/pdf/2305.07759](https://arxiv.org/pdf/2305.07759).\n"
      ],
      "metadata": {
        "id": "FwwgTmVkFvte"
      }
    }
  ],
  "metadata": {
    "colab": {
      "provenance": [],
      "collapsed_sections": [
        "NDWsJUGcf4Ru",
        "TbCry1ll6L9g",
        "4NJgcGxO6UDE",
        "AYxczrMh8weO",
        "cIYct9V3l2G3",
        "Doe3GMRMmquD"
      ],
      "include_colab_link": true
    },
    "kernelspec": {
      "name": "python3",
      "display_name": "Python 3"
    },
    "language_info": {
      "name": "python"
    }
  },
  "nbformat": 4,
  "nbformat_minor": 0
}