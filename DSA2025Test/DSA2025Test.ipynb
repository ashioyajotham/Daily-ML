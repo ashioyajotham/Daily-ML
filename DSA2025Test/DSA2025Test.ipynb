{
 "cells": [
  {
   "cell_type": "code",
   "execution_count": null,
   "metadata": {
    "deletable": false,
    "editable": false
   },
   "outputs": [],
   "source": [
    "# Initialize Otter\n",
    "import otter\n",
    "grader = otter.Notebook(\"DSA2025Test.ipynb\")"
   ]
  },
  {
   "cell_type": "markdown",
   "metadata": {},
   "source": [
    "# DSA 2025 Summer School Admittance Check\n",
    "\n",
    "Thanks for your interest in attending DSA 2025 Ibadan, Nigeria. To attend the summer school you have to have some level of basic Python proficiency. Completing the following notebook should ensure you have the right kind of background to benefit maximally from the Summer School. See you in Ibadan!\n",
    "\n",
    "## Instructions\n",
    "1. Complete each function according to the provided specifications\n",
    "2. Run all cells to verify your solutions\n",
    "3. All tests must pass to generate a submission\n",
    "4. Save your work before submitting"
   ]
  },
  {
   "cell_type": "code",
   "execution_count": null,
   "metadata": {},
   "outputs": [],
   "source": [
    "# Run these once ... To be on a safe side\n",
    "!pip install nose\n",
    "!pip install otter-grader\n",
    "import IPython\n",
    "from IPython import get_ipython\n",
    "# Import the good stuff\n",
    "import pandas as pd\n",
    "import numpy as np\n",
    "import math\n",
    "from nose.tools import assert_equal\n",
    "import otter\n",
    "from collections import Counter\n",
    "\n",
    "grader = otter.Notebook()"
   ]
  },
  {
   "cell_type": "markdown",
   "metadata": {
    "deletable": false,
    "editable": false
   },
   "source": [
    "<!-- BEGIN QUESTION -->\n",
    "\n",
    "**Question 1:** \n",
    "Write a Python function to return a tuple of even and odd numbers \n",
    "\n",
    "1.   List item\n",
    "2.   List item\n",
    "\n",
    "given an integer input.</br>\n",
    "Example: For input 10, the output should be ([2, 4, 6, 8, 10], [1, 3, 5, 7, 9])."
   ]
  },
  {
   "cell_type": "code",
   "execution_count": null,
   "metadata": {
    "tags": []
   },
   "outputs": [],
   "source": [
    "def even_odd_numbers(n):\n",
    "    \"\"\"\n",
    "    Returns a tuple of even and odd numbers up to n.\n",
    "\n",
    "    Args:\n",
    "        n (int): The upper limit.\n",
    "\n",
    "    Returns:\n",
    "        tuple: A tuple of two lists: (evens, odds).\n",
    "    \"\"\""
   ]
  },
  {
   "cell_type": "code",
   "execution_count": null,
   "metadata": {
    "deletable": false,
    "editable": false
   },
   "outputs": [],
   "source": [
    "grader.check(\"q1\")"
   ]
  },
  {
   "cell_type": "markdown",
   "metadata": {
    "deletable": false,
    "editable": false
   },
   "source": [
    "<!-- END QUESTION -->\n",
    "\n",
    "<!-- BEGIN QUESTION -->\n",
    "\n",
    "**Question 2: Create a dictionary to store the frequency of each word in the paragraph provided.**</br>\n",
    "Example: For the paragraph \"Data science is fun. Data science is useful.\", the output should be {'Data': 2, 'science': 2, 'is': 2, 'fun': 1, 'useful': 1}."
   ]
  },
  {
   "cell_type": "code",
   "execution_count": null,
   "metadata": {
    "tags": []
   },
   "outputs": [],
   "source": [
    "def word_frequency(paragraph):\n",
    "    \"\"\"\n",
    "    Returns a dictionary of word frequencies in a paragraph.\n",
    "\n",
    "    Args:\n",
    "        paragraph (str): The input paragraph.\n",
    "\n",
    "    Returns:\n",
    "        dict: A dictionary with words as keys and their frequencies as values.\n",
    "    \"\"\""
   ]
  },
  {
   "cell_type": "code",
   "execution_count": null,
   "metadata": {
    "deletable": false,
    "editable": false
   },
   "outputs": [],
   "source": [
    "grader.check(\"q2\")"
   ]
  },
  {
   "cell_type": "markdown",
   "metadata": {
    "deletable": false,
    "editable": false
   },
   "source": [
    "<!-- END QUESTION -->\n",
    "\n",
    "<!-- BEGIN QUESTION -->\n",
    "\n",
    "**Question 3: Extract the values from the dictionary above into a list and sort them in descending order.**</br>\n",
    "Example: For the dictionary {'a': 3, 'b': 1, 'c': 2}, the output should be [3, 2, 1]"
   ]
  },
  {
   "cell_type": "code",
   "execution_count": null,
   "metadata": {
    "tags": []
   },
   "outputs": [],
   "source": [
    "def extract_and_sort_values(dictionary):\n",
    "    \"\"\"\n",
    "    Extracts and sorts dictionary values in descending order.\n",
    "\n",
    "    Args:\n",
    "        dictionary (dict): The input dictionary.\n",
    "\n",
    "    Returns:\n",
    "        list: A list of sorted values in descending order.\n",
    "    \"\"\"\n"
   ]
  },
  {
   "cell_type": "code",
   "execution_count": null,
   "metadata": {
    "deletable": false,
    "editable": false
   },
   "outputs": [],
   "source": [
    "grader.check(\"q3\")"
   ]
  },
  {
   "cell_type": "markdown",
   "metadata": {
    "deletable": false,
    "editable": false
   },
   "source": [
    "<!-- END QUESTION -->\n",
    "\n",
    "<!-- BEGIN QUESTION -->\n",
    "\n",
    "**Question 4: Merge the two lists (from Questions 3 and 4) into a dictionary where the keys are the sorted keys and the values are the sorted values.**</br>\n",
    "Example: For lists ['a', 'b', 'c'] and [3, 2, 1], the output should be {'a': 3, 'b': 2, 'c': 1}"
   ]
  },
  {
   "cell_type": "code",
   "execution_count": null,
   "metadata": {
    "tags": []
   },
   "outputs": [],
   "source": [
    "def merge_lists_to_dict(keys, values):\n",
    "    \"\"\"\n",
    "    Merges two lists into a dictionary.\n",
    "\n",
    "    Args:\n",
    "        keys (list): List of keys.\n",
    "        values (list): List of values.\n",
    "\n",
    "    Returns:\n",
    "        dict: A dictionary with keys and values paired.\n",
    "    \"\"\"\n"
   ]
  },
  {
   "cell_type": "code",
   "execution_count": null,
   "metadata": {
    "deletable": false,
    "editable": false
   },
   "outputs": [],
   "source": [
    "grader.check(\"q4\")"
   ]
  },
  {
   "cell_type": "markdown",
   "metadata": {
    "deletable": false,
    "editable": false
   },
   "source": [
    "<!-- END QUESTION -->\n",
    "\n",
    "<!-- BEGIN QUESTION -->\n",
    "\n",
    "**Question 5:Write a function least_common_multiple that takes two inputs a and b and returns the least common multiple of the two numbers.**</br>\n",
    "Example: For input (4, 6), the output should be 12"
   ]
  },
  {
   "cell_type": "code",
   "execution_count": null,
   "metadata": {
    "tags": []
   },
   "outputs": [],
   "source": [
    "def least_common_multiple(a, b):\n",
    "    \"\"\"\n",
    "    Returns the least common multiple of two numbers.\n",
    "\n",
    "    Args:\n",
    "        a (int): First number.\n",
    "        b (int): Second number.\n",
    "\n",
    "    Returns:\n",
    "        int: The LCM of a and b.\n",
    "    \"\"\"\n"
   ]
  },
  {
   "cell_type": "code",
   "execution_count": null,
   "metadata": {
    "deletable": false,
    "editable": false
   },
   "outputs": [],
   "source": [
    "grader.check(\"q5\")"
   ]
  },
  {
   "cell_type": "markdown",
   "metadata": {
    "deletable": false,
    "editable": false
   },
   "source": [
    "<!-- END QUESTION -->\n",
    "\n",
    "<!-- BEGIN QUESTION -->\n",
    "\n",
    "**Question 6:Write a function get_nearest_farthest that takes in a point of interest (x, y) and a list of points [(x1, y1), (x2, y2), ...] and returns the indices of the nearest and farthest points from the point of interest.** </br>\n",
    "Example: For pt = (0, 0) and points = [(1, 1), (3, 3), (-1, -1)], the output should be (0, 1)"
   ]
  },
  {
   "cell_type": "code",
   "execution_count": null,
   "metadata": {
    "tags": []
   },
   "outputs": [],
   "source": [
    "def get_nearest_farthest(pt, points):\n",
    "    \n",
    "    \"\"\"\n",
    "    Returns the indices of the nearest and farthest points from a point of interest.\n",
    "\n",
    "    Args:\n",
    "        pt (tuple): The point of interest (x, y).\n",
    "        points (list): List of points [(x1, y1), (x2, y2), ...].\n",
    "\n",
    "    Returns:\n",
    "        tuple: Indices of the nearest and farthest points.\n",
    "    \"\"\""
   ]
  },
  {
   "cell_type": "code",
   "execution_count": null,
   "metadata": {
    "deletable": false,
    "editable": false
   },
   "outputs": [],
   "source": [
    "grader.check(\"q6\")"
   ]
  },
  {
   "cell_type": "markdown",
   "metadata": {
    "deletable": false,
    "editable": false
   },
   "source": [
    "<!-- END QUESTION -->\n",
    "\n",
    "<!-- BEGIN QUESTION -->\n",
    "\n",
    "**Question 7:Write a function filter_divisible to return a list of numbers between 0 and a number N that are not perfectly divisible by q.** </br>\n",
    "\n",
    "> Hint: If N is negative, use N = 20. \n",
    "\n",
    "Example: For N = 10 and q = 2, the output should be [1, 3, 5, 7, 9]"
   ]
  },
  {
   "cell_type": "code",
   "execution_count": null,
   "metadata": {
    "tags": []
   },
   "outputs": [],
   "source": [
    "def filter_divisible(N, q):\n",
    "    \"\"\"\n",
    "    Returns a list of numbers between 0 and N that are not divisible by q.\n",
    "\n",
    "    Args:\n",
    "        N (int): The upper limit.\n",
    "        q (int): The divisor.\n",
    "\n",
    "    Returns:\n",
    "        list: A list of non-divisible numbers.\n",
    "    \"\"\""
   ]
  },
  {
   "cell_type": "code",
   "execution_count": null,
   "metadata": {
    "deletable": false,
    "editable": false
   },
   "outputs": [],
   "source": [
    "grader.check(\"q7\")"
   ]
  },
  {
   "cell_type": "markdown",
   "metadata": {
    "deletable": false,
    "editable": false
   },
   "source": [
    "<!-- END QUESTION -->\n",
    "\n",
    "<!-- BEGIN QUESTION -->\n",
    "\n",
    "**Question 8: Write a function flatten_and_unique that takes in a list of lists and outputs a sorted list of unique elements from all sublists.**"
   ]
  },
  {
   "cell_type": "code",
   "execution_count": null,
   "metadata": {
    "tags": []
   },
   "outputs": [],
   "source": [
    "def flatten_and_unique(list_of_lists):\n",
    "    \"\"\"\n",
    "    Flattens a list of lists and returns a sorted list of unique elements.\n",
    "\n",
    "    Args:\n",
    "        list_of_lists (list): A list of lists.\n",
    "\n",
    "    Returns:\n",
    "        list: A sorted list of unique elements.\n",
    "    \"\"\"\n"
   ]
  },
  {
   "cell_type": "code",
   "execution_count": null,
   "metadata": {
    "deletable": false,
    "editable": false
   },
   "outputs": [],
   "source": [
    "grader.check(\"q8\")"
   ]
  },
  {
   "cell_type": "markdown",
   "metadata": {
    "deletable": false,
    "editable": false
   },
   "source": [
    "<!-- END QUESTION -->\n",
    "\n",
    "**The Extra Mile!**\n"
   ]
  },
  {
   "cell_type": "markdown",
   "metadata": {},
   "source": [
    "Download the dataset Nigeria Food Prices (9.9M) \n",
    "\n",
    "> https://data.humdata.org/dataset/wfp-food-prices-for-nigeria\n",
    "\n",
    "\n",
    "\n"
   ]
  },
  {
   "cell_type": "markdown",
   "metadata": {
    "deletable": false,
    "editable": false
   },
   "source": [
    "<!-- BEGIN QUESTION -->\n",
    "\n",
    "**Question 9: Create a new column date_new from the date column, converting it to a datetime format.**"
   ]
  },
  {
   "cell_type": "code",
   "execution_count": null,
   "metadata": {
    "tags": []
   },
   "outputs": [],
   "source": [
    "import pandas as pd\n",
    "\n",
    "# Load the dataset\n",
    "file_path = 'nigeria_food_prices.csv'  # Replace with the actual file path\n",
    "df = pd.read_csv(file_path,skiprows=[1])\n",
    "df = df.drop(index=2)\n",
    "df = df.reset_index(drop=True)\n",
    "\n",
    "# Display the first few rows of the dataset\n",
    "print(\"First 5 rows of the dataset:\")\n",
    "print(df.head())\n",
    "\n"
   ]
  },
  {
   "cell_type": "code",
   "execution_count": null,
   "metadata": {
    "tags": []
   },
   "outputs": [],
   "source": [
    "def create_date_new(df):\n",
    "    \"\"\"\n",
    "    Creates a new column `date_new` from the `date` column, converting it to a datetime format.\n",
    "\n",
    "    Args:\n",
    "        df (pd.DataFrame): The input dataframe.\n",
    "\n",
    "    Returns:\n",
    "        pd.DataFrame: The dataframe with the new `date_new` column.\n",
    "    \"\"\"\n"
   ]
  },
  {
   "cell_type": "code",
   "execution_count": null,
   "metadata": {
    "deletable": false,
    "editable": false
   },
   "outputs": [],
   "source": [
    "grader.check(\"q9\")"
   ]
  },
  {
   "cell_type": "markdown",
   "metadata": {
    "deletable": false,
    "editable": false
   },
   "source": [
    "<!-- END QUESTION -->\n",
    "\n",
    "<!-- BEGIN QUESTION -->\n",
    "\n",
    "**Question 10:Split the dataframe into two separate dataframes based on the category column: one for cereals and tubers and another for pulses and nuts**"
   ]
  },
  {
   "cell_type": "code",
   "execution_count": null,
   "metadata": {
    "tags": []
   },
   "outputs": [],
   "source": [
    "def split_dataframes(df):\n",
    "    \"\"\"\n",
    "    Splits the dataframe into two separate dataframes based on the `category` column.\n",
    "\n",
    "    Args:\n",
    "        df (pd.DataFrame): The input dataframe.\n",
    "\n",
    "    Returns:\n",
    "        tuple: A tuple of two dataframes: (cereals_df, pulses_df).\n",
    "    \"\"\"\n"
   ]
  },
  {
   "cell_type": "code",
   "execution_count": null,
   "metadata": {
    "deletable": false,
    "editable": false
   },
   "outputs": [],
   "source": [
    "grader.check(\"q10\")"
   ]
  },
  {
   "cell_type": "markdown",
   "metadata": {
    "deletable": false,
    "editable": false
   },
   "source": [
    "<!-- END QUESTION -->\n",
    "\n",
    "<!-- BEGIN QUESTION -->\n",
    "\n",
    "**Question 11:Calculate the mean, median, and mode of the price and usdprice columns for each category**"
   ]
  },
  {
   "cell_type": "code",
   "execution_count": null,
   "metadata": {
    "tags": []
   },
   "outputs": [],
   "source": [
    "def calculate_price_stats(df):\n",
    "    \"\"\"\n",
    "    Calculates the mean, median, and mode of the `price` and `usdprice` columns for each `category`.\n",
    "\n",
    "    Args:\n",
    "        df (pd.DataFrame): The input dataframe.\n",
    "\n",
    "    Returns:\n",
    "        tuple: A tuple of two dataframes: (price_stats, usdprice_stats).\n",
    "    \"\"\"\n"
   ]
  },
  {
   "cell_type": "code",
   "execution_count": null,
   "metadata": {
    "deletable": false,
    "editable": false
   },
   "outputs": [],
   "source": [
    "grader.check(\"q11\")"
   ]
  },
  {
   "cell_type": "markdown",
   "metadata": {
    "deletable": false,
    "editable": false
   },
   "source": [
    "<!-- END QUESTION -->\n",
    "\n",
    "<!-- BEGIN QUESTION -->\n",
    "\n",
    "**Question 12:Merge the two dataframes (from Question 11) back into one dataframe and save it as `merged_data.csv`.**"
   ]
  },
  {
   "cell_type": "code",
   "execution_count": null,
   "metadata": {
    "tags": []
   },
   "outputs": [],
   "source": [
    "def merge_dataframes(cereals_df, pulses_df):\n",
    "    \"\"\"\n",
    "    Merges the two dataframes back into one dataframe and saves it as `merged_data.csv`.\n",
    "\n",
    "    Args:\n",
    "        cereals_df (pd.DataFrame): The cereals and tubers dataframe.\n",
    "        pulses_df (pd.DataFrame): The pulses and nuts dataframe.\n",
    "\n",
    "    Returns:\n",
    "        pd.DataFrame: The merged dataframe.\n",
    "    \"\"\"\n"
   ]
  },
  {
   "cell_type": "code",
   "execution_count": null,
   "metadata": {
    "deletable": false,
    "editable": false
   },
   "outputs": [],
   "source": [
    "grader.check(\"q12\")"
   ]
  },
  {
   "cell_type": "markdown",
   "metadata": {
    "deletable": false,
    "editable": false
   },
   "source": [
    "<!-- END QUESTION -->\n",
    "\n",
    "<!-- BEGIN QUESTION -->\n",
    "\n",
    "**Question 13:Open the `merged_data.csv` file and select only the `date_new`, `market`, `commodity`, `price`, and `usdprice` columns**"
   ]
  },
  {
   "cell_type": "code",
   "execution_count": null,
   "metadata": {
    "tags": []
   },
   "outputs": [],
   "source": [
    "def select_columns():\n",
    "    \"\"\"\n",
    "    Opens the `merged_data.csv` file and selects only the `date_new`, `market`, `commodity`, `price`, and `usdprice` columns.\n",
    "\n",
    "    Returns:\n",
    "        pd.DataFrame: The dataframe with selected columns.\n",
    "    \"\"\""
   ]
  },
  {
   "cell_type": "code",
   "execution_count": null,
   "metadata": {
    "deletable": false,
    "editable": false
   },
   "outputs": [],
   "source": [
    "grader.check(\"q13\")"
   ]
  },
  {
   "cell_type": "markdown",
   "metadata": {
    "deletable": false,
    "editable": false
   },
   "source": [
    "<!-- END QUESTION -->\n",
    "\n",
    "<!-- BEGIN QUESTION -->\n",
    "\n",
    "**Question 14:Group the data by `admin1` (state) and calculate the average `price` and `usdprice` for each state**"
   ]
  },
  {
   "cell_type": "code",
   "execution_count": null,
   "metadata": {
    "tags": []
   },
   "outputs": [],
   "source": [
    "def calculate_state_avg_prices(df):\n",
    "    \"\"\"\n",
    "    Groups the data by `admin1` (state) and calculates the average `price` and `usdprice` for each state.\n",
    "\n",
    "    Args:\n",
    "        df (pd.DataFrame): The input dataframe.\n",
    "\n",
    "    Returns:\n",
    "        pd.DataFrame: The dataframe with average prices by state.\n",
    "    \"\"\""
   ]
  },
  {
   "cell_type": "code",
   "execution_count": null,
   "metadata": {
    "deletable": false,
    "editable": false
   },
   "outputs": [],
   "source": [
    "grader.check(\"q14\")"
   ]
  },
  {
   "cell_type": "markdown",
   "metadata": {
    "deletable": false,
    "editable": false
   },
   "source": [
    "<!-- END QUESTION -->\n",
    "\n",
    "<!-- BEGIN QUESTION -->\n",
    "\n",
    "**Question 15:Identify the top 5 markets with the highest average `usdprice` for `Rice (imported)`.**"
   ]
  },
  {
   "cell_type": "code",
   "execution_count": null,
   "metadata": {
    "tags": []
   },
   "outputs": [],
   "source": [
    "def identify_top_markets(df):\n",
    "    \"\"\"\n",
    "    Identifies the top 5 markets with the highest average `usdprice` for `Rice (imported)`.\n",
    "\n",
    "    Args:\n",
    "        df (pd.DataFrame): The input dataframe.\n",
    "\n",
    "    Returns:\n",
    "        pd.Series: A series with the top 5 markets and their average `usdprice`.\n",
    "    \"\"\" "
   ]
  },
  {
   "cell_type": "code",
   "execution_count": null,
   "metadata": {
    "deletable": false,
    "editable": false
   },
   "outputs": [],
   "source": [
    "grader.check(\"q15\")"
   ]
  },
  {
   "cell_type": "markdown",
   "metadata": {
    "deletable": false,
    "editable": false
   },
   "source": [
    "<!-- END QUESTION -->\n",
    "\n"
   ]
  },
  {
   "cell_type": "markdown",
   "metadata": {
    "deletable": false,
    "editable": false
   },
   "source": [
    "---\n",
    "\n",
    "To double-check your work, the cell below will rerun all of the autograder tests."
   ]
  },
  {
   "cell_type": "code",
   "execution_count": null,
   "metadata": {
    "deletable": false,
    "editable": false
   },
   "outputs": [],
   "source": [
    "grader.check_all()"
   ]
  },
  {
   "cell_type": "markdown",
   "metadata": {
    "deletable": false,
    "editable": false
   },
   "source": [
    "## Submission\n",
    "\n",
    "Make sure you have run all cells in your notebook in order before running the cell below, so that all images/graphs appear in the output. The cell below will generate a zip file for you to submit. **Please save before exporting!**\n",
    "\n",
    "Complete each function according to the provided specifications. Make sure all tests pass."
   ]
  },
  {
   "cell_type": "code",
   "execution_count": null,
   "metadata": {
    "deletable": false,
    "editable": false
   },
   "outputs": [],
   "source": [
    "# Save your notebook first, then run this cell to export your submission.\n",
    "grader.export(run_tests=True)"
   ]
  },
  {
   "cell_type": "markdown",
   "metadata": {},
   "source": [
    " "
   ]
  }
 ],
 "metadata": {
  "kernelspec": {
   "display_name": "Python 3",
   "language": "python",
   "name": "python3"
  },
  "language_info": {
   "codemirror_mode": {
    "name": "ipython",
    "version": 3
   },
   "file_extension": ".py",
   "mimetype": "text/x-python",
   "name": "python",
   "nbconvert_exporter": "python",
   "pygments_lexer": "ipython3",
   "version": "3.10.12"
  },
  "otter": {
   "OK_FORMAT": true,
   "export_pdf_failure_message": "A PDF of your notebook could not be generated. Please acknowledge to continue submission export.",
   "require_no_pdf_confirmation": true,
   "tests": {
    "q1": {
     "name": "q1",
     "points": 1,
     "suites": [
      {
       "cases": [
        {
         "code": ">>> assert even_odd_numbers(10) == ([2, 4, 6, 8, 10], [1, 3, 5, 7, 9])\n",
         "hidden": false,
         "locked": false
        },
        {
         "code": ">>> assert even_odd_numbers(5) == ([2, 4], [1, 3, 5])\n",
         "hidden": false,
         "locked": false
        }
       ],
       "scored": true,
       "setup": "",
       "teardown": "",
       "type": "doctest"
      }
     ]
    },
    "q10": {
     "name": "q10",
     "points": 1,
     "suites": [
      {
       "cases": [
        {
         "code": ">>> (cereals_df, pulses_df) = split_dataframes(df)\n>>> assert len(cereals_df) > 0, 'Cereals and tubers dataframe is empty'\n",
         "hidden": false,
         "locked": false
        },
        {
         "code": ">>> assert len(pulses_df) > 0, 'Pulses and nuts dataframe is empty'\n",
         "hidden": false,
         "locked": false
        }
       ],
       "scored": true,
       "setup": "",
       "teardown": "",
       "type": "doctest"
      }
     ]
    },
    "q11": {
     "name": "q11",
     "points": 1,
     "suites": [
      {
       "cases": [
        {
         "code": ">>> (price_stats, usdprice_stats) = calculate_price_stats(df)\n>>> assert not price_stats.empty, 'Price statistics dataframe is empty'\n",
         "hidden": false,
         "locked": false
        },
        {
         "code": ">>> assert not usdprice_stats.empty, 'USD price statistics dataframe is empty'\n",
         "hidden": false,
         "locked": false
        }
       ],
       "scored": true,
       "setup": "",
       "teardown": "",
       "type": "doctest"
      }
     ]
    },
    "q12": {
     "name": "q12",
     "points": 1,
     "suites": [
      {
       "cases": [
        {
         "code": ">>> merged_df = merge_dataframes(cereals_df, pulses_df)\n>>> assert not merged_df.empty, 'Merged dataframe is empty'\n",
         "hidden": false,
         "locked": false
        },
        {
         "code": ">>> assert len(merged_df) == len(cereals_df) + len(pulses_df), 'Merged dataframe has incorrect number of rows'\n",
         "hidden": false,
         "locked": false
        }
       ],
       "scored": true,
       "setup": "",
       "teardown": "",
       "type": "doctest"
      }
     ]
    },
    "q13": {
     "name": "q13",
     "points": 1,
     "suites": [
      {
       "cases": [
        {
         "code": ">>> selected_columns = select_columns()\n>>> assert not selected_columns.empty, 'Selected columns dataframe is empty'\n",
         "hidden": false,
         "locked": false
        },
        {
         "code": ">>> assert list(selected_columns.columns) == ['date_new', 'market', 'commodity', 'price', 'usdprice'], 'Incorrect columns selected'\n",
         "hidden": false,
         "locked": false
        }
       ],
       "scored": true,
       "setup": "",
       "teardown": "",
       "type": "doctest"
      }
     ]
    },
    "q14": {
     "name": "q14",
     "points": 1,
     "suites": [
      {
       "cases": [
        {
         "code": ">>> state_avg_prices = calculate_state_avg_prices(df)\n>>> assert not state_avg_prices.empty, 'State average prices dataframe is empty'\n",
         "hidden": false,
         "locked": false
        },
        {
         "code": ">>> assert 'price' in state_avg_prices.columns, 'Price column not found in state average prices'\n",
         "hidden": false,
         "locked": false
        }
       ],
       "scored": true,
       "setup": "",
       "teardown": "",
       "type": "doctest"
      }
     ]
    },
    "q15": {
     "name": "q15",
     "points": 1,
     "suites": [
      {
       "cases": [
        {
         "code": ">>> top_markets = identify_top_markets(df)\n>>> assert not top_markets.empty, 'Top markets dataframe is empty'\n",
         "hidden": false,
         "locked": false
        },
        {
         "code": ">>> assert len(top_markets) == 5, 'Incorrect number of top markets'\n",
         "hidden": false,
         "locked": false
        }
       ],
       "scored": true,
       "setup": "",
       "teardown": "",
       "type": "doctest"
      }
     ]
    },
    "q2": {
     "name": "q2",
     "points": 1,
     "suites": [
      {
       "cases": [
        {
         "code": ">>> assert word_frequency('Data science is fun. Data science is useful.') == {'data': 2, 'science': 2, 'is': 2, 'fun': 1, 'useful': 1}\n",
         "hidden": false,
         "locked": false
        },
        {
         "code": ">>> assert word_frequency('Hello hello world') == {'hello': 2, 'world': 1}\n",
         "hidden": false,
         "locked": false
        }
       ],
       "scored": true,
       "setup": "",
       "teardown": "",
       "type": "doctest"
      }
     ]
    },
    "q3": {
     "name": "q3",
     "points": 1,
     "suites": [
      {
       "cases": [
        {
         "code": ">>> assert extract_and_sort_values({'a': 3, 'b': 1, 'c': 2}) == [3, 2, 1]\n",
         "hidden": false,
         "locked": false
        },
        {
         "code": ">>> assert extract_and_sort_values({'x': 10, 'y': 5, 'z': 20}) == [20, 10, 5]\n",
         "hidden": false,
         "locked": false
        }
       ],
       "scored": true,
       "setup": "",
       "teardown": "",
       "type": "doctest"
      }
     ]
    },
    "q4": {
     "name": "q4",
     "points": 1,
     "suites": [
      {
       "cases": [
        {
         "code": ">>> assert merge_lists_to_dict(['a', 'b', 'c'], [3, 2, 1]) == {'a': 3, 'b': 2, 'c': 1}\n",
         "hidden": false,
         "locked": false
        },
        {
         "code": ">>> assert merge_lists_to_dict(['x', 'y'], [10, 20]) == {'x': 10, 'y': 20}\n",
         "hidden": false,
         "locked": false
        }
       ],
       "scored": true,
       "setup": "",
       "teardown": "",
       "type": "doctest"
      }
     ]
    },
    "q5": {
     "name": "q5",
     "points": 1,
     "suites": [
      {
       "cases": [
        {
         "code": ">>> assert least_common_multiple(4, 6) == 12\n",
         "hidden": false,
         "locked": false
        },
        {
         "code": ">>> assert least_common_multiple(5, 10) == 10\n",
         "hidden": false,
         "locked": false
        }
       ],
       "scored": true,
       "setup": "",
       "teardown": "",
       "type": "doctest"
      }
     ]
    },
    "q6": {
     "name": "q6",
     "points": 1,
     "suites": [
      {
       "cases": [
        {
         "code": ">>> assert get_nearest_farthest((0, 0), [(1, 1), (3, 3), (-1, -1)]) == (0, 1)\n",
         "hidden": false,
         "locked": false
        },
        {
         "code": ">>> assert get_nearest_farthest((0, 0), [(2, 2), (1, 1), (3, 3)]) == (1, 2)\n",
         "hidden": false,
         "locked": false
        }
       ],
       "scored": true,
       "setup": "",
       "teardown": "",
       "type": "doctest"
      }
     ]
    },
    "q7": {
     "name": "q7",
     "points": 1,
     "suites": [
      {
       "cases": [
        {
         "code": ">>> assert filter_divisible(10, 2) == [1, 3, 5, 7, 9]\n",
         "hidden": false,
         "locked": false
        },
        {
         "code": ">>> assert filter_divisible(15, 3) == [1, 2, 4, 5, 7, 8, 10, 11, 13, 14]\n",
         "hidden": false,
         "locked": false
        }
       ],
       "scored": true,
       "setup": "",
       "teardown": "",
       "type": "doctest"
      }
     ]
    },
    "q8": {
     "name": "q8",
     "points": 1,
     "suites": [
      {
       "cases": [
        {
         "code": ">>> assert flatten_and_unique([[2, 13, 44], [6, 7, 2]]) == [2, 6, 7, 13, 44]\n",
         "hidden": false,
         "locked": false
        },
        {
         "code": ">>> assert flatten_and_unique([[1, 2, 3], [3, 4, 5]]) == [1, 2, 3, 4, 5]\n",
         "hidden": false,
         "locked": false
        }
       ],
       "scored": true,
       "setup": "",
       "teardown": "",
       "type": "doctest"
      }
     ]
    },
    "q9": {
     "name": "q9",
     "points": 1,
     "suites": [
      {
       "cases": [
        {
         "code": ">>> df = create_date_new(df)\n>>> assert 'date_new' in df.columns, \"Column 'date_new' not found in the dataframe\"\n",
         "hidden": false,
         "locked": false
        },
        {
         "code": ">>> assert df['date_new'].dtype == 'datetime64[ns]', \"Column 'date_new' is not in datetime format\"\n",
         "hidden": false,
         "locked": false
        }
       ],
       "scored": true,
       "setup": "",
       "teardown": "",
       "type": "doctest"
      }
     ]
    }
   }
  }
 },
 "nbformat": 4,
 "nbformat_minor": 4
}
