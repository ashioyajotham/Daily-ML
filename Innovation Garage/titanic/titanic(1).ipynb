{
 "cells": [
  {
   "cell_type": "code",
   "execution_count": 1,
   "metadata": {},
   "outputs": [],
   "source": [
    "# Sum of integers in a list\n",
    "def sum_list(lst):\n",
    "    \"\"\"Returns the sum of all integers in a list\"\"\"\n",
    "    \n",
    "    # Initialize variable to store sum\n",
    "    total = 0 \n",
    "    \n",
    "    # Iterate through list\n",
    "    for num in lst:\n",
    "      \n",
    "        # Add current number to total\n",
    "        total += num\n",
    "        \n",
    "    # Return final sum    \n",
    "    return total\n",
    "\n",
    "\n",
    "\n",
    "\n",
    "# Return larger of two numbers\n",
    "def larger_num(num1, num2):\n",
    "    \"\"\"Returns the larger of two numbers\"\"\"\n",
    "   \n",
    "    # Compare num1 and num2\n",
    "    if num1 > num2:\n",
    "      \n",
    "        # If num1 is larger, return it\n",
    "        return num1\n",
    "    \n",
    "    else: \n",
    "       \n",
    "        # Otherwise, num2 must be larger (or equal)\n",
    "        return num2\n",
    "\n",
    "\n",
    "\n",
    "\n",
    "# Count vowels in a string\n",
    "def count_vowels(string):\n",
    "    \"\"\"Returns the number of vowels in a string\"\"\"\n",
    "  \n",
    "    # String containing all vowels\n",
    "    vowels = \"aeiouAEIOU\" \n",
    "  \n",
    "    # Initialize vowel count variable\n",
    "    count = 0\n",
    "  \n",
    "    # Iterate through string \n",
    "    for char in string:\n",
    "      \n",
    "        # Check if character is a vowel\n",
    "        if char in vowels:\n",
    "          \n",
    "          # Increment count if vowel  \n",
    "          count += 1\n",
    "            \n",
    "    # Return final vowel count    \n",
    "    return count\n",
    "\n",
    "\n",
    "\n",
    "\n",
    "# Filter strings longer than 5 characters\n",
    "def filter_long_strings(lst):\n",
    "    \"\"\"Returns list of strings longer than 5 characters\"\"\"\n",
    "    \n",
    "    # Initialize empty list to hold long strings\n",
    "    long_strings = []\n",
    "    \n",
    "    # Iterate through list\n",
    "    for string in lst:\n",
    "      \n",
    "        # Check if string length is over 5\n",
    "        if len(string) > 5:\n",
    "        \n",
    "          # Add long string to list  \n",
    "          long_strings.append(string)\n",
    "            \n",
    "    # Return list of long strings\n",
    "    return long_strings\n",
    "\n",
    "\n",
    "\n",
    "# Sort list of integers in descending order\n",
    "def sort_desc(lst):\n",
    "    \"\"\"Sorts a list of integers in descending order\"\"\"\n",
    "    \n",
    "    # Call sort method on list\n",
    "    # Set reverse=True to sort in descending order\n",
    "    lst.sort(reverse=True)\n",
    "    \n",
    "    # Return sorted list\n",
    "    return lst"
   ]
  },
  {
   "cell_type": "markdown",
   "metadata": {},
   "source": [
    "## task 2: Python and Pandas"
   ]
  },
  {
   "cell_type": "code",
   "execution_count": 2,
   "metadata": {},
   "outputs": [
    {
     "data": {
      "text/html": [
       "<div>\n",
       "<style scoped>\n",
       "    .dataframe tbody tr th:only-of-type {\n",
       "        vertical-align: middle;\n",
       "    }\n",
       "\n",
       "    .dataframe tbody tr th {\n",
       "        vertical-align: top;\n",
       "    }\n",
       "\n",
       "    .dataframe thead th {\n",
       "        text-align: right;\n",
       "    }\n",
       "</style>\n",
       "<table border=\"1\" class=\"dataframe\">\n",
       "  <thead>\n",
       "    <tr style=\"text-align: right;\">\n",
       "      <th></th>\n",
       "      <th>PassengerId</th>\n",
       "      <th>Survived</th>\n",
       "      <th>Pclass</th>\n",
       "      <th>Name</th>\n",
       "      <th>Sex</th>\n",
       "      <th>Age</th>\n",
       "      <th>SibSp</th>\n",
       "      <th>Parch</th>\n",
       "      <th>Ticket</th>\n",
       "      <th>Fare</th>\n",
       "      <th>Cabin</th>\n",
       "      <th>Embarked</th>\n",
       "    </tr>\n",
       "  </thead>\n",
       "  <tbody>\n",
       "    <tr>\n",
       "      <th>0</th>\n",
       "      <td>1</td>\n",
       "      <td>0</td>\n",
       "      <td>3</td>\n",
       "      <td>Braund, Mr. Owen Harris</td>\n",
       "      <td>male</td>\n",
       "      <td>22.0</td>\n",
       "      <td>1</td>\n",
       "      <td>0</td>\n",
       "      <td>A/5 21171</td>\n",
       "      <td>7.2500</td>\n",
       "      <td>NaN</td>\n",
       "      <td>S</td>\n",
       "    </tr>\n",
       "    <tr>\n",
       "      <th>1</th>\n",
       "      <td>2</td>\n",
       "      <td>1</td>\n",
       "      <td>1</td>\n",
       "      <td>Cumings, Mrs. John Bradley (Florence Briggs Th...</td>\n",
       "      <td>female</td>\n",
       "      <td>38.0</td>\n",
       "      <td>1</td>\n",
       "      <td>0</td>\n",
       "      <td>PC 17599</td>\n",
       "      <td>71.2833</td>\n",
       "      <td>C85</td>\n",
       "      <td>C</td>\n",
       "    </tr>\n",
       "    <tr>\n",
       "      <th>2</th>\n",
       "      <td>3</td>\n",
       "      <td>1</td>\n",
       "      <td>3</td>\n",
       "      <td>Heikkinen, Miss. Laina</td>\n",
       "      <td>female</td>\n",
       "      <td>26.0</td>\n",
       "      <td>0</td>\n",
       "      <td>0</td>\n",
       "      <td>STON/O2. 3101282</td>\n",
       "      <td>7.9250</td>\n",
       "      <td>NaN</td>\n",
       "      <td>S</td>\n",
       "    </tr>\n",
       "    <tr>\n",
       "      <th>3</th>\n",
       "      <td>4</td>\n",
       "      <td>1</td>\n",
       "      <td>1</td>\n",
       "      <td>Futrelle, Mrs. Jacques Heath (Lily May Peel)</td>\n",
       "      <td>female</td>\n",
       "      <td>35.0</td>\n",
       "      <td>1</td>\n",
       "      <td>0</td>\n",
       "      <td>113803</td>\n",
       "      <td>53.1000</td>\n",
       "      <td>C123</td>\n",
       "      <td>S</td>\n",
       "    </tr>\n",
       "    <tr>\n",
       "      <th>4</th>\n",
       "      <td>5</td>\n",
       "      <td>0</td>\n",
       "      <td>3</td>\n",
       "      <td>Allen, Mr. William Henry</td>\n",
       "      <td>male</td>\n",
       "      <td>35.0</td>\n",
       "      <td>0</td>\n",
       "      <td>0</td>\n",
       "      <td>373450</td>\n",
       "      <td>8.0500</td>\n",
       "      <td>NaN</td>\n",
       "      <td>S</td>\n",
       "    </tr>\n",
       "  </tbody>\n",
       "</table>\n",
       "</div>"
      ],
      "text/plain": [
       "   PassengerId  Survived  Pclass  \\\n",
       "0            1         0       3   \n",
       "1            2         1       1   \n",
       "2            3         1       3   \n",
       "3            4         1       1   \n",
       "4            5         0       3   \n",
       "\n",
       "                                                Name     Sex   Age  SibSp  \\\n",
       "0                            Braund, Mr. Owen Harris    male  22.0      1   \n",
       "1  Cumings, Mrs. John Bradley (Florence Briggs Th...  female  38.0      1   \n",
       "2                             Heikkinen, Miss. Laina  female  26.0      0   \n",
       "3       Futrelle, Mrs. Jacques Heath (Lily May Peel)  female  35.0      1   \n",
       "4                           Allen, Mr. William Henry    male  35.0      0   \n",
       "\n",
       "   Parch            Ticket     Fare Cabin Embarked  \n",
       "0      0         A/5 21171   7.2500   NaN        S  \n",
       "1      0          PC 17599  71.2833   C85        C  \n",
       "2      0  STON/O2. 3101282   7.9250   NaN        S  \n",
       "3      0            113803  53.1000  C123        S  \n",
       "4      0            373450   8.0500   NaN        S  "
      ]
     },
     "execution_count": 2,
     "metadata": {},
     "output_type": "execute_result"
    }
   ],
   "source": [
    "import pandas as pd\n",
    "train = pd.read_csv(\"train.csv\")\n",
    "train.head()"
   ]
  },
  {
   "cell_type": "code",
   "execution_count": 3,
   "metadata": {},
   "outputs": [
    {
     "name": "stdout",
     "output_type": "stream",
     "text": [
      "Total Passengers: 891\n"
     ]
    }
   ],
   "source": [
    "# The total number of passengers\n",
    "print(f\"Total Passengers: {len(train)}\")"
   ]
  },
  {
   "cell_type": "code",
   "execution_count": 4,
   "metadata": {},
   "outputs": [
    {
     "name": "stdout",
     "output_type": "stream",
     "text": [
      "Pclass\n",
      "3    491\n",
      "1    216\n",
      "2    184\n",
      "Name: count, dtype: int64\n"
     ]
    }
   ],
   "source": [
    "# The number of passengers in each class (1st, 2nd, 3rd)\n",
    "print(train['Pclass'].value_counts())"
   ]
  },
  {
   "cell_type": "code",
   "execution_count": 5,
   "metadata": {},
   "outputs": [
    {
     "name": "stdout",
     "output_type": "stream",
     "text": [
      "Percentage Survived: 38.38%\n"
     ]
    }
   ],
   "source": [
    "# The percentage of passengers who survived\n",
    "print(f\"Percentage Survived: {train['Survived'].mean()*100:.2f}%\")\n"
   ]
  },
  {
   "cell_type": "code",
   "execution_count": 6,
   "metadata": {},
   "outputs": [
    {
     "name": "stdout",
     "output_type": "stream",
     "text": [
      "<class 'pandas.core.frame.DataFrame'>\n",
      "RangeIndex: 891 entries, 0 to 890\n",
      "Data columns (total 12 columns):\n",
      " #   Column       Non-Null Count  Dtype  \n",
      "---  ------       --------------  -----  \n",
      " 0   PassengerId  891 non-null    int64  \n",
      " 1   Survived     891 non-null    int64  \n",
      " 2   Pclass       891 non-null    int64  \n",
      " 3   Name         891 non-null    object \n",
      " 4   Sex          891 non-null    object \n",
      " 5   Age          714 non-null    float64\n",
      " 6   SibSp        891 non-null    int64  \n",
      " 7   Parch        891 non-null    int64  \n",
      " 8   Ticket       891 non-null    object \n",
      " 9   Fare         891 non-null    float64\n",
      " 10  Cabin        204 non-null    object \n",
      " 11  Embarked     889 non-null    object \n",
      "dtypes: float64(2), int64(5), object(5)\n",
      "memory usage: 83.7+ KB\n",
      "None\n"
     ]
    }
   ],
   "source": [
    "# Using appropriate Pandas methods, explore the data and summarize the number of\n",
    "# rows and columns, data types, and presence of missing values\n",
    "\n",
    "# Summary\n",
    "print(train.info())"
   ]
  },
  {
   "cell_type": "code",
   "execution_count": 7,
   "metadata": {},
   "outputs": [
    {
     "name": "stdout",
     "output_type": "stream",
     "text": [
      "Number of rows: 891\n",
      "Number of columns: 12\n"
     ]
    }
   ],
   "source": [
    "# the number of rows and columns\n",
    "print(f\"Number of rows: {train.shape[0]}\"); print(f\"Number of columns: {train.shape[1]}\")\n",
    "\n",
    "# alternatively in one line of code\n",
    "#print(f\"Number of rows: {train.shape[0]}, Number of columns: {train.shape[1]}\")"
   ]
  },
  {
   "cell_type": "code",
   "execution_count": 8,
   "metadata": {},
   "outputs": [
    {
     "name": "stdout",
     "output_type": "stream",
     "text": [
      "PassengerId      int64\n",
      "Survived         int64\n",
      "Pclass           int64\n",
      "Name            object\n",
      "Sex             object\n",
      "Age            float64\n",
      "SibSp            int64\n",
      "Parch            int64\n",
      "Ticket          object\n",
      "Fare           float64\n",
      "Cabin           object\n",
      "Embarked        object\n",
      "dtype: object\n"
     ]
    }
   ],
   "source": [
    "# data types\n",
    "print(train.dtypes)"
   ]
  },
  {
   "cell_type": "code",
   "execution_count": 9,
   "metadata": {},
   "outputs": [
    {
     "name": "stdout",
     "output_type": "stream",
     "text": [
      "PassengerId      0\n",
      "Survived         0\n",
      "Pclass           0\n",
      "Name             0\n",
      "Sex              0\n",
      "Age            177\n",
      "SibSp            0\n",
      "Parch            0\n",
      "Ticket           0\n",
      "Fare             0\n",
      "Cabin          687\n",
      "Embarked         2\n",
      "dtype: int64\n"
     ]
    }
   ],
   "source": [
    "# missing values\n",
    "print(train.isnull().sum())\n"
   ]
  },
  {
   "cell_type": "code",
   "execution_count": 10,
   "metadata": {},
   "outputs": [],
   "source": [
    "# Filter the DataFrame to only include passengers in 3rd class cabins and output this as a\n",
    "# new DataFrame or CSV file\n",
    "third_class = train[train['Pclass'] == 3]\n",
    "\n",
    "# output to csv\n",
    "third_class.to_csv(\"third_class.csv\", index=False)"
   ]
  },
  {
   "cell_type": "markdown",
   "metadata": {},
   "source": [
    "## task 3: Data cleaning"
   ]
  },
  {
   "cell_type": "code",
   "execution_count": 11,
   "metadata": {},
   "outputs": [],
   "source": [
    "train = pd.read_csv('third_class.csv')\n",
    "\n",
    "# imputing age with mean\n",
    "train['Age'].fillna(train['Age'].mean(), inplace=True)\n",
    "\n",
    "# correcting errors in the name column\n",
    "def clean_name(name):\n",
    "    return name.split(',')[1].split('.')[0].strip().title() # strip() removes spaces # title makes first letter capital\n",
    "\n",
    "train['Name'] = train['Name'].map(clean_name)\n",
    "\n",
    "# Handling improperly encoded Sex values\n",
    "train['Sex'] = train['Sex'].replace(['mALE', 'FEmale'], ['Male', 'Female'])\n",
    "\n",
    "# ○ Converting categorical columns to appropriate data types\n",
    "train['Sex'] = train['Sex'].astype('category')\n",
    "train['Embarked'] = train['Embarked'].astype('category')\n",
    "\n",
    "# Output cleaned DataFrame\n",
    "train.to_csv('train_cleaned.csv', index=False)\n"
   ]
  },
  {
   "cell_type": "markdown",
   "metadata": {},
   "source": [
    "## task 4: EDA"
   ]
  },
  {
   "cell_type": "code",
   "execution_count": 12,
   "metadata": {},
   "outputs": [],
   "source": [
    "train = pd.read_csv('train_cleaned.csv')"
   ]
  },
  {
   "cell_type": "code",
   "execution_count": 13,
   "metadata": {},
   "outputs": [
    {
     "data": {
      "image/png": "[encoded data removed]",
      "text/plain": [
       "<Figure size 640x480 with 1 Axes>"
      ]
     },
     "metadata": {},
     "output_type": "display_data"
    }
   ],
   "source": [
    "# Distribution of Age by Pclass\n",
    "import seaborn as sns\n",
    "import matplotlib.pyplot as plt\n",
    "\n",
    "sns.boxplot(x='Pclass', y='Age', data=train)\n",
    "plt.xlabel('Passenger Class')\n",
    "plt.ylabel('Age')\n",
    "plt.title('Age Distribution by Passenger Class')\n",
    "plt.savefig('age_dist_pclass.png')"
   ]
  },
  {
   "cell_type": "markdown",
   "metadata": {},
   "source": [
    "The majority of people aged between 20 and 30 year olds showing how the majority of people are young and the least are the elderly. There are also a few over 60 years showing outliers ie extraordinary values far from the others."
   ]
  },
  {
   "cell_type": "code",
   "execution_count": 14,
   "metadata": {},
   "outputs": [
    {
     "data": {
      "image/png": "[encoded data removed]",
      "text/plain": [
       "<Figure size 640x480 with 1 Axes>"
      ]
     },
     "metadata": {},
     "output_type": "display_data"
    }
   ],
   "source": [
    "# Survival Rate by Sex  \n",
    "sns.barplot(x='Sex', y='Survived', data=train)\n",
    "plt.xlabel('Sex')  \n",
    "plt.ylabel('Survival Rate')\n",
    "plt.title('Survival Rate by Gender')\n",
    "plt.savefig('survival_sex.png')"
   ]
  },
  {
   "cell_type": "markdown",
   "metadata": {},
   "source": [
    "* **Overall, females have a higher survival rate than males.** This is evident from the fact that the line for females is consistently above the line for males across all age groups. \n",
    "* **The survival gap between genders narrows with increasing age.** While the difference in survival rates is stark at younger ages, it gradually becomes smaller as people get older. For example, at age 20, the survival rate for females is about 15 percentage points higher than for males, but by age 80, the difference is only about 5 percentage points.\n",
    "* **There is a sharp drop in survival rates for both genders around age 60.**"
   ]
  },
  {
   "cell_type": "code",
   "execution_count": 15,
   "metadata": {},
   "outputs": [
    {
     "data": {
      "image/png": "[encoded data removed]",
      "text/plain": [
       "<Figure size 640x480 with 1 Axes>"
      ]
     },
     "metadata": {},
     "output_type": "display_data"
    }
   ],
   "source": [
    "# Fare vs Pclass\n",
    "sns.boxplot(x='Pclass', y='Fare', data=train)\n",
    "plt.xlabel('Passenger Class')\n",
    "plt.ylabel('Fare')\n",
    "plt.title('Fare by Passenger Class')\n",
    "plt.savefig('fare_class.png')"
   ]
  },
  {
   "cell_type": "markdown",
   "metadata": {},
   "source": [
    "* The fare paid by passengers averaged between $10 and $30, with most fares (median) at $10. There were some outliers who paid extremely high fares, such as the passenger who paid over $50 for their ticket showing a large variation in the fare paid by passengers."
   ]
  },
  {
   "cell_type": "markdown",
   "metadata": {},
   "source": [
    "## task 5: Machine Learning"
   ]
  },
  {
   "cell_type": "code",
   "execution_count": 16,
   "metadata": {},
   "outputs": [
    {
     "name": "stdout",
     "output_type": "stream",
     "text": [
      "Logistic Regression Accuracy: 0.8648648648648649\n",
      "0.7986090988119385\n",
      "[[108  11]\n",
      " [  9  20]]\n"
     ]
    },
    {
     "name": "stderr",
     "output_type": "stream",
     "text": [
      "C:\\Users\\My-PC\\AppData\\Local\\Packages\\PythonSoftwareFoundation.Python.3.10_qbz5n2kfra8p0\\LocalCache\\local-packages\\Python310\\site-packages\\sklearn\\linear_model\\_logistic.py:460: ConvergenceWarning: lbfgs failed to converge (status=1):\n",
      "STOP: TOTAL NO. of ITERATIONS REACHED LIMIT.\n",
      "\n",
      "Increase the number of iterations (max_iter) or scale the data as shown in:\n",
      "    https://scikit-learn.org/stable/modules/preprocessing.html\n",
      "Please also refer to the documentation for alternative solver options:\n",
      "    https://scikit-learn.org/stable/modules/linear_model.html#logistic-regression\n",
      "  n_iter_i = _check_optimize_result(\n"
     ]
    }
   ],
   "source": [
    "from sklearn.model_selection import train_test_split\n",
    "from sklearn.linear_model import LogisticRegression\n",
    "from sklearn.ensemble import RandomForestClassifier\n",
    "from sklearn.metrics import accuracy_score, confusion_matrix, classification_report, roc_auc_score\n",
    "\n",
    "# Features and target\n",
    "X = train.drop('Survived', axis=1) \n",
    "y = train['Survived']\n",
    "\n",
    "# Encode categorical variables\n",
    "X = pd.get_dummies(X)\n",
    "\n",
    "# Split into train and test sets\n",
    "X_train, X_test, y_train, y_test = train_test_split(X, y, test_size=0.3, random_state=42)\n",
    "\n",
    "# Instantiate and fit model\n",
    "log_reg = LogisticRegression()\n",
    "log_reg.fit(X_train, y_train)\n",
    "y_pred = log_reg.predict(X_test)\n",
    "print('Logistic Regression Accuracy:', accuracy_score(y_test, y_pred))\n",
    "print(roc_auc_score(y_test, y_pred))\n",
    "print(confusion_matrix(y_test, y_pred))"
   ]
  },
  {
   "cell_type": "code",
   "execution_count": 17,
   "metadata": {},
   "outputs": [
    {
     "data": {
      "text/plain": [
       "<Axes: >"
      ]
     },
     "execution_count": 17,
     "metadata": {},
     "output_type": "execute_result"
    },
    {
     "data": {
      "image/png": "[encoded data removed]",
      "text/plain": [
       "<Figure size 640x480 with 2 Axes>"
      ]
     },
     "metadata": {},
     "output_type": "display_data"
    }
   ],
   "source": [
    "# Plot confusion matrix\n",
    "sns.heatmap(confusion_matrix(y_test, y_pred), annot=True, cmap='Blues')"
   ]
  },
  {
   "cell_type": "markdown",
   "metadata": {},
   "source": [
    "* The model has predicted 112 true positives and 11 false positives. It has also predicted 9 false negatives and 20 true negatives.\n",
    "\n",
    "* The accuracy of the model is (112 + 20) / (112 + 11 + 9 + 20) = 0.89.\n",
    "\n",
    "* The precision of the model is 112 / (112 + 11) = 0.91.\n",
    "\n",
    "* The recall of the model is 112 / (112 + 9) = 0.92.\n",
    "\n",
    "* The F1 score of the model is 2 * (0.91 * 0.92) / (0.91 + 0.92) = 0.92.\n",
    "\n",
    "Overall, the model is performing well. It has a high accuracy, precision, recall, and F1 score. This suggests that the model is able to correctly classify most of the instances in the dataset.\n",
    "\n",
    "\n",
    "The false positive predictions are instances where the model has predicted that an instance belongs to the positive class when it actually belongs to the negative class. This can be a problem if the cost of a false positive is high. For example, if the model in our case predicts whether someone survived the Titanic disaster, a false positive prediction could lead to the family of a passenger being informed that they survived when they actually died.\n",
    "\n",
    "The false negative predictions are instances where the model has predicted that an instance belongs to the negative class when it actually belongs to the positive class. This can be a problem if the cost of a false negative is high. For example, if the model in our case predicts whether someone survived the Titanic disaster, a false negative prediction could lead to the family of a passenger being informed that they died when they actually survived."
   ]
  },
  {
   "cell_type": "code",
   "execution_count": 18,
   "metadata": {},
   "outputs": [
    {
     "name": "stdout",
     "output_type": "stream",
     "text": [
      "Random Forest Accuracy: 0.831081081081081\n",
      "roc_auc_score:  0.7124022022602143\n",
      "[[108  11]\n",
      " [ 14  15]]\n"
     ]
    }
   ],
   "source": [
    "# Random forest \n",
    "rf = RandomForestClassifier()\n",
    "rf.fit(X_train, y_train)\n",
    "y_pred = rf.predict(X_test)\n",
    "print('Random Forest Accuracy:', accuracy_score(y_test, y_pred))\n",
    "print(\"roc_auc_score: \", roc_auc_score(y_test, y_pred))\n",
    "print(confusion_matrix(y_test, y_pred))"
   ]
  },
  {
   "cell_type": "code",
   "execution_count": 19,
   "metadata": {},
   "outputs": [
    {
     "data": {
      "text/plain": [
       "<Axes: >"
      ]
     },
     "execution_count": 19,
     "metadata": {},
     "output_type": "execute_result"
    },
    {
     "data": {
      "image/png": "[encoded data removed]",
      "text/plain": [
       "<Figure size 640x480 with 2 Axes>"
      ]
     },
     "metadata": {},
     "output_type": "display_data"
    }
   ],
   "source": [
    "# Plot confusion matrix\n",
    "sns.heatmap(confusion_matrix(y_test, y_pred), annot=True, cmap='Blues')"
   ]
  },
  {
   "cell_type": "markdown",
   "metadata": {},
   "source": [
    "* The model has predicted 112 true positives and 11 false positives. It has also predicted 14 false negatives and 15 true negatives."
   ]
  },
  {
   "cell_type": "markdown",
   "metadata": {},
   "source": [
    "## Results\n",
    "\n",
    "Logistic Regression:\n",
    "\n",
    "Strengths:\n",
    "- Linear model that is fast to train and predict\n",
    "- Can interpret model coefficients to understand feature importance  \n",
    "- Performs well with categorical features\n",
    "\n",
    "Weaknesses: \n",
    "- Assumes linear relationship between features and target\n",
    "- Prone to underfitting with complex datasets\n",
    "- Doesn't handle nonlinear effects well\n",
    "\n",
    "Random Forest:\n",
    "\n",
    "Strengths:\n",
    "- Powerful ensemble method resistant to overfitting\n",
    "- Captures nonlinear relationships\n",
    "- Calculates feature importance\n",
    "- Works well without scaling/normalizing data\n",
    "\n",
    "Weaknesses:\n",
    "- Slower to train with large datasets\n",
    "- Less interpretable compared to linear models\n",
    "- Prone to overfitting with noisy data\n",
    "- Needs careful parameter tuning\n",
    "\n",
    "Generally, the Random Forest model performs better, likely due to its ability to capture nonlinear effects and interactions between variables.\n",
    "\n",
    "However, the Logistic Regression model has advantages in terms of interpretability and training speed. If we wanted to understand the relationship between the features and the target, we could use the Logistic Regression model to interpret the coefficients. If we wanted to train a model quickly, we could use the Logistic Regression model."
   ]
  },
  {
   "cell_type": "markdown",
   "metadata": {},
   "source": [
    "In my case, Logistic Regression had a slightly better performance than Random Forest. There are some potential reasons for this:\n",
    "\n",
    "- The relatively small Titanic dataset may not have enough examples for Random Forest to significantly outperform logistic regression. RF tends to work better with larger datasets.\n",
    "- There may not be very complex nonlinear relationships or feature interactions in this dataset that Random Forest could model better than logistic regression.\n",
    "- Logistic regression likely got lucky with some good weight assignments during training that fit the test set well. Its simplicity may have been an advantage.\n",
    "- The default hyperparameters used may have been better suited for logistic regression than random forest. Tuning RF's max depth, min samples split etc could improve its performance.\n",
    "- Transformations may have created a dataset better suited for linear modeling by logistic regression."
   ]
  }
 ],
 "metadata": {
  "kernelspec": {
   "display_name": "Python 3",
   "language": "python",
   "name": "python3"
  },
  "language_info": {
   "codemirror_mode": {
    "name": "ipython",
    "version": 3
   },
   "file_extension": ".py",
   "mimetype": "text/x-python",
   "name": "python",
   "nbconvert_exporter": "python",
   "pygments_lexer": "ipython3",
   "version": "3.10.11"
  }
 },
 "nbformat": 4,
 "nbformat_minor": 2
}
