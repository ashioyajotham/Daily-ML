{
 "cells": [
  {
   "cell_type": "code",
   "execution_count": null,
   "metadata": {},
   "outputs": [],
   "source": [
    "import tensorflow\n",
    "import numpy as np\n",
    "import pandas as pd\n",
    "import matplotlib.pyplot as plt\n",
    "import seaborn as sns\n",
    "import random\n",
    "from tensorflow.keras.preprocessing import image\n",
    "from tensorflow.keras.models import load_model\n",
    "from tensorflow.keras.models import Sequential\n",
    "from tensorflow.keras.layers import Conv2D, AveragePooling2D, MaxPool2D, Flatten, Dense, Dropout\n",
    "from tensorflow.keras.preprocessing.image import ImageDataGenerator"
   ]
  },
  {
   "cell_type": "code",
   "execution_count": null,
   "metadata": {},
   "outputs": [],
   "source": [
    "# First things first, we will load the images and labels into a dataframe\n",
    "# We will use the ImageDataGenerator to load the images and labels into a dataframe keeping in mind that our data is not separated into train and test sets\n",
    "\n",
    "# We will use the ImageDataGenerator to load the images and labels into a dataframe keeping in mind that our data is not separated into train and test sets\n",
    "datagen = ImageDataGenerator(rescale=1./255)\n",
    "train_generator = datagen.flow_from_directory(\n",
    "        'data/UAPD final',\n",
    "        target_size=(150, 150),\n",
    "        batch_size=32,\n",
    "        class_mode='binary')\n",
    "\n",
    "# Plotting the images\n",
    "plt.figure(figsize=(12, 12))\n",
    "for i in range(0, 15):\n",
    "        plt.subplot(5, 3, i+1)\n",
    "        for X_batch, Y_batch in train_generator:\n",
    "                image = X_batch[0]\n",
    "                plt.imshow(image)\n",
    "                break\n",
    "plt.tight_layout()\n",
    "plt.show()"
   ]
  },
  {
   "cell_type": "code",
   "execution_count": null,
   "metadata": {},
   "outputs": [],
   "source": [
    "images = []\n",
    "labels = []\n",
    "\n",
    "for i in range(0, 15):\n",
    "        for X_batch, Y_batch in train_generator:\n",
    "                image = X_batch[0]\n",
    "                label = Y_batch[0]\n",
    "                images.append(image)\n",
    "                labels.append(label)\n",
    "                break\n",
    "        \n",
    "images = np.array(images)\n",
    "labels = np.array(labels)\n",
    "\n",
    "# Create a df\n",
    "df = pd.DataFrame()\n",
    "df['images'] = images.tolist()\n",
    "df['labels'] = labels.tolist()\n",
    "\n",
    "# We will now split the data into train and test sets\n",
    "from sklearn.model_selection import train_test_split\n",
    "X_train, X_test, y_train, y_test = train_test_split(df['images'], df['labels'], test_size=0.2, random_state=42)\n",
    "\n",
    "# We will now reshape the data\n",
    "X_train = np.array(X_train.tolist())\n",
    "X_test = np.array(X_test.tolist())\n",
    "\n",
    "# Building the model\n",
    "model = Sequential()\n",
    "model.add(Conv2D(filters=32, kernel_size=(3, 3), activation='relu', input_shape=(150, 150, 3)))\n",
    "model.add(MaxPool2D(pool_size=(2, 2)))\n",
    "model.add(Conv2D(filters=64, kernel_size=(3, 3), activation='relu'))\n",
    "model.add(MaxPool2D(pool_size=(2, 2)))\n",
    "model.add(Conv2D(filters=128, kernel_size=(3, 3), activation='relu'))\n",
    "model.add(MaxPool2D(pool_size=(2, 2)))\n",
    "model.add(Flatten())\n",
    "model.add(Dense(units=128, activation='relu'))\n",
    "model.add(Dense(units=1, activation='sigmoid'))\n",
    "model.compile(optimizer='adam', loss='binary_crossentropy', metrics=['accuracy'])\n",
    "\n",
    "# Fitting the model\n",
    "model.fit(X_train, y_train, epochs=10, validation_data=(X_test, y_test))\n"
   ]
  },
  {
   "cell_type": "code",
   "execution_count": null,
   "metadata": {},
   "outputs": [],
   "source": [
    "# Plotting the loss and accuracy\n",
    "plt.figure(figsize=(12, 12))\n",
    "plt.subplot(2, 2, 1)\n",
    "plt.plot(model.history.history['loss'], label='Training Loss')\n",
    "plt.plot(model.history.history['val_loss'], label='Validation Loss')\n",
    "plt.legend()\n",
    "plt.subplot(2, 2, 2)\n",
    "plt.plot(model.history.history['accuracy'], label='Training Accuracy')\n",
    "plt.plot(model.history.history['val_accuracy'], label='Validation Accuracy')\n",
    "plt.legend()"
   ]
  },
  {
   "cell_type": "code",
   "execution_count": null,
   "metadata": {},
   "outputs": [],
   "source": [
    "def predictor(img_path):\n",
    "        img = image.load_img(img_path, target_size=(150, 150))\n",
    "        img = image.img_to_array(img)\n",
    "        img = np.expand_dims(img, axis=0)\n",
    "        prediction = model.predict(img)\n",
    "        if prediction == 1:\n",
    "                print('The image is asphalt')\n",
    "        else:\n",
    "                print('The image is not asphalt')\n",
    "predictor('data/UAPD final/asphalt/asphalt_1.jpg')\n",
    "predictor('data/UAPD final/not_asphalt/not_asphalt_1.jpg')"
   ]
  }
 ],
 "metadata": {
  "kernelspec": {
   "display_name": "Python 3",
   "language": "python",
   "name": "python3"
  },
  "language_info": {
   "name": "python",
   "version": "3.11.3"
  },
  "orig_nbformat": 4
 },
 "nbformat": 4,
 "nbformat_minor": 2
}
