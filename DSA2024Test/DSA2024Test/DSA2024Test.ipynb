{
 "cells": [
  {
   "cell_type": "code",
   "execution_count": null,
   "metadata": {
    "deletable": false,
    "editable": false
   },
   "outputs": [],
   "source": [
    "# Initialize Otter\n",
    "import otter\n",
    "grader = otter.Notebook(\"DSA2024Test.ipynb\")"
   ]
  },
  {
   "cell_type": "markdown",
   "metadata": {
    "id": "B1DroRwx3ENZ"
   },
   "source": [
    "## DSA 2024 Summer School Admittance Check\n",
    "\n",
    "Thanks for your interest in attending DSA 2024 Nyeri, Kenya. To attend the summer school you have to have some level of basic Python proficiency. Completing the following notebook should ensure you have the right kind of background to benefit maximally from the Summer School. See you in Nyeri!"
   ]
  },
  {
   "cell_type": "code",
   "execution_count": null,
   "metadata": {
    "id": "7Upwjh9U3ENa"
   },
   "outputs": [],
   "source": [
    "import pandas as pd\n",
    "import numpy as np\n",
    "%matplotlib inline\n",
    "import otter\n",
    "\n",
    "grader = otter.Notebook()"
   ]
  },
  {
   "cell_type": "markdown",
   "metadata": {
    "deletable": false,
    "editable": false,
    "id": "6ibmmx8r3ENc"
   },
   "source": [
    "**Question 1:** write a function `isValid(s)` that takes as argument a string s containing a sequence of parenthesis '(', ')', '{', '}', '[' and ']', and  determines if the input is valid. A input string is valid if for every open parenthensis there is a close one and parenthesis is well-formed. e.g  \"(){}[]\" is valid."
   ]
  },
  {
   "cell_type": "code",
   "execution_count": null,
   "metadata": {
    "id": "CWjGPqaO3ENc",
    "tags": []
   },
   "outputs": [],
   "source": [
    "def isValid(s: str) -> bool:\n",
    "    ..."
   ]
  },
  {
   "cell_type": "code",
   "execution_count": null,
   "metadata": {
    "deletable": false,
    "editable": false
   },
   "outputs": [],
   "source": [
    "grader.check(\"q1\")"
   ]
  },
  {
   "cell_type": "markdown",
   "metadata": {
    "deletable": false,
    "editable": false,
    "id": "ntYqVxEQ3ENd"
   },
   "source": [
    "**Question 2:** Given a paragraph as a string, write a function that return the number of character with odd frequencies. E.g The paragraph ``DSA 2024 Nyeri`` has *10* characters with odd frequencies. i.e the entire frequency count is given as {' ': 2, '2': 2, 'D': 1, 'S': 1, 'A': 1, '0': 1, '4': 1, 'N': 1, 'y': 1, 'e': 1, 'r': 1, 'i': 1}) and there are *10* characters with odd frequences. So the function should return *10*. "
   ]
  },
  {
   "cell_type": "code",
   "execution_count": null,
   "metadata": {
    "id": "LlZ8GC4J3ENe",
    "tags": []
   },
   "outputs": [],
   "source": [
    "def oddFrequencyCounter(theParagraph):\n",
    "    ..."
   ]
  },
  {
   "cell_type": "code",
   "execution_count": null,
   "metadata": {
    "deletable": false,
    "editable": false
   },
   "outputs": [],
   "source": [
    "grader.check(\"q2\")"
   ]
  },
  {
   "cell_type": "markdown",
   "metadata": {
    "deletable": false,
    "editable": false
   },
   "source": [
    "**Question 3:** Write an infinite generator function `odd_squares_sum` that yields the sum of square of odd numbers. e.g $1^2 + 3^2 + 5^2 + ...$ up to a ``limit``"
   ]
  },
  {
   "cell_type": "code",
   "execution_count": null,
   "metadata": {
    "id": "I50ccd1SJMn4",
    "tags": []
   },
   "outputs": [],
   "source": [
    "def odd_squares_sum(limit):\n",
    "    ..."
   ]
  },
  {
   "cell_type": "code",
   "execution_count": null,
   "metadata": {
    "deletable": false,
    "editable": false
   },
   "outputs": [],
   "source": [
    "grader.check(\"q3\")"
   ]
  },
  {
   "cell_type": "markdown",
   "metadata": {
    "deletable": false,
    "editable": false,
    "id": "hucvAvprJMn5"
   },
   "source": [
    "**Question 4:** Using the `odd_squares_sum` generator defined above, create a list of sum of squares up to a limit of $20$ and store the results in a numpy.array variable called `oddSumList` "
   ]
  },
  {
   "cell_type": "code",
   "execution_count": null,
   "metadata": {
    "id": "wLHoBNERJMn5",
    "tags": []
   },
   "outputs": [],
   "source": [
    "..."
   ]
  },
  {
   "cell_type": "code",
   "execution_count": null,
   "metadata": {
    "deletable": false,
    "editable": false
   },
   "outputs": [],
   "source": [
    "grader.check(\"q4\")"
   ]
  },
  {
   "cell_type": "markdown",
   "metadata": {
    "deletable": false,
    "editable": false,
    "id": "9PpnMsGpJMn5"
   },
   "source": [
    "**Question 5:** Compute the element-wise remainder of ``oddSumList`` when divided by $5$ and merge it with ``oddSumList``. The final output stored in the variable `mergedList` should be in the form of a list of tupples e.g ``[(1,1), (4,9), (0,25), ...]`` "
   ]
  },
  {
   "cell_type": "code",
   "execution_count": null,
   "metadata": {
    "id": "UDWWh3vQJMn5",
    "tags": []
   },
   "outputs": [],
   "source": [
    "..."
   ]
  },
  {
   "cell_type": "code",
   "execution_count": null,
   "metadata": {
    "deletable": false,
    "editable": false
   },
   "outputs": [],
   "source": [
    "grader.check(\"q5\")"
   ]
  },
  {
   "cell_type": "markdown",
   "metadata": {
    "deletable": false,
    "editable": false
   },
   "source": [
    "**Question 6:**  Write a function `greatest_common_divisor` that takes two inputs `a` and `b` and returns the greatest common divisor of the two numbers. E.g. input `(10, 15)` would return `5`"
   ]
  },
  {
   "cell_type": "code",
   "execution_count": null,
   "metadata": {
    "tags": []
   },
   "outputs": [],
   "source": [
    "def greatest_common_divisor(a, b):\n",
    "    ..."
   ]
  },
  {
   "cell_type": "code",
   "execution_count": null,
   "metadata": {
    "deletable": false,
    "editable": false
   },
   "outputs": [],
   "source": [
    "grader.check(\"q6\")"
   ]
  },
  {
   "cell_type": "markdown",
   "metadata": {
    "deletable": false,
    "editable": false
   },
   "source": [
    "**Question 7:**  Write a function `get_3_nearest` that takes in a point of interest ``pt`` and a **list** of points ``ptlist``  and returns a list of 3 nearest points from the point of interest ``pt``. Assume the distance between any two point is defined by the `L1-norm`."
   ]
  },
  {
   "cell_type": "code",
   "execution_count": null,
   "metadata": {
    "tags": []
   },
   "outputs": [],
   "source": [
    "def get_3_nearest(pt, ptlist):\n",
    "    ..."
   ]
  },
  {
   "cell_type": "code",
   "execution_count": null,
   "metadata": {
    "deletable": false,
    "editable": false
   },
   "outputs": [],
   "source": [
    "grader.check(\"q7\")"
   ]
  },
  {
   "cell_type": "markdown",
   "metadata": {
    "deletable": false,
    "editable": false
   },
   "source": [
    "**Question 8:**  Write a function `diagonal_vector(M)` that returns a **numpy** array of the list of **absolute** values of the main diagonal entries in the matrix $M$"
   ]
  },
  {
   "cell_type": "code",
   "execution_count": null,
   "metadata": {
    "tags": []
   },
   "outputs": [],
   "source": [
    "def diagonal_vector(M):\n",
    "    ..."
   ]
  },
  {
   "cell_type": "code",
   "execution_count": null,
   "metadata": {
    "deletable": false,
    "editable": false
   },
   "outputs": [],
   "source": [
    "grader.check(\"q8\")"
   ]
  },
  {
   "cell_type": "markdown",
   "metadata": {
    "deletable": false,
    "editable": false
   },
   "source": [
    "**Question 9:**  Write a function `flatten_reverse_lists` that takes in a list of lists and outputs a **reverse** sorted list of elements of sublists of the input list (confusing right?) <br>\n",
    "Example: given `flatten_reverse_lists([[2,13,44], [6,7]])` it should return `[2,6,7,13,44]`"
   ]
  },
  {
   "cell_type": "code",
   "execution_count": null,
   "metadata": {
    "tags": []
   },
   "outputs": [],
   "source": [
    "def flatten_reverse_lists(superlist):\n",
    "    ..."
   ]
  },
  {
   "cell_type": "code",
   "execution_count": null,
   "metadata": {
    "deletable": false,
    "editable": false
   },
   "outputs": [],
   "source": [
    "grader.check(\"q9\")"
   ]
  },
  {
   "cell_type": "markdown",
   "metadata": {
    "deletable": false,
    "editable": false
   },
   "source": [
    "**Question 9:** Create a DataFrame mirroring the table below and assign this to `data`. \n",
    "\n",
    "| flavor | scoops | price |\n",
    "|-----|-----|-----|\n",
    "| white chocolate | 1 | 2 |\n",
    "| vanilla | 1 | 1.5 |\n",
    "| dark chocolate | 2 | 3 |\n",
    "| strawberry | 1 | 2 |\n",
    "| strawberry | 3 | 4 |\n",
    "| vanilla | 2 | 2 |\n",
    "| mint | 1 | 4 |\n",
    "| mint | 2 | 5 |\n",
    "| white chocolate | 3 | 2 |\n",
    "| dark chocolate | 3 | 3 |\n",
    "| white chocolate | 2 | 2 |\n",
    "| dark chocolate | 5 | 3 |\n"
   ]
  },
  {
   "cell_type": "code",
   "execution_count": null,
   "metadata": {
    "tags": []
   },
   "outputs": [],
   "source": [
    "data = ...\n"
   ]
  },
  {
   "cell_type": "markdown",
   "metadata": {
    "deletable": false,
    "editable": false
   },
   "source": [
    "**Question 10:** Do the following to the dataframe:\n",
    "* Create a new collumn ``total_price`` whose value is equal to $scoops * price$*\n",
    "* Write a function ``groupStatistics(data, groupValue)``. Internally, this function groups ``data``  by ``flavor`` and then returns statistics of a given grouped item ``groupValue`` indexed on the ``total_price`` columns. The statistics is a numpy array contains ``[mean, media, min, max, std]`` of the ``total_price`` column. The ``std`` should be rounded to 2 **decimal places**\n",
    "\n"
   ]
  },
  {
   "cell_type": "code",
   "execution_count": null,
   "metadata": {
    "tags": []
   },
   "outputs": [],
   "source": [
    "..."
   ]
  },
  {
   "cell_type": "code",
   "execution_count": null,
   "metadata": {
    "deletable": false,
    "editable": false
   },
   "outputs": [],
   "source": [
    "grader.check(\"q11\")"
   ]
  },
  {
   "cell_type": "markdown",
   "metadata": {
    "deletable": false,
    "editable": false
   },
   "source": [
    "## Submission\n",
    "\n",
    "Make sure you have run all cells in your notebook in order before running the cell below, so that all images/graphs appear in the output. The cell below will generate a zip file for you to submit. **Please save before exporting!**\n",
    "\n",
    "Download the exported ZIP. Take note of the ZIP number and proceed to fill the summer school form"
   ]
  },
  {
   "cell_type": "code",
   "execution_count": null,
   "metadata": {
    "deletable": false,
    "editable": false
   },
   "outputs": [],
   "source": [
    "# Save your notebook first, then run this cell to export your submission.\n",
    "grader.export(pdf=False)"
   ]
  },
  {
   "cell_type": "markdown",
   "metadata": {},
   "source": [
    " "
   ]
  }
 ],
 "metadata": {
  "colab": {
   "provenance": []
  },
  "kernelspec": {
   "display_name": "Python 3 (ipykernel)",
   "language": "python",
   "name": "python3"
  },
  "language_info": {
   "codemirror_mode": {
    "name": "ipython",
    "version": 3
   },
   "file_extension": ".py",
   "mimetype": "text/x-python",
   "name": "python",
   "nbconvert_exporter": "python",
   "pygments_lexer": "ipython3",
   "version": "3.10.13"
  },
  "otter": {
   "OK_FORMAT": true,
   "tests": {
    "q1": {
     "name": "q1",
     "points": 4,
     "suites": [
      {
       "cases": [
        {
         "code": ">>> points: 1\n>>> \n>>> def test_isValid(isValid):\n...     assert isValid('{[()]}}') == False\n>>> test_isValid(isValid)\n",
         "hidden": false,
         "locked": false
        },
        {
         "code": ">>> points: 1\n>>> \n>>> def test_isValid(isValid):\n...     assert isValid('') == True\n>>> test_isValid(isValid)\n",
         "hidden": false,
         "locked": false
        },
        {
         "code": ">>> points: 1\n>>> \n>>> def test_isValid(isValid):\n...     assert isValid('(){}[]') == True\n>>> test_isValid(isValid)\n",
         "hidden": false,
         "locked": false
        }
       ],
       "scored": true,
       "setup": "",
       "teardown": "",
       "type": "doctest"
      }
     ]
    },
    "q11": {
     "name": "q11",
     "points": 5,
     "suites": [
      {
       "cases": [
        {
         "code": ">>> points: 1\n>>> np.testing.assert_array_equal(groupStatistics(data, 'strawberry'), [7.0, 7.0, 2.0, 7.07])\n",
         "hidden": false,
         "locked": false
        },
        {
         "code": ">>> points: 1\n>>> np.testing.assert_array_equal(groupStatistics(data, 'dark chocolate'), [10.0, 9.0, 6.0, 4.58])\n",
         "hidden": false,
         "locked": false
        },
        {
         "code": ">>> points: 1\n>>> np.testing.assert_array_equal(groupStatistics(data, 'white chocolate'), [4.0, 4.0, 2.0, 2.0])\n",
         "hidden": false,
         "locked": false
        },
        {
         "code": ">>> points: 1\n>>> np.testing.assert_array_equal(groupStatistics(data, 'vanilla'), [2.75, 2.75, 1.5, 1.77])\n",
         "hidden": false,
         "locked": false
        },
        {
         "code": ">>> points: 1\n>>> np.testing.assert_array_equal(groupStatistics(data, 'mint'), [7.0, 7.0, 4.0, 4.24])\n",
         "hidden": false,
         "locked": false
        }
       ],
       "scored": true,
       "setup": "",
       "teardown": "",
       "type": "doctest"
      }
     ]
    },
    "q2": {
     "name": "q2",
     "points": 4,
     "suites": [
      {
       "cases": [
        {
         "code": ">>> points: 1\n>>> \n>>> def test_oddFrequencyCounter(oddFrequencyCounter):\n...     paragraph = 'DSA 2024 Nyeri'\n...     assert oddFrequencyCounter(paragraph) == 10\n",
         "hidden": false,
         "locked": false
        },
        {
         "code": ">>> points: 1\n>>> \n>>> def test_oddFrequencyCounter(oddFrequencyCounter):\n...     paragraph = \"The following is sample text I used to practice special characters using keybr.com: 112233445566778899 Saturn V rocket's first stage carries 203,400 gallons (770,000 liters) of kerosene fuel and 318,000 gallons (1.2 million liters) of liquid oxygen needed for combustion. At liftoff, the stage's five F-1 rocket engines ignite and produce 7.5 million pounds of thrust. To replace those goofy quantities with the far less retarded metric system (even though liters are considered part of the metric system they are the same as cubic deci-meters) you would say 770 cubic meters of kerosene {abbreviated as m3} and 1,204 m3 of liquid O2 [O2 is the symbol for oxygen]. We would also say it produced 33,600,000 newtons of force <abbreviated as N>. To add scientific notation {a way of writing numbers that allows you to write only as many digits of specificity as you would like} you can write 7.7 * 10 ^ 2 m3 of kerosene 1.204 * 10 ^ 3 m3 of O2 and 3.3 * 10 ^ 7 newtons.\"\n...     assert oddFrequencyCounter(paragraph) == 40\n",
         "hidden": false,
         "locked": false
        },
        {
         "code": ">>> points: 1\n>>> \n>>> def test_oddFrequencyCounter(oddFrequencyCounter):\n...     paragraph = 'Data Science Africa in collaboration with The Swiss Federal Department of Foreign Affairs (FDFA), ETH Zurich, EPFL, the European Laboratory for Learning and Intelligent Systems (ELLIS), the Swiss National Computing Centre (CSCS), and the LUMI consortium launched the International Computation and AI Network (ICAIN) at the World Economic Forum (WEF) 2024 in Davos. Its mission is to develop AI technologies that benefit society as a whole, as well as being accessible to all and sustainable, thereby helping to reduce global inequality.'\n...     assert oddFrequencyCounter(paragraph) == 20\n",
         "hidden": false,
         "locked": false
        }
       ],
       "scored": true,
       "setup": "",
       "teardown": "",
       "type": "doctest"
      }
     ]
    },
    "q3": {
     "name": "q3",
     "points": 4,
     "suites": [
      {
       "cases": [
        {
         "code": ">>> points: 4\n>>> theGen = odd_squares_sum(12)\n>>> assert next(theGen) == 1\n>>> assert next(theGen) == 9\n>>> assert next(theGen) == 25\n>>> assert next(theGen) == 49\n>>> assert next(theGen) == 81\n>>> assert next(theGen) == 121\n>>> del theGen\n",
         "hidden": false,
         "locked": false
        }
       ],
       "scored": true,
       "setup": "",
       "teardown": "",
       "type": "doctest"
      }
     ]
    },
    "q4": {
     "name": "q4",
     "points": 4,
     "suites": [
      {
       "cases": [
        {
         "code": ">>> points: 2\n>>> assert (oddSumList == np.array([1, 9, 25, 49, 81, 121, 169, 225, 289, 361])).all()\n",
         "hidden": false,
         "locked": false
        },
        {
         "code": ">>> points: 2\n>>> assert isinstance(oddSumList, np.ndarray)\n",
         "hidden": false,
         "locked": false
        }
       ],
       "scored": true,
       "setup": "",
       "teardown": "",
       "type": "doctest"
      }
     ]
    },
    "q5": {
     "name": "q5",
     "points": 2,
     "suites": [
      {
       "cases": [
        {
         "code": ">>> points: 2\n>>> assert mergedList == [(1, 1), (4, 9), (0, 25), (4, 49), (1, 81), (1, 121), (4, 169), (0, 225), (4, 289), (1, 361)]\n",
         "hidden": false,
         "locked": false
        }
       ],
       "scored": true,
       "setup": "",
       "teardown": "",
       "type": "doctest"
      }
     ]
    },
    "q6": {
     "name": "q6",
     "points": 5,
     "suites": [
      {
       "cases": [
        {
         "code": ">>> points: 1\n>>> np.testing.assert_equal(greatest_common_divisor(10, 15), 5)\n",
         "hidden": false,
         "locked": false
        },
        {
         "code": ">>> points: 1\n>>> np.testing.assert_equal(greatest_common_divisor(15, 19), 1)\n",
         "hidden": false,
         "locked": false
        },
        {
         "code": ">>> points: 1\n>>> np.testing.assert_equal(greatest_common_divisor(100, 105), 5)\n",
         "hidden": false,
         "locked": false
        }
       ],
       "scored": true,
       "setup": "",
       "teardown": "",
       "type": "doctest"
      }
     ]
    },
    "q7": {
     "name": "q7",
     "points": 8,
     "suites": [
      {
       "cases": [
        {
         "code": ">>> points: 2\n>>> np.testing.assert_equal(get_3_nearest((3, 8), [(9, 3), (8, 5), (7, 6)]), [(7, 6), (8, 5), (9, 3)])\n",
         "hidden": false,
         "locked": false
        },
        {
         "code": ">>> points: 2\n>>> np.testing.assert_equal(get_3_nearest((12, 8), [(5, 9), (9, 1), (2, 4), (13, 9), (10, 12)]), [(13, 9), (10, 12), (5, 9)])\n",
         "hidden": false,
         "locked": false
        },
        {
         "code": ">>> points: 2\n>>> np.testing.assert_equal(get_3_nearest((5, 8), [(5, 9), (9, 1), (2, 4), (13, 9), (10, 12)]), [(5, 9), (2, 4), (13, 9)])\n",
         "hidden": false,
         "locked": false
        }
       ],
       "scored": true,
       "setup": "",
       "teardown": "",
       "type": "doctest"
      }
     ]
    },
    "q8": {
     "name": "q8",
     "points": 4,
     "suites": [
      {
       "cases": [
        {
         "code": ">>> points: 2\n>>> np.testing.assert_array_equal(diagonal_vector([[1, 2, 3, 4, 5, 6, 7, 8], [9, 10, 11, 12, 13, 14, 15, 16], [17, 18, 19, 20, 21, 22, 23, 24], [25, 26, 27, 28, 29, 30, 31, 32], [33, 34, 35, 36, 37, 38, 39, 40], [41, 42, 43, 44, 45, 46, 47, 48], [49, 50, 51, 52, 53, 54, 55, 56], [57, 58, 59, 60, 61, 62, 63, 64]]), [1, 10, 19, 28, 37, 46, 55, 64])\n",
         "hidden": false,
         "locked": false
        },
        {
         "code": ">>> points: 2\n>>> assert isinstance(diagonal_vector([[1, 2], [3, 4]]), np.ndarray)\n",
         "hidden": false,
         "locked": false
        }
       ],
       "scored": true,
       "setup": "",
       "teardown": "",
       "type": "doctest"
      }
     ]
    },
    "q9": {
     "name": "q9",
     "points": 3,
     "suites": [
      {
       "cases": [
        {
         "code": ">>> points: 1\n>>> np.testing.assert_equal(flatten_reverse_lists([[2, 13, 44], [6, 7]]), [44, 13, 7, 6, 2])\n",
         "hidden": false,
         "locked": false
        },
        {
         "code": ">>> points: 1\n>>> np.testing.assert_equal(flatten_reverse_lists([[2], [61, 34, 5, 8, 9]]), [61, 34, 9, 8, 5, 2])\n",
         "hidden": false,
         "locked": false
        }
       ],
       "scored": true,
       "setup": "",
       "teardown": "",
       "type": "doctest"
      }
     ]
    }
   }
  },
  "varInspector": {
   "cols": {
    "lenName": 16,
    "lenType": 16,
    "lenVar": 40
   },
   "kernels_config": {
    "python": {
     "delete_cmd_postfix": "",
     "delete_cmd_prefix": "del ",
     "library": "var_list.py",
     "varRefreshCmd": "print(var_dic_list())"
    },
    "r": {
     "delete_cmd_postfix": ") ",
     "delete_cmd_prefix": "rm(",
     "library": "var_list.r",
     "varRefreshCmd": "cat(var_dic_list()) "
    }
   },
   "types_to_exclude": [
    "module",
    "function",
    "builtin_function_or_method",
    "instance",
    "_Feature"
   ],
   "window_display": false
  }
 },
 "nbformat": 4,
 "nbformat_minor": 4
}
